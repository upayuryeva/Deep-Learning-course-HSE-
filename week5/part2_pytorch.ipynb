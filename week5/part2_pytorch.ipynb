{
  "nbformat": 4,
  "nbformat_minor": 0,
  "metadata": {
    "kernelspec": {
      "display_name": "Python 3",
      "language": "python",
      "name": "python3"
    },
    "language_info": {
      "codemirror_mode": {
        "name": "ipython",
        "version": 3
      },
      "file_extension": ".py",
      "mimetype": "text/x-python",
      "name": "python",
      "nbconvert_exporter": "python",
      "pygments_lexer": "ipython3",
      "version": "3.6.2"
    },
    "colab": {
      "name": "week5_part2_pytorch.ipynb",
      "provenance": [],
      "collapsed_sections": [],
      "include_colab_link": true
    },
    "widgets": {
      "application/vnd.jupyter.widget-state+json": {
        "903b62756aee44f1b437640057cfbcb0": {
          "model_module": "@jupyter-widgets/controls",
          "model_name": "HBoxModel",
          "model_module_version": "1.5.0",
          "state": {
            "_view_name": "HBoxView",
            "_dom_classes": [],
            "_model_name": "HBoxModel",
            "_view_module": "@jupyter-widgets/controls",
            "_model_module_version": "1.5.0",
            "_view_count": null,
            "_view_module_version": "1.5.0",
            "box_style": "",
            "layout": "IPY_MODEL_9b36a2ed56204dfc9c094c8b04bfcd81",
            "_model_module": "@jupyter-widgets/controls",
            "children": [
              "IPY_MODEL_b8e15f5bbda0406f948ca49710730a6e",
              "IPY_MODEL_5feb4f49c8c24279a2c938ed34cb0e2e",
              "IPY_MODEL_8ca66e34ff8e487398caf174e73355cd"
            ]
          }
        },
        "9b36a2ed56204dfc9c094c8b04bfcd81": {
          "model_module": "@jupyter-widgets/base",
          "model_name": "LayoutModel",
          "model_module_version": "1.2.0",
          "state": {
            "_view_name": "LayoutView",
            "grid_template_rows": null,
            "right": null,
            "justify_content": null,
            "_view_module": "@jupyter-widgets/base",
            "overflow": null,
            "_model_module_version": "1.2.0",
            "_view_count": null,
            "flex_flow": null,
            "width": null,
            "min_width": null,
            "border": null,
            "align_items": null,
            "bottom": null,
            "_model_module": "@jupyter-widgets/base",
            "top": null,
            "grid_column": null,
            "overflow_y": null,
            "overflow_x": null,
            "grid_auto_flow": null,
            "grid_area": null,
            "grid_template_columns": null,
            "flex": null,
            "_model_name": "LayoutModel",
            "justify_items": null,
            "grid_row": null,
            "max_height": null,
            "align_content": null,
            "visibility": null,
            "align_self": null,
            "height": null,
            "min_height": null,
            "padding": null,
            "grid_auto_rows": null,
            "grid_gap": null,
            "max_width": null,
            "order": null,
            "_view_module_version": "1.2.0",
            "grid_template_areas": null,
            "object_position": null,
            "object_fit": null,
            "grid_auto_columns": null,
            "margin": null,
            "display": null,
            "left": null
          }
        },
        "b8e15f5bbda0406f948ca49710730a6e": {
          "model_module": "@jupyter-widgets/controls",
          "model_name": "HTMLModel",
          "model_module_version": "1.5.0",
          "state": {
            "_view_name": "HTMLView",
            "style": "IPY_MODEL_0be7c6bd23ca4c0882f8ec04edc3d915",
            "_dom_classes": [],
            "description": "",
            "_model_name": "HTMLModel",
            "placeholder": "​",
            "_view_module": "@jupyter-widgets/controls",
            "_model_module_version": "1.5.0",
            "value": "100%",
            "_view_count": null,
            "_view_module_version": "1.5.0",
            "description_tooltip": null,
            "_model_module": "@jupyter-widgets/controls",
            "layout": "IPY_MODEL_c67df9c6445c41dd96b4c0e12157a0da"
          }
        },
        "5feb4f49c8c24279a2c938ed34cb0e2e": {
          "model_module": "@jupyter-widgets/controls",
          "model_name": "FloatProgressModel",
          "model_module_version": "1.5.0",
          "state": {
            "_view_name": "ProgressView",
            "style": "IPY_MODEL_057d8d0c36dd41df9c9477d2f8180b02",
            "_dom_classes": [],
            "description": "",
            "_model_name": "FloatProgressModel",
            "bar_style": "success",
            "max": 100,
            "_view_module": "@jupyter-widgets/controls",
            "_model_module_version": "1.5.0",
            "value": 100,
            "_view_count": null,
            "_view_module_version": "1.5.0",
            "orientation": "horizontal",
            "min": 0,
            "description_tooltip": null,
            "_model_module": "@jupyter-widgets/controls",
            "layout": "IPY_MODEL_8977eb21e2cc45bd9e7bf7dfedc8e7b0"
          }
        },
        "8ca66e34ff8e487398caf174e73355cd": {
          "model_module": "@jupyter-widgets/controls",
          "model_name": "HTMLModel",
          "model_module_version": "1.5.0",
          "state": {
            "_view_name": "HTMLView",
            "style": "IPY_MODEL_68dfc109fd9d41518b05eb61ee3440f9",
            "_dom_classes": [],
            "description": "",
            "_model_name": "HTMLModel",
            "placeholder": "​",
            "_view_module": "@jupyter-widgets/controls",
            "_model_module_version": "1.5.0",
            "value": " 100/100 [00:34&lt;00:00,  3.06it/s]",
            "_view_count": null,
            "_view_module_version": "1.5.0",
            "description_tooltip": null,
            "_model_module": "@jupyter-widgets/controls",
            "layout": "IPY_MODEL_d1b41eb0752c43ecb25e8313e33ff847"
          }
        },
        "0be7c6bd23ca4c0882f8ec04edc3d915": {
          "model_module": "@jupyter-widgets/controls",
          "model_name": "DescriptionStyleModel",
          "model_module_version": "1.5.0",
          "state": {
            "_view_name": "StyleView",
            "_model_name": "DescriptionStyleModel",
            "description_width": "",
            "_view_module": "@jupyter-widgets/base",
            "_model_module_version": "1.5.0",
            "_view_count": null,
            "_view_module_version": "1.2.0",
            "_model_module": "@jupyter-widgets/controls"
          }
        },
        "c67df9c6445c41dd96b4c0e12157a0da": {
          "model_module": "@jupyter-widgets/base",
          "model_name": "LayoutModel",
          "model_module_version": "1.2.0",
          "state": {
            "_view_name": "LayoutView",
            "grid_template_rows": null,
            "right": null,
            "justify_content": null,
            "_view_module": "@jupyter-widgets/base",
            "overflow": null,
            "_model_module_version": "1.2.0",
            "_view_count": null,
            "flex_flow": null,
            "width": null,
            "min_width": null,
            "border": null,
            "align_items": null,
            "bottom": null,
            "_model_module": "@jupyter-widgets/base",
            "top": null,
            "grid_column": null,
            "overflow_y": null,
            "overflow_x": null,
            "grid_auto_flow": null,
            "grid_area": null,
            "grid_template_columns": null,
            "flex": null,
            "_model_name": "LayoutModel",
            "justify_items": null,
            "grid_row": null,
            "max_height": null,
            "align_content": null,
            "visibility": null,
            "align_self": null,
            "height": null,
            "min_height": null,
            "padding": null,
            "grid_auto_rows": null,
            "grid_gap": null,
            "max_width": null,
            "order": null,
            "_view_module_version": "1.2.0",
            "grid_template_areas": null,
            "object_position": null,
            "object_fit": null,
            "grid_auto_columns": null,
            "margin": null,
            "display": null,
            "left": null
          }
        },
        "057d8d0c36dd41df9c9477d2f8180b02": {
          "model_module": "@jupyter-widgets/controls",
          "model_name": "ProgressStyleModel",
          "model_module_version": "1.5.0",
          "state": {
            "_view_name": "StyleView",
            "_model_name": "ProgressStyleModel",
            "description_width": "",
            "_view_module": "@jupyter-widgets/base",
            "_model_module_version": "1.5.0",
            "_view_count": null,
            "_view_module_version": "1.2.0",
            "bar_color": null,
            "_model_module": "@jupyter-widgets/controls"
          }
        },
        "8977eb21e2cc45bd9e7bf7dfedc8e7b0": {
          "model_module": "@jupyter-widgets/base",
          "model_name": "LayoutModel",
          "model_module_version": "1.2.0",
          "state": {
            "_view_name": "LayoutView",
            "grid_template_rows": null,
            "right": null,
            "justify_content": null,
            "_view_module": "@jupyter-widgets/base",
            "overflow": null,
            "_model_module_version": "1.2.0",
            "_view_count": null,
            "flex_flow": null,
            "width": null,
            "min_width": null,
            "border": null,
            "align_items": null,
            "bottom": null,
            "_model_module": "@jupyter-widgets/base",
            "top": null,
            "grid_column": null,
            "overflow_y": null,
            "overflow_x": null,
            "grid_auto_flow": null,
            "grid_area": null,
            "grid_template_columns": null,
            "flex": null,
            "_model_name": "LayoutModel",
            "justify_items": null,
            "grid_row": null,
            "max_height": null,
            "align_content": null,
            "visibility": null,
            "align_self": null,
            "height": null,
            "min_height": null,
            "padding": null,
            "grid_auto_rows": null,
            "grid_gap": null,
            "max_width": null,
            "order": null,
            "_view_module_version": "1.2.0",
            "grid_template_areas": null,
            "object_position": null,
            "object_fit": null,
            "grid_auto_columns": null,
            "margin": null,
            "display": null,
            "left": null
          }
        },
        "68dfc109fd9d41518b05eb61ee3440f9": {
          "model_module": "@jupyter-widgets/controls",
          "model_name": "DescriptionStyleModel",
          "model_module_version": "1.5.0",
          "state": {
            "_view_name": "StyleView",
            "_model_name": "DescriptionStyleModel",
            "description_width": "",
            "_view_module": "@jupyter-widgets/base",
            "_model_module_version": "1.5.0",
            "_view_count": null,
            "_view_module_version": "1.2.0",
            "_model_module": "@jupyter-widgets/controls"
          }
        },
        "d1b41eb0752c43ecb25e8313e33ff847": {
          "model_module": "@jupyter-widgets/base",
          "model_name": "LayoutModel",
          "model_module_version": "1.2.0",
          "state": {
            "_view_name": "LayoutView",
            "grid_template_rows": null,
            "right": null,
            "justify_content": null,
            "_view_module": "@jupyter-widgets/base",
            "overflow": null,
            "_model_module_version": "1.2.0",
            "_view_count": null,
            "flex_flow": null,
            "width": null,
            "min_width": null,
            "border": null,
            "align_items": null,
            "bottom": null,
            "_model_module": "@jupyter-widgets/base",
            "top": null,
            "grid_column": null,
            "overflow_y": null,
            "overflow_x": null,
            "grid_auto_flow": null,
            "grid_area": null,
            "grid_template_columns": null,
            "flex": null,
            "_model_name": "LayoutModel",
            "justify_items": null,
            "grid_row": null,
            "max_height": null,
            "align_content": null,
            "visibility": null,
            "align_self": null,
            "height": null,
            "min_height": null,
            "padding": null,
            "grid_auto_rows": null,
            "grid_gap": null,
            "max_width": null,
            "order": null,
            "_view_module_version": "1.2.0",
            "grid_template_areas": null,
            "object_position": null,
            "object_fit": null,
            "grid_auto_columns": null,
            "margin": null,
            "display": null,
            "left": null
          }
        },
        "31e691b43c9048d4b3779e03c5749e91": {
          "model_module": "@jupyter-widgets/controls",
          "model_name": "HBoxModel",
          "model_module_version": "1.5.0",
          "state": {
            "_view_name": "HBoxView",
            "_dom_classes": [],
            "_model_name": "HBoxModel",
            "_view_module": "@jupyter-widgets/controls",
            "_model_module_version": "1.5.0",
            "_view_count": null,
            "_view_module_version": "1.5.0",
            "box_style": "",
            "layout": "IPY_MODEL_ebc7d03a6b9b46dfb5c986122451ae5e",
            "_model_module": "@jupyter-widgets/controls",
            "children": [
              "IPY_MODEL_752e843305244ce493b86c09ca3a617c",
              "IPY_MODEL_2fef6dd1c113417ab744a456d2fcd74d",
              "IPY_MODEL_b37328be6f6c4a0ebbfb33b71d67dd41"
            ]
          }
        },
        "ebc7d03a6b9b46dfb5c986122451ae5e": {
          "model_module": "@jupyter-widgets/base",
          "model_name": "LayoutModel",
          "model_module_version": "1.2.0",
          "state": {
            "_view_name": "LayoutView",
            "grid_template_rows": null,
            "right": null,
            "justify_content": null,
            "_view_module": "@jupyter-widgets/base",
            "overflow": null,
            "_model_module_version": "1.2.0",
            "_view_count": null,
            "flex_flow": null,
            "width": null,
            "min_width": null,
            "border": null,
            "align_items": null,
            "bottom": null,
            "_model_module": "@jupyter-widgets/base",
            "top": null,
            "grid_column": null,
            "overflow_y": null,
            "overflow_x": null,
            "grid_auto_flow": null,
            "grid_area": null,
            "grid_template_columns": null,
            "flex": null,
            "_model_name": "LayoutModel",
            "justify_items": null,
            "grid_row": null,
            "max_height": null,
            "align_content": null,
            "visibility": null,
            "align_self": null,
            "height": null,
            "min_height": null,
            "padding": null,
            "grid_auto_rows": null,
            "grid_gap": null,
            "max_width": null,
            "order": null,
            "_view_module_version": "1.2.0",
            "grid_template_areas": null,
            "object_position": null,
            "object_fit": null,
            "grid_auto_columns": null,
            "margin": null,
            "display": null,
            "left": null
          }
        },
        "752e843305244ce493b86c09ca3a617c": {
          "model_module": "@jupyter-widgets/controls",
          "model_name": "HTMLModel",
          "model_module_version": "1.5.0",
          "state": {
            "_view_name": "HTMLView",
            "style": "IPY_MODEL_7537d7f18dde42e79bf56e0294c0ef16",
            "_dom_classes": [],
            "description": "",
            "_model_name": "HTMLModel",
            "placeholder": "​",
            "_view_module": "@jupyter-widgets/controls",
            "_model_module_version": "1.5.0",
            "value": "100%",
            "_view_count": null,
            "_view_module_version": "1.5.0",
            "description_tooltip": null,
            "_model_module": "@jupyter-widgets/controls",
            "layout": "IPY_MODEL_3663455d87204e8b850ea21890d572b8"
          }
        },
        "2fef6dd1c113417ab744a456d2fcd74d": {
          "model_module": "@jupyter-widgets/controls",
          "model_name": "FloatProgressModel",
          "model_module_version": "1.5.0",
          "state": {
            "_view_name": "ProgressView",
            "style": "IPY_MODEL_0a02a1db13904d6cb8f8f72c375ef194",
            "_dom_classes": [],
            "description": "",
            "_model_name": "FloatProgressModel",
            "bar_style": "success",
            "max": 765,
            "_view_module": "@jupyter-widgets/controls",
            "_model_module_version": "1.5.0",
            "value": 765,
            "_view_count": null,
            "_view_module_version": "1.5.0",
            "orientation": "horizontal",
            "min": 0,
            "description_tooltip": null,
            "_model_module": "@jupyter-widgets/controls",
            "layout": "IPY_MODEL_d81f23bd82cf455cb5228ce4c1b4133b"
          }
        },
        "b37328be6f6c4a0ebbfb33b71d67dd41": {
          "model_module": "@jupyter-widgets/controls",
          "model_name": "HTMLModel",
          "model_module_version": "1.5.0",
          "state": {
            "_view_name": "HTMLView",
            "style": "IPY_MODEL_f5777edd681e4375a63259c230ef68fd",
            "_dom_classes": [],
            "description": "",
            "_model_name": "HTMLModel",
            "placeholder": "​",
            "_view_module": "@jupyter-widgets/controls",
            "_model_module_version": "1.5.0",
            "value": " 765/765 [00:59&lt;00:00, 12.53it/s]",
            "_view_count": null,
            "_view_module_version": "1.5.0",
            "description_tooltip": null,
            "_model_module": "@jupyter-widgets/controls",
            "layout": "IPY_MODEL_3c4eaafb623340389ef54c9597f381d3"
          }
        },
        "7537d7f18dde42e79bf56e0294c0ef16": {
          "model_module": "@jupyter-widgets/controls",
          "model_name": "DescriptionStyleModel",
          "model_module_version": "1.5.0",
          "state": {
            "_view_name": "StyleView",
            "_model_name": "DescriptionStyleModel",
            "description_width": "",
            "_view_module": "@jupyter-widgets/base",
            "_model_module_version": "1.5.0",
            "_view_count": null,
            "_view_module_version": "1.2.0",
            "_model_module": "@jupyter-widgets/controls"
          }
        },
        "3663455d87204e8b850ea21890d572b8": {
          "model_module": "@jupyter-widgets/base",
          "model_name": "LayoutModel",
          "model_module_version": "1.2.0",
          "state": {
            "_view_name": "LayoutView",
            "grid_template_rows": null,
            "right": null,
            "justify_content": null,
            "_view_module": "@jupyter-widgets/base",
            "overflow": null,
            "_model_module_version": "1.2.0",
            "_view_count": null,
            "flex_flow": null,
            "width": null,
            "min_width": null,
            "border": null,
            "align_items": null,
            "bottom": null,
            "_model_module": "@jupyter-widgets/base",
            "top": null,
            "grid_column": null,
            "overflow_y": null,
            "overflow_x": null,
            "grid_auto_flow": null,
            "grid_area": null,
            "grid_template_columns": null,
            "flex": null,
            "_model_name": "LayoutModel",
            "justify_items": null,
            "grid_row": null,
            "max_height": null,
            "align_content": null,
            "visibility": null,
            "align_self": null,
            "height": null,
            "min_height": null,
            "padding": null,
            "grid_auto_rows": null,
            "grid_gap": null,
            "max_width": null,
            "order": null,
            "_view_module_version": "1.2.0",
            "grid_template_areas": null,
            "object_position": null,
            "object_fit": null,
            "grid_auto_columns": null,
            "margin": null,
            "display": null,
            "left": null
          }
        },
        "0a02a1db13904d6cb8f8f72c375ef194": {
          "model_module": "@jupyter-widgets/controls",
          "model_name": "ProgressStyleModel",
          "model_module_version": "1.5.0",
          "state": {
            "_view_name": "StyleView",
            "_model_name": "ProgressStyleModel",
            "description_width": "",
            "_view_module": "@jupyter-widgets/base",
            "_model_module_version": "1.5.0",
            "_view_count": null,
            "_view_module_version": "1.2.0",
            "bar_color": null,
            "_model_module": "@jupyter-widgets/controls"
          }
        },
        "d81f23bd82cf455cb5228ce4c1b4133b": {
          "model_module": "@jupyter-widgets/base",
          "model_name": "LayoutModel",
          "model_module_version": "1.2.0",
          "state": {
            "_view_name": "LayoutView",
            "grid_template_rows": null,
            "right": null,
            "justify_content": null,
            "_view_module": "@jupyter-widgets/base",
            "overflow": null,
            "_model_module_version": "1.2.0",
            "_view_count": null,
            "flex_flow": null,
            "width": null,
            "min_width": null,
            "border": null,
            "align_items": null,
            "bottom": null,
            "_model_module": "@jupyter-widgets/base",
            "top": null,
            "grid_column": null,
            "overflow_y": null,
            "overflow_x": null,
            "grid_auto_flow": null,
            "grid_area": null,
            "grid_template_columns": null,
            "flex": null,
            "_model_name": "LayoutModel",
            "justify_items": null,
            "grid_row": null,
            "max_height": null,
            "align_content": null,
            "visibility": null,
            "align_self": null,
            "height": null,
            "min_height": null,
            "padding": null,
            "grid_auto_rows": null,
            "grid_gap": null,
            "max_width": null,
            "order": null,
            "_view_module_version": "1.2.0",
            "grid_template_areas": null,
            "object_position": null,
            "object_fit": null,
            "grid_auto_columns": null,
            "margin": null,
            "display": null,
            "left": null
          }
        },
        "f5777edd681e4375a63259c230ef68fd": {
          "model_module": "@jupyter-widgets/controls",
          "model_name": "DescriptionStyleModel",
          "model_module_version": "1.5.0",
          "state": {
            "_view_name": "StyleView",
            "_model_name": "DescriptionStyleModel",
            "description_width": "",
            "_view_module": "@jupyter-widgets/base",
            "_model_module_version": "1.5.0",
            "_view_count": null,
            "_view_module_version": "1.2.0",
            "_model_module": "@jupyter-widgets/controls"
          }
        },
        "3c4eaafb623340389ef54c9597f381d3": {
          "model_module": "@jupyter-widgets/base",
          "model_name": "LayoutModel",
          "model_module_version": "1.2.0",
          "state": {
            "_view_name": "LayoutView",
            "grid_template_rows": null,
            "right": null,
            "justify_content": null,
            "_view_module": "@jupyter-widgets/base",
            "overflow": null,
            "_model_module_version": "1.2.0",
            "_view_count": null,
            "flex_flow": null,
            "width": null,
            "min_width": null,
            "border": null,
            "align_items": null,
            "bottom": null,
            "_model_module": "@jupyter-widgets/base",
            "top": null,
            "grid_column": null,
            "overflow_y": null,
            "overflow_x": null,
            "grid_auto_flow": null,
            "grid_area": null,
            "grid_template_columns": null,
            "flex": null,
            "_model_name": "LayoutModel",
            "justify_items": null,
            "grid_row": null,
            "max_height": null,
            "align_content": null,
            "visibility": null,
            "align_self": null,
            "height": null,
            "min_height": null,
            "padding": null,
            "grid_auto_rows": null,
            "grid_gap": null,
            "max_width": null,
            "order": null,
            "_view_module_version": "1.2.0",
            "grid_template_areas": null,
            "object_position": null,
            "object_fit": null,
            "grid_auto_columns": null,
            "margin": null,
            "display": null,
            "left": null
          }
        }
      }
    }
  },
  "cells": [
    {
      "cell_type": "markdown",
      "metadata": {
        "id": "view-in-github",
        "colab_type": "text"
      },
      "source": [
        "<a href=\"https://colab.research.google.com/github/upayuryeva/Deep-Learning-course-HSE-/blob/main/week5/part2_pytorch.ipynb\" target=\"_parent\"><img src=\"https://colab.research.google.com/assets/colab-badge.svg\" alt=\"Open In Colab\"/></a>"
      ]
    },
    {
      "cell_type": "markdown",
      "metadata": {
        "id": "GB6Bq_3uUi0m"
      },
      "source": [
        "# Natural Language Processing with Deep Learning (7 points)\n",
        "\n",
        "Today we're gonna apply the newly learned DL tools for sequence processing to the task of predicting job salary.\n",
        "\n",
        "Special thanks to [Oleg Vasilev](https://github.com/Omrigan/) for the assignment core (orignally written for theano/tensorflow)."
      ]
    },
    {
      "cell_type": "code",
      "metadata": {
        "colab": {
          "base_uri": "https://localhost:8080/"
        },
        "id": "fLb5SG5ZV4xR",
        "outputId": "408a0993-74de-4409-8261-6c00e41a8dbf"
      },
      "source": [
        "from google.colab import drive\n",
        "drive.mount('/content/drive')"
      ],
      "execution_count": null,
      "outputs": [
        {
          "output_type": "stream",
          "name": "stdout",
          "text": [
            "Mounted at /content/drive\n"
          ]
        }
      ]
    },
    {
      "cell_type": "code",
      "metadata": {
        "collapsed": true,
        "id": "cNUWu9pyUi0r"
      },
      "source": [
        "import numpy as np\n",
        "import pandas as pd\n",
        "import matplotlib.pyplot as plt\n",
        "%matplotlib inline"
      ],
      "execution_count": null,
      "outputs": []
    },
    {
      "cell_type": "markdown",
      "metadata": {
        "id": "DzOviiN4Ui0s"
      },
      "source": [
        "### About the challenge\n",
        "For starters, let's download the data from __[here](https://yadi.sk/d/vVEOWPFY3NruT7)__.\n",
        "\n",
        "You can also get it from the competition [page](https://www.kaggle.com/c/job-salary-prediction/data) (in that case, pick `Train_rev1.*`).\n",
        "\n",
        "\n",
        "Our task is to predict one number, __SalaryNormalized__, in the sense of minimizing __Mean Absolute Error__.\n",
        "\n",
        "<img src=\"https://storage.googleapis.com/kaggle-competitions/kaggle/3342/media/salary%20prediction%20engine%20v2.png\" width=400px>\n",
        "\n",
        "To do so, our model ca access a number of features:\n",
        "* Free text: __`Title`__ and  __`FullDescription`__\n",
        "* Categorical: __`Category`__, __`Company`__, __`LocationNormalized`__, __`ContractType`__, and __`ContractTime`__.\n",
        "\n",
        "\n",
        "You can read more [in the official description](https://www.kaggle.com/c/job-salary-prediction#description)."
      ]
    },
    {
      "cell_type": "code",
      "metadata": {
        "colab": {
          "base_uri": "https://localhost:8080/"
        },
        "id": "4MrjXYwAWHUL",
        "outputId": "67262125-baa6-47a8-d4b0-c5ddceee7ead"
      },
      "source": [
        "!unzip /content/drive/MyDrive/datasets/'DL Yandex'/Train_rev1.zip"
      ],
      "execution_count": null,
      "outputs": [
        {
          "output_type": "stream",
          "name": "stdout",
          "text": [
            "Archive:  /content/drive/MyDrive/datasets/DL Yandex/Train_rev1.zip\n",
            "  inflating: Train_rev1.csv          \n"
          ]
        }
      ]
    },
    {
      "cell_type": "code",
      "metadata": {
        "collapsed": true,
        "id": "PwoczU77Ui0s",
        "colab": {
          "base_uri": "https://localhost:8080/",
          "height": 349
        },
        "outputId": "97125535-a8f4-41e5-acc8-93413000c5b5"
      },
      "source": [
        "data = pd.read_csv(\"./Train_rev1.csv\", index_col=None)\n",
        "data['Log1pSalary'] = np.log1p(data['SalaryNormalized']).astype('float32')\n",
        "\n",
        "text_columns = [\"Title\", \"FullDescription\"]\n",
        "categorical_columns = [\"Category\", \"Company\", \"LocationNormalized\", \"ContractType\", \"ContractTime\"]\n",
        "target_column = \"Log1pSalary\"\n",
        "data[categorical_columns] = data[categorical_columns].fillna('NaN') # cast nan to string\n",
        "\n",
        "data.sample(3)"
      ],
      "execution_count": null,
      "outputs": [
        {
          "output_type": "execute_result",
          "data": {
            "text/html": [
              "<div>\n",
              "<style scoped>\n",
              "    .dataframe tbody tr th:only-of-type {\n",
              "        vertical-align: middle;\n",
              "    }\n",
              "\n",
              "    .dataframe tbody tr th {\n",
              "        vertical-align: top;\n",
              "    }\n",
              "\n",
              "    .dataframe thead th {\n",
              "        text-align: right;\n",
              "    }\n",
              "</style>\n",
              "<table border=\"1\" class=\"dataframe\">\n",
              "  <thead>\n",
              "    <tr style=\"text-align: right;\">\n",
              "      <th></th>\n",
              "      <th>Id</th>\n",
              "      <th>Title</th>\n",
              "      <th>FullDescription</th>\n",
              "      <th>LocationRaw</th>\n",
              "      <th>LocationNormalized</th>\n",
              "      <th>ContractType</th>\n",
              "      <th>ContractTime</th>\n",
              "      <th>Company</th>\n",
              "      <th>Category</th>\n",
              "      <th>SalaryRaw</th>\n",
              "      <th>SalaryNormalized</th>\n",
              "      <th>SourceName</th>\n",
              "      <th>Log1pSalary</th>\n",
              "    </tr>\n",
              "  </thead>\n",
              "  <tbody>\n",
              "    <tr>\n",
              "      <th>242917</th>\n",
              "      <td>72689667</td>\n",
              "      <td>NATIONAL ACCOUNT MANAGER  M S WAITROSE</td>\n",
              "      <td>National Account Manager  M S Waitrose ****k t...</td>\n",
              "      <td>Berkshire</td>\n",
              "      <td>Berkshire</td>\n",
              "      <td>NaN</td>\n",
              "      <td>permanent</td>\n",
              "      <td>Clearedge</td>\n",
              "      <td>Sales Jobs</td>\n",
              "      <td>37k to 43k Benefits</td>\n",
              "      <td>40000</td>\n",
              "      <td>jobsite.co.uk</td>\n",
              "      <td>10.596660</td>\n",
              "    </tr>\n",
              "    <tr>\n",
              "      <th>192439</th>\n",
              "      <td>71759838</td>\n",
              "      <td>C net Developer  Learn RubyonRails  Manchester</td>\n",
              "      <td>Hi there. Are you a .net developer who is look...</td>\n",
              "      <td>Manchester Lancashire North West</td>\n",
              "      <td>UK</td>\n",
              "      <td>NaN</td>\n",
              "      <td>permanent</td>\n",
              "      <td>Infinitium Recruitment</td>\n",
              "      <td>IT Jobs</td>\n",
              "      <td>From 30,000 to 50,000 per annum Bonuses availa...</td>\n",
              "      <td>40000</td>\n",
              "      <td>cwjobs.co.uk</td>\n",
              "      <td>10.596660</td>\n",
              "    </tr>\n",
              "    <tr>\n",
              "      <th>120297</th>\n",
              "      <td>69895449</td>\n",
              "      <td>Senior C Developer/Teamlead  London</td>\n",
              "      <td>Our client are a young and dynamic technology ...</td>\n",
              "      <td>London</td>\n",
              "      <td>London</td>\n",
              "      <td>full_time</td>\n",
              "      <td>permanent</td>\n",
              "      <td>IT SEARCH &amp; SELECT</td>\n",
              "      <td>Accounting &amp; Finance Jobs</td>\n",
              "      <td>From 40,000 to 65,000 per year</td>\n",
              "      <td>52500</td>\n",
              "      <td>planetrecruit.com</td>\n",
              "      <td>10.868587</td>\n",
              "    </tr>\n",
              "  </tbody>\n",
              "</table>\n",
              "</div>"
            ],
            "text/plain": [
              "              Id  ... Log1pSalary\n",
              "242917  72689667  ...   10.596660\n",
              "192439  71759838  ...   10.596660\n",
              "120297  69895449  ...   10.868587\n",
              "\n",
              "[3 rows x 13 columns]"
            ]
          },
          "metadata": {},
          "execution_count": 4
        }
      ]
    },
    {
      "cell_type": "markdown",
      "metadata": {
        "id": "9FMa5Ul7Ui0t"
      },
      "source": [
        "### The NLP part\n",
        "\n",
        "To even begin training our neural network, we're gonna need to preprocess the text features: tokenize it and build the token vocabularies.\n",
        "\n",
        "Since it is not an NLP course, we're gonna use simple built-in NLTK tokenization."
      ]
    },
    {
      "cell_type": "code",
      "metadata": {
        "collapsed": true,
        "id": "om6LsZiqUi0t",
        "colab": {
          "base_uri": "https://localhost:8080/"
        },
        "outputId": "7a09fd4c-11f8-49e1-9295-79a2b0416a96"
      },
      "source": [
        "print(\"Before\")\n",
        "print(data[\"Title\"][::100000])"
      ],
      "execution_count": null,
      "outputs": [
        {
          "output_type": "stream",
          "name": "stdout",
          "text": [
            "Before\n",
            "0         Engineering Systems Analyst\n",
            "100000                   HR Assistant\n",
            "200000           Senior EC&I Engineer\n",
            "Name: Title, dtype: object\n"
          ]
        }
      ]
    },
    {
      "cell_type": "code",
      "metadata": {
        "collapsed": true,
        "id": "bqngjiXwUi0u"
      },
      "source": [
        "import nltk\n",
        "tokenizer = nltk.tokenize.WordPunctTokenizer()\n",
        "\n",
        "for col in text_columns:\n",
        "    data[col] = data[col].apply(lambda l: ' '.join(tokenizer.tokenize(str(l).lower())))"
      ],
      "execution_count": null,
      "outputs": []
    },
    {
      "cell_type": "markdown",
      "metadata": {
        "id": "dhlTBS_3Ui0u"
      },
      "source": [
        "Now we can assume that our text is a space-separated list of tokens:"
      ]
    },
    {
      "cell_type": "code",
      "metadata": {
        "collapsed": true,
        "id": "03igO848Ui0v",
        "colab": {
          "base_uri": "https://localhost:8080/"
        },
        "outputId": "18e13312-9f9d-4272-c5bf-1b089881fd7e"
      },
      "source": [
        "print(\"After\")\n",
        "print(data[\"Title\"][::100000])"
      ],
      "execution_count": null,
      "outputs": [
        {
          "output_type": "stream",
          "name": "stdout",
          "text": [
            "After\n",
            "0         engineering systems analyst\n",
            "100000                   hr assistant\n",
            "200000         senior ec & i engineer\n",
            "Name: Title, dtype: object\n"
          ]
        }
      ]
    },
    {
      "cell_type": "markdown",
      "metadata": {
        "id": "72W9DVOZUi0w"
      },
      "source": [
        "Not all words are equally useful. Some of them are typos or rare words that are only present a few times. \n",
        "\n",
        "Let's see how many times is each word present in the data so that we can build a \"white list\" of known words."
      ]
    },
    {
      "cell_type": "code",
      "metadata": {
        "collapsed": true,
        "id": "8ImgmhIgUi0w"
      },
      "source": [
        "from collections import Counter\n",
        "token_counts = Counter()\n",
        "\n",
        "# Count how many times does each token occur in \"Title\" and \"FullDescription\"\n",
        "for row, value in data[['Title', 'FullDescription']].iterrows():\n",
        "  text = ' '.join((value['Title'], value['FullDescription'])).split(' ')\n",
        "  for word in text:\n",
        "    token_counts[word] += 1"
      ],
      "execution_count": null,
      "outputs": []
    },
    {
      "cell_type": "code",
      "metadata": {
        "collapsed": true,
        "id": "xqthN8cCUi0x",
        "colab": {
          "base_uri": "https://localhost:8080/"
        },
        "outputId": "06ea07dc-f2a2-4631-f8cf-560a37fcfd60"
      },
      "source": [
        "print(\"Total unique tokens :\", len(token_counts))\n",
        "print('\\n'.join(map(str, token_counts.most_common(n=5))))\n",
        "print('...')\n",
        "print('\\n'.join(map(str, token_counts.most_common()[-3:])))\n",
        "\n",
        "assert token_counts.most_common(1)[0][1] in  range(2600000, 2700000)\n",
        "assert len(token_counts) in range(200000, 210000)\n",
        "print('Correct!')"
      ],
      "execution_count": null,
      "outputs": [
        {
          "output_type": "stream",
          "name": "stdout",
          "text": [
            "Total unique tokens : 202704\n",
            "('and', 2657388)\n",
            "('.', 2523216)\n",
            "(',', 2318606)\n",
            "('the', 2080994)\n",
            "('to', 2019884)\n",
            "...\n",
            "('stephanietraveltraderecruitmnt', 1)\n",
            "('ruabon', 1)\n",
            "('lowehays', 1)\n",
            "Correct!\n"
          ]
        }
      ]
    },
    {
      "cell_type": "code",
      "metadata": {
        "collapsed": true,
        "id": "Yt5nQ5B7Ui0x",
        "colab": {
          "base_uri": "https://localhost:8080/",
          "height": 297
        },
        "outputId": "46bdd870-9004-410d-bf03-e46d755a0978"
      },
      "source": [
        "# Let's see how many words are there for each count\n",
        "\n",
        "_=plt.hist(list(token_counts.values()), range=[0, 10**4], bins=50, log=True)\n",
        "plt.xlabel(\"Counts\")"
      ],
      "execution_count": null,
      "outputs": [
        {
          "output_type": "execute_result",
          "data": {
            "text/plain": [
              "Text(0.5, 0, 'Counts')"
            ]
          },
          "metadata": {},
          "execution_count": 100
        },
        {
          "output_type": "display_data",
          "data": {
            "image/png": "[encoded data removed]",
            "text/plain": [
              "<Figure size 432x288 with 1 Axes>"
            ]
          },
          "metadata": {
            "needs_background": "light"
          }
        }
      ]
    },
    {
      "cell_type": "markdown",
      "metadata": {
        "id": "hdtpxy2kUi0y"
      },
      "source": [
        "__Task 1.1__ Get a list of all tokens that occur at least 10 times."
      ]
    },
    {
      "cell_type": "code",
      "metadata": {
        "collapsed": true,
        "id": "IL-cET19Ui0y"
      },
      "source": [
        "min_count = 10\n",
        "\n",
        "# tokens from token_counts keys that had at least min_count occurrences throughout the dataset\n",
        "tokens = [token for token, count in token_counts.items() if count >= min_count]\n",
        "\n",
        "# Add a special tokens for unknown and empty words\n",
        "UNK, PAD = \"UNK\", \"PAD\"\n",
        "tokens = [UNK, PAD] + tokens"
      ],
      "execution_count": null,
      "outputs": []
    },
    {
      "cell_type": "code",
      "metadata": {
        "collapsed": true,
        "id": "1Ni0OxN0Ui0z",
        "colab": {
          "base_uri": "https://localhost:8080/"
        },
        "outputId": "a177f693-01d9-43c0-a738-bc1361a079ee"
      },
      "source": [
        "print(\"Tokens left:\", len(tokens))\n",
        "assert type(tokens)==list\n",
        "assert len(tokens) in range(32000,35000)\n",
        "assert 'me' in tokens\n",
        "assert UNK in tokens\n",
        "print(\"Correct!\")"
      ],
      "execution_count": null,
      "outputs": [
        {
          "output_type": "stream",
          "name": "stdout",
          "text": [
            "Tokens left: 34158\n",
            "Correct!\n"
          ]
        }
      ]
    },
    {
      "cell_type": "markdown",
      "metadata": {
        "id": "85rPmVxfUi0z"
      },
      "source": [
        "__Task 1.2__ Build an inverse token index: a dictionary from token(string) to it's index in `tokens` (int)"
      ]
    },
    {
      "cell_type": "code",
      "metadata": {
        "collapsed": true,
        "id": "3fK1TtOcUi0z"
      },
      "source": [
        "token_to_id = {token:tokens.index(token) for token in tokens}"
      ],
      "execution_count": null,
      "outputs": []
    },
    {
      "cell_type": "code",
      "metadata": {
        "collapsed": true,
        "id": "5YDEqQ8bUi0z",
        "colab": {
          "base_uri": "https://localhost:8080/"
        },
        "outputId": "c8546678-af30-4a6d-f74b-af8d0ba81b96"
      },
      "source": [
        "assert isinstance(token_to_id, dict)\n",
        "assert len(token_to_id) == len(tokens)\n",
        "for tok in tokens:\n",
        "    assert tokens[token_to_id[tok]] == tok\n",
        "\n",
        "print(\"Correct!\")"
      ],
      "execution_count": null,
      "outputs": [
        {
          "output_type": "stream",
          "name": "stdout",
          "text": [
            "Correct!\n"
          ]
        }
      ]
    },
    {
      "cell_type": "markdown",
      "metadata": {
        "id": "1SUUp6E9Ui00"
      },
      "source": [
        "And finally, let's use the vocabulary you've built to map text lines into torch-digestible matrices."
      ]
    },
    {
      "cell_type": "code",
      "metadata": {
        "collapsed": true,
        "id": "9cZUw3LYUi00"
      },
      "source": [
        "UNK_IX, PAD_IX = map(token_to_id.get, [UNK, PAD])\n",
        "\n",
        "def as_matrix(sequences, max_len=None):\n",
        "    \"\"\" Convert a list of tokens into a matrix with padding \"\"\"\n",
        "    if isinstance(sequences[0], str):\n",
        "        sequences = list(map(str.split, sequences))\n",
        "        \n",
        "    max_len = min(max(map(len, sequences)), max_len or float('inf'))\n",
        "    \n",
        "    matrix = np.full((len(sequences), max_len), np.int32(PAD_IX))\n",
        "    for i,seq in enumerate(sequences):\n",
        "        row_ix = [token_to_id.get(word, UNK_IX) for word in seq[:max_len]]\n",
        "        matrix[i, :len(row_ix)] = row_ix\n",
        "    \n",
        "    return matrix"
      ],
      "execution_count": null,
      "outputs": []
    },
    {
      "cell_type": "code",
      "metadata": {
        "collapsed": true,
        "id": "hY2IganKUi00",
        "colab": {
          "base_uri": "https://localhost:8080/"
        },
        "outputId": "e8f60f09-d77f-4594-c100-c0cb2375b24e"
      },
      "source": [
        "#### print(\"Lines:\")\n",
        "print('\\n'.join(data[\"Title\"][::100000].values), end='\\n\\n')\n",
        "print(\"Matrix:\")\n",
        "print(as_matrix(data[\"Title\"][::100000]))"
      ],
      "execution_count": null,
      "outputs": [
        {
          "output_type": "stream",
          "name": "stdout",
          "text": [
            "engineering systems analyst\n",
            "hr assistant\n",
            "senior ec & i engineer\n",
            "\n",
            "Matrix:\n",
            "[[    2     3     4     1     1]\n",
            " [  550  2380     1     1     1]\n",
            " [  320 10714   392   307    32]]\n"
          ]
        }
      ]
    },
    {
      "cell_type": "markdown",
      "metadata": {
        "id": "DT1jicqkUi00"
      },
      "source": [
        "Now let's  encode the categirical data we have.\n",
        "\n",
        "As usual, we shall use one-hot encoding for simplicity. Kudos if you implement tf-idf, target averaging or pseudo-counter-based encoding."
      ]
    },
    {
      "cell_type": "code",
      "metadata": {
        "collapsed": true,
        "id": "gwFStce4Ui00",
        "colab": {
          "base_uri": "https://localhost:8080/"
        },
        "outputId": "ac7d8061-077b-4c59-8e36-69f52f868792"
      },
      "source": [
        "from sklearn.feature_extraction import DictVectorizer\n",
        "\n",
        "# we only consider top-1k most frequent companies to minimize memory usage\n",
        "top_companies, top_counts = zip(*Counter(data['Company']).most_common(1000))\n",
        "recognized_companies = set(top_companies)\n",
        "data[\"Company\"] = data[\"Company\"].apply(lambda comp: comp if comp in recognized_companies else \"Other\")\n",
        "\n",
        "categorical_vectorizer = DictVectorizer(dtype=np.float32, sparse=False)\n",
        "categorical_vectorizer.fit(data[categorical_columns].apply(dict, axis=1))"
      ],
      "execution_count": null,
      "outputs": [
        {
          "output_type": "execute_result",
          "data": {
            "text/plain": [
              "DictVectorizer(dtype=<class 'numpy.float32'>, separator='=', sort=True,\n",
              "               sparse=False)"
            ]
          },
          "metadata": {},
          "execution_count": 107
        }
      ]
    },
    {
      "cell_type": "markdown",
      "metadata": {
        "id": "A7X2VPuqUi01"
      },
      "source": [
        "### The data science part\n",
        "\n",
        "Once we've learned to tokenize the data, let's design a machine learning experiment.\n",
        "\n",
        "As before, we won't focus too much on validation, opting for a simple train-test split.\n",
        "\n",
        "__To be completely rigorous,__ we've comitted a small crime here: we used the whole data for tokenization and vocabulary building. A more strict way would be to do that part on training set only. You may want to do that and measure the magnitude of changes."
      ]
    },
    {
      "cell_type": "code",
      "metadata": {
        "collapsed": true,
        "id": "ZodjiZ5PUi01",
        "colab": {
          "base_uri": "https://localhost:8080/"
        },
        "outputId": "f9a263c9-66db-4c96-8b56-0d442a156c71"
      },
      "source": [
        "from sklearn.model_selection import train_test_split\n",
        "\n",
        "data_train, data_val = train_test_split(data, test_size=0.1, random_state=42)\n",
        "\n",
        "print(\"Train size = \", len(data_train))\n",
        "print(\"Validation size = \", len(data_val))"
      ],
      "execution_count": null,
      "outputs": [
        {
          "output_type": "stream",
          "name": "stdout",
          "text": [
            "Train size =  220291\n",
            "Validation size =  24477\n"
          ]
        }
      ]
    },
    {
      "cell_type": "code",
      "metadata": {
        "collapsed": true,
        "id": "uLJ2UnbrUi01"
      },
      "source": [
        "def generate_batch(data, batch_size=None, replace=True, max_len=None):\n",
        "    \"\"\"\n",
        "    Creates a pytorch-friendly dict from the batch data.\n",
        "    :returns: a dict with {'title' : int64[batch, title_max_len]\n",
        "    \"\"\"\n",
        "    if batch_size is not None:\n",
        "        data = data.sample(batch_size, replace=replace)\n",
        "    \n",
        "    batch = {}\n",
        "    for col in text_columns:\n",
        "        batch[col] = as_matrix(data[col].values, max_len)\n",
        "    \n",
        "    batch['Categorical'] = categorical_vectorizer.transform(data[categorical_columns].apply(dict, axis=1))\n",
        "    \n",
        "    if target_column in data.columns:\n",
        "        batch[target_column] = data[target_column].values\n",
        "    \n",
        "    return batch"
      ],
      "execution_count": null,
      "outputs": []
    },
    {
      "cell_type": "code",
      "metadata": {
        "collapsed": true,
        "id": "NEkGFmWTUi01",
        "colab": {
          "base_uri": "https://localhost:8080/"
        },
        "outputId": "39f688cf-f355-4b4d-c0df-0bb53c75c465"
      },
      "source": [
        "generate_batch(data_train, 3, max_len=10)"
      ],
      "execution_count": null,
      "outputs": [
        {
          "output_type": "execute_result",
          "data": {
            "text/plain": [
              "{'Categorical': array([[0., 0., 0., ..., 0., 0., 0.],\n",
              "        [0., 0., 0., ..., 0., 0., 0.],\n",
              "        [0., 0., 0., ..., 0., 0., 0.]], dtype=float32),\n",
              " 'FullDescription': array([[  861,    19,   505,  2839,   243,   105, 11249,  2433,    16,\n",
              "             0],\n",
              "        [  407,    65,   105,    44,   146,    69,   218,    14,  4393,\n",
              "           371],\n",
              "        [ 1704,    32,   432,    14,  7029,  1118,     8,     8,  6371,\n",
              "          2876]], dtype=int32),\n",
              " 'Log1pSalary': array([ 9.862718, 11.046133, 10.308986], dtype=float32),\n",
              " 'Title': array([[20937,     1,     1,     1],\n",
              "        [ 6951,   794,   371,    21],\n",
              "        [ 1704,    32,     1,     1]], dtype=int32)}"
            ]
          },
          "metadata": {},
          "execution_count": 110
        }
      ]
    },
    {
      "cell_type": "markdown",
      "metadata": {
        "id": "6dKRaIWvUi01"
      },
      "source": [
        "### Finally, let's talk deep learning\n",
        "\n",
        "Out model consists of three branches:\n",
        "* Title encoder\n",
        "* Description encoder\n",
        "* Categorical features encoder\n",
        "\n",
        "We will then feed all 3 branches into one common network that predicts salary.\n",
        "\n",
        "![scheme](https://github.com/yandexdataschool/Practical_DL/raw/master/homework04/conv_salary_architecture.png)"
      ]
    },
    {
      "cell_type": "markdown",
      "metadata": {
        "id": "oFB2JsafUi01"
      },
      "source": [
        "By default, both text vectorizers shall use 1d convolutions, followed by global pooling over time."
      ]
    },
    {
      "cell_type": "code",
      "metadata": {
        "collapsed": true,
        "id": "YBRctKGKUi02"
      },
      "source": [
        "import torch, torch.nn as nn\n",
        "import torch.nn.functional as F\n",
        "from torch.autograd import Variable\n",
        "\n",
        "class GlobalMaxPooling(nn.Module):\n",
        "    def __init__(self, dim=-1):\n",
        "        super(self.__class__, self).__init__()\n",
        "        self.dim = dim\n",
        "        \n",
        "    def forward(self, x):\n",
        "        return x.max(dim=self.dim)[0]"
      ],
      "execution_count": null,
      "outputs": []
    },
    {
      "cell_type": "code",
      "metadata": {
        "collapsed": true,
        "id": "MvKR9B2RUi02"
      },
      "source": [
        "class TitleEncoder(nn.Module):\n",
        "    def __init__(self, n_tokens=len(tokens), out_size=64):\n",
        "        \"\"\" \n",
        "        A simple sequential encoder for titles.\n",
        "        x -> emb -> conv -> global_max -> relu -> dense\n",
        "        \"\"\"\n",
        "        super(TitleEncoder, self).__init__()\n",
        "        self.emb = nn.Embedding(n_tokens, 64, padding_idx=PAD_IX)\n",
        "        self.conv1 = nn.Conv1d(64, out_size, kernel_size=3, padding=1)\n",
        "        self.pool1 = GlobalMaxPooling()        \n",
        "        self.dense = nn.Linear(out_size, out_size)\n",
        "\n",
        "    def forward(self, text_ix):\n",
        "        \"\"\"\n",
        "        :param text_ix: int64 Variable of shape [batch_size, max_len]\n",
        "        :returns: float32 Variable of shape [batch_size, out_size]\n",
        "        \"\"\"\n",
        "        h = self.emb(text_ix)\n",
        "\n",
        "        # we transpose from [batch, time, units] to [batch, units, time] to fit Conv1d dim order\n",
        "        h = torch.transpose(h, 1, 2)\n",
        "        \n",
        "        # Apply the layers as defined above. Add some ReLUs before dense.\n",
        "        h = self.conv1(h)\n",
        "        h = self.pool1(h)\n",
        "        h = F.relu(h)\n",
        "        out = self.dense(h)\n",
        "        return out"
      ],
      "execution_count": null,
      "outputs": []
    },
    {
      "cell_type": "code",
      "metadata": {
        "id": "Wrsrp_gzhsDV"
      },
      "source": [
        ""
      ],
      "execution_count": null,
      "outputs": []
    },
    {
      "cell_type": "code",
      "metadata": {
        "collapsed": true,
        "id": "LfuGxKupUi02",
        "colab": {
          "base_uri": "https://localhost:8080/"
        },
        "outputId": "078d1398-2042-4133-ad51-47d4d02188d1"
      },
      "source": [
        "title_encoder = TitleEncoder(out_size=64)\n",
        "\n",
        "dummy_x = Variable(torch.LongTensor(generate_batch(data_train, 3)['Title']))\n",
        "dummy_v = title_encoder(dummy_x)\n",
        "\n",
        "assert isinstance(dummy_v, Variable)\n",
        "assert tuple(dummy_v.shape) == (dummy_x.shape[0], 64)\n",
        "\n",
        "del title_encoder\n",
        "print(\"Seems fine\")"
      ],
      "execution_count": null,
      "outputs": [
        {
          "output_type": "stream",
          "name": "stdout",
          "text": [
            "Seems fine\n"
          ]
        }
      ]
    },
    {
      "cell_type": "markdown",
      "metadata": {
        "id": "ZJzg8P9IUi02"
      },
      "source": [
        "__Task 2.1__ Create description encoder"
      ]
    },
    {
      "cell_type": "code",
      "metadata": {
        "collapsed": true,
        "id": "i93SfnSHUi02"
      },
      "source": [
        "# Define an encoder for job descriptions.\n",
        "# Use any means you want so long as it's torch.nn.Module.\n",
        "class DescriptionEncoder(nn.Module):\n",
        "    def __init__(self, n_tokens=len(tokens), out_size=64):\n",
        "        \"\"\" \n",
        "        A simple sequential encoder for titles.\n",
        "        x -> emb -> conv -> global_max -> relu -> dense\n",
        "        \"\"\"\n",
        "        super(self.__class__, self).__init__()\n",
        "        self.emb = nn.Embedding(n_tokens, 128, padding_idx=PAD_IX)\n",
        "        self.conv1 = nn.Conv1d(128, 100, kernel_size=3, padding=1)\n",
        "        self.pool1 = GlobalMaxPooling()\n",
        "        self.conv2 = nn.Conv1d(100, 80, kernel_size=3, padding=1)\n",
        "        self.pool2 = GlobalMaxPooling()\n",
        "        self.dense1 = nn.Linear(80, out_size)\n",
        "        self.dense2 = nn.Linear(out_size, out_size)\n",
        "\n",
        "    def forward(self, text_ix):\n",
        "        \"\"\"\n",
        "        :param text_ix: int64 Variable of shape [batch_size, max_len]\n",
        "        :returns: float32 Variable of shape [batch_size, out_size]\n",
        "        \"\"\"\n",
        "        h = self.emb(text_ix)\n",
        "\n",
        "        h = torch.transpose(h, 1, 2)\n",
        "        h = F.max_pool1d(self.conv1(h), 3)\n",
        "        h = self.pool2(self.conv2(h))\n",
        "        h = self.dense1(F.relu(h))\n",
        "        out = self.dense2(F.relu(h))\n",
        "        return out"
      ],
      "execution_count": null,
      "outputs": []
    },
    {
      "cell_type": "code",
      "metadata": {
        "collapsed": true,
        "id": "231fFEAqUi02",
        "colab": {
          "base_uri": "https://localhost:8080/"
        },
        "outputId": "aac1ae67-59fd-48a0-f0a9-5e8bf920561a"
      },
      "source": [
        "desc_encoder = DescriptionEncoder(out_size=64)\n",
        "\n",
        "dummy_x = Variable(torch.LongTensor(generate_batch(data_train, 3)['FullDescription']))\n",
        "dummy_v = desc_encoder(dummy_x)\n",
        "\n",
        "assert isinstance(dummy_v, Variable)\n",
        "assert tuple(dummy_v.shape) == (dummy_x.shape[0], 64)\n",
        "del desc_encoder\n",
        "print(\"Seems fine too\")"
      ],
      "execution_count": null,
      "outputs": [
        {
          "output_type": "stream",
          "name": "stdout",
          "text": [
            "Seems fine too\n"
          ]
        }
      ]
    },
    {
      "cell_type": "markdown",
      "metadata": {
        "id": "XJRCX6aaUi03"
      },
      "source": [
        "__ Task 2.2__ Build one network ~~to rule them all~~"
      ]
    },
    {
      "cell_type": "code",
      "metadata": {
        "collapsed": true,
        "id": "z6tK17ScUi03"
      },
      "source": [
        "class FullNetwork(nn.Module):\n",
        "    \"\"\"\n",
        "    This class does all the steps from (title, desc, categorical) features -> predicted target\n",
        "    It unites title & desc encoders you defined above as long as some layers for head and categorical branch.\n",
        "    \"\"\"\n",
        "    \n",
        "    def __init__(self, n_tokens=len(tokens), n_cat_features=len(categorical_vectorizer.vocabulary_)):\n",
        "        super(self.__class__, self).__init__()\n",
        "        \n",
        "        self.title_encoder = TitleEncoder(out_size=64)\n",
        "        self.desc_encoder = DescriptionEncoder(out_size=64)\n",
        "        \n",
        "        # define layers for categorical features. A few dense layers would do.\n",
        "        self.cat_encoder = nn.Sequential(\n",
        "                              nn.Linear(n_cat_features, 512),\n",
        "                              nn.ReLU(),\n",
        "                              nn.Linear(512, 256),\n",
        "                              nn.ReLU(),\n",
        "                              nn.Linear(256, 64)\n",
        "                              )\n",
        "        # define \"output\" layers that process depend the three encoded vectors into answer\n",
        "        self.out = nn.Sequential(nn.Linear(64 * 3, 128),\n",
        "                                 nn.BatchNorm1d(128),\n",
        "                                 nn.ReLU(),\n",
        "                                 nn.Linear(128, 64),\n",
        "                                 nn.ReLU(),\n",
        "                                 nn.Linear(64, 1))\n",
        "  \n",
        "        \n",
        "    def forward(self, title_ix, desc_ix, cat_features):\n",
        "        \"\"\"\n",
        "        :param title_ix: int32 Variable [batch, title_len], job titles encoded by as_matrix\n",
        "        :param desc_ix:  int32 Variable [batch, desc_len] , job descriptions encoded by as_matrix\n",
        "        :param cat_features: float32 Variable [batch, n_cat_features]\n",
        "        :returns: float32 Variable 1d [batch], predicted log1p-salary\n",
        "        \"\"\"\n",
        "        \n",
        "        # process each data source with it's respective encoder\n",
        "        title_h = self.title_encoder(title_ix)\n",
        "        desc_h = self.desc_encoder(desc_ix)\n",
        "        \n",
        "        # apply categorical encoder\n",
        "        cat_h = self.cat_encoder(cat_features)\n",
        "        \n",
        "        # concatenate all vectors together...\n",
        "        joint_h = torch.cat([title_h, desc_h, cat_h], dim=1)\n",
        "        \n",
        "        # ... and stack a few more layers at the top\n",
        "        out = self.out(joint_h)\n",
        "        \n",
        "        # Note 1: do not forget to select first columns, [:, 0], to get to 1d outputs\n",
        "        # Note 2: please do not use output nonlinearities.\n",
        "        \n",
        "        return out[:, 0]"
      ],
      "execution_count": null,
      "outputs": []
    },
    {
      "cell_type": "code",
      "metadata": {
        "collapsed": true,
        "id": "_6TPwGkkUi05"
      },
      "source": [
        "model = FullNetwork()\n",
        "opt = torch.optim.Adam(model.parameters(), lr=1e-3)"
      ],
      "execution_count": null,
      "outputs": []
    },
    {
      "cell_type": "code",
      "metadata": {
        "collapsed": true,
        "id": "pHLnpPY4Ui05"
      },
      "source": [
        "# test it on one batch\n",
        "\n",
        "batch = generate_batch(data_train, 32)\n",
        "\n",
        "title_ix = Variable(torch.LongTensor(batch[\"Title\"]))\n",
        "desc_ix = Variable(torch.LongTensor(batch[\"FullDescription\"]))\n",
        "cat_features = Variable(torch.FloatTensor(batch[\"Categorical\"]))\n",
        "reference = Variable(torch.FloatTensor(batch[target_column]))\n",
        "\n",
        "prediction = model(title_ix, desc_ix, cat_features)\n",
        "\n",
        "assert len(prediction.shape) == 1 and prediction.shape[0] == title_ix.shape[0]"
      ],
      "execution_count": null,
      "outputs": []
    },
    {
      "cell_type": "code",
      "metadata": {
        "collapsed": true,
        "id": "nrIiIodcUi05"
      },
      "source": [
        "def compute_loss(reference, prediction):\n",
        "    \"\"\"\n",
        "    Computes objective for minimization.\n",
        "    By deafult we minimize MSE, but you are encouraged to try mix up MSE, MAE, huber loss, etc.\n",
        "    \"\"\"\n",
        "    return torch.mean((prediction - reference) ** 2)\n",
        "\n",
        "def compute_mae(reference, prediction):\n",
        "    \"\"\" Compute MAE on actual salary, assuming your model outputs log1p(salary)\"\"\"\n",
        "    return torch.abs(torch.exp(reference - 1) - torch.exp(prediction - 1)).mean()"
      ],
      "execution_count": null,
      "outputs": []
    },
    {
      "cell_type": "code",
      "metadata": {
        "collapsed": true,
        "id": "vmp77XOeUi05"
      },
      "source": [
        "loss = compute_loss(reference, prediction)\n",
        "dummy_grads = torch.autograd.grad(loss, model.parameters(), retain_graph=True)\n",
        "for grad in dummy_grads:\n",
        "    assert grad is not None and not (grad == 0).all(), \"Some model parameters received zero grads. \" \\\n",
        "                                                       \"Double-check that your model uses all it's layers.\""
      ],
      "execution_count": null,
      "outputs": []
    },
    {
      "cell_type": "markdown",
      "metadata": {
        "id": "KL6-B-QsUi06"
      },
      "source": [
        "### Let's train it!"
      ]
    },
    {
      "cell_type": "code",
      "metadata": {
        "collapsed": true,
        "id": "i6yG0JkuUi06"
      },
      "source": [
        "from tqdm import tnrange\n",
        "def iterate_minibatches(data, batch_size=32, max_len=None,\n",
        "                        max_batches=None, shuffle=True, verbose=True):\n",
        "    indices = np.arange(len(data))\n",
        "    if shuffle:\n",
        "        indices = np.random.permutation(indices)\n",
        "    if max_batches is not None:\n",
        "        indices = indices[: batch_size * max_batches]\n",
        "        \n",
        "    irange = tnrange if verbose else range\n",
        "    \n",
        "    for start in irange(0, len(indices), batch_size):\n",
        "        yield generate_batch(data.iloc[indices[start : start + batch_size]], max_len=max_len)"
      ],
      "execution_count": null,
      "outputs": []
    },
    {
      "cell_type": "code",
      "metadata": {
        "collapsed": true,
        "id": "kwIU15flUi06"
      },
      "source": [
        "num_epochs = 100\n",
        "max_len = 100\n",
        "batch_size = 32\n",
        "batches_per_epoch = 100"
      ],
      "execution_count": null,
      "outputs": []
    },
    {
      "cell_type": "code",
      "metadata": {
        "collapsed": true,
        "id": "Aakqm0AfUi06",
        "colab": {
          "base_uri": "https://localhost:8080/",
          "height": 1000,
          "referenced_widgets": [
            "903b62756aee44f1b437640057cfbcb0",
            "9b36a2ed56204dfc9c094c8b04bfcd81",
            "b8e15f5bbda0406f948ca49710730a6e",
            "5feb4f49c8c24279a2c938ed34cb0e2e",
            "8ca66e34ff8e487398caf174e73355cd",
            "0be7c6bd23ca4c0882f8ec04edc3d915",
            "c67df9c6445c41dd96b4c0e12157a0da",
            "057d8d0c36dd41df9c9477d2f8180b02",
            "8977eb21e2cc45bd9e7bf7dfedc8e7b0",
            "68dfc109fd9d41518b05eb61ee3440f9",
            "d1b41eb0752c43ecb25e8313e33ff847",
            "c06056766ea14402a2aa211d6ef02fca",
            "f3ec797e9e844d279af438ef4d40b6b9",
            "bf1c490125064c4d9a257de519b61aff",
            "1638f5d8a04a40088d66ad7c824bffda",
            "db07bf4ca5a6402c8b947e142fc8f219",
            "deba6568ea254fee98f965a501bc3312",
            "87e1b1f79f2c47d894b6b9cd1b9152f3",
            "f91579e4224b4deeb4c6fdb3b176af78",
            "a2ca5478bf564213993306e4d47c3c82",
            "1340d64b2b1c421282fdf894e043135d",
            "91bb19a330374ce09927193b60c672a0",
            "e6f3440373534c78a70049606d0030bd",
            "79da959bb6cc4d7e85e91a295cdd488c",
            "513f8b2ea1624d05b1ab1d81c13577e1",
            "5874a7cb2b8c4a60ac8a73a3fea7d01a",
            "d5ae86a4f72b4b2395a0e26be355d93f",
            "c5231eeb9ec54f4cb85399a80cf0563c",
            "02fe9eea76af462d93cac6d27b4d015d",
            "41fcc30fc5564e868dab48555a073b6f",
            "15772b3e965641f2a43d9a98f68e3f2c",
            "66520fd7262a4907b165f080107bc03c",
            "c8e3d9e790ad42faa972b0572544bd5c",
            "7668aa51c27548a99a44267f246f5beb",
            "999eef6b8cfc4b68b589654b16d228d8",
            "7f6e59ce2b6040ab836a8e362f0271db",
            "1273f9fbbad44927b41eb7d0d330d8a0",
            "d214a9e618b447e68ac4f9081792f5d0",
            "e3fb6e8e75bd4b529d112619203a4144",
            "e4a986885b854dba9d1e20bb2773a047",
            "09930fc283614049a4574e3d6cc88091",
            "75749290165949bd81932fcf3bb6602f",
            "c8b8818e86a44c73ab887f40ee74f4e4",
            "f41fbfa244fa4e3da052605f1d02e7c3",
            "0e50c4e3e8944529a2a0e188116c1eb2",
            "3008befeb872410e937cf80553e3d446",
            "dc1b2d4cbcfe4452ad2be378900f7ee7",
            "3d456afe2f2547389da9b5155ddedf55",
            "2dfd3d0129ea4b12812238f9e1736a21",
            "ed27671b115e4048a7cde01d8cc33b77",
            "ce127d74fbdd45a598c6d7f6759e4c05",
            "6ca256d9f7d444da933859f09d5e5af0"
          ]
        },
        "outputId": "575b0672-58b1-43e6-b739-4388d445f3e5"
      },
      "source": [
        "for epoch_i in range(num_epochs):\n",
        "    \n",
        "    print(\"Training:\")\n",
        "    train_loss = train_mae = train_batches = 0    \n",
        "    model.train(True)\n",
        "    \n",
        "    for batch in iterate_minibatches(data_train, max_batches=batches_per_epoch):\n",
        "\n",
        "        title_ix = Variable(torch.LongTensor(batch[\"Title\"]))\n",
        "        desc_ix = Variable(torch.LongTensor(batch[\"FullDescription\"]))\n",
        "        cat_features = Variable(torch.FloatTensor(batch[\"Categorical\"]))\n",
        "        reference = Variable(torch.FloatTensor(batch[target_column]))\n",
        "\n",
        "        prediction = model(title_ix, desc_ix, cat_features)\n",
        "\n",
        "        loss = compute_loss(reference, prediction)\n",
        "        loss.backward()\n",
        "        opt.step()\n",
        "        opt.zero_grad()\n",
        "\n",
        "        train_loss += loss.data.numpy()\n",
        "        train_mae += compute_mae(reference, prediction).data.numpy()\n",
        "        train_batches += 1\n",
        "    \n",
        "    print(\"\\tLoss:\\t%.5f\" % (train_loss / train_batches))\n",
        "    print(\"\\tMAE:\\t%.5f\" % (train_mae / train_batches))\n",
        "    print('\\n\\n')\n",
        "    \n",
        "    print(\"Validation:\")\n",
        "    val_loss = val_mae = val_batches = 0\n",
        "    model.train(False)\n",
        "    \n",
        "    with torch.no_grad():\n",
        "        for batch in iterate_minibatches(data_val, shuffle=False):\n",
        "            title_ix = Variable(torch.LongTensor(batch[\"Title\"]))\n",
        "            desc_ix = Variable(torch.LongTensor(batch[\"FullDescription\"]))\n",
        "            cat_features = Variable(torch.FloatTensor(batch[\"Categorical\"]))\n",
        "            reference = Variable(torch.FloatTensor(batch[target_column]))\n",
        "\n",
        "            prediction = model(title_ix, desc_ix, cat_features)\n",
        "            loss = compute_loss(reference, prediction)\n",
        "\n",
        "            val_loss += loss.data.numpy()\n",
        "            val_mae += compute_mae(reference, prediction).data.numpy()\n",
        "            val_batches += 1\n",
        "\n",
        "    print(\"\\tLoss:\\t%.5f\" % (val_loss / val_batches))\n",
        "    print(\"\\tMAE:\\t%.5f\" % (val_mae / val_batches))\n",
        "    print('\\n\\n')"
      ],
      "execution_count": null,
      "outputs": [
        {
          "output_type": "stream",
          "name": "stdout",
          "text": [
            "Training:\n"
          ]
        },
        {
          "output_type": "stream",
          "name": "stderr",
          "text": [
            "/usr/local/lib/python3.7/dist-packages/ipykernel_launcher.py:12: TqdmDeprecationWarning: Please use `tqdm.notebook.trange` instead of `tqdm.tnrange`\n",
            "  if sys.path[0] == '':\n"
          ]
        },
        {
          "output_type": "display_data",
          "data": {
            "application/vnd.jupyter.widget-view+json": {
              "model_id": "903b62756aee44f1b437640057cfbcb0",
              "version_minor": 0,
              "version_major": 2
            },
            "text/plain": [
              "  0%|          | 0/100 [00:00<?, ?it/s]"
            ]
          },
          "metadata": {}
        },
        {
          "output_type": "stream",
          "name": "stdout",
          "text": [
            "\tLoss:\t22.20076\n",
            "\tMAE:\t30334.03595\n",
            "\n",
            "\n",
            "\n",
            "Validation:\n"
          ]
        },
        {
          "output_type": "display_data",
          "data": {
            "application/vnd.jupyter.widget-view+json": {
              "model_id": "c06056766ea14402a2aa211d6ef02fca",
              "version_minor": 0,
              "version_major": 2
            },
            "text/plain": [
              "  0%|          | 0/765 [00:00<?, ?it/s]"
            ]
          },
          "metadata": {}
        },
        {
          "output_type": "stream",
          "name": "stdout",
          "text": [
            "\tLoss:\t2.37788\n",
            "\tMAE:\t54159.01154\n",
            "\n",
            "\n",
            "\n",
            "Training:\n"
          ]
        },
        {
          "output_type": "display_data",
          "data": {
            "application/vnd.jupyter.widget-view+json": {
              "model_id": "f3ec797e9e844d279af438ef4d40b6b9",
              "version_minor": 0,
              "version_major": 2
            },
            "text/plain": [
              "  0%|          | 0/100 [00:00<?, ?it/s]"
            ]
          },
          "metadata": {}
        },
        {
          "output_type": "stream",
          "name": "stdout",
          "text": [
            "\tLoss:\t1.30687\n",
            "\tMAE:\t16913.98569\n",
            "\n",
            "\n",
            "\n",
            "Validation:\n"
          ]
        },
        {
          "output_type": "display_data",
          "data": {
            "application/vnd.jupyter.widget-view+json": {
              "model_id": "bf1c490125064c4d9a257de519b61aff",
              "version_minor": 0,
              "version_major": 2
            },
            "text/plain": [
              "  0%|          | 0/765 [00:00<?, ?it/s]"
            ]
          },
          "metadata": {}
        },
        {
          "output_type": "stream",
          "name": "stdout",
          "text": [
            "\tLoss:\t1.22455\n",
            "\tMAE:\t9001.68487\n",
            "\n",
            "\n",
            "\n",
            "Training:\n"
          ]
        },
        {
          "output_type": "display_data",
          "data": {
            "application/vnd.jupyter.widget-view+json": {
              "model_id": "1638f5d8a04a40088d66ad7c824bffda",
              "version_minor": 0,
              "version_major": 2
            },
            "text/plain": [
              "  0%|          | 0/100 [00:00<?, ?it/s]"
            ]
          },
          "metadata": {}
        },
        {
          "output_type": "stream",
          "name": "stdout",
          "text": [
            "\tLoss:\t1.11465\n",
            "\tMAE:\t12958.47688\n",
            "\n",
            "\n",
            "\n",
            "Validation:\n"
          ]
        },
        {
          "output_type": "display_data",
          "data": {
            "application/vnd.jupyter.widget-view+json": {
              "model_id": "db07bf4ca5a6402c8b947e142fc8f219",
              "version_minor": 0,
              "version_major": 2
            },
            "text/plain": [
              "  0%|          | 0/765 [00:00<?, ?it/s]"
            ]
          },
          "metadata": {}
        },
        {
          "output_type": "stream",
          "name": "stdout",
          "text": [
            "\tLoss:\t0.77983\n",
            "\tMAE:\t10576.11926\n",
            "\n",
            "\n",
            "\n",
            "Training:\n"
          ]
        },
        {
          "output_type": "display_data",
          "data": {
            "application/vnd.jupyter.widget-view+json": {
              "model_id": "deba6568ea254fee98f965a501bc3312",
              "version_minor": 0,
              "version_major": 2
            },
            "text/plain": [
              "  0%|          | 0/100 [00:00<?, ?it/s]"
            ]
          },
          "metadata": {}
        },
        {
          "output_type": "stream",
          "name": "stdout",
          "text": [
            "\tLoss:\t1.02812\n",
            "\tMAE:\t12837.85176\n",
            "\n",
            "\n",
            "\n",
            "Validation:\n"
          ]
        },
        {
          "output_type": "display_data",
          "data": {
            "application/vnd.jupyter.widget-view+json": {
              "model_id": "87e1b1f79f2c47d894b6b9cd1b9152f3",
              "version_minor": 0,
              "version_major": 2
            },
            "text/plain": [
              "  0%|          | 0/765 [00:00<?, ?it/s]"
            ]
          },
          "metadata": {}
        },
        {
          "output_type": "stream",
          "name": "stdout",
          "text": [
            "\tLoss:\t1.54288\n",
            "\tMAE:\t10192.36680\n",
            "\n",
            "\n",
            "\n",
            "Training:\n"
          ]
        },
        {
          "output_type": "display_data",
          "data": {
            "application/vnd.jupyter.widget-view+json": {
              "model_id": "f91579e4224b4deeb4c6fdb3b176af78",
              "version_minor": 0,
              "version_major": 2
            },
            "text/plain": [
              "  0%|          | 0/100 [00:00<?, ?it/s]"
            ]
          },
          "metadata": {}
        },
        {
          "output_type": "stream",
          "name": "stdout",
          "text": [
            "\tLoss:\t0.91672\n",
            "\tMAE:\t11353.94194\n",
            "\n",
            "\n",
            "\n",
            "Validation:\n"
          ]
        },
        {
          "output_type": "display_data",
          "data": {
            "application/vnd.jupyter.widget-view+json": {
              "model_id": "a2ca5478bf564213993306e4d47c3c82",
              "version_minor": 0,
              "version_major": 2
            },
            "text/plain": [
              "  0%|          | 0/765 [00:00<?, ?it/s]"
            ]
          },
          "metadata": {}
        },
        {
          "output_type": "stream",
          "name": "stdout",
          "text": [
            "\tLoss:\t1.00097\n",
            "\tMAE:\t17523.04094\n",
            "\n",
            "\n",
            "\n",
            "Training:\n"
          ]
        },
        {
          "output_type": "display_data",
          "data": {
            "application/vnd.jupyter.widget-view+json": {
              "model_id": "1340d64b2b1c421282fdf894e043135d",
              "version_minor": 0,
              "version_major": 2
            },
            "text/plain": [
              "  0%|          | 0/100 [00:00<?, ?it/s]"
            ]
          },
          "metadata": {}
        },
        {
          "output_type": "stream",
          "name": "stdout",
          "text": [
            "\tLoss:\t0.83716\n",
            "\tMAE:\t10713.83140\n",
            "\n",
            "\n",
            "\n",
            "Validation:\n"
          ]
        },
        {
          "output_type": "display_data",
          "data": {
            "application/vnd.jupyter.widget-view+json": {
              "model_id": "91bb19a330374ce09927193b60c672a0",
              "version_minor": 0,
              "version_major": 2
            },
            "text/plain": [
              "  0%|          | 0/765 [00:00<?, ?it/s]"
            ]
          },
          "metadata": {}
        },
        {
          "output_type": "stream",
          "name": "stdout",
          "text": [
            "\tLoss:\t0.77993\n",
            "\tMAE:\t13488.79194\n",
            "\n",
            "\n",
            "\n",
            "Training:\n"
          ]
        },
        {
          "output_type": "display_data",
          "data": {
            "application/vnd.jupyter.widget-view+json": {
              "model_id": "e6f3440373534c78a70049606d0030bd",
              "version_minor": 0,
              "version_major": 2
            },
            "text/plain": [
              "  0%|          | 0/100 [00:00<?, ?it/s]"
            ]
          },
          "metadata": {}
        },
        {
          "output_type": "stream",
          "name": "stdout",
          "text": [
            "\tLoss:\t0.79729\n",
            "\tMAE:\t10207.16760\n",
            "\n",
            "\n",
            "\n",
            "Validation:\n"
          ]
        },
        {
          "output_type": "display_data",
          "data": {
            "application/vnd.jupyter.widget-view+json": {
              "model_id": "79da959bb6cc4d7e85e91a295cdd488c",
              "version_minor": 0,
              "version_major": 2
            },
            "text/plain": [
              "  0%|          | 0/765 [00:00<?, ?it/s]"
            ]
          },
          "metadata": {}
        },
        {
          "output_type": "stream",
          "name": "stdout",
          "text": [
            "\tLoss:\t0.75403\n",
            "\tMAE:\t8734.21552\n",
            "\n",
            "\n",
            "\n",
            "Training:\n"
          ]
        },
        {
          "output_type": "display_data",
          "data": {
            "application/vnd.jupyter.widget-view+json": {
              "model_id": "513f8b2ea1624d05b1ab1d81c13577e1",
              "version_minor": 0,
              "version_major": 2
            },
            "text/plain": [
              "  0%|          | 0/100 [00:00<?, ?it/s]"
            ]
          },
          "metadata": {}
        },
        {
          "output_type": "stream",
          "name": "stdout",
          "text": [
            "\tLoss:\t0.74270\n",
            "\tMAE:\t9911.07414\n",
            "\n",
            "\n",
            "\n",
            "Validation:\n"
          ]
        },
        {
          "output_type": "display_data",
          "data": {
            "application/vnd.jupyter.widget-view+json": {
              "model_id": "5874a7cb2b8c4a60ac8a73a3fea7d01a",
              "version_minor": 0,
              "version_major": 2
            },
            "text/plain": [
              "  0%|          | 0/765 [00:00<?, ?it/s]"
            ]
          },
          "metadata": {}
        },
        {
          "output_type": "stream",
          "name": "stdout",
          "text": [
            "\tLoss:\t0.61518\n",
            "\tMAE:\t11281.31476\n",
            "\n",
            "\n",
            "\n",
            "Training:\n"
          ]
        },
        {
          "output_type": "display_data",
          "data": {
            "application/vnd.jupyter.widget-view+json": {
              "model_id": "d5ae86a4f72b4b2395a0e26be355d93f",
              "version_minor": 0,
              "version_major": 2
            },
            "text/plain": [
              "  0%|          | 0/100 [00:00<?, ?it/s]"
            ]
          },
          "metadata": {}
        },
        {
          "output_type": "stream",
          "name": "stdout",
          "text": [
            "\tLoss:\t0.66222\n",
            "\tMAE:\t9291.07873\n",
            "\n",
            "\n",
            "\n",
            "Validation:\n"
          ]
        },
        {
          "output_type": "display_data",
          "data": {
            "application/vnd.jupyter.widget-view+json": {
              "model_id": "c5231eeb9ec54f4cb85399a80cf0563c",
              "version_minor": 0,
              "version_major": 2
            },
            "text/plain": [
              "  0%|          | 0/765 [00:00<?, ?it/s]"
            ]
          },
          "metadata": {}
        },
        {
          "output_type": "stream",
          "name": "stdout",
          "text": [
            "\tLoss:\t0.96189\n",
            "\tMAE:\t6774.46930\n",
            "\n",
            "\n",
            "\n",
            "Training:\n"
          ]
        },
        {
          "output_type": "display_data",
          "data": {
            "application/vnd.jupyter.widget-view+json": {
              "model_id": "02fe9eea76af462d93cac6d27b4d015d",
              "version_minor": 0,
              "version_major": 2
            },
            "text/plain": [
              "  0%|          | 0/100 [00:00<?, ?it/s]"
            ]
          },
          "metadata": {}
        },
        {
          "output_type": "stream",
          "name": "stdout",
          "text": [
            "\tLoss:\t0.60663\n",
            "\tMAE:\t8623.89264\n",
            "\n",
            "\n",
            "\n",
            "Validation:\n"
          ]
        },
        {
          "output_type": "display_data",
          "data": {
            "application/vnd.jupyter.widget-view+json": {
              "model_id": "41fcc30fc5564e868dab48555a073b6f",
              "version_minor": 0,
              "version_major": 2
            },
            "text/plain": [
              "  0%|          | 0/765 [00:00<?, ?it/s]"
            ]
          },
          "metadata": {}
        },
        {
          "output_type": "stream",
          "name": "stdout",
          "text": [
            "\tLoss:\t0.98773\n",
            "\tMAE:\t7980.91318\n",
            "\n",
            "\n",
            "\n",
            "Training:\n"
          ]
        },
        {
          "output_type": "display_data",
          "data": {
            "application/vnd.jupyter.widget-view+json": {
              "model_id": "15772b3e965641f2a43d9a98f68e3f2c",
              "version_minor": 0,
              "version_major": 2
            },
            "text/plain": [
              "  0%|          | 0/100 [00:00<?, ?it/s]"
            ]
          },
          "metadata": {}
        },
        {
          "output_type": "stream",
          "name": "stdout",
          "text": [
            "\tLoss:\t0.61970\n",
            "\tMAE:\t8787.26668\n",
            "\n",
            "\n",
            "\n",
            "Validation:\n"
          ]
        },
        {
          "output_type": "display_data",
          "data": {
            "application/vnd.jupyter.widget-view+json": {
              "model_id": "66520fd7262a4907b165f080107bc03c",
              "version_minor": 0,
              "version_major": 2
            },
            "text/plain": [
              "  0%|          | 0/765 [00:00<?, ?it/s]"
            ]
          },
          "metadata": {}
        },
        {
          "output_type": "stream",
          "name": "stdout",
          "text": [
            "\tLoss:\t0.50869\n",
            "\tMAE:\t9079.08522\n",
            "\n",
            "\n",
            "\n",
            "Training:\n"
          ]
        },
        {
          "output_type": "display_data",
          "data": {
            "application/vnd.jupyter.widget-view+json": {
              "model_id": "c8e3d9e790ad42faa972b0572544bd5c",
              "version_minor": 0,
              "version_major": 2
            },
            "text/plain": [
              "  0%|          | 0/100 [00:00<?, ?it/s]"
            ]
          },
          "metadata": {}
        },
        {
          "output_type": "stream",
          "name": "stdout",
          "text": [
            "\tLoss:\t0.55325\n",
            "\tMAE:\t8253.00823\n",
            "\n",
            "\n",
            "\n",
            "Validation:\n"
          ]
        },
        {
          "output_type": "display_data",
          "data": {
            "application/vnd.jupyter.widget-view+json": {
              "model_id": "7668aa51c27548a99a44267f246f5beb",
              "version_minor": 0,
              "version_major": 2
            },
            "text/plain": [
              "  0%|          | 0/765 [00:00<?, ?it/s]"
            ]
          },
          "metadata": {}
        },
        {
          "output_type": "stream",
          "name": "stdout",
          "text": [
            "\tLoss:\t0.45302\n",
            "\tMAE:\t8236.82746\n",
            "\n",
            "\n",
            "\n",
            "Training:\n"
          ]
        },
        {
          "output_type": "display_data",
          "data": {
            "application/vnd.jupyter.widget-view+json": {
              "model_id": "999eef6b8cfc4b68b589654b16d228d8",
              "version_minor": 0,
              "version_major": 2
            },
            "text/plain": [
              "  0%|          | 0/100 [00:00<?, ?it/s]"
            ]
          },
          "metadata": {}
        },
        {
          "output_type": "stream",
          "name": "stdout",
          "text": [
            "\tLoss:\t0.53655\n",
            "\tMAE:\t7919.13840\n",
            "\n",
            "\n",
            "\n",
            "Validation:\n"
          ]
        },
        {
          "output_type": "display_data",
          "data": {
            "application/vnd.jupyter.widget-view+json": {
              "model_id": "7f6e59ce2b6040ab836a8e362f0271db",
              "version_minor": 0,
              "version_major": 2
            },
            "text/plain": [
              "  0%|          | 0/765 [00:00<?, ?it/s]"
            ]
          },
          "metadata": {}
        },
        {
          "output_type": "stream",
          "name": "stdout",
          "text": [
            "\tLoss:\t0.48332\n",
            "\tMAE:\t8916.50777\n",
            "\n",
            "\n",
            "\n",
            "Training:\n"
          ]
        },
        {
          "output_type": "display_data",
          "data": {
            "application/vnd.jupyter.widget-view+json": {
              "model_id": "1273f9fbbad44927b41eb7d0d330d8a0",
              "version_minor": 0,
              "version_major": 2
            },
            "text/plain": [
              "  0%|          | 0/100 [00:00<?, ?it/s]"
            ]
          },
          "metadata": {}
        },
        {
          "output_type": "stream",
          "name": "stdout",
          "text": [
            "\tLoss:\t0.47239\n",
            "\tMAE:\t7263.06573\n",
            "\n",
            "\n",
            "\n",
            "Validation:\n"
          ]
        },
        {
          "output_type": "display_data",
          "data": {
            "application/vnd.jupyter.widget-view+json": {
              "model_id": "d214a9e618b447e68ac4f9081792f5d0",
              "version_minor": 0,
              "version_major": 2
            },
            "text/plain": [
              "  0%|          | 0/765 [00:00<?, ?it/s]"
            ]
          },
          "metadata": {}
        },
        {
          "output_type": "stream",
          "name": "stdout",
          "text": [
            "\tLoss:\t0.40166\n",
            "\tMAE:\t7673.18037\n",
            "\n",
            "\n",
            "\n",
            "Training:\n"
          ]
        },
        {
          "output_type": "display_data",
          "data": {
            "application/vnd.jupyter.widget-view+json": {
              "model_id": "e3fb6e8e75bd4b529d112619203a4144",
              "version_minor": 0,
              "version_major": 2
            },
            "text/plain": [
              "  0%|          | 0/100 [00:00<?, ?it/s]"
            ]
          },
          "metadata": {}
        },
        {
          "output_type": "stream",
          "name": "stdout",
          "text": [
            "\tLoss:\t0.49532\n",
            "\tMAE:\t7634.14987\n",
            "\n",
            "\n",
            "\n",
            "Validation:\n"
          ]
        },
        {
          "output_type": "display_data",
          "data": {
            "application/vnd.jupyter.widget-view+json": {
              "model_id": "e4a986885b854dba9d1e20bb2773a047",
              "version_minor": 0,
              "version_major": 2
            },
            "text/plain": [
              "  0%|          | 0/765 [00:00<?, ?it/s]"
            ]
          },
          "metadata": {}
        },
        {
          "output_type": "stream",
          "name": "stdout",
          "text": [
            "\tLoss:\t0.46018\n",
            "\tMAE:\t5575.67270\n",
            "\n",
            "\n",
            "\n",
            "Training:\n"
          ]
        },
        {
          "output_type": "display_data",
          "data": {
            "application/vnd.jupyter.widget-view+json": {
              "model_id": "09930fc283614049a4574e3d6cc88091",
              "version_minor": 0,
              "version_major": 2
            },
            "text/plain": [
              "  0%|          | 0/100 [00:00<?, ?it/s]"
            ]
          },
          "metadata": {}
        },
        {
          "output_type": "stream",
          "name": "stdout",
          "text": [
            "\tLoss:\t0.45913\n",
            "\tMAE:\t7269.90718\n",
            "\n",
            "\n",
            "\n",
            "Validation:\n"
          ]
        },
        {
          "output_type": "display_data",
          "data": {
            "application/vnd.jupyter.widget-view+json": {
              "model_id": "75749290165949bd81932fcf3bb6602f",
              "version_minor": 0,
              "version_major": 2
            },
            "text/plain": [
              "  0%|          | 0/765 [00:00<?, ?it/s]"
            ]
          },
          "metadata": {}
        },
        {
          "output_type": "stream",
          "name": "stdout",
          "text": [
            "\tLoss:\t0.58728\n",
            "\tMAE:\t11872.74928\n",
            "\n",
            "\n",
            "\n",
            "Training:\n"
          ]
        },
        {
          "output_type": "display_data",
          "data": {
            "application/vnd.jupyter.widget-view+json": {
              "model_id": "c8b8818e86a44c73ab887f40ee74f4e4",
              "version_minor": 0,
              "version_major": 2
            },
            "text/plain": [
              "  0%|          | 0/100 [00:00<?, ?it/s]"
            ]
          },
          "metadata": {}
        },
        {
          "output_type": "stream",
          "name": "stdout",
          "text": [
            "\tLoss:\t0.49500\n",
            "\tMAE:\t7455.86123\n",
            "\n",
            "\n",
            "\n",
            "Validation:\n"
          ]
        },
        {
          "output_type": "display_data",
          "data": {
            "application/vnd.jupyter.widget-view+json": {
              "model_id": "f41fbfa244fa4e3da052605f1d02e7c3",
              "version_minor": 0,
              "version_major": 2
            },
            "text/plain": [
              "  0%|          | 0/765 [00:00<?, ?it/s]"
            ]
          },
          "metadata": {}
        },
        {
          "output_type": "stream",
          "name": "stdout",
          "text": [
            "\tLoss:\t0.35155\n",
            "\tMAE:\t5960.74303\n",
            "\n",
            "\n",
            "\n",
            "Training:\n"
          ]
        },
        {
          "output_type": "display_data",
          "data": {
            "application/vnd.jupyter.widget-view+json": {
              "model_id": "0e50c4e3e8944529a2a0e188116c1eb2",
              "version_minor": 0,
              "version_major": 2
            },
            "text/plain": [
              "  0%|          | 0/100 [00:00<?, ?it/s]"
            ]
          },
          "metadata": {}
        },
        {
          "output_type": "stream",
          "name": "stdout",
          "text": [
            "\tLoss:\t0.44821\n",
            "\tMAE:\t7281.49797\n",
            "\n",
            "\n",
            "\n",
            "Validation:\n"
          ]
        },
        {
          "output_type": "display_data",
          "data": {
            "application/vnd.jupyter.widget-view+json": {
              "model_id": "3008befeb872410e937cf80553e3d446",
              "version_minor": 0,
              "version_major": 2
            },
            "text/plain": [
              "  0%|          | 0/765 [00:00<?, ?it/s]"
            ]
          },
          "metadata": {}
        },
        {
          "output_type": "stream",
          "name": "stdout",
          "text": [
            "\tLoss:\t0.51857\n",
            "\tMAE:\t9632.28154\n",
            "\n",
            "\n",
            "\n",
            "Training:\n"
          ]
        },
        {
          "output_type": "display_data",
          "data": {
            "application/vnd.jupyter.widget-view+json": {
              "model_id": "dc1b2d4cbcfe4452ad2be378900f7ee7",
              "version_minor": 0,
              "version_major": 2
            },
            "text/plain": [
              "  0%|          | 0/100 [00:00<?, ?it/s]"
            ]
          },
          "metadata": {}
        },
        {
          "output_type": "stream",
          "name": "stdout",
          "text": [
            "\tLoss:\t0.43265\n",
            "\tMAE:\t6875.79055\n",
            "\n",
            "\n",
            "\n",
            "Validation:\n"
          ]
        },
        {
          "output_type": "display_data",
          "data": {
            "application/vnd.jupyter.widget-view+json": {
              "model_id": "3d456afe2f2547389da9b5155ddedf55",
              "version_minor": 0,
              "version_major": 2
            },
            "text/plain": [
              "  0%|          | 0/765 [00:00<?, ?it/s]"
            ]
          },
          "metadata": {}
        },
        {
          "output_type": "stream",
          "name": "stdout",
          "text": [
            "\tLoss:\t0.41973\n",
            "\tMAE:\t8364.42477\n",
            "\n",
            "\n",
            "\n",
            "Training:\n"
          ]
        },
        {
          "output_type": "display_data",
          "data": {
            "application/vnd.jupyter.widget-view+json": {
              "model_id": "2dfd3d0129ea4b12812238f9e1736a21",
              "version_minor": 0,
              "version_major": 2
            },
            "text/plain": [
              "  0%|          | 0/100 [00:00<?, ?it/s]"
            ]
          },
          "metadata": {}
        },
        {
          "output_type": "stream",
          "name": "stdout",
          "text": [
            "\tLoss:\t0.40318\n",
            "\tMAE:\t6709.92656\n",
            "\n",
            "\n",
            "\n",
            "Validation:\n"
          ]
        },
        {
          "output_type": "display_data",
          "data": {
            "application/vnd.jupyter.widget-view+json": {
              "model_id": "ed27671b115e4048a7cde01d8cc33b77",
              "version_minor": 0,
              "version_major": 2
            },
            "text/plain": [
              "  0%|          | 0/765 [00:00<?, ?it/s]"
            ]
          },
          "metadata": {}
        },
        {
          "output_type": "stream",
          "name": "stdout",
          "text": [
            "\tLoss:\t0.37405\n",
            "\tMAE:\t5339.36491\n",
            "\n",
            "\n",
            "\n",
            "Training:\n"
          ]
        },
        {
          "output_type": "display_data",
          "data": {
            "application/vnd.jupyter.widget-view+json": {
              "model_id": "ce127d74fbdd45a598c6d7f6759e4c05",
              "version_minor": 0,
              "version_major": 2
            },
            "text/plain": [
              "  0%|          | 0/100 [00:00<?, ?it/s]"
            ]
          },
          "metadata": {}
        },
        {
          "output_type": "stream",
          "name": "stdout",
          "text": [
            "\tLoss:\t0.39049\n",
            "\tMAE:\t6514.12613\n",
            "\n",
            "\n",
            "\n",
            "Validation:\n"
          ]
        },
        {
          "output_type": "display_data",
          "data": {
            "application/vnd.jupyter.widget-view+json": {
              "model_id": "6ca256d9f7d444da933859f09d5e5af0",
              "version_minor": 0,
              "version_major": 2
            },
            "text/plain": [
              "  0%|          | 0/765 [00:00<?, ?it/s]"
            ]
          },
          "metadata": {}
        },
        {
          "output_type": "error",
          "ename": "KeyboardInterrupt",
          "evalue": "ignored",
          "traceback": [
            "\u001b[0;31m---------------------------------------------------------------------------\u001b[0m",
            "\u001b[0;31mKeyboardInterrupt\u001b[0m                         Traceback (most recent call last)",
            "\u001b[0;32m<ipython-input-84-c2da0be9e6a6>\u001b[0m in \u001b[0;36m<module>\u001b[0;34m()\u001b[0m\n\u001b[1;32m     38\u001b[0m             \u001b[0mreference\u001b[0m \u001b[0;34m=\u001b[0m \u001b[0mVariable\u001b[0m\u001b[0;34m(\u001b[0m\u001b[0mtorch\u001b[0m\u001b[0;34m.\u001b[0m\u001b[0mFloatTensor\u001b[0m\u001b[0;34m(\u001b[0m\u001b[0mbatch\u001b[0m\u001b[0;34m[\u001b[0m\u001b[0mtarget_column\u001b[0m\u001b[0;34m]\u001b[0m\u001b[0;34m)\u001b[0m\u001b[0;34m)\u001b[0m\u001b[0;34m\u001b[0m\u001b[0;34m\u001b[0m\u001b[0m\n\u001b[1;32m     39\u001b[0m \u001b[0;34m\u001b[0m\u001b[0m\n\u001b[0;32m---> 40\u001b[0;31m             \u001b[0mprediction\u001b[0m \u001b[0;34m=\u001b[0m \u001b[0mmodel\u001b[0m\u001b[0;34m(\u001b[0m\u001b[0mtitle_ix\u001b[0m\u001b[0;34m,\u001b[0m \u001b[0mdesc_ix\u001b[0m\u001b[0;34m,\u001b[0m \u001b[0mcat_features\u001b[0m\u001b[0;34m)\u001b[0m\u001b[0;34m\u001b[0m\u001b[0;34m\u001b[0m\u001b[0m\n\u001b[0m\u001b[1;32m     41\u001b[0m             \u001b[0mloss\u001b[0m \u001b[0;34m=\u001b[0m \u001b[0mcompute_loss\u001b[0m\u001b[0;34m(\u001b[0m\u001b[0mreference\u001b[0m\u001b[0;34m,\u001b[0m \u001b[0mprediction\u001b[0m\u001b[0;34m)\u001b[0m\u001b[0;34m\u001b[0m\u001b[0;34m\u001b[0m\u001b[0m\n\u001b[1;32m     42\u001b[0m \u001b[0;34m\u001b[0m\u001b[0m\n",
            "\u001b[0;32m/usr/local/lib/python3.7/dist-packages/torch/nn/modules/module.py\u001b[0m in \u001b[0;36m_call_impl\u001b[0;34m(self, *input, **kwargs)\u001b[0m\n\u001b[1;32m   1049\u001b[0m         if not (self._backward_hooks or self._forward_hooks or self._forward_pre_hooks or _global_backward_hooks\n\u001b[1;32m   1050\u001b[0m                 or _global_forward_hooks or _global_forward_pre_hooks):\n\u001b[0;32m-> 1051\u001b[0;31m             \u001b[0;32mreturn\u001b[0m \u001b[0mforward_call\u001b[0m\u001b[0;34m(\u001b[0m\u001b[0;34m*\u001b[0m\u001b[0minput\u001b[0m\u001b[0;34m,\u001b[0m \u001b[0;34m**\u001b[0m\u001b[0mkwargs\u001b[0m\u001b[0;34m)\u001b[0m\u001b[0;34m\u001b[0m\u001b[0;34m\u001b[0m\u001b[0m\n\u001b[0m\u001b[1;32m   1052\u001b[0m         \u001b[0;31m# Do not call functions when jit is used\u001b[0m\u001b[0;34m\u001b[0m\u001b[0;34m\u001b[0m\u001b[0;34m\u001b[0m\u001b[0m\n\u001b[1;32m   1053\u001b[0m         \u001b[0mfull_backward_hooks\u001b[0m\u001b[0;34m,\u001b[0m \u001b[0mnon_full_backward_hooks\u001b[0m \u001b[0;34m=\u001b[0m \u001b[0;34m[\u001b[0m\u001b[0;34m]\u001b[0m\u001b[0;34m,\u001b[0m \u001b[0;34m[\u001b[0m\u001b[0;34m]\u001b[0m\u001b[0;34m\u001b[0m\u001b[0;34m\u001b[0m\u001b[0m\n",
            "\u001b[0;32m<ipython-input-77-c9473cfb7ffa>\u001b[0m in \u001b[0;36mforward\u001b[0;34m(self, title_ix, desc_ix, cat_features)\u001b[0m\n\u001b[1;32m     38\u001b[0m         \u001b[0;31m# process each data source with it's respective encoder\u001b[0m\u001b[0;34m\u001b[0m\u001b[0;34m\u001b[0m\u001b[0;34m\u001b[0m\u001b[0m\n\u001b[1;32m     39\u001b[0m         \u001b[0mtitle_h\u001b[0m \u001b[0;34m=\u001b[0m \u001b[0mself\u001b[0m\u001b[0;34m.\u001b[0m\u001b[0mtitle_encoder\u001b[0m\u001b[0;34m(\u001b[0m\u001b[0mtitle_ix\u001b[0m\u001b[0;34m)\u001b[0m\u001b[0;34m\u001b[0m\u001b[0;34m\u001b[0m\u001b[0m\n\u001b[0;32m---> 40\u001b[0;31m         \u001b[0mdesc_h\u001b[0m \u001b[0;34m=\u001b[0m \u001b[0mself\u001b[0m\u001b[0;34m.\u001b[0m\u001b[0mdesc_encoder\u001b[0m\u001b[0;34m(\u001b[0m\u001b[0mdesc_ix\u001b[0m\u001b[0;34m)\u001b[0m\u001b[0;34m\u001b[0m\u001b[0;34m\u001b[0m\u001b[0m\n\u001b[0m\u001b[1;32m     41\u001b[0m \u001b[0;34m\u001b[0m\u001b[0m\n\u001b[1;32m     42\u001b[0m         \u001b[0;31m# apply categorical encoder\u001b[0m\u001b[0;34m\u001b[0m\u001b[0;34m\u001b[0m\u001b[0;34m\u001b[0m\u001b[0m\n",
            "\u001b[0;32m/usr/local/lib/python3.7/dist-packages/torch/nn/modules/module.py\u001b[0m in \u001b[0;36m_call_impl\u001b[0;34m(self, *input, **kwargs)\u001b[0m\n\u001b[1;32m   1049\u001b[0m         if not (self._backward_hooks or self._forward_hooks or self._forward_pre_hooks or _global_backward_hooks\n\u001b[1;32m   1050\u001b[0m                 or _global_forward_hooks or _global_forward_pre_hooks):\n\u001b[0;32m-> 1051\u001b[0;31m             \u001b[0;32mreturn\u001b[0m \u001b[0mforward_call\u001b[0m\u001b[0;34m(\u001b[0m\u001b[0;34m*\u001b[0m\u001b[0minput\u001b[0m\u001b[0;34m,\u001b[0m \u001b[0;34m**\u001b[0m\u001b[0mkwargs\u001b[0m\u001b[0;34m)\u001b[0m\u001b[0;34m\u001b[0m\u001b[0;34m\u001b[0m\u001b[0m\n\u001b[0m\u001b[1;32m   1052\u001b[0m         \u001b[0;31m# Do not call functions when jit is used\u001b[0m\u001b[0;34m\u001b[0m\u001b[0;34m\u001b[0m\u001b[0;34m\u001b[0m\u001b[0m\n\u001b[1;32m   1053\u001b[0m         \u001b[0mfull_backward_hooks\u001b[0m\u001b[0;34m,\u001b[0m \u001b[0mnon_full_backward_hooks\u001b[0m \u001b[0;34m=\u001b[0m \u001b[0;34m[\u001b[0m\u001b[0;34m]\u001b[0m\u001b[0;34m,\u001b[0m \u001b[0;34m[\u001b[0m\u001b[0;34m]\u001b[0m\u001b[0;34m\u001b[0m\u001b[0;34m\u001b[0m\u001b[0m\n",
            "\u001b[0;32m<ipython-input-69-304735f4805e>\u001b[0m in \u001b[0;36mforward\u001b[0;34m(self, text_ix)\u001b[0m\n\u001b[1;32m     24\u001b[0m \u001b[0;34m\u001b[0m\u001b[0m\n\u001b[1;32m     25\u001b[0m         \u001b[0mh\u001b[0m \u001b[0;34m=\u001b[0m \u001b[0mtorch\u001b[0m\u001b[0;34m.\u001b[0m\u001b[0mtranspose\u001b[0m\u001b[0;34m(\u001b[0m\u001b[0mh\u001b[0m\u001b[0;34m,\u001b[0m \u001b[0;36m1\u001b[0m\u001b[0;34m,\u001b[0m \u001b[0;36m2\u001b[0m\u001b[0;34m)\u001b[0m\u001b[0;34m\u001b[0m\u001b[0;34m\u001b[0m\u001b[0m\n\u001b[0;32m---> 26\u001b[0;31m         \u001b[0mh\u001b[0m \u001b[0;34m=\u001b[0m \u001b[0mF\u001b[0m\u001b[0;34m.\u001b[0m\u001b[0mmax_pool1d\u001b[0m\u001b[0;34m(\u001b[0m\u001b[0mself\u001b[0m\u001b[0;34m.\u001b[0m\u001b[0mconv1\u001b[0m\u001b[0;34m(\u001b[0m\u001b[0mh\u001b[0m\u001b[0;34m)\u001b[0m\u001b[0;34m,\u001b[0m \u001b[0;36m3\u001b[0m\u001b[0;34m)\u001b[0m\u001b[0;34m\u001b[0m\u001b[0;34m\u001b[0m\u001b[0m\n\u001b[0m\u001b[1;32m     27\u001b[0m         \u001b[0mh\u001b[0m \u001b[0;34m=\u001b[0m \u001b[0mself\u001b[0m\u001b[0;34m.\u001b[0m\u001b[0mpool2\u001b[0m\u001b[0;34m(\u001b[0m\u001b[0mself\u001b[0m\u001b[0;34m.\u001b[0m\u001b[0mconv2\u001b[0m\u001b[0;34m(\u001b[0m\u001b[0mh\u001b[0m\u001b[0;34m)\u001b[0m\u001b[0;34m)\u001b[0m\u001b[0;34m\u001b[0m\u001b[0;34m\u001b[0m\u001b[0m\n\u001b[1;32m     28\u001b[0m         \u001b[0mh\u001b[0m \u001b[0;34m=\u001b[0m \u001b[0mself\u001b[0m\u001b[0;34m.\u001b[0m\u001b[0mdense1\u001b[0m\u001b[0;34m(\u001b[0m\u001b[0mF\u001b[0m\u001b[0;34m.\u001b[0m\u001b[0mrelu\u001b[0m\u001b[0;34m(\u001b[0m\u001b[0mh\u001b[0m\u001b[0;34m)\u001b[0m\u001b[0;34m)\u001b[0m\u001b[0;34m\u001b[0m\u001b[0;34m\u001b[0m\u001b[0m\n",
            "\u001b[0;32m/usr/local/lib/python3.7/dist-packages/torch/nn/modules/module.py\u001b[0m in \u001b[0;36m_call_impl\u001b[0;34m(self, *input, **kwargs)\u001b[0m\n\u001b[1;32m   1049\u001b[0m         if not (self._backward_hooks or self._forward_hooks or self._forward_pre_hooks or _global_backward_hooks\n\u001b[1;32m   1050\u001b[0m                 or _global_forward_hooks or _global_forward_pre_hooks):\n\u001b[0;32m-> 1051\u001b[0;31m             \u001b[0;32mreturn\u001b[0m \u001b[0mforward_call\u001b[0m\u001b[0;34m(\u001b[0m\u001b[0;34m*\u001b[0m\u001b[0minput\u001b[0m\u001b[0;34m,\u001b[0m \u001b[0;34m**\u001b[0m\u001b[0mkwargs\u001b[0m\u001b[0;34m)\u001b[0m\u001b[0;34m\u001b[0m\u001b[0;34m\u001b[0m\u001b[0m\n\u001b[0m\u001b[1;32m   1052\u001b[0m         \u001b[0;31m# Do not call functions when jit is used\u001b[0m\u001b[0;34m\u001b[0m\u001b[0;34m\u001b[0m\u001b[0;34m\u001b[0m\u001b[0m\n\u001b[1;32m   1053\u001b[0m         \u001b[0mfull_backward_hooks\u001b[0m\u001b[0;34m,\u001b[0m \u001b[0mnon_full_backward_hooks\u001b[0m \u001b[0;34m=\u001b[0m \u001b[0;34m[\u001b[0m\u001b[0;34m]\u001b[0m\u001b[0;34m,\u001b[0m \u001b[0;34m[\u001b[0m\u001b[0;34m]\u001b[0m\u001b[0;34m\u001b[0m\u001b[0;34m\u001b[0m\u001b[0m\n",
            "\u001b[0;32m/usr/local/lib/python3.7/dist-packages/torch/nn/modules/conv.py\u001b[0m in \u001b[0;36mforward\u001b[0;34m(self, input)\u001b[0m\n\u001b[1;32m    296\u001b[0m \u001b[0;34m\u001b[0m\u001b[0m\n\u001b[1;32m    297\u001b[0m     \u001b[0;32mdef\u001b[0m \u001b[0mforward\u001b[0m\u001b[0;34m(\u001b[0m\u001b[0mself\u001b[0m\u001b[0;34m,\u001b[0m \u001b[0minput\u001b[0m\u001b[0;34m:\u001b[0m \u001b[0mTensor\u001b[0m\u001b[0;34m)\u001b[0m \u001b[0;34m->\u001b[0m \u001b[0mTensor\u001b[0m\u001b[0;34m:\u001b[0m\u001b[0;34m\u001b[0m\u001b[0;34m\u001b[0m\u001b[0m\n\u001b[0;32m--> 298\u001b[0;31m         \u001b[0;32mreturn\u001b[0m \u001b[0mself\u001b[0m\u001b[0;34m.\u001b[0m\u001b[0m_conv_forward\u001b[0m\u001b[0;34m(\u001b[0m\u001b[0minput\u001b[0m\u001b[0;34m,\u001b[0m \u001b[0mself\u001b[0m\u001b[0;34m.\u001b[0m\u001b[0mweight\u001b[0m\u001b[0;34m,\u001b[0m \u001b[0mself\u001b[0m\u001b[0;34m.\u001b[0m\u001b[0mbias\u001b[0m\u001b[0;34m)\u001b[0m\u001b[0;34m\u001b[0m\u001b[0;34m\u001b[0m\u001b[0m\n\u001b[0m\u001b[1;32m    299\u001b[0m \u001b[0;34m\u001b[0m\u001b[0m\n\u001b[1;32m    300\u001b[0m \u001b[0;34m\u001b[0m\u001b[0m\n",
            "\u001b[0;32m/usr/local/lib/python3.7/dist-packages/torch/nn/modules/conv.py\u001b[0m in \u001b[0;36m_conv_forward\u001b[0;34m(self, input, weight, bias)\u001b[0m\n\u001b[1;32m    293\u001b[0m                             _single(0), self.dilation, self.groups)\n\u001b[1;32m    294\u001b[0m         return F.conv1d(input, weight, bias, self.stride,\n\u001b[0;32m--> 295\u001b[0;31m                         self.padding, self.dilation, self.groups)\n\u001b[0m\u001b[1;32m    296\u001b[0m \u001b[0;34m\u001b[0m\u001b[0m\n\u001b[1;32m    297\u001b[0m     \u001b[0;32mdef\u001b[0m \u001b[0mforward\u001b[0m\u001b[0;34m(\u001b[0m\u001b[0mself\u001b[0m\u001b[0;34m,\u001b[0m \u001b[0minput\u001b[0m\u001b[0;34m:\u001b[0m \u001b[0mTensor\u001b[0m\u001b[0;34m)\u001b[0m \u001b[0;34m->\u001b[0m \u001b[0mTensor\u001b[0m\u001b[0;34m:\u001b[0m\u001b[0;34m\u001b[0m\u001b[0;34m\u001b[0m\u001b[0m\n",
            "\u001b[0;31mKeyboardInterrupt\u001b[0m: "
          ]
        }
      ]
    },
    {
      "cell_type": "code",
      "metadata": {
        "collapsed": true,
        "id": "yfJ9ejQ4Ui06",
        "colab": {
          "base_uri": "https://localhost:8080/",
          "height": 208,
          "referenced_widgets": [
            "31e691b43c9048d4b3779e03c5749e91",
            "ebc7d03a6b9b46dfb5c986122451ae5e",
            "752e843305244ce493b86c09ca3a617c",
            "2fef6dd1c113417ab744a456d2fcd74d",
            "b37328be6f6c4a0ebbfb33b71d67dd41",
            "7537d7f18dde42e79bf56e0294c0ef16",
            "3663455d87204e8b850ea21890d572b8",
            "0a02a1db13904d6cb8f8f72c375ef194",
            "d81f23bd82cf455cb5228ce4c1b4133b",
            "f5777edd681e4375a63259c230ef68fd",
            "3c4eaafb623340389ef54c9597f381d3"
          ]
        },
        "outputId": "af1caae2-e4f3-4a9e-9114-9a572ab6a97b"
      },
      "source": [
        "print(\"Final eval:\")\n",
        "val_loss = val_mae = val_batches = 0\n",
        "\n",
        "with torch.no_grad():\n",
        "    for batch in iterate_minibatches(data_val, shuffle=False):\n",
        "        title_ix = Variable(torch.LongTensor(batch[\"Title\"]))\n",
        "        desc_ix = Variable(torch.LongTensor(batch[\"FullDescription\"]))\n",
        "        cat_features = Variable(torch.FloatTensor(batch[\"Categorical\"]))\n",
        "        reference = Variable(torch.FloatTensor(batch[target_column]))\n",
        "\n",
        "        prediction = model(title_ix, desc_ix, cat_features)\n",
        "        loss = compute_loss(reference, prediction)\n",
        "\n",
        "        val_loss += loss.data.numpy()\n",
        "        val_mae += compute_mae(reference, prediction).data.numpy()\n",
        "        val_batches += 1\n",
        "\n",
        "print(\"\\tLoss:\\t%.5f\" % (val_loss / val_batches))\n",
        "print(\"\\tMAE:\\t%.5f\" % (val_mae / val_batches))\n",
        "print('\\n\\n')"
      ],
      "execution_count": null,
      "outputs": [
        {
          "output_type": "stream",
          "name": "stdout",
          "text": [
            "Final eval:\n"
          ]
        },
        {
          "output_type": "stream",
          "name": "stderr",
          "text": [
            "/usr/local/lib/python3.7/dist-packages/ipykernel_launcher.py:12: TqdmDeprecationWarning: Please use `tqdm.notebook.trange` instead of `tqdm.tnrange`\n",
            "  if sys.path[0] == '':\n"
          ]
        },
        {
          "output_type": "display_data",
          "data": {
            "application/vnd.jupyter.widget-view+json": {
              "model_id": "31e691b43c9048d4b3779e03c5749e91",
              "version_minor": 0,
              "version_major": 2
            },
            "text/plain": [
              "  0%|          | 0/765 [00:00<?, ?it/s]"
            ]
          },
          "metadata": {}
        },
        {
          "output_type": "stream",
          "name": "stdout",
          "text": [
            "\tLoss:\t0.25876\n",
            "\tMAE:\t4914.81125\n",
            "\n",
            "\n",
            "\n"
          ]
        }
      ]
    },
    {
      "cell_type": "markdown",
      "metadata": {
        "id": "MAFSFJaDUi06"
      },
      "source": [
        "### Task 3.2: Actually make it work\n",
        "\n",
        "Your main task is to use some of the tricks you've learned on the network and analyze if you can improve __validation MAE__.\n",
        "\n",
        "Try __at least 3 options__ from the list below for a passing grade. If you're into \n",
        "\n",
        "#### A) CNN architecture\n",
        "\n",
        "All the tricks you know about dense and convolutional neural networks apply here as well.\n",
        "* Dropout. Nuff said.\n",
        "* Batch Norm. This time it's `nn.BatchNorm1d`\n",
        "* Parallel convolution layers. The idea is that you apply several nn.Conv1d to the same embeddings and concatenate output channels.\n",
        "* More layers, more neurons, ya know...\n",
        "\n",
        "\n",
        "#### B) Play with pooling\n",
        "\n",
        "There's more than one way to do max pooling:\n",
        "* Max over time - our `GlobalMaxPooling`\n",
        "* Average over time (excluding PAD)\n",
        "* Softmax-pooling:\n",
        "$$ out_{i, t} = \\sum_t {h_{i,t} \\cdot {{e ^ {h_{i, t}}} \\over \\sum_\\tau e ^ {h_{j, \\tau}} } }$$\n",
        "\n",
        "* Attentive pooling\n",
        "$$ out_{i, t} = \\sum_t {h_{i,t} \\cdot Attn(h_t)}$$\n",
        "\n",
        ", where $$ Attn(h_t) = {{e ^ {NN_{attn}(h_t)}} \\over \\sum_\\tau e ^ {NN_{attn}(h_\\tau)}}  $$\n",
        "and $NN_{attn}$ is a small neural network\n",
        "\n",
        "\n",
        "The optimal score is usually achieved by concatenating several different poolings, including several attentive pooling with different $NN_{attn}$\n",
        "\n",
        "#### C) Fun with embeddings\n",
        "\n",
        "It's not always a good idea to train embeddings from scratch. Here's a few tricks:\n",
        "\n",
        "* Use a pre-trained word2vec from [here](http://ahogrammer.com/2017/01/20/the-list-of-pretrained-word-embeddings/) or [here](http://mccormickml.com/2016/04/12/googles-pretrained-word2vec-model-in-python/).\n",
        "* Start with pre-trained embeddings, then fine-tune them with gradient descent\n",
        "* Use the same embedding matrix in title and desc vectorizer\n",
        "\n",
        "#### D) Going recurrent\n",
        "\n",
        "We've already learned that recurrent networks can do cool stuff in sequence modelling. Turns out, they're not useless for classification as well. With some tricks of course..\n",
        "\n",
        "* Like convolutional layers, LSTM should be pooled into a fixed-size vector with some of the poolings.\n",
        "  * Please bear in mind that while convolution uses [batch, units, time] dim order, \n",
        "    recurrent units are built for [batch, time, unit]. You may need to `torch.transpose`.\n",
        "\n",
        "* Since you know all the text in advance, use bidirectional RNN\n",
        "  * Run one LSTM from left to right\n",
        "  * Run another in parallel from right to left \n",
        "  * Concatenate their output sequences along unit axis (dim=-1)\n",
        "\n",
        "* It might be good idea to mix convolutions and recurrent layers differently for title and description\n",
        "\n",
        "\n",
        "#### E) Optimizing seriously\n",
        "\n",
        "* You don't necessarily need 100 epochs. Use early stopping. If you've never done this before, take a look at [keras](https://github.com/keras-team/keras/blob/master/keras/callbacks.py#L461) for inspiration.\n",
        "  * In short, train until you notice that validation\n",
        "  * Maintain the best-on-validation snapshot via `model.state_dict`\n",
        "  * Plotting learning curves is usually a good idea"
      ]
    },
    {
      "cell_type": "markdown",
      "metadata": {
        "id": "2NVFX7A-Ui07"
      },
      "source": [
        "### A short report\n",
        "\n",
        "1. Did own torch dataset and dataloader.\n",
        "2. In collate function made variable-sized batches based on max len of sequence in batch for Description data. \n",
        "3. For Title data made constant len for sequences as a median of all titles' lengths.\n",
        "4. NN for title data consists of embedding part, several convolutional layers with different kernel sizes (2,3,4), max pool layer and concatenation to one tensor + 2 linear layers with one ReLU inbetween at the end.\n",
        "5. NN for description data consists of embedding part, simple two-layered LSTM with convolutional and maxpool layers on top + one linear layer.\n",
        "6. NN for categorical data consists of simple NN with 3 linear layers and ReLU inbetween.\n",
        "7. After concatenating all of these outputs added linear layers with batchnorm and dropouts.\n",
        "8. In training part added early stopper, MAE and loss plot tracker, loss scheduler and model backup to local.\n",
        "---\n",
        "Result:  \n",
        "Best MAE = 2745.94 on validation data. (Since it is 3464 in Kaggle leaderboards, I think this is a good result)."
      ]
    },
    {
      "cell_type": "markdown",
      "metadata": {
        "id": "zJY5pBB48Ofq"
      },
      "source": [
        "#Solution"
      ]
    },
    {
      "cell_type": "code",
      "metadata": {
        "id": "c3Fu2yQ1h_2b"
      },
      "source": [
        "import torch\n",
        "import torch.nn as nn\n",
        "from torch.nn import functional as F\n",
        "from torch.utils.data import Dataset, DataLoader\n",
        "from torch.autograd import Variable\n",
        "import time\n",
        "import tqdm\n",
        "from copy import deepcopy\n",
        "from torch.optim.lr_scheduler import ReduceLROnPlateau"
      ],
      "execution_count": null,
      "outputs": []
    },
    {
      "cell_type": "markdown",
      "metadata": {
        "id": "Nd2XYN7HMHpV"
      },
      "source": [
        "Some of previous code"
      ]
    },
    {
      "cell_type": "code",
      "metadata": {
        "id": "PxEKf0SmSh_J"
      },
      "source": [
        "import nltk\n",
        "from collections import Counter\n",
        "\n",
        "#unify everything\n",
        "tokenizer = nltk.tokenize.WordPunctTokenizer()\n",
        "\n",
        "for col in text_columns:\n",
        "    data[col] = data[col].apply(lambda l: ' '.join(tokenizer.tokenize(str(l).lower())))\n",
        "\n",
        "token_counts = Counter()\n",
        "\n",
        "# Count how many times does each token occur in \"Title\" and \"FullDescription\"\n",
        "for row, value in data[['Title', 'FullDescription']].iterrows():\n",
        "  text = ' '.join((value['Title'], value['FullDescription'])).split(' ')\n",
        "  for word in text:\n",
        "    token_counts[word] += 1\n",
        "\n",
        "min_count = 10\n",
        "# tokens from token_counts keys that had at least min_count occurrences throughout the dataset\n",
        "tokens = [token for token, count in token_counts.items() if count >= min_count]\n",
        "\n",
        "# Add a special tokens for unknown and empty words\n",
        "UNK, PAD = \"UNK\", \"PAD\"\n",
        "tokens = [UNK, PAD] + tokens\n",
        "\n",
        "token_to_id = {token:tokens.index(token) for token in tokens} # aka our vocabulary"
      ],
      "execution_count": null,
      "outputs": []
    },
    {
      "cell_type": "code",
      "metadata": {
        "colab": {
          "base_uri": "https://localhost:8080/"
        },
        "id": "WWOR1oHTaB0B",
        "outputId": "f5dedcdc-a456-41d5-eeee-ef312e902aeb"
      },
      "source": [
        "from sklearn.feature_extraction import DictVectorizer\n",
        "\n",
        "# we only consider top-1k most frequent companies to minimize memory usage\n",
        "top_companies, top_counts = zip(*Counter(data['Company']).most_common(1000))\n",
        "recognized_companies = set(top_companies)\n",
        "data[\"Company\"] = data[\"Company\"].apply(lambda comp: comp if comp in recognized_companies else \"Other\")\n",
        "categorical_columns = [\"Category\", \n",
        "                      \"Company\", \n",
        "                      \"LocationNormalized\", \n",
        "                      \"ContractType\", \n",
        "                      \"ContractTime\"]\n",
        "categorical_vectorizer = DictVectorizer(dtype=np.float32, sparse=False)\n",
        "categorical_vectorizer.fit(data[categorical_columns].apply(dict, axis=1))"
      ],
      "execution_count": null,
      "outputs": [
        {
          "output_type": "execute_result",
          "data": {
            "text/plain": [
              "DictVectorizer(dtype=<class 'numpy.float32'>, separator='=', sort=True,\n",
              "               sparse=False)"
            ]
          },
          "metadata": {},
          "execution_count": 8
        }
      ]
    },
    {
      "cell_type": "code",
      "metadata": {
        "id": "Q3cXzAADa3if"
      },
      "source": [
        "#decided to use categorical features from outside\n",
        "cat_vector = categorical_vectorizer.transform(data[categorical_columns].apply(dict, axis=1))"
      ],
      "execution_count": null,
      "outputs": []
    },
    {
      "cell_type": "markdown",
      "metadata": {
        "id": "BfFA-dP5izTY"
      },
      "source": [
        "## My dataset"
      ]
    },
    {
      "cell_type": "code",
      "metadata": {
        "id": "XGYirI71MHMa"
      },
      "source": [
        "class TDCDataset(Dataset): # TDC for Title, Description and Categorical\n",
        "    def __init__(self, data, vocab, categories, transform=False):\n",
        "        # main info\n",
        "        self.data = data \n",
        "        self.vocab = vocab\n",
        "        self.cats = categories\n",
        "        self.transform = transform # for future use\n",
        "        # dealing with unknown and padding tokens\n",
        "        self.UNK, self.PAD = \"UNK\", \"PAD\"\n",
        "        self.UNK_IX = self.vocab.get(self.UNK)\n",
        "        self.PAD_IX = self.vocab.get(self.PAD)\n",
        "        # dealing with column names\n",
        "        self.title_column = \"Title\"\n",
        "        self.desc_column = \"FullDescription\"\n",
        "        self.target_column = \"Log1pSalary\"\n",
        "        # using median as a size of title column\n",
        "        self.title_len = int(self.data[self.title_column].str.split(' ').str.len().median())\n",
        "\n",
        "    def _token2id(self, row, col, defined_len=None):\n",
        "        data = row[col].values[0].split(' ')\n",
        "        if defined_len:\n",
        "            if defined_len <= len(data):\n",
        "                data = data[:defined_len]\n",
        "            else:\n",
        "                data +=  [self.PAD] * (defined_len - len(data))\n",
        "        return [self.vocab.get(word, self.UNK_IX) for word in data]\n",
        "    \n",
        "    def __getitem__(self, index: int):\n",
        "        row = self.data.iloc[[index]]\n",
        "        title = torch.LongTensor([self._token2id(row, self.title_column, self.title_len)])\n",
        "        desc = torch.LongTensor([self._token2id(row, self.desc_column)])\n",
        "        cat = torch.FloatTensor([self.cats[index]])\n",
        "        target = torch.FloatTensor([row[self.target_column].values])\n",
        "\n",
        "        return {'title': title, \n",
        "                'description': desc,\n",
        "                'categorical_features': cat, \n",
        "                'target': target}\n",
        "      \n",
        "    def __len__(self):\n",
        "        return len(self.data)"
      ],
      "execution_count": null,
      "outputs": []
    },
    {
      "cell_type": "code",
      "metadata": {
        "id": "gjFyk6gJQy1_"
      },
      "source": [
        "dataset = TDCDataset(data, token_to_id, cat_vector)"
      ],
      "execution_count": null,
      "outputs": []
    },
    {
      "cell_type": "code",
      "metadata": {
        "colab": {
          "base_uri": "https://localhost:8080/"
        },
        "id": "I5q2ccIcscnQ",
        "outputId": "f994b734-ee8e-4ce9-ab0f-eea537df8529"
      },
      "source": [
        "[dataset[i] for i in range(3)]"
      ],
      "execution_count": null,
      "outputs": [
        {
          "output_type": "execute_result",
          "data": {
            "text/plain": [
              "[{'categorical_features': tensor([[0., 0., 0.,  ..., 0., 0., 0.]]),\n",
              "  'description': tensor([[ 2,  3,  4,  5,  6,  7,  8,  9, 10, 11, 12, 13, 14,  5, 15,  6, 16, 17,\n",
              "           18, 19,  2,  3,  4, 10, 11, 20, 21, 22, 23, 24, 25, 26, 15, 27, 28, 15,\n",
              "           29, 26, 15, 30, 15,  0, 15,  0,  2,  3,  4,  5,  6,  7,  8,  9]]),\n",
              "  'target': tensor([[10.1267]]),\n",
              "  'title': tensor([[2, 3, 4, 1]])},\n",
              " {'categorical_features': tensor([[0., 0., 0.,  ..., 0., 0., 0.]]),\n",
              "  'description': tensor([[ 31,  32,  33,   7,   8,  34,   8,  35,  36,  37,  18,  19,  38,  39,\n",
              "            34,  40,  10,  41,  33,  42,  43,  44,  45,  46,  47,  48,  49,  50,\n",
              "            17,  51,  52,  34,  53,  54,   2,  55,  56,  57,  58,  46,  59,  60,\n",
              "            15,  61,  62,  35,  63,  64,  65,  49,  66,  34,  67,  68,  69,  70,\n",
              "            34,  71,  53,  72,  73,  34,  10,  74,  75,  15,  76,  77,  78,  16,\n",
              "            79,  48,  14,  80,  15,  65,  63,  81,  82,  83,  84,  16,  49,  85,\n",
              "            19,  86,  16,  87,  16,  88,  23,  15,  89,  90,  65,  91,  92,  16,\n",
              "            93,  84,  34,  94,  95,  96,  97,  14,  98,  99,  15,  14,  96, 100,\n",
              "            46,  49, 101,  48,  49, 102,  65, 103, 104,  34, 105,  44,  82,   2,\n",
              "           106,  62, 107, 108,  28, 109, 110, 111, 112,  15, 113,  15, 114,  15,\n",
              "           115, 116,  56,  93,  60,  14,  44,  88,   2, 117, 118,  34, 109, 119,\n",
              "           120, 121,  34, 116,  49,  74, 122,  48,  65, 103, 104,  34, 123,  60,\n",
              "            14,  43, 124, 125,  96, 126,  46,  49, 127, 128, 129, 108, 130,  31,\n",
              "            28, 131,  31,  28, 109,  57, 132, 116, 133,  16, 134, 135, 136,  28,\n",
              "           137,  16, 138, 139, 108, 140, 141,  28,  78,  60,  65, 103, 142, 143,\n",
              "           144,  34, 123,  49, 127, 145, 129,  44, 146, 147,  34, 148, 149,  34,\n",
              "            44, 150,  46, 151,  88, 152, 146, 153,  70,  15, 154,  16, 155, 156,\n",
              "           157,  42, 158,  15, 159, 160, 158,  14, 161, 162,  16, 163, 164, 165,\n",
              "           166, 167, 168,  12, 169,  19, 170, 171,  31,  32,  33,   7,   8,  34,\n",
              "             8]]),\n",
              "  'target': tensor([[10.3090]]),\n",
              "  'title': tensor([[31, 32, 33,  1]])},\n",
              " {'categorical_features': tensor([[0., 0., 0.,  ..., 0., 0., 0.]]),\n",
              "  'description': tensor([[ 25, 173, 130, 172,   4, 130, 174,   4, 175,  15, 176, 177,  34,   8,\n",
              "             9,   0, 178, 179,  15, 180, 181,  16, 182,  49,  66,  10,  11,  12,\n",
              "           183, 184, 185, 186, 187, 188, 183,  66,  19,  44, 189,   4,  56, 190,\n",
              "           191,  60,  48,  49, 171, 103, 192,  49, 193, 194,  34, 123, 195, 196,\n",
              "            34, 197,  44, 198,  16, 199,  43,  44, 200,  15,  56, 201,  47,  46,\n",
              "           189, 159, 202,  48, 203,  70, 204, 205,  46, 206,  16, 207, 196,  34,\n",
              "           208, 170,  34, 209, 210, 211,  89, 212,  60,  14,  26,  16, 172, 213,\n",
              "            15,  60,  46, 213, 110, 111, 214, 215, 172,  16, 130,  96, 216,  26,\n",
              "            25, 130, 217, 218, 219, 106, 220, 207, 221,  16, 198, 222,  70, 163,\n",
              "           223, 196,  34, 224, 225, 158, 226,  14, 227,  34, 228, 229,  16,  60,\n",
              "            15,  49, 193, 194, 103, 192, 230, 154,  16, 155, 153,  70,  15, 143,\n",
              "           231,  15, 232,  16, 105,  44, 233,  34, 234,  48, 235, 103, 143, 169,\n",
              "            34, 236, 225, 158, 226,  15,  77, 237,  56, 238,  16,  15, 239, 240,\n",
              "            15, 241,  56,  10, 242,  48, 235, 243, 143, 160, 158, 244,  34, 245,\n",
              "           246, 247,  11, 248,  48,  49,  99,  17,  13,  14, 175,  15, 176,  15,\n",
              "           119,  10,  11,  97,  19, 242, 249,  48,  49, 193, 194, 243, 250, 143,\n",
              "           251,  34, 252,  97,  43,  11, 253,  19, 254, 255,  46, 256,  48, 257,\n",
              "            15, 258,  15,  26,  15, 172,  15, 221,  15, 174, 259,  15,  25,  26,\n",
              "            25, 173, 130, 172,   4, 130, 174,   4, 175,  15, 176,   8,   9,   0,\n",
              "           178, 179,  15, 180, 181,  16, 182]]),\n",
              "  'target': tensor([[10.3090]]),\n",
              "  'title': tensor([[ 26,  16, 172,   4]])}]"
            ]
          },
          "metadata": {},
          "execution_count": 12
        }
      ]
    },
    {
      "cell_type": "markdown",
      "metadata": {
        "id": "482f9nzwi30x"
      },
      "source": [
        "### Dividing into train/val"
      ]
    },
    {
      "cell_type": "code",
      "metadata": {
        "id": "3ifhRwQzi9M1"
      },
      "source": [
        "val_size = int(0.1 * len(dataset))\n",
        "train_size = len(dataset) - val_size\n",
        "\n",
        "train_dataset, val_dataset = torch.utils.data.random_split(dataset, \n",
        "                                                          [train_size, val_size],\n",
        "                                                          generator=torch.Generator().manual_seed(42))"
      ],
      "execution_count": null,
      "outputs": []
    },
    {
      "cell_type": "markdown",
      "metadata": {
        "id": "cOuv0FcOj9Bn"
      },
      "source": [
        "### Collator\n",
        "collator is needed for using with RNNs "
      ]
    },
    {
      "cell_type": "code",
      "metadata": {
        "id": "Mqaj1Tl0llXE"
      },
      "source": [
        "from collections import defaultdict\n",
        "from typing import List\n",
        "\n",
        "def collate_fn(dataset_items: List[dict]):\n",
        "    result_batch = defaultdict(list)\n",
        "    for batch in dataset_items:\n",
        "        for feature, data in batch.items():\n",
        "            if feature == 'description':\n",
        "               result_batch[feature + '_length'].append(torch.tensor([data.size(-1)]))\n",
        "            result_batch[feature].append(data.squeeze(0).transpose(0, -1))\n",
        "    # pad\n",
        "    for feature, data in result_batch.items():\n",
        "        result_batch[feature] = nn.utils.rnn.pad_sequence(data, True, token_to_id['PAD'])\n",
        "        if result_batch[feature].size(-1) == 1:\n",
        "            result_batch[feature] = result_batch[feature].squeeze(-1)\n",
        "    return result_batch"
      ],
      "execution_count": null,
      "outputs": []
    },
    {
      "cell_type": "code",
      "metadata": {
        "colab": {
          "base_uri": "https://localhost:8080/"
        },
        "id": "TvdwAq8Oqa-o",
        "outputId": "e4686074-bbfe-4ccb-beef-8675d33a0ec2"
      },
      "source": [
        "collate_fn([dataset[i] for i in range(3)])"
      ],
      "execution_count": null,
      "outputs": [
        {
          "output_type": "execute_result",
          "data": {
            "text/plain": [
              "defaultdict(list,\n",
              "            {'categorical_features': tensor([[0., 0., 0.,  ..., 0., 0., 0.],\n",
              "                     [0., 0., 0.,  ..., 0., 0., 0.],\n",
              "                     [0., 0., 0.,  ..., 0., 0., 0.]]),\n",
              "             'description': tensor([[  2,   3,   4,   5,   6,   7,   8,   9,  10,  11,  12,  13,  14,   5,\n",
              "                       15,   6,  16,  17,  18,  19,   2,   3,   4,  10,  11,  20,  21,  22,\n",
              "                       23,  24,  25,  26,  15,  27,  28,  15,  29,  26,  15,  30,  15,   0,\n",
              "                       15,   0,   2,   3,   4,   5,   6,   7,   8,   9,   1,   1,   1,   1,\n",
              "                        1,   1,   1,   1,   1,   1,   1,   1,   1,   1,   1,   1,   1,   1,\n",
              "                        1,   1,   1,   1,   1,   1,   1,   1,   1,   1,   1,   1,   1,   1,\n",
              "                        1,   1,   1,   1,   1,   1,   1,   1,   1,   1,   1,   1,   1,   1,\n",
              "                        1,   1,   1,   1,   1,   1,   1,   1,   1,   1,   1,   1,   1,   1,\n",
              "                        1,   1,   1,   1,   1,   1,   1,   1,   1,   1,   1,   1,   1,   1,\n",
              "                        1,   1,   1,   1,   1,   1,   1,   1,   1,   1,   1,   1,   1,   1,\n",
              "                        1,   1,   1,   1,   1,   1,   1,   1,   1,   1,   1,   1,   1,   1,\n",
              "                        1,   1,   1,   1,   1,   1,   1,   1,   1,   1,   1,   1,   1,   1,\n",
              "                        1,   1,   1,   1,   1,   1,   1,   1,   1,   1,   1,   1,   1,   1,\n",
              "                        1,   1,   1,   1,   1,   1,   1,   1,   1,   1,   1,   1,   1,   1,\n",
              "                        1,   1,   1,   1,   1,   1,   1,   1,   1,   1,   1,   1,   1,   1,\n",
              "                        1,   1,   1,   1,   1,   1,   1,   1,   1,   1,   1,   1,   1,   1,\n",
              "                        1,   1,   1,   1,   1,   1,   1,   1,   1,   1,   1,   1,   1,   1,\n",
              "                        1,   1,   1,   1,   1,   1,   1,   1,   1,   1,   1,   1,   1,   1,\n",
              "                        1,   1,   1,   1,   1,   1,   1,   1,   1,   1,   1,   1,   1,   1,\n",
              "                        1,   1,   1,   1,   1,   1,   1],\n",
              "                     [ 31,  32,  33,   7,   8,  34,   8,  35,  36,  37,  18,  19,  38,  39,\n",
              "                       34,  40,  10,  41,  33,  42,  43,  44,  45,  46,  47,  48,  49,  50,\n",
              "                       17,  51,  52,  34,  53,  54,   2,  55,  56,  57,  58,  46,  59,  60,\n",
              "                       15,  61,  62,  35,  63,  64,  65,  49,  66,  34,  67,  68,  69,  70,\n",
              "                       34,  71,  53,  72,  73,  34,  10,  74,  75,  15,  76,  77,  78,  16,\n",
              "                       79,  48,  14,  80,  15,  65,  63,  81,  82,  83,  84,  16,  49,  85,\n",
              "                       19,  86,  16,  87,  16,  88,  23,  15,  89,  90,  65,  91,  92,  16,\n",
              "                       93,  84,  34,  94,  95,  96,  97,  14,  98,  99,  15,  14,  96, 100,\n",
              "                       46,  49, 101,  48,  49, 102,  65, 103, 104,  34, 105,  44,  82,   2,\n",
              "                      106,  62, 107, 108,  28, 109, 110, 111, 112,  15, 113,  15, 114,  15,\n",
              "                      115, 116,  56,  93,  60,  14,  44,  88,   2, 117, 118,  34, 109, 119,\n",
              "                      120, 121,  34, 116,  49,  74, 122,  48,  65, 103, 104,  34, 123,  60,\n",
              "                       14,  43, 124, 125,  96, 126,  46,  49, 127, 128, 129, 108, 130,  31,\n",
              "                       28, 131,  31,  28, 109,  57, 132, 116, 133,  16, 134, 135, 136,  28,\n",
              "                      137,  16, 138, 139, 108, 140, 141,  28,  78,  60,  65, 103, 142, 143,\n",
              "                      144,  34, 123,  49, 127, 145, 129,  44, 146, 147,  34, 148, 149,  34,\n",
              "                       44, 150,  46, 151,  88, 152, 146, 153,  70,  15, 154,  16, 155, 156,\n",
              "                      157,  42, 158,  15, 159, 160, 158,  14, 161, 162,  16, 163, 164, 165,\n",
              "                      166, 167, 168,  12, 169,  19, 170, 171,  31,  32,  33,   7,   8,  34,\n",
              "                        8,   1,   1,   1,   1,   1,   1],\n",
              "                     [ 25, 173, 130, 172,   4, 130, 174,   4, 175,  15, 176, 177,  34,   8,\n",
              "                        9,   0, 178, 179,  15, 180, 181,  16, 182,  49,  66,  10,  11,  12,\n",
              "                      183, 184, 185, 186, 187, 188, 183,  66,  19,  44, 189,   4,  56, 190,\n",
              "                      191,  60,  48,  49, 171, 103, 192,  49, 193, 194,  34, 123, 195, 196,\n",
              "                       34, 197,  44, 198,  16, 199,  43,  44, 200,  15,  56, 201,  47,  46,\n",
              "                      189, 159, 202,  48, 203,  70, 204, 205,  46, 206,  16, 207, 196,  34,\n",
              "                      208, 170,  34, 209, 210, 211,  89, 212,  60,  14,  26,  16, 172, 213,\n",
              "                       15,  60,  46, 213, 110, 111, 214, 215, 172,  16, 130,  96, 216,  26,\n",
              "                       25, 130, 217, 218, 219, 106, 220, 207, 221,  16, 198, 222,  70, 163,\n",
              "                      223, 196,  34, 224, 225, 158, 226,  14, 227,  34, 228, 229,  16,  60,\n",
              "                       15,  49, 193, 194, 103, 192, 230, 154,  16, 155, 153,  70,  15, 143,\n",
              "                      231,  15, 232,  16, 105,  44, 233,  34, 234,  48, 235, 103, 143, 169,\n",
              "                       34, 236, 225, 158, 226,  15,  77, 237,  56, 238,  16,  15, 239, 240,\n",
              "                       15, 241,  56,  10, 242,  48, 235, 243, 143, 160, 158, 244,  34, 245,\n",
              "                      246, 247,  11, 248,  48,  49,  99,  17,  13,  14, 175,  15, 176,  15,\n",
              "                      119,  10,  11,  97,  19, 242, 249,  48,  49, 193, 194, 243, 250, 143,\n",
              "                      251,  34, 252,  97,  43,  11, 253,  19, 254, 255,  46, 256,  48, 257,\n",
              "                       15, 258,  15,  26,  15, 172,  15, 221,  15, 174, 259,  15,  25,  26,\n",
              "                       25, 173, 130, 172,   4, 130, 174,   4, 175,  15, 176,   8,   9,   0,\n",
              "                      178, 179,  15, 180, 181,  16, 182]]),\n",
              "             'description_length': tensor([ 52, 267, 273]),\n",
              "             'target': tensor([10.1267, 10.3090, 10.3090]),\n",
              "             'title': tensor([[  2,   3,   4,   1],\n",
              "                     [ 31,  32,  33,   1],\n",
              "                     [ 26,  16, 172,   4]])})"
            ]
          },
          "metadata": {},
          "execution_count": 15
        }
      ]
    },
    {
      "cell_type": "markdown",
      "metadata": {
        "id": "b6dv-Zk-wkYB"
      },
      "source": [
        "### Dataloader"
      ]
    },
    {
      "cell_type": "code",
      "metadata": {
        "id": "KpbaXKo-xqFR"
      },
      "source": [
        "batch_size = 64\n",
        "dataset_dict = {\n",
        "    'train': train_dataset,\n",
        "    'val': val_dataset\n",
        "}"
      ],
      "execution_count": null,
      "outputs": []
    },
    {
      "cell_type": "code",
      "metadata": {
        "colab": {
          "base_uri": "https://localhost:8080/"
        },
        "id": "pByrawlAL-2n",
        "outputId": "d814919d-c079-4cac-cf95-aa7540b306cc"
      },
      "source": [
        "dataloaders_dict = {x: DataLoader(dataset_dict[x], \n",
        "                                  batch_size=batch_size, \n",
        "                                  shuffle=True,\n",
        "                                  collate_fn=collate_fn,\n",
        "                                  num_workers=4,\n",
        "                                  pin_memory=True) \n",
        "                                  for x in dataset_dict.keys()}"
      ],
      "execution_count": null,
      "outputs": [
        {
          "output_type": "stream",
          "name": "stderr",
          "text": [
            "/usr/local/lib/python3.7/dist-packages/torch/utils/data/dataloader.py:481: UserWarning: This DataLoader will create 4 worker processes in total. Our suggested max number of worker in current system is 2, which is smaller than what this DataLoader is going to create. Please be aware that excessive worker creation might get DataLoader running slow or even freeze, lower the worker number to avoid potential slowness/freeze if necessary.\n",
            "  cpuset_checked))\n"
          ]
        }
      ]
    },
    {
      "cell_type": "code",
      "metadata": {
        "colab": {
          "base_uri": "https://localhost:8080/"
        },
        "id": "de5umlhXyJw1",
        "outputId": "46c42e67-1dce-453b-edc6-f32d60779373"
      },
      "source": [
        "# check sizes\n",
        "for i, batch in enumerate(dataloaders_dict['train']):\n",
        "  for feature, val in batch.items():\n",
        "    print(feature,'\\n\\t', val.size())\n",
        "  if i == 2:\n",
        "    break"
      ],
      "execution_count": null,
      "outputs": [
        {
          "output_type": "stream",
          "name": "stderr",
          "text": [
            "/usr/local/lib/python3.7/dist-packages/torch/utils/data/dataloader.py:481: UserWarning: This DataLoader will create 4 worker processes in total. Our suggested max number of worker in current system is 2, which is smaller than what this DataLoader is going to create. Please be aware that excessive worker creation might get DataLoader running slow or even freeze, lower the worker number to avoid potential slowness/freeze if necessary.\n",
            "  cpuset_checked))\n"
          ]
        },
        {
          "output_type": "stream",
          "name": "stdout",
          "text": [
            "title \n",
            "\t torch.Size([64, 4])\n",
            "description_length \n",
            "\t torch.Size([64])\n",
            "description \n",
            "\t torch.Size([64, 834])\n",
            "categorical_features \n",
            "\t torch.Size([64, 3768])\n",
            "target \n",
            "\t torch.Size([64])\n",
            "title \n",
            "\t torch.Size([64, 4])\n",
            "description_length \n",
            "\t torch.Size([64])\n",
            "description \n",
            "\t torch.Size([64, 868])\n",
            "categorical_features \n",
            "\t torch.Size([64, 3768])\n",
            "target \n",
            "\t torch.Size([64])\n",
            "title \n",
            "\t torch.Size([64, 4])\n",
            "description_length \n",
            "\t torch.Size([64])\n",
            "description \n",
            "\t torch.Size([64, 727])\n",
            "categorical_features \n",
            "\t torch.Size([64, 3768])\n",
            "target \n",
            "\t torch.Size([64])\n"
          ]
        }
      ]
    },
    {
      "cell_type": "markdown",
      "metadata": {
        "id": "9RNaMmgM2-fY"
      },
      "source": [
        "## Model itself"
      ]
    },
    {
      "cell_type": "code",
      "metadata": {
        "colab": {
          "base_uri": "https://localhost:8080/"
        },
        "id": "kyBNmAsYf3BI",
        "outputId": "709e86d3-85b1-4271-df10-4bd8c321a455"
      },
      "source": [
        "device = torch.device(\"cuda:0\" if torch.cuda.is_available() else \"cpu\")\n",
        "device"
      ],
      "execution_count": null,
      "outputs": [
        {
          "output_type": "execute_result",
          "data": {
            "text/plain": [
              "device(type='cuda', index=0)"
            ]
          },
          "metadata": {},
          "execution_count": 20
        }
      ]
    },
    {
      "cell_type": "markdown",
      "metadata": {
        "id": "qMbdPdYeYP0Z"
      },
      "source": [
        "### Title"
      ]
    },
    {
      "cell_type": "code",
      "metadata": {
        "id": "7kh2jIXtH-ZF"
      },
      "source": [
        "class GlobalMaxPooling(nn.Module):\n",
        "    def __init__(self, dim=-1):\n",
        "        super(self.__class__, self).__init__()\n",
        "        self.dim = dim\n",
        "        \n",
        "    def forward(self, x):\n",
        "        return x.max(dim=self.dim)[0]"
      ],
      "execution_count": null,
      "outputs": []
    },
    {
      "cell_type": "code",
      "metadata": {
        "id": "-LbnCJ8u_VMI"
      },
      "source": [
        "class TitleEncodingParams:\n",
        "  # embeddings parameters\n",
        "  num_tokens = len(tokens)\n",
        "  embedding_size = 64\n",
        "  PAD_IDX = token_to_id['PAD']\n",
        "\n",
        "  # convolution parameters\n",
        "  seq_len = 4\n",
        "  stride = 1\n",
        "  hidden_size_conv = 32\n",
        "\n",
        "  # dense parameters\n",
        "  hidden_size_dense = 64\n",
        "  out_size = 64"
      ],
      "execution_count": null,
      "outputs": []
    },
    {
      "cell_type": "code",
      "metadata": {
        "id": "LlmC09Xhfvre"
      },
      "source": [
        "class TitleEncoder(nn.Module):\n",
        "    def __init__(self, params):\n",
        "        \"\"\" \n",
        "        Convolutional encoder with two kernel sizes 2, 3, and 4 with linear layer at the end.\n",
        "        Based on \n",
        "        https://aclanthology.org/D14-1181.pdf and https://lena-voita.github.io/nlp_course/models/convolutional.html\n",
        "        \"\"\"\n",
        "        super(TitleEncoder, self).__init__()\n",
        "        \n",
        "        # Embeddings parameters\n",
        "        self.num_tokens = params.num_tokens\n",
        "        self.embedding_size = params.embedding_size\n",
        "        self.PAD_IDX = params.PAD_IDX\n",
        "\n",
        "        # Embedding definition\n",
        "        self.emb = nn.Embedding(self.num_tokens, self.embedding_size, padding_idx=self.PAD_IDX)\n",
        "\n",
        "        # Convolution parameters\n",
        "        self.kernel1 = 2\n",
        "        self.kernel2 = 3\n",
        "        self.kernel3 = 4\n",
        "        # self.kernel4 = 5\n",
        "        self.stride = params.stride\n",
        "        self.hidden_size_1 = params.hidden_size_conv\n",
        "        self.seq_len = params.seq_len\n",
        "\n",
        "        # Convolution definition\n",
        "        self.conv1 = nn.Conv1d(self.embedding_size, self.hidden_size_1, self.kernel1, self.stride)\n",
        "        self.conv2 = nn.Conv1d(self.embedding_size, self.hidden_size_1, self.kernel2, self.stride)\n",
        "        self.conv3 = nn.Conv1d(self.embedding_size, self.hidden_size_1, self.kernel3, self.stride)\n",
        "\n",
        "        # Global Max pooling definition\n",
        "        self.pool1 = GlobalMaxPooling()        \n",
        "        self.pool2 = GlobalMaxPooling()        \n",
        "        self.pool3 = GlobalMaxPooling()        \n",
        "        # self.pool4 = GlobalMaxPooling()        \n",
        "\n",
        "        # FC parameters\n",
        "        self.hidden_size_2 = params.hidden_size_dense\n",
        "        self.out_size = params.out_size\n",
        "\n",
        "        # FC definition\n",
        "        self.fc1 = nn.Linear(self.hidden_size_1*3, self.hidden_size_2)\n",
        "        self.out = nn.Linear(self.hidden_size_2, self.out_size)\n",
        "\n",
        "        # Additional functions\n",
        "        # self.dropout = nn.Dropout(0.2)\n",
        "        # self.bn = nn.BatchNorm1d(self.hidden_size_2)\n",
        "\n",
        "\n",
        "    def forward(self, text_ix):\n",
        "      x1 = self.emb(text_ix)\n",
        "      x1 = torch.transpose(x1, 1, 2)\n",
        "      x1 = self.pool1(self.conv1(x1))\n",
        "      x1 = F.relu(x1)\n",
        "\n",
        "      x2 = self.emb(text_ix)\n",
        "      x2 = torch.transpose(x2, 1, 2)\n",
        "      x2 = self.pool2(self.conv2(x2))\n",
        "      x2 = F.relu(x2)\n",
        "\n",
        "      x3 = self.emb(text_ix)\n",
        "      x3 = torch.transpose(x3, 1, 2)\n",
        "      x3 = self.pool3(self.conv3(x3))\n",
        "      x3 = F.relu(x3)\n",
        "\n",
        "      # x4 = self.emb(text_ix)\n",
        "      # x4 = self.pool4(self.conv4(x4))\n",
        "      # x4 = F.relu(x4)\n",
        "\n",
        "      x = torch.cat([x1, x2, x3], 1)\n",
        "\n",
        "      x = F.relu(self.fc1(x))\n",
        "\n",
        "      x = self.out(x)\n",
        "\n",
        "      return x"
      ],
      "execution_count": null,
      "outputs": []
    },
    {
      "cell_type": "code",
      "metadata": {
        "colab": {
          "base_uri": "https://localhost:8080/"
        },
        "id": "Jaw7VKbhf_07",
        "outputId": "de8f0898-badf-4c83-d3fc-ad2b5fd44f20"
      },
      "source": [
        "title_encoder = TitleEncoder(TitleEncodingParams)\n",
        "dummy_x = next(iter(dataloaders_dict['train']))['title']\n",
        "dummy_v = title_encoder(dummy_x)\n",
        "\n",
        "print(dummy_v.shape)\n",
        "\n",
        "del title_encoder\n",
        "print(\"Seems fine\")"
      ],
      "execution_count": null,
      "outputs": [
        {
          "output_type": "stream",
          "name": "stderr",
          "text": [
            "/usr/local/lib/python3.7/dist-packages/torch/utils/data/dataloader.py:481: UserWarning: This DataLoader will create 4 worker processes in total. Our suggested max number of worker in current system is 2, which is smaller than what this DataLoader is going to create. Please be aware that excessive worker creation might get DataLoader running slow or even freeze, lower the worker number to avoid potential slowness/freeze if necessary.\n",
            "  cpuset_checked))\n"
          ]
        },
        {
          "output_type": "stream",
          "name": "stdout",
          "text": [
            "torch.Size([64, 64])\n",
            "Seems fine\n"
          ]
        }
      ]
    },
    {
      "cell_type": "markdown",
      "metadata": {
        "id": "86geODxCYLZg"
      },
      "source": [
        "### Description"
      ]
    },
    {
      "cell_type": "code",
      "metadata": {
        "id": "KiJG_AszyGva"
      },
      "source": [
        "class DescEncodingParams:\n",
        "  # embeddings parameters\n",
        "  num_tokens = len(tokens)\n",
        "  embedding_size = 64\n",
        "  PAD_IDX = token_to_id['PAD']\n",
        "\n",
        "  # rnn parameters\n",
        "  batch_size = batch_size\n",
        "  hidden_size = 128\n",
        "  n_layers = 2\n",
        "  bidir = False\n",
        "\n",
        "  # convolution parameters\n",
        "  seq_len = 200\n",
        "  stride = 1\n",
        "  hidden_size_conv = 64\n",
        "  kernel_size = 1\n",
        "  \n",
        "  # dense parameters\n",
        "  hidden_size_dense = 64\n",
        "  out_size = 64"
      ],
      "execution_count": null,
      "outputs": []
    },
    {
      "cell_type": "code",
      "metadata": {
        "id": "47Og_mE0ZyMK"
      },
      "source": [
        "class DescEncoder(nn.Module):\n",
        "  def __init__(self, params):\n",
        "    super(DescEncoder, self).__init__()\n",
        "\n",
        "    # Embeddings parameters\n",
        "    self.num_tokens = params.num_tokens\n",
        "    self.embedding_size = params.embedding_size\n",
        "    self.PAD_IDX = params.PAD_IDX\n",
        "\n",
        "    # Embedding definition\n",
        "    self.emb = nn.Embedding(self.num_tokens, \n",
        "                            self.embedding_size, \n",
        "                            padding_idx=self.PAD_IDX)\n",
        "\n",
        "    # LSTM parameters\n",
        "    self.hidden_size = params.hidden_size\n",
        "    self.n_layers = params.n_layers\n",
        "    self.bidir = params.bidir\n",
        "    # LSTM definition\n",
        "    self.lstm = nn.LSTM(self.embedding_size, \n",
        "                        self.hidden_size, \n",
        "                        self.n_layers, \n",
        "                        batch_first=True, \n",
        "                        bidirectional=self.bidir)\n",
        "    \n",
        "    self.pool = GlobalMaxPooling()   \n",
        "\n",
        "    # Convolution parameters\n",
        "    self.kernel = params.kernel_size\n",
        "    self.stride = params.stride\n",
        "    self.hidden_size_conv = params.hidden_size_conv\n",
        "    self.seq_len = params.seq_len\n",
        "    self.batch_size = params.batch_size\n",
        "\n",
        "    # Convolution definition\n",
        "    self.conv1 = nn.Conv1d(self.hidden_size, self.hidden_size_conv, self.kernel, self.stride)\n",
        "\n",
        "    # FC parameters\n",
        "    self.out_size = params.out_size\n",
        "    # FC definition\n",
        "    self.out = nn.Linear(self.hidden_size_conv, self.out_size)\n",
        "\n",
        "  def forward(self, x, lengths):\n",
        "    x = self.emb(x)\n",
        "    x_packed = torch.nn.utils.rnn.pack_padded_sequence(x, lengths=lengths.cpu(), batch_first=True, enforce_sorted=False)\n",
        "    x_packed, (fhs, fcs) = self.lstm(x_packed)\n",
        "    x, _ = torch.nn.utils.rnn.pad_packed_sequence(x_packed)\n",
        "    x = x.permute(1, 2, 0)\n",
        "    x = self.pool(self.conv1(x))\n",
        "    x = self.out(x)\n",
        "    return x"
      ],
      "execution_count": null,
      "outputs": []
    },
    {
      "cell_type": "code",
      "metadata": {
        "colab": {
          "base_uri": "https://localhost:8080/"
        },
        "id": "p5_AoExMYQ37",
        "outputId": "ccb22550-f90a-4a27-a457-d7c3a4d3ced7"
      },
      "source": [
        "desc_encoder = DescEncoder(DescEncodingParams)\n",
        "dummy_x = batch['description']\n",
        "dummy_y = batch['description_length']\n",
        "dummy_v = desc_encoder(dummy_x, dummy_y)\n",
        "print(dummy_v.shape)\n",
        "del desc_encoder"
      ],
      "execution_count": null,
      "outputs": [
        {
          "output_type": "stream",
          "name": "stdout",
          "text": [
            "torch.Size([64, 64])\n"
          ]
        }
      ]
    },
    {
      "cell_type": "markdown",
      "metadata": {
        "id": "RWbn4troYUiQ"
      },
      "source": [
        "### Alltogether"
      ]
    },
    {
      "cell_type": "code",
      "metadata": {
        "id": "ebLiSEShYVgJ"
      },
      "source": [
        "class FullNetwork(nn.Module):\n",
        "    \"\"\"\n",
        "    This class does all the steps from (title, desc, categorical) features -> predicted target\n",
        "    It unites title & desc encoders you defined above as long as some layers for head and categorical branch.\n",
        "    \"\"\"\n",
        "    \n",
        "    def __init__(self, DescParams, TitleParams, n_cat_features=len(categorical_vectorizer.vocabulary_)):\n",
        "        super(self.__class__, self).__init__()\n",
        "        \n",
        "        self.title_encoder = TitleEncoder(TitleParams)\n",
        "        self.desc_encoder = DescEncoder(DescParams)\n",
        "        assert DescParams.out_size == TitleParams.out_size\n",
        "        self.cat_encoder = nn.Sequential(\n",
        "                              nn.Linear(n_cat_features, 256),\n",
        "                              nn.ReLU(),\n",
        "                              nn.Linear(256, 256),\n",
        "                              nn.ReLU(),\n",
        "                              nn.Linear(256, DescParams.out_size)\n",
        "                              )\n",
        "        \n",
        "        # define \"output\" layers that process depend the three encoded vectors into answer\n",
        "        self.out = nn.Sequential(nn.Linear(DescParams.out_size * 3, 128),\n",
        "                                 nn.BatchNorm1d(128),\n",
        "                                 nn.ReLU(),\n",
        "                                 nn.Dropout(0.2),\n",
        "                                 nn.Linear(128, 64),\n",
        "                                 nn.BatchNorm1d(64),\n",
        "                                 nn.ReLU(),\n",
        "                                 nn.Linear(64, 1))\n",
        "  \n",
        "        \n",
        "    def forward(self, title_ix, desc_ix, desc_len, cat_features):\n",
        "        \"\"\"\n",
        "        :param title_ix: int32 Variable [batch, title_len], job titles encoded by as_matrix\n",
        "        :param desc_ix:  int32 Variable [batch, desc_len] , job descriptions encoded by as_matrix\n",
        "        :param cat_features: float32 Variable [batch, n_cat_features]\n",
        "        :returns: float32 Variable 1d [batch], predicted log1p-salary\n",
        "        \"\"\"\n",
        "        \n",
        "        title_h = self.title_encoder(title_ix)\n",
        "        desc_h = self.desc_encoder(desc_ix, desc_len)\n",
        "        cat_h = self.cat_encoder(cat_features)\n",
        "        \n",
        "        joint_h = torch.cat([title_h, desc_h, cat_h], dim=1)\n",
        "        \n",
        "        out = self.out(joint_h)\n",
        "        \n",
        "        return out[:, 0]\n",
        "    \n",
        "    def count_parameters(self):\n",
        "      temp = sum(p.numel() for p in self.parameters() if p.requires_grad)\n",
        "      print(f'The model architecture:\\n\\n', self)\n",
        "      print(f'\\nThe model has {temp:,} trainable parameters')"
      ],
      "execution_count": null,
      "outputs": []
    },
    {
      "cell_type": "code",
      "metadata": {
        "colab": {
          "base_uri": "https://localhost:8080/"
        },
        "id": "K3GUV8EZ3js6",
        "outputId": "270a4c4c-ca2c-4cef-9e40-8659e35540ec"
      },
      "source": [
        "model = FullNetwork(DescEncodingParams, TitleEncodingParams)\n",
        "model = model.to(device)\n",
        "model.count_parameters()"
      ],
      "execution_count": null,
      "outputs": [
        {
          "output_type": "stream",
          "name": "stdout",
          "text": [
            "The model architecture:\n",
            "\n",
            " FullNetwork(\n",
            "  (title_encoder): TitleEncoder(\n",
            "    (emb): Embedding(34158, 64, padding_idx=1)\n",
            "    (conv1): Conv1d(64, 32, kernel_size=(2,), stride=(1,))\n",
            "    (conv2): Conv1d(64, 32, kernel_size=(3,), stride=(1,))\n",
            "    (conv3): Conv1d(64, 32, kernel_size=(4,), stride=(1,))\n",
            "    (pool1): GlobalMaxPooling()\n",
            "    (pool2): GlobalMaxPooling()\n",
            "    (pool3): GlobalMaxPooling()\n",
            "    (fc1): Linear(in_features=96, out_features=64, bias=True)\n",
            "    (out): Linear(in_features=64, out_features=64, bias=True)\n",
            "  )\n",
            "  (desc_encoder): DescEncoder(\n",
            "    (emb): Embedding(34158, 64, padding_idx=1)\n",
            "    (lstm): LSTM(64, 128, num_layers=2, batch_first=True)\n",
            "    (pool): GlobalMaxPooling()\n",
            "    (conv1): Conv1d(128, 64, kernel_size=(1,), stride=(1,))\n",
            "    (out): Linear(in_features=64, out_features=64, bias=True)\n",
            "  )\n",
            "  (cat_encoder): Sequential(\n",
            "    (0): Linear(in_features=3768, out_features=256, bias=True)\n",
            "    (1): ReLU()\n",
            "    (2): Linear(in_features=256, out_features=256, bias=True)\n",
            "    (3): ReLU()\n",
            "    (4): Linear(in_features=256, out_features=64, bias=True)\n",
            "  )\n",
            "  (out): Sequential(\n",
            "    (0): Linear(in_features=192, out_features=128, bias=True)\n",
            "    (1): BatchNorm1d(128, eps=1e-05, momentum=0.1, affine=True, track_running_stats=True)\n",
            "    (2): ReLU()\n",
            "    (3): Dropout(p=0.2, inplace=False)\n",
            "    (4): Linear(in_features=128, out_features=64, bias=True)\n",
            "    (5): BatchNorm1d(64, eps=1e-05, momentum=0.1, affine=True, track_running_stats=True)\n",
            "    (6): ReLU()\n",
            "    (7): Linear(in_features=64, out_features=1, bias=True)\n",
            "  )\n",
            ")\n",
            "\n",
            "The model has 5,725,473 trainable parameters\n"
          ]
        }
      ]
    },
    {
      "cell_type": "markdown",
      "metadata": {
        "id": "P7HfSvUraq9o"
      },
      "source": [
        "## Train"
      ]
    },
    {
      "cell_type": "markdown",
      "metadata": {
        "id": "NOnzq_3h-bb1"
      },
      "source": [
        "Supplementary functions"
      ]
    },
    {
      "cell_type": "code",
      "metadata": {
        "id": "VoezBffu2Bgb"
      },
      "source": [
        "def compute_mae(reference, prediction):\n",
        "    \"\"\" Compute MAE on actual salary, assuming your model outputs log1p(salary)\"\"\"\n",
        "    return torch.abs(torch.exp(reference - 1) - torch.exp(prediction - 1)).mean()"
      ],
      "execution_count": null,
      "outputs": []
    },
    {
      "cell_type": "code",
      "metadata": {
        "id": "LO9OxmTf_pxK"
      },
      "source": [
        "def save_checkpoint(model, optimizer, epoch, val_loss, save_path='model1.pt'):\n",
        "    state_dict = {'epoch':epoch,\n",
        "                  'model_state_dict': model.state_dict(),\n",
        "                  'optimizer_state_dict': optimizer.state_dict(),\n",
        "                  'loss': val_loss}\n",
        "\n",
        "    torch.save(state_dict, save_path)\n",
        "\n",
        "    print(f'Model saved to ==> {save_path}')"
      ],
      "execution_count": null,
      "outputs": []
    },
    {
      "cell_type": "code",
      "metadata": {
        "id": "3kyVfuHi-azv"
      },
      "source": [
        "def plot_stats(scores, losses):\n",
        "  fig, (ax1, ax2) = plt.subplots(1, 2, figsize=(5*2, 5))\n",
        "  ax1.plot(losses)\n",
        "  ax2.plot(scores)\n",
        "  ax1.set_title('Losses curve')\n",
        "  ax2.set_title('Score curve')\n",
        "  ax1.grid()\n",
        "  ax2.grid()\n",
        "  plt.show()"
      ],
      "execution_count": null,
      "outputs": []
    },
    {
      "cell_type": "code",
      "metadata": {
        "id": "cHcVh-z0asDr"
      },
      "source": [
        "def train(model, \n",
        "          criterion, \n",
        "          dataloaders, \n",
        "          optimizer, \n",
        "          num_epochs=20, \n",
        "          early_stop = 5,\n",
        "          scheduler=None):\n",
        "    since = time.time()\n",
        "\n",
        "    min_mae = float(\"inf\")\n",
        "    early_stop_counter = 0\n",
        "    val_mae_history = []\n",
        "    val_loss_history = []\n",
        "\n",
        "    best_model_wts = deepcopy(model.state_dict())\n",
        "\n",
        "    for epoch in range(num_epochs):\n",
        "        print('Epoch {}/{}'.format(epoch+1, num_epochs))\n",
        "        print('-' * 10)\n",
        "\n",
        "        for phase in ['train', 'val']:\n",
        "            if phase == 'train':\n",
        "              model.train()\n",
        "            else:\n",
        "              model.eval()\n",
        "            \n",
        "            running_loss = 0.0\n",
        "            running_mae = 0.0\n",
        "\n",
        "            for batch in tqdm.tqdm(dataloaders_dict[phase]):\n",
        "                title = batch['title'].to(device)\n",
        "                desc = batch['description'].to(device)\n",
        "                desc_len = batch['description_length'].to(device)\n",
        "                cats = batch['categorical_features'].to(device)\n",
        "                target = batch['target'].to(device)\n",
        "\n",
        "                optimizer.zero_grad()\n",
        "\n",
        "                with torch.set_grad_enabled(phase == 'train'):\n",
        "                    output = model(title, desc, desc_len, cats)\n",
        "                    loss = criterion(output, target)\n",
        "\n",
        "                    if phase == 'train':\n",
        "                        loss.backward()\n",
        "                        optimizer.step()\n",
        "\n",
        "                running_loss += loss.item()\n",
        "                running_mae += compute_mae(output, target).item()\n",
        "            epoch_loss = running_loss / len(dataloaders_dict[phase])\n",
        "            epoch_mae = running_mae / len(dataloaders_dict[phase])\n",
        "\n",
        "            print('{} Loss: {:.4f} MAE: {:.4f}'.format(phase, epoch_loss, epoch_mae))\n",
        "\n",
        "            # deep copy the model if it is good\n",
        "            if phase == 'val':\n",
        "                if epoch_mae < min_mae:\n",
        "                    best_model_wts = deepcopy(model.state_dict())\n",
        "                    min_mae = epoch_mae\n",
        "                    # saving best model to local\n",
        "                    save_checkpoint(model, optimizer, epoch, epoch_loss)\n",
        "                    early_stop_counter = 0\n",
        "                else:\n",
        "                    early_stop_counter += 1\n",
        "                val_mae_history.append(epoch_mae)\n",
        "                val_loss_history.append(epoch_loss)\n",
        "        plot_stats(val_mae_history, val_loss_history)\n",
        "\n",
        "        # scheduler\n",
        "        if scheduler is not None:\n",
        "          scheduler.step(epoch_loss)\n",
        "          \n",
        "        # early stop\n",
        "        if early_stop_counter == early_stop:\n",
        "          print('Oops, early stop! Exiting...\\n')\n",
        "          break\n",
        "\n",
        "\n",
        "    time_elapsed = time.time() - since\n",
        "    print('Training complete in {:.0f}m {:.0f}s'.format(time_elapsed // 60, time_elapsed % 60))\n",
        "    print('Best val MAE: {:4f}'.format(min(val_mae_history)))\n",
        "\n",
        "    # load best model weights\n",
        "    model.load_state_dict(best_model_wts)\n",
        "    return model, val_mae_history, val_loss_history"
      ],
      "execution_count": null,
      "outputs": []
    },
    {
      "cell_type": "code",
      "metadata": {
        "id": "JLvoC3PW47oJ"
      },
      "source": [
        "criterion = nn.MSELoss()\n",
        "num_epochs = 30\n",
        "learning_rate = 0.001\n",
        "wd = 0.001\n",
        "early_stop = 5\n",
        "optimizer = torch.optim.Adam(model.parameters(), lr=learning_rate, weight_decay=wd)\n",
        "sched = ReduceLROnPlateau(optimizer, 'min', patience=3)"
      ],
      "execution_count": null,
      "outputs": []
    },
    {
      "cell_type": "code",
      "metadata": {
        "colab": {
          "base_uri": "https://localhost:8080/",
          "height": 1000
        },
        "id": "IyapIg0I53Dc",
        "outputId": "0279486a-daa4-4ce4-9da2-c8f0162f6aee"
      },
      "source": [
        "model, maes, losses = train(model, \n",
        "                            criterion, \n",
        "                            dataloaders_dict, \n",
        "                            optimizer, \n",
        "                            num_epochs, \n",
        "                            early_stop,\n",
        "                            scheduler=sched)"
      ],
      "execution_count": null,
      "outputs": [
        {
          "output_type": "stream",
          "name": "stdout",
          "text": [
            "Epoch 1/30\n",
            "----------\n"
          ]
        },
        {
          "output_type": "stream",
          "name": "stderr",
          "text": [
            "\r  0%|          | 0/3443 [00:00<?, ?it/s]/usr/local/lib/python3.7/dist-packages/torch/utils/data/dataloader.py:481: UserWarning: This DataLoader will create 4 worker processes in total. Our suggested max number of worker in current system is 2, which is smaller than what this DataLoader is going to create. Please be aware that excessive worker creation might get DataLoader running slow or even freeze, lower the worker number to avoid potential slowness/freeze if necessary.\n",
            "  cpuset_checked))\n",
            "100%|██████████| 3443/3443 [12:18<00:00,  4.67it/s]\n"
          ]
        },
        {
          "output_type": "stream",
          "name": "stdout",
          "text": [
            "train Loss: 3.3737 MAE: 4892.0882\n"
          ]
        },
        {
          "output_type": "stream",
          "name": "stderr",
          "text": [
            "100%|██████████| 383/383 [00:40<00:00,  9.40it/s]\n"
          ]
        },
        {
          "output_type": "stream",
          "name": "stdout",
          "text": [
            "val Loss: 0.2112 MAE: 4383.5892\n",
            "Model saved to ==> model1.pt\n"
          ]
        },
        {
          "output_type": "display_data",
          "data": {
            "image/png": "[encoded data removed]",
            "text/plain": [
              "<Figure size 720x360 with 2 Axes>"
            ]
          },
          "metadata": {
            "needs_background": "light"
          }
        },
        {
          "output_type": "stream",
          "name": "stdout",
          "text": [
            "Epoch 2/30\n",
            "----------\n"
          ]
        },
        {
          "output_type": "stream",
          "name": "stderr",
          "text": [
            "100%|██████████| 3443/3443 [12:20<00:00,  4.65it/s]\n"
          ]
        },
        {
          "output_type": "stream",
          "name": "stdout",
          "text": [
            "train Loss: 0.1332 MAE: 3500.9416\n"
          ]
        },
        {
          "output_type": "stream",
          "name": "stderr",
          "text": [
            "100%|██████████| 383/383 [00:40<00:00,  9.47it/s]\n"
          ]
        },
        {
          "output_type": "stream",
          "name": "stdout",
          "text": [
            "val Loss: 0.6934 MAE: 7155.9019\n"
          ]
        },
        {
          "output_type": "display_data",
          "data": {
            "image/png": "[encoded data removed]",
            "text/plain": [
              "<Figure size 720x360 with 2 Axes>"
            ]
          },
          "metadata": {
            "needs_background": "light"
          }
        },
        {
          "output_type": "stream",
          "name": "stdout",
          "text": [
            "Epoch 3/30\n",
            "----------\n"
          ]
        },
        {
          "output_type": "stream",
          "name": "stderr",
          "text": [
            "100%|██████████| 3443/3443 [12:24<00:00,  4.63it/s]\n"
          ]
        },
        {
          "output_type": "stream",
          "name": "stdout",
          "text": [
            "train Loss: 0.1156 MAE: 3269.2209\n"
          ]
        },
        {
          "output_type": "stream",
          "name": "stderr",
          "text": [
            "100%|██████████| 383/383 [00:40<00:00,  9.40it/s]\n"
          ]
        },
        {
          "output_type": "stream",
          "name": "stdout",
          "text": [
            "val Loss: 0.1820 MAE: 3987.3067\n",
            "Model saved to ==> model1.pt\n"
          ]
        },
        {
          "output_type": "display_data",
          "data": {
            "image/png": "[encoded data removed]",
            "text/plain": [
              "<Figure size 720x360 with 2 Axes>"
            ]
          },
          "metadata": {
            "needs_background": "light"
          }
        },
        {
          "output_type": "stream",
          "name": "stdout",
          "text": [
            "Epoch 4/30\n",
            "----------\n"
          ]
        },
        {
          "output_type": "stream",
          "name": "stderr",
          "text": [
            "100%|██████████| 3443/3443 [12:25<00:00,  4.62it/s]\n"
          ]
        },
        {
          "output_type": "stream",
          "name": "stdout",
          "text": [
            "train Loss: 0.1071 MAE: 3139.6199\n"
          ]
        },
        {
          "output_type": "stream",
          "name": "stderr",
          "text": [
            "100%|██████████| 383/383 [00:40<00:00,  9.42it/s]\n"
          ]
        },
        {
          "output_type": "stream",
          "name": "stdout",
          "text": [
            "val Loss: 0.1125 MAE: 3269.4845\n",
            "Model saved to ==> model1.pt\n"
          ]
        },
        {
          "output_type": "display_data",
          "data": {
            "image/png": "[encoded data removed]",
            "text/plain": [
              "<Figure size 720x360 with 2 Axes>"
            ]
          },
          "metadata": {
            "needs_background": "light"
          }
        },
        {
          "output_type": "stream",
          "name": "stdout",
          "text": [
            "Epoch 5/30\n",
            "----------\n"
          ]
        },
        {
          "output_type": "stream",
          "name": "stderr",
          "text": [
            "100%|██████████| 3443/3443 [12:28<00:00,  4.60it/s]\n"
          ]
        },
        {
          "output_type": "stream",
          "name": "stdout",
          "text": [
            "train Loss: 0.1026 MAE: 3078.5660\n"
          ]
        },
        {
          "output_type": "stream",
          "name": "stderr",
          "text": [
            "100%|██████████| 383/383 [00:40<00:00,  9.35it/s]\n"
          ]
        },
        {
          "output_type": "stream",
          "name": "stdout",
          "text": [
            "val Loss: 0.1385 MAE: 3569.1429\n"
          ]
        },
        {
          "output_type": "display_data",
          "data": {
            "image/png": "[encoded data removed]",
            "text/plain": [
              "<Figure size 720x360 with 2 Axes>"
            ]
          },
          "metadata": {
            "needs_background": "light"
          }
        },
        {
          "output_type": "stream",
          "name": "stdout",
          "text": [
            "Epoch 6/30\n",
            "----------\n"
          ]
        },
        {
          "output_type": "stream",
          "name": "stderr",
          "text": [
            "100%|██████████| 3443/3443 [12:26<00:00,  4.61it/s]\n"
          ]
        },
        {
          "output_type": "stream",
          "name": "stdout",
          "text": [
            "train Loss: 0.0969 MAE: 2985.8169\n"
          ]
        },
        {
          "output_type": "stream",
          "name": "stderr",
          "text": [
            "100%|██████████| 383/383 [00:41<00:00,  9.21it/s]\n"
          ]
        },
        {
          "output_type": "stream",
          "name": "stdout",
          "text": [
            "val Loss: 0.1930 MAE: 4129.6949\n"
          ]
        },
        {
          "output_type": "display_data",
          "data": {
            "image/png": "[encoded data removed]",
            "text/plain": [
              "<Figure size 720x360 with 2 Axes>"
            ]
          },
          "metadata": {
            "needs_background": "light"
          }
        },
        {
          "output_type": "stream",
          "name": "stdout",
          "text": [
            "Epoch 7/30\n",
            "----------\n"
          ]
        },
        {
          "output_type": "stream",
          "name": "stderr",
          "text": [
            "100%|██████████| 3443/3443 [12:25<00:00,  4.62it/s]\n"
          ]
        },
        {
          "output_type": "stream",
          "name": "stdout",
          "text": [
            "train Loss: 0.0945 MAE: 2942.3461\n"
          ]
        },
        {
          "output_type": "stream",
          "name": "stderr",
          "text": [
            "100%|██████████| 383/383 [00:41<00:00,  9.21it/s]\n"
          ]
        },
        {
          "output_type": "stream",
          "name": "stdout",
          "text": [
            "val Loss: 0.1202 MAE: 3280.3122\n"
          ]
        },
        {
          "output_type": "display_data",
          "data": {
            "image/png": "[encoded data removed]",
            "text/plain": [
              "<Figure size 720x360 with 2 Axes>"
            ]
          },
          "metadata": {
            "needs_background": "light"
          }
        },
        {
          "output_type": "stream",
          "name": "stdout",
          "text": [
            "Epoch 8/30\n",
            "----------\n"
          ]
        },
        {
          "output_type": "stream",
          "name": "stderr",
          "text": [
            "100%|██████████| 3443/3443 [12:25<00:00,  4.62it/s]\n"
          ]
        },
        {
          "output_type": "stream",
          "name": "stdout",
          "text": [
            "train Loss: 0.0922 MAE: 2905.4696\n"
          ]
        },
        {
          "output_type": "stream",
          "name": "stderr",
          "text": [
            "100%|██████████| 383/383 [00:43<00:00,  8.90it/s]\n"
          ]
        },
        {
          "output_type": "stream",
          "name": "stdout",
          "text": [
            "val Loss: 0.0808 MAE: 2720.6702\n",
            "Model saved to ==> model1.pt\n"
          ]
        },
        {
          "output_type": "display_data",
          "data": {
            "image/png": "[encoded data removed]",
            "text/plain": [
              "<Figure size 720x360 with 2 Axes>"
            ]
          },
          "metadata": {
            "needs_background": "light"
          }
        },
        {
          "output_type": "stream",
          "name": "stdout",
          "text": [
            "Epoch 9/30\n",
            "----------\n"
          ]
        },
        {
          "output_type": "stream",
          "name": "stderr",
          "text": [
            "100%|██████████| 3443/3443 [12:28<00:00,  4.60it/s]\n"
          ]
        },
        {
          "output_type": "stream",
          "name": "stdout",
          "text": [
            "train Loss: 0.0902 MAE: 2864.8349\n"
          ]
        },
        {
          "output_type": "stream",
          "name": "stderr",
          "text": [
            "100%|██████████| 383/383 [00:42<00:00,  8.91it/s]\n"
          ]
        },
        {
          "output_type": "stream",
          "name": "stdout",
          "text": [
            "val Loss: 0.0948 MAE: 2971.7337\n"
          ]
        },
        {
          "output_type": "display_data",
          "data": {
            "image/png": "[encoded data removed]",
            "text/plain": [
              "<Figure size 720x360 with 2 Axes>"
            ]
          },
          "metadata": {
            "needs_background": "light"
          }
        },
        {
          "output_type": "stream",
          "name": "stdout",
          "text": [
            "Epoch 10/30\n",
            "----------\n"
          ]
        },
        {
          "output_type": "stream",
          "name": "stderr",
          "text": [
            "100%|██████████| 3443/3443 [12:32<00:00,  4.57it/s]\n"
          ]
        },
        {
          "output_type": "stream",
          "name": "stdout",
          "text": [
            "train Loss: 0.0889 MAE: 2844.5244\n"
          ]
        },
        {
          "output_type": "stream",
          "name": "stderr",
          "text": [
            "100%|██████████| 383/383 [00:43<00:00,  8.83it/s]\n"
          ]
        },
        {
          "output_type": "stream",
          "name": "stdout",
          "text": [
            "val Loss: 0.0964 MAE: 3010.5152\n"
          ]
        },
        {
          "output_type": "display_data",
          "data": {
            "image/png": "[encoded data removed]",
            "text/plain": [
              "<Figure size 720x360 with 2 Axes>"
            ]
          },
          "metadata": {
            "needs_background": "light"
          }
        },
        {
          "output_type": "stream",
          "name": "stdout",
          "text": [
            "Epoch 11/30\n",
            "----------\n"
          ]
        },
        {
          "output_type": "stream",
          "name": "stderr",
          "text": [
            "100%|██████████| 3443/3443 [12:32<00:00,  4.57it/s]\n"
          ]
        },
        {
          "output_type": "stream",
          "name": "stdout",
          "text": [
            "train Loss: 0.0866 MAE: 2795.7797\n"
          ]
        },
        {
          "output_type": "stream",
          "name": "stderr",
          "text": [
            "100%|██████████| 383/383 [00:43<00:00,  8.76it/s]\n"
          ]
        },
        {
          "output_type": "stream",
          "name": "stdout",
          "text": [
            "val Loss: 0.0885 MAE: 2889.5870\n"
          ]
        },
        {
          "output_type": "display_data",
          "data": {
            "image/png": "[encoded data removed]",
            "text/plain": [
              "<Figure size 720x360 with 2 Axes>"
            ]
          },
          "metadata": {
            "needs_background": "light"
          }
        },
        {
          "output_type": "stream",
          "name": "stdout",
          "text": [
            "Epoch 12/30\n",
            "----------\n"
          ]
        },
        {
          "output_type": "stream",
          "name": "stderr",
          "text": [
            "100%|██████████| 3443/3443 [12:32<00:00,  4.57it/s]\n"
          ]
        },
        {
          "output_type": "stream",
          "name": "stdout",
          "text": [
            "train Loss: 0.0855 MAE: 2776.7813\n"
          ]
        },
        {
          "output_type": "stream",
          "name": "stderr",
          "text": [
            "100%|██████████| 383/383 [00:44<00:00,  8.67it/s]\n"
          ]
        },
        {
          "output_type": "stream",
          "name": "stdout",
          "text": [
            "val Loss: 0.0829 MAE: 2781.1127\n"
          ]
        },
        {
          "output_type": "display_data",
          "data": {
            "image/png": "[encoded data removed]",
            "text/plain": [
              "<Figure size 720x360 with 2 Axes>"
            ]
          },
          "metadata": {
            "needs_background": "light"
          }
        },
        {
          "output_type": "stream",
          "name": "stdout",
          "text": [
            "Epoch 13/30\n",
            "----------\n"
          ]
        },
        {
          "output_type": "stream",
          "name": "stderr",
          "text": [
            "100%|██████████| 3443/3443 [12:34<00:00,  4.56it/s]\n"
          ]
        },
        {
          "output_type": "stream",
          "name": "stdout",
          "text": [
            "train Loss: 0.0736 MAE: 2559.9717\n"
          ]
        },
        {
          "output_type": "stream",
          "name": "stderr",
          "text": [
            "100%|██████████| 383/383 [00:44<00:00,  8.69it/s]\n"
          ]
        },
        {
          "output_type": "stream",
          "name": "stdout",
          "text": [
            "val Loss: 0.0725 MAE: 2532.7792\n",
            "Model saved to ==> model1.pt\n"
          ]
        },
        {
          "output_type": "display_data",
          "data": {
            "image/png": "[encoded data removed]",
            "text/plain": [
              "<Figure size 720x360 with 2 Axes>"
            ]
          },
          "metadata": {
            "needs_background": "light"
          }
        },
        {
          "output_type": "stream",
          "name": "stdout",
          "text": [
            "Epoch 14/30\n",
            "----------\n"
          ]
        },
        {
          "output_type": "stream",
          "name": "stderr",
          "text": [
            "100%|██████████| 3443/3443 [12:32<00:00,  4.57it/s]\n"
          ]
        },
        {
          "output_type": "stream",
          "name": "stdout",
          "text": [
            "train Loss: 0.0701 MAE: 2490.0237\n"
          ]
        },
        {
          "output_type": "stream",
          "name": "stderr",
          "text": [
            "100%|██████████| 383/383 [00:44<00:00,  8.54it/s]\n"
          ]
        },
        {
          "output_type": "stream",
          "name": "stdout",
          "text": [
            "val Loss: 0.0710 MAE: 2489.8852\n",
            "Model saved to ==> model1.pt\n"
          ]
        },
        {
          "output_type": "display_data",
          "data": {
            "image/png": "[encoded data removed]",
            "text/plain": [
              "<Figure size 720x360 with 2 Axes>"
            ]
          },
          "metadata": {
            "needs_background": "light"
          }
        },
        {
          "output_type": "stream",
          "name": "stdout",
          "text": [
            "Epoch 15/30\n",
            "----------\n"
          ]
        },
        {
          "output_type": "stream",
          "name": "stderr",
          "text": [
            "100%|██████████| 3443/3443 [12:29<00:00,  4.60it/s]\n"
          ]
        },
        {
          "output_type": "stream",
          "name": "stdout",
          "text": [
            "train Loss: 0.0682 MAE: 2460.1940\n"
          ]
        },
        {
          "output_type": "stream",
          "name": "stderr",
          "text": [
            "100%|██████████| 383/383 [00:44<00:00,  8.67it/s]\n"
          ]
        },
        {
          "output_type": "stream",
          "name": "stdout",
          "text": [
            "val Loss: 0.0682 MAE: 2444.2665\n",
            "Model saved to ==> model1.pt\n"
          ]
        },
        {
          "output_type": "display_data",
          "data": {
            "image/png": "[encoded data removed]",
            "text/plain": [
              "<Figure size 720x360 with 2 Axes>"
            ]
          },
          "metadata": {
            "needs_background": "light"
          }
        },
        {
          "output_type": "stream",
          "name": "stdout",
          "text": [
            "Epoch 16/30\n",
            "----------\n"
          ]
        },
        {
          "output_type": "stream",
          "name": "stderr",
          "text": [
            "100%|██████████| 3443/3443 [12:33<00:00,  4.57it/s]\n"
          ]
        },
        {
          "output_type": "stream",
          "name": "stdout",
          "text": [
            "train Loss: 0.0663 MAE: 2424.8238\n"
          ]
        },
        {
          "output_type": "stream",
          "name": "stderr",
          "text": [
            "100%|██████████| 383/383 [00:44<00:00,  8.65it/s]\n"
          ]
        },
        {
          "output_type": "stream",
          "name": "stdout",
          "text": [
            "val Loss: 0.0686 MAE: 2454.3623\n"
          ]
        },
        {
          "output_type": "display_data",
          "data": {
            "image/png": "[encoded data removed]",
            "text/plain": [
              "<Figure size 720x360 with 2 Axes>"
            ]
          },
          "metadata": {
            "needs_background": "light"
          }
        },
        {
          "output_type": "stream",
          "name": "stdout",
          "text": [
            "Epoch 17/30\n",
            "----------\n"
          ]
        },
        {
          "output_type": "stream",
          "name": "stderr",
          "text": [
            "100%|██████████| 3443/3443 [12:35<00:00,  4.56it/s]\n"
          ]
        },
        {
          "output_type": "stream",
          "name": "stdout",
          "text": [
            "train Loss: 0.0649 MAE: 2399.7251\n"
          ]
        },
        {
          "output_type": "stream",
          "name": "stderr",
          "text": [
            "100%|██████████| 383/383 [00:44<00:00,  8.67it/s]\n"
          ]
        },
        {
          "output_type": "stream",
          "name": "stdout",
          "text": [
            "val Loss: 0.0718 MAE: 2511.3260\n"
          ]
        },
        {
          "output_type": "display_data",
          "data": {
            "image/png": "[encoded data removed]",
            "text/plain": [
              "<Figure size 720x360 with 2 Axes>"
            ]
          },
          "metadata": {
            "needs_background": "light"
          }
        },
        {
          "output_type": "stream",
          "name": "stdout",
          "text": [
            "Epoch 18/30\n",
            "----------\n"
          ]
        },
        {
          "output_type": "stream",
          "name": "stderr",
          "text": [
            "100%|██████████| 3443/3443 [12:35<00:00,  4.56it/s]\n"
          ]
        },
        {
          "output_type": "stream",
          "name": "stdout",
          "text": [
            "train Loss: 0.0637 MAE: 2379.7078\n"
          ]
        },
        {
          "output_type": "stream",
          "name": "stderr",
          "text": [
            "100%|██████████| 383/383 [00:44<00:00,  8.65it/s]\n"
          ]
        },
        {
          "output_type": "stream",
          "name": "stdout",
          "text": [
            "val Loss: 0.0672 MAE: 2422.5807\n",
            "Model saved to ==> model1.pt\n"
          ]
        },
        {
          "output_type": "display_data",
          "data": {
            "image/png": "[encoded data removed]",
            "text/plain": [
              "<Figure size 720x360 with 2 Axes>"
            ]
          },
          "metadata": {
            "needs_background": "light"
          }
        },
        {
          "output_type": "stream",
          "name": "stdout",
          "text": [
            "Epoch 19/30\n",
            "----------\n"
          ]
        },
        {
          "output_type": "stream",
          "name": "stderr",
          "text": [
            "100%|██████████| 3443/3443 [12:25<00:00,  4.62it/s]\n"
          ]
        },
        {
          "output_type": "stream",
          "name": "stdout",
          "text": [
            "train Loss: 0.0621 MAE: 2348.1082\n"
          ]
        },
        {
          "output_type": "stream",
          "name": "stderr",
          "text": [
            "100%|██████████| 383/383 [00:43<00:00,  8.78it/s]\n"
          ]
        },
        {
          "output_type": "stream",
          "name": "stdout",
          "text": [
            "val Loss: 0.0668 MAE: 2404.8738\n",
            "Model saved to ==> model1.pt\n"
          ]
        },
        {
          "output_type": "display_data",
          "data": {
            "image/png": "[encoded data removed]",
            "text/plain": [
              "<Figure size 720x360 with 2 Axes>"
            ]
          },
          "metadata": {
            "needs_background": "light"
          }
        },
        {
          "output_type": "stream",
          "name": "stdout",
          "text": [
            "Epoch 20/30\n",
            "----------\n"
          ]
        },
        {
          "output_type": "stream",
          "name": "stderr",
          "text": [
            "100%|██████████| 3443/3443 [12:24<00:00,  4.62it/s]\n"
          ]
        },
        {
          "output_type": "stream",
          "name": "stdout",
          "text": [
            "train Loss: 0.0612 MAE: 2330.8108\n"
          ]
        },
        {
          "output_type": "stream",
          "name": "stderr",
          "text": [
            "100%|██████████| 383/383 [00:43<00:00,  8.74it/s]\n"
          ]
        },
        {
          "output_type": "stream",
          "name": "stdout",
          "text": [
            "val Loss: 0.0683 MAE: 2438.9934\n"
          ]
        },
        {
          "output_type": "display_data",
          "data": {
            "image/png": "[encoded data removed]",
            "text/plain": [
              "<Figure size 720x360 with 2 Axes>"
            ]
          },
          "metadata": {
            "needs_background": "light"
          }
        },
        {
          "output_type": "stream",
          "name": "stdout",
          "text": [
            "Epoch 21/30\n",
            "----------\n"
          ]
        },
        {
          "output_type": "stream",
          "name": "stderr",
          "text": [
            "100%|██████████| 3443/3443 [12:22<00:00,  4.63it/s]\n"
          ]
        },
        {
          "output_type": "stream",
          "name": "stdout",
          "text": [
            "train Loss: 0.0603 MAE: 2314.1706\n"
          ]
        },
        {
          "output_type": "stream",
          "name": "stderr",
          "text": [
            "100%|██████████| 383/383 [00:44<00:00,  8.60it/s]\n"
          ]
        },
        {
          "output_type": "stream",
          "name": "stdout",
          "text": [
            "val Loss: 0.0668 MAE: 2401.7208\n",
            "Model saved to ==> model1.pt\n"
          ]
        },
        {
          "output_type": "display_data",
          "data": {
            "image/png": "[encoded data removed]",
            "text/plain": [
              "<Figure size 720x360 with 2 Axes>"
            ]
          },
          "metadata": {
            "needs_background": "light"
          }
        },
        {
          "output_type": "stream",
          "name": "stdout",
          "text": [
            "Epoch 22/30\n",
            "----------\n"
          ]
        },
        {
          "output_type": "stream",
          "name": "stderr",
          "text": [
            "100%|██████████| 3443/3443 [12:22<00:00,  4.64it/s]\n"
          ]
        },
        {
          "output_type": "stream",
          "name": "stdout",
          "text": [
            "train Loss: 0.0595 MAE: 2302.2197\n"
          ]
        },
        {
          "output_type": "stream",
          "name": "stderr",
          "text": [
            "100%|██████████| 383/383 [00:44<00:00,  8.64it/s]\n"
          ]
        },
        {
          "output_type": "stream",
          "name": "stdout",
          "text": [
            "val Loss: 0.0658 MAE: 2384.8610\n",
            "Model saved to ==> model1.pt\n"
          ]
        },
        {
          "output_type": "display_data",
          "data": {
            "image/png": "[encoded data removed]",
            "text/plain": [
              "<Figure size 720x360 with 2 Axes>"
            ]
          },
          "metadata": {
            "needs_background": "light"
          }
        },
        {
          "output_type": "stream",
          "name": "stdout",
          "text": [
            "Epoch 23/30\n",
            "----------\n"
          ]
        },
        {
          "output_type": "stream",
          "name": "stderr",
          "text": [
            " 69%|██████▉   | 2386/3443 [08:39<03:49,  4.60it/s]\n"
          ]
        },
        {
          "output_type": "error",
          "ename": "KeyboardInterrupt",
          "evalue": "ignored",
          "traceback": [
            "\u001b[0;31m---------------------------------------------------------------------------\u001b[0m",
            "\u001b[0;31mKeyboardInterrupt\u001b[0m                         Traceback (most recent call last)",
            "\u001b[0;32m<ipython-input-39-0c89558a4faf>\u001b[0m in \u001b[0;36m<module>\u001b[0;34m()\u001b[0m\n\u001b[1;32m      5\u001b[0m                             \u001b[0mnum_epochs\u001b[0m\u001b[0;34m,\u001b[0m\u001b[0;34m\u001b[0m\u001b[0;34m\u001b[0m\u001b[0m\n\u001b[1;32m      6\u001b[0m                             \u001b[0mearly_stop\u001b[0m\u001b[0;34m,\u001b[0m\u001b[0;34m\u001b[0m\u001b[0;34m\u001b[0m\u001b[0m\n\u001b[0;32m----> 7\u001b[0;31m                             scheduler=sched)\n\u001b[0m",
            "\u001b[0;32m<ipython-input-37-9ba58291d0c3>\u001b[0m in \u001b[0;36mtrain\u001b[0;34m(model, criterion, dataloaders, optimizer, num_epochs, early_stop, scheduler)\u001b[0m\n\u001b[1;32m     35\u001b[0m                 \u001b[0mtarget\u001b[0m \u001b[0;34m=\u001b[0m \u001b[0mbatch\u001b[0m\u001b[0;34m[\u001b[0m\u001b[0;34m'target'\u001b[0m\u001b[0;34m]\u001b[0m\u001b[0;34m.\u001b[0m\u001b[0mto\u001b[0m\u001b[0;34m(\u001b[0m\u001b[0mdevice\u001b[0m\u001b[0;34m)\u001b[0m\u001b[0;34m\u001b[0m\u001b[0;34m\u001b[0m\u001b[0m\n\u001b[1;32m     36\u001b[0m \u001b[0;34m\u001b[0m\u001b[0m\n\u001b[0;32m---> 37\u001b[0;31m                 \u001b[0moptimizer\u001b[0m\u001b[0;34m.\u001b[0m\u001b[0mzero_grad\u001b[0m\u001b[0;34m(\u001b[0m\u001b[0;34m)\u001b[0m\u001b[0;34m\u001b[0m\u001b[0;34m\u001b[0m\u001b[0m\n\u001b[0m\u001b[1;32m     38\u001b[0m \u001b[0;34m\u001b[0m\u001b[0m\n\u001b[1;32m     39\u001b[0m                 \u001b[0;32mwith\u001b[0m \u001b[0mtorch\u001b[0m\u001b[0;34m.\u001b[0m\u001b[0mset_grad_enabled\u001b[0m\u001b[0;34m(\u001b[0m\u001b[0mphase\u001b[0m \u001b[0;34m==\u001b[0m \u001b[0;34m'train'\u001b[0m\u001b[0;34m)\u001b[0m\u001b[0;34m:\u001b[0m\u001b[0;34m\u001b[0m\u001b[0;34m\u001b[0m\u001b[0m\n",
            "\u001b[0;32m/usr/local/lib/python3.7/dist-packages/torch/optim/optimizer.py\u001b[0m in \u001b[0;36mzero_grad\u001b[0;34m(self, set_to_none)\u001b[0m\n\u001b[1;32m    213\u001b[0m                                 \u001b[0mp\u001b[0m\u001b[0;34m.\u001b[0m\u001b[0mgrad\u001b[0m\u001b[0;34m.\u001b[0m\u001b[0mdetach_\u001b[0m\u001b[0;34m(\u001b[0m\u001b[0;34m)\u001b[0m\u001b[0;34m\u001b[0m\u001b[0;34m\u001b[0m\u001b[0m\n\u001b[1;32m    214\u001b[0m                             \u001b[0;32melse\u001b[0m\u001b[0;34m:\u001b[0m\u001b[0;34m\u001b[0m\u001b[0;34m\u001b[0m\u001b[0m\n\u001b[0;32m--> 215\u001b[0;31m                                 \u001b[0mp\u001b[0m\u001b[0;34m.\u001b[0m\u001b[0mgrad\u001b[0m\u001b[0;34m.\u001b[0m\u001b[0mrequires_grad_\u001b[0m\u001b[0;34m(\u001b[0m\u001b[0;32mFalse\u001b[0m\u001b[0;34m)\u001b[0m\u001b[0;34m\u001b[0m\u001b[0;34m\u001b[0m\u001b[0m\n\u001b[0m\u001b[1;32m    216\u001b[0m                             \u001b[0mp\u001b[0m\u001b[0;34m.\u001b[0m\u001b[0mgrad\u001b[0m\u001b[0;34m.\u001b[0m\u001b[0mzero_\u001b[0m\u001b[0;34m(\u001b[0m\u001b[0;34m)\u001b[0m\u001b[0;34m\u001b[0m\u001b[0;34m\u001b[0m\u001b[0m\n\u001b[1;32m    217\u001b[0m \u001b[0;34m\u001b[0m\u001b[0m\n",
            "\u001b[0;32m/usr/local/lib/python3.7/dist-packages/torch/_tensor.py\u001b[0m in \u001b[0;36mgrad\u001b[0;34m(self)\u001b[0m\n\u001b[1;32m    977\u001b[0m             \u001b[0;32mreturn\u001b[0m \u001b[0mhandle_torch_function\u001b[0m\u001b[0;34m(\u001b[0m\u001b[0mTensor\u001b[0m\u001b[0;34m.\u001b[0m\u001b[0mgrad\u001b[0m\u001b[0;34m.\u001b[0m\u001b[0m__get__\u001b[0m\u001b[0;34m,\u001b[0m \u001b[0;34m(\u001b[0m\u001b[0mself\u001b[0m\u001b[0;34m,\u001b[0m\u001b[0;34m)\u001b[0m\u001b[0;34m,\u001b[0m \u001b[0mself\u001b[0m\u001b[0;34m)\u001b[0m  \u001b[0;31m# type: ignore[attr-defined]\u001b[0m\u001b[0;34m\u001b[0m\u001b[0;34m\u001b[0m\u001b[0m\n\u001b[1;32m    978\u001b[0m \u001b[0;34m\u001b[0m\u001b[0m\n\u001b[0;32m--> 979\u001b[0;31m         \u001b[0;32mif\u001b[0m \u001b[0mself\u001b[0m\u001b[0;34m.\u001b[0m\u001b[0mrequires_grad\u001b[0m \u001b[0;32mand\u001b[0m \u001b[0;32mnot\u001b[0m \u001b[0mhasattr\u001b[0m\u001b[0;34m(\u001b[0m\u001b[0mself\u001b[0m\u001b[0;34m,\u001b[0m \u001b[0;34m\"retains_grad\"\u001b[0m\u001b[0;34m)\u001b[0m \u001b[0;32mand\u001b[0m \u001b[0;32mnot\u001b[0m \u001b[0mself\u001b[0m\u001b[0;34m.\u001b[0m\u001b[0mis_leaf\u001b[0m \u001b[0;32mand\u001b[0m \u001b[0mself\u001b[0m\u001b[0;34m.\u001b[0m\u001b[0m_grad\u001b[0m \u001b[0;32mis\u001b[0m \u001b[0;32mNone\u001b[0m\u001b[0;34m:\u001b[0m\u001b[0;34m\u001b[0m\u001b[0;34m\u001b[0m\u001b[0m\n\u001b[0m\u001b[1;32m    980\u001b[0m             warnings.warn(\"The .grad attribute of a Tensor that is not a leaf Tensor is being accessed. Its .grad \"\n\u001b[1;32m    981\u001b[0m                           \u001b[0;34m\"attribute won't be populated during autograd.backward(). If you indeed want the gradient \"\u001b[0m\u001b[0;34m\u001b[0m\u001b[0;34m\u001b[0m\u001b[0m\n",
            "\u001b[0;31mKeyboardInterrupt\u001b[0m: "
          ]
        }
      ]
    },
    {
      "cell_type": "code",
      "metadata": {
        "id": "m0nRjzp46tDo"
      },
      "source": [
        ""
      ],
      "execution_count": null,
      "outputs": []
    }
  ]
}