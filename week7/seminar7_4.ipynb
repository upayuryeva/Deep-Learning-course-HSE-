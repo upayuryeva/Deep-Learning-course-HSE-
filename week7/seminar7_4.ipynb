{
  "nbformat": 4,
  "nbformat_minor": 5,
  "metadata": {
    "kernelspec": {
      "display_name": "Python 3",
      "language": "python",
      "name": "python3"
    },
    "language_info": {
      "codemirror_mode": {
        "name": "ipython",
        "version": 3
      },
      "file_extension": ".py",
      "mimetype": "text/x-python",
      "name": "python",
      "nbconvert_exporter": "python",
      "pygments_lexer": "ipython3",
      "version": "3.7.10"
    },
    "papermill": {
      "default_parameters": {},
      "duration": 750.967694,
      "end_time": "2021-11-10T14:41:22.424678",
      "environment_variables": {},
      "exception": true,
      "input_path": "__notebook__.ipynb",
      "output_path": "__notebook__.ipynb",
      "parameters": {},
      "start_time": "2021-11-10T14:28:51.456984",
      "version": "2.3.3"
    },
    "colab": {
      "name": "seminar7_4.ipynb",
      "provenance": [],
      "include_colab_link": true
    }
  },
  "cells": [
    {
      "cell_type": "markdown",
      "metadata": {
        "id": "view-in-github",
        "colab_type": "text"
      },
      "source": [
        "<a href=\"https://colab.research.google.com/github/upayuryeva/Deep-Learning-course-HSE-/blob/main/week7/seminar7_4.ipynb\" target=\"_parent\"><img src=\"https://colab.research.google.com/assets/colab-badge.svg\" alt=\"Open In Colab\"/></a>"
      ]
    },
    {
      "cell_type": "code",
      "metadata": {
        "execution": {
          "iopub.execute_input": "2021-11-10T14:28:58.871912Z",
          "iopub.status.busy": "2021-11-10T14:28:58.871127Z",
          "iopub.status.idle": "2021-11-10T14:29:14.941813Z",
          "shell.execute_reply": "2021-11-10T14:29:14.941179Z",
          "shell.execute_reply.started": "2021-11-10T13:23:21.488161Z"
        },
        "id": "d48a0957",
        "papermill": {
          "duration": 16.121694,
          "end_time": "2021-11-10T14:29:14.941984",
          "exception": false,
          "start_time": "2021-11-10T14:28:58.820290",
          "status": "completed"
        },
        "tags": [],
        "outputId": "9750f095-3f98-4ad5-9d44-59710884ec59"
      },
      "source": [
        "!pip install transformers\n",
        "import transformers\n",
        "from transformers import pipeline\n",
        "import torch\n",
        "from transformers import AutoTokenizer, AutoModel, pipeline\n",
        "import numpy as np"
      ],
      "id": "d48a0957",
      "execution_count": null,
      "outputs": [
        {
          "name": "stdout",
          "output_type": "stream",
          "text": [
            "Requirement already satisfied: transformers in /opt/conda/lib/python3.7/site-packages (4.5.1)\r\n",
            "Requirement already satisfied: requests in /opt/conda/lib/python3.7/site-packages (from transformers) (2.25.1)\r\n",
            "Requirement already satisfied: packaging in /opt/conda/lib/python3.7/site-packages (from transformers) (21.0)\r\n",
            "Requirement already satisfied: importlib-metadata in /opt/conda/lib/python3.7/site-packages (from transformers) (4.8.1)\r\n",
            "Requirement already satisfied: numpy>=1.17 in /opt/conda/lib/python3.7/site-packages (from transformers) (1.19.5)\r\n",
            "Requirement already satisfied: tokenizers<0.11,>=0.10.1 in /opt/conda/lib/python3.7/site-packages (from transformers) (0.10.3)\r\n",
            "Requirement already satisfied: sacremoses in /opt/conda/lib/python3.7/site-packages (from transformers) (0.0.46)\r\n",
            "Requirement already satisfied: tqdm>=4.27 in /opt/conda/lib/python3.7/site-packages (from transformers) (4.62.3)\r\n",
            "Requirement already satisfied: filelock in /opt/conda/lib/python3.7/site-packages (from transformers) (3.0.12)\r\n",
            "Requirement already satisfied: regex!=2019.12.17 in /opt/conda/lib/python3.7/site-packages (from transformers) (2021.8.28)\r\n",
            "Requirement already satisfied: typing-extensions>=3.6.4 in /opt/conda/lib/python3.7/site-packages (from importlib-metadata->transformers) (3.10.0.2)\r\n",
            "Requirement already satisfied: zipp>=0.5 in /opt/conda/lib/python3.7/site-packages (from importlib-metadata->transformers) (3.5.0)\r\n",
            "Requirement already satisfied: pyparsing>=2.0.2 in /opt/conda/lib/python3.7/site-packages (from packaging->transformers) (2.4.7)\r\n",
            "Requirement already satisfied: urllib3<1.27,>=1.21.1 in /opt/conda/lib/python3.7/site-packages (from requests->transformers) (1.26.6)\r\n",
            "Requirement already satisfied: certifi>=2017.4.17 in /opt/conda/lib/python3.7/site-packages (from requests->transformers) (2021.10.8)\r\n",
            "Requirement already satisfied: chardet<5,>=3.0.2 in /opt/conda/lib/python3.7/site-packages (from requests->transformers) (4.0.0)\r\n",
            "Requirement already satisfied: idna<3,>=2.5 in /opt/conda/lib/python3.7/site-packages (from requests->transformers) (2.10)\r\n",
            "Requirement already satisfied: joblib in /opt/conda/lib/python3.7/site-packages (from sacremoses->transformers) (1.0.1)\r\n",
            "Requirement already satisfied: click in /opt/conda/lib/python3.7/site-packages (from sacremoses->transformers) (8.0.1)\r\n",
            "Requirement already satisfied: six in /opt/conda/lib/python3.7/site-packages (from sacremoses->transformers) (1.16.0)\r\n",
            "\u001b[33mWARNING: Running pip as the 'root' user can result in broken permissions and conflicting behaviour with the system package manager. It is recommended to use a virtual environment instead: https://pip.pypa.io/warnings/venv\u001b[0m\r\n"
          ]
        }
      ]
    },
    {
      "cell_type": "markdown",
      "metadata": {
        "id": "7e042256",
        "papermill": {
          "duration": 0.041414,
          "end_time": "2021-11-10T14:29:15.026299",
          "exception": false,
          "start_time": "2021-11-10T14:29:14.984885",
          "status": "completed"
        },
        "tags": []
      },
      "source": [
        "### Using pre-trained transformers (2pts)\n",
        "_for fun and profit_\n",
        "\n",
        "There are many toolkits that let you access pre-trained transformer models, but the most powerful and convenient by far is [`huggingface/transformers`](https://github.com/huggingface/transformers). In this week's practice, you'll learn how to download, apply and modify pre-trained transformers for a range of tasks. Buckle up, we're going in!\n",
        "\n",
        "\n",
        "__Pipelines:__ if all you want is to apply a pre-trained model, you can do that in one line of code using pipeline. Huggingface/transformers has a selection of pre-configured pipelines for masked language modelling, sentiment classification, question aswering, etc. ([see full list here](https://huggingface.co/transformers/main_classes/pipelines.html))\n",
        "\n",
        "A typical pipeline includes:\n",
        "* pre-processing, e.g. tokenization, subword segmentation\n",
        "* a backbone model, e.g. bert finetuned for classification\n",
        "* output post-processing\n",
        "\n",
        "Let's see it in action:"
      ],
      "id": "7e042256"
    },
    {
      "cell_type": "code",
      "metadata": {
        "execution": {
          "iopub.execute_input": "2021-11-10T14:29:15.113638Z",
          "iopub.status.busy": "2021-11-10T14:29:15.112880Z",
          "iopub.status.idle": "2021-11-10T14:29:28.338891Z",
          "shell.execute_reply": "2021-11-10T14:29:28.338388Z",
          "shell.execute_reply.started": "2021-11-10T13:23:42.140145Z"
        },
        "id": "dc8b7714",
        "papermill": {
          "duration": 13.271245,
          "end_time": "2021-11-10T14:29:28.339031",
          "exception": false,
          "start_time": "2021-11-10T14:29:15.067786",
          "status": "completed"
        },
        "tags": [],
        "colab": {
          "referenced_widgets": [
            "75046dd0b9084749a78dc2d0be9182ce",
            "b2d2389f3f8d431c9dc4872c60da0a3a",
            "b4a29bdd2fbb4f47a96c43018910971a",
            "e6d353e83ff847eea95c4754ba27228b"
          ]
        },
        "outputId": "112fe895-10da-4b4a-cf2a-562e2d7ed429"
      },
      "source": [
        "classifier = pipeline('sentiment-analysis', model=\"distilbert-base-uncased-finetuned-sst-2-english\")\n",
        "\n",
        "print(classifier(\"BERT is amazing!\"))"
      ],
      "id": "dc8b7714",
      "execution_count": null,
      "outputs": [
        {
          "data": {
            "application/vnd.jupyter.widget-view+json": {
              "model_id": "75046dd0b9084749a78dc2d0be9182ce",
              "version_major": 2,
              "version_minor": 0
            },
            "text/plain": [
              "Downloading:   0%|          | 0.00/629 [00:00<?, ?B/s]"
            ]
          },
          "metadata": {},
          "output_type": "display_data"
        },
        {
          "data": {
            "application/vnd.jupyter.widget-view+json": {
              "model_id": "b2d2389f3f8d431c9dc4872c60da0a3a",
              "version_major": 2,
              "version_minor": 0
            },
            "text/plain": [
              "Downloading:   0%|          | 0.00/268M [00:00<?, ?B/s]"
            ]
          },
          "metadata": {},
          "output_type": "display_data"
        },
        {
          "data": {
            "application/vnd.jupyter.widget-view+json": {
              "model_id": "b4a29bdd2fbb4f47a96c43018910971a",
              "version_major": 2,
              "version_minor": 0
            },
            "text/plain": [
              "Downloading:   0%|          | 0.00/232k [00:00<?, ?B/s]"
            ]
          },
          "metadata": {},
          "output_type": "display_data"
        },
        {
          "data": {
            "application/vnd.jupyter.widget-view+json": {
              "model_id": "e6d353e83ff847eea95c4754ba27228b",
              "version_major": 2,
              "version_minor": 0
            },
            "text/plain": [
              "Downloading:   0%|          | 0.00/48.0 [00:00<?, ?B/s]"
            ]
          },
          "metadata": {},
          "output_type": "display_data"
        },
        {
          "name": "stdout",
          "output_type": "stream",
          "text": [
            "[{'label': 'POSITIVE', 'score': 0.9998860955238342}]\n"
          ]
        }
      ]
    },
    {
      "cell_type": "code",
      "metadata": {
        "execution": {
          "iopub.execute_input": "2021-11-10T14:29:28.433606Z",
          "iopub.status.busy": "2021-11-10T14:29:28.432763Z",
          "iopub.status.idle": "2021-11-10T14:29:28.593967Z",
          "shell.execute_reply": "2021-11-10T14:29:28.593315Z",
          "shell.execute_reply.started": "2021-11-10T13:23:59.104388Z"
        },
        "id": "6082eae9",
        "papermill": {
          "duration": 0.210283,
          "end_time": "2021-11-10T14:29:28.594193",
          "exception": false,
          "start_time": "2021-11-10T14:29:28.383910",
          "status": "completed"
        },
        "tags": [],
        "outputId": "0060a742-0a80-4b3f-9680-c7ebb6f45fee"
      },
      "source": [
        "import base64\n",
        "data = {\n",
        "    'arryn': 'As High as Honor.',\n",
        "    'baratheon': 'Ours is the fury.',\n",
        "    'stark': 'Winter is coming.',\n",
        "    'tyrell': 'Growing strong.'\n",
        "}\n",
        "\n",
        "# YOUR CODE: predict sentiment for each noble house and create outputs dict\n",
        "# <...>\n",
        "# outputs = <YOUR CODE: dict (house name) : True if positive, False if negative>\n",
        "outputs = {k:(True if classifier(v)[0]['label'] == 'POSITIVE' else False) for k, v in data.items()}\n",
        "\n",
        "assert sum(outputs.values()) == 3 and outputs[base64.decodestring(b'YmFyYXRoZW9u\\n').decode()] == False\n",
        "print(\"Well done!\")"
      ],
      "id": "6082eae9",
      "execution_count": null,
      "outputs": [
        {
          "name": "stdout",
          "output_type": "stream",
          "text": [
            "Well done!\n"
          ]
        },
        {
          "name": "stderr",
          "output_type": "stream",
          "text": [
            "/opt/conda/lib/python3.7/site-packages/ipykernel_launcher.py:14: DeprecationWarning: decodestring() is a deprecated alias since Python 3.1, use decodebytes()\n",
            "  \n"
          ]
        }
      ]
    },
    {
      "cell_type": "markdown",
      "metadata": {
        "id": "cdb6e812",
        "papermill": {
          "duration": 0.046242,
          "end_time": "2021-11-10T14:29:28.689827",
          "exception": false,
          "start_time": "2021-11-10T14:29:28.643585",
          "status": "completed"
        },
        "tags": []
      },
      "source": [
        "You can also access vanilla Masked Language Model that was trained to predict masked words. Here's how:"
      ],
      "id": "cdb6e812"
    },
    {
      "cell_type": "code",
      "metadata": {
        "execution": {
          "iopub.execute_input": "2021-11-10T14:29:28.842189Z",
          "iopub.status.busy": "2021-11-10T14:29:28.841542Z",
          "iopub.status.idle": "2021-11-10T14:29:48.924768Z",
          "shell.execute_reply": "2021-11-10T14:29:48.925417Z",
          "shell.execute_reply.started": "2021-11-10T13:23:59.26937Z"
        },
        "id": "6c46745d",
        "papermill": {
          "duration": 20.186359,
          "end_time": "2021-11-10T14:29:48.925629",
          "exception": false,
          "start_time": "2021-11-10T14:29:28.739270",
          "status": "completed"
        },
        "tags": [],
        "colab": {
          "referenced_widgets": [
            "5958e2bbdcb24f1c8641808ebff3a948",
            "586d54cef6f844188bbc407de2d4db60",
            "9723d0785f4945169f4081088463354a",
            "5e282e94d300425eb5aa95ff20b2c365",
            "182fdfb59e754a35926c3d53461a9110"
          ]
        },
        "outputId": "e792c6ad-9c62-4c3e-d9f6-f8b7c47cc972"
      },
      "source": [
        "mlm_model = pipeline('fill-mask', model=\"bert-base-uncased\")\n",
        "MASK = mlm_model.tokenizer.mask_token\n",
        "\n",
        "for hypo in mlm_model(f\"Donald {MASK} is the president of the united states.\"):\n",
        "  print(f\"P={hypo['score']:.5f}\", hypo['sequence'])"
      ],
      "id": "6c46745d",
      "execution_count": null,
      "outputs": [
        {
          "data": {
            "application/vnd.jupyter.widget-view+json": {
              "model_id": "5958e2bbdcb24f1c8641808ebff3a948",
              "version_major": 2,
              "version_minor": 0
            },
            "text/plain": [
              "Downloading:   0%|          | 0.00/570 [00:00<?, ?B/s]"
            ]
          },
          "metadata": {},
          "output_type": "display_data"
        },
        {
          "data": {
            "application/vnd.jupyter.widget-view+json": {
              "model_id": "586d54cef6f844188bbc407de2d4db60",
              "version_major": 2,
              "version_minor": 0
            },
            "text/plain": [
              "Downloading:   0%|          | 0.00/440M [00:00<?, ?B/s]"
            ]
          },
          "metadata": {},
          "output_type": "display_data"
        },
        {
          "name": "stderr",
          "output_type": "stream",
          "text": [
            "Some weights of the model checkpoint at bert-base-uncased were not used when initializing BertForMaskedLM: ['cls.seq_relationship.weight', 'cls.seq_relationship.bias']\n",
            "- This IS expected if you are initializing BertForMaskedLM from the checkpoint of a model trained on another task or with another architecture (e.g. initializing a BertForSequenceClassification model from a BertForPreTraining model).\n",
            "- This IS NOT expected if you are initializing BertForMaskedLM from the checkpoint of a model that you expect to be exactly identical (initializing a BertForSequenceClassification model from a BertForSequenceClassification model).\n"
          ]
        },
        {
          "data": {
            "application/vnd.jupyter.widget-view+json": {
              "model_id": "9723d0785f4945169f4081088463354a",
              "version_major": 2,
              "version_minor": 0
            },
            "text/plain": [
              "Downloading:   0%|          | 0.00/232k [00:00<?, ?B/s]"
            ]
          },
          "metadata": {},
          "output_type": "display_data"
        },
        {
          "data": {
            "application/vnd.jupyter.widget-view+json": {
              "model_id": "5e282e94d300425eb5aa95ff20b2c365",
              "version_major": 2,
              "version_minor": 0
            },
            "text/plain": [
              "Downloading:   0%|          | 0.00/466k [00:00<?, ?B/s]"
            ]
          },
          "metadata": {},
          "output_type": "display_data"
        },
        {
          "data": {
            "application/vnd.jupyter.widget-view+json": {
              "model_id": "182fdfb59e754a35926c3d53461a9110",
              "version_major": 2,
              "version_minor": 0
            },
            "text/plain": [
              "Downloading:   0%|          | 0.00/28.0 [00:00<?, ?B/s]"
            ]
          },
          "metadata": {},
          "output_type": "display_data"
        },
        {
          "name": "stdout",
          "output_type": "stream",
          "text": [
            "P=0.99719 donald trump is the president of the united states.\n",
            "P=0.00024 donald duck is the president of the united states.\n",
            "P=0.00022 donald ross is the president of the united states.\n",
            "P=0.00020 donald johnson is the president of the united states.\n",
            "P=0.00018 donald wilson is the president of the united states.\n"
          ]
        }
      ]
    },
    {
      "cell_type": "code",
      "metadata": {
        "execution": {
          "iopub.execute_input": "2021-11-10T14:29:49.025048Z",
          "iopub.status.busy": "2021-11-10T14:29:49.024184Z",
          "iopub.status.idle": "2021-11-10T14:29:49.168890Z",
          "shell.execute_reply": "2021-11-10T14:29:49.169344Z",
          "shell.execute_reply.started": "2021-11-10T13:24:25.668161Z"
        },
        "id": "319d86ad",
        "papermill": {
          "duration": 0.195276,
          "end_time": "2021-11-10T14:29:49.169492",
          "exception": false,
          "start_time": "2021-11-10T14:29:48.974216",
          "status": "completed"
        },
        "tags": [],
        "outputId": "9456e340-ebae-4cbd-a39f-09da30958334"
      },
      "source": [
        "# Your turn: use bert to recall what year was the Soviet Union founded in\n",
        "# mlm_model(<YOUR PROMPT>)\n",
        "for hypo in mlm_model(f\"The Soviet Union was founded in year {MASK}.\"):\n",
        "  print(f\"P={hypo['score']:.5f}\", hypo['sequence'])"
      ],
      "id": "319d86ad",
      "execution_count": null,
      "outputs": [
        {
          "name": "stdout",
          "output_type": "stream",
          "text": [
            "P=0.03702 the soviet union was founded in year ii.\n",
            "P=0.03054 the soviet union was founded in year 1945.\n",
            "P=0.02764 the soviet union was founded in year 1917.\n",
            "P=0.02324 the soviet union was founded in year 1918.\n",
            "P=0.01754 the soviet union was founded in year 1949.\n"
          ]
        }
      ]
    },
    {
      "cell_type": "markdown",
      "metadata": {
        "id": "5814baf0",
        "papermill": {
          "duration": 0.046318,
          "end_time": "2021-11-10T14:29:49.263423",
          "exception": false,
          "start_time": "2021-11-10T14:29:49.217105",
          "status": "completed"
        },
        "tags": []
      },
      "source": [
        "```\n",
        "\n",
        "```\n",
        "\n",
        "```\n",
        "\n",
        "```\n",
        "\n",
        "\n",
        "Huggingface offers hundreds of pre-trained models that specialize on different tasks. You can quickly find the model you need using [this list](https://huggingface.co/models).\n"
      ],
      "id": "5814baf0"
    },
    {
      "cell_type": "code",
      "metadata": {
        "execution": {
          "iopub.execute_input": "2021-11-10T14:29:49.360891Z",
          "iopub.status.busy": "2021-11-10T14:29:49.360067Z",
          "iopub.status.idle": "2021-11-10T14:30:33.937545Z",
          "shell.execute_reply": "2021-11-10T14:30:33.937066Z",
          "shell.execute_reply.started": "2021-11-10T13:24:25.79156Z"
        },
        "id": "93ebb778",
        "papermill": {
          "duration": 44.628129,
          "end_time": "2021-11-10T14:30:33.937707",
          "exception": false,
          "start_time": "2021-11-10T14:29:49.309578",
          "status": "completed"
        },
        "tags": [],
        "colab": {
          "referenced_widgets": [
            "ea0322b9500e4fa6909e20af2d006b04",
            "6c37fa26f7f545e194fe75dc26e7e1e0",
            "ae3c16b6e7834639a14b67d12ee5633c",
            "2d6e77574831435f930c810587570d55"
          ]
        },
        "outputId": "47206ad5-e094-4247-9126-a56995ef6140"
      },
      "source": [
        "text = \"\"\"Almost two-thirds of the 1.5 million people who viewed this liveblog had Googled to discover\n",
        " the latest on the Rosetta mission. They were treated to this detailed account by the Guardian’s science editor,\n",
        " Ian Sample, and astronomy writer Stuart Clark of the moment scientists landed a robotic spacecraft on a comet \n",
        " for the first time in history, and the delirious reaction it provoked at their headquarters in Germany.\n",
        "  “We are there. We are sitting on the surface. Philae is talking to us,” said one scientist.\n",
        "\"\"\"\n",
        "\n",
        "# Task: create a pipeline for named entity recognition, use task name 'ner' and search for the right model in the list\n",
        "ner_model = pipeline('ner')\n",
        "\n",
        "named_entities = ner_model(text)"
      ],
      "id": "93ebb778",
      "execution_count": null,
      "outputs": [
        {
          "data": {
            "application/vnd.jupyter.widget-view+json": {
              "model_id": "ea0322b9500e4fa6909e20af2d006b04",
              "version_major": 2,
              "version_minor": 0
            },
            "text/plain": [
              "Downloading:   0%|          | 0.00/998 [00:00<?, ?B/s]"
            ]
          },
          "metadata": {},
          "output_type": "display_data"
        },
        {
          "data": {
            "application/vnd.jupyter.widget-view+json": {
              "model_id": "6c37fa26f7f545e194fe75dc26e7e1e0",
              "version_major": 2,
              "version_minor": 0
            },
            "text/plain": [
              "Downloading:   0%|          | 0.00/1.33G [00:00<?, ?B/s]"
            ]
          },
          "metadata": {},
          "output_type": "display_data"
        },
        {
          "data": {
            "application/vnd.jupyter.widget-view+json": {
              "model_id": "ae3c16b6e7834639a14b67d12ee5633c",
              "version_major": 2,
              "version_minor": 0
            },
            "text/plain": [
              "Downloading:   0%|          | 0.00/213k [00:00<?, ?B/s]"
            ]
          },
          "metadata": {},
          "output_type": "display_data"
        },
        {
          "data": {
            "application/vnd.jupyter.widget-view+json": {
              "model_id": "2d6e77574831435f930c810587570d55",
              "version_major": 2,
              "version_minor": 0
            },
            "text/plain": [
              "Downloading:   0%|          | 0.00/60.0 [00:00<?, ?B/s]"
            ]
          },
          "metadata": {},
          "output_type": "display_data"
        }
      ]
    },
    {
      "cell_type": "code",
      "metadata": {
        "execution": {
          "iopub.execute_input": "2021-11-10T14:30:34.042700Z",
          "iopub.status.busy": "2021-11-10T14:30:34.041714Z",
          "iopub.status.idle": "2021-11-10T14:30:34.046313Z",
          "shell.execute_reply": "2021-11-10T14:30:34.045701Z",
          "shell.execute_reply.started": "2021-11-10T13:25:29.731497Z"
        },
        "id": "517a2da9",
        "papermill": {
          "duration": 0.058862,
          "end_time": "2021-11-10T14:30:34.046466",
          "exception": false,
          "start_time": "2021-11-10T14:30:33.987604",
          "status": "completed"
        },
        "tags": [],
        "outputId": "c2731e62-2a75-4cb4-d24a-1be88c67673b"
      },
      "source": [
        "print('OUTPUT:', named_entities)\n",
        "word_to_entity = {item['word']: item['entity'] for item in named_entities}\n",
        "assert 'org' in word_to_entity.get('Guardian').lower() and 'per' in word_to_entity.get('Stuart').lower()\n",
        "print(\"All tests passed\")"
      ],
      "id": "517a2da9",
      "execution_count": null,
      "outputs": [
        {
          "name": "stdout",
          "output_type": "stream",
          "text": [
            "OUTPUT: [{'word': 'Google', 'score': 0.8803115487098694, 'entity': 'I-MISC', 'index': 19, 'start': 73, 'end': 79}, {'word': 'Rose', 'score': 0.9005069732666016, 'entity': 'I-MISC', 'index': 27, 'start': 112, 'end': 116}, {'word': '##tta', 'score': 0.9509624242782593, 'entity': 'I-MISC', 'index': 28, 'start': 116, 'end': 119}, {'word': 'Guardian', 'score': 0.9992534518241882, 'entity': 'I-ORG', 'index': 40, 'start': 179, 'end': 187}, {'word': 'Ian', 'score': 0.9992009401321411, 'entity': 'I-PER', 'index': 46, 'start': 207, 'end': 210}, {'word': 'Sam', 'score': 0.999500036239624, 'entity': 'I-PER', 'index': 47, 'start': 211, 'end': 214}, {'word': '##ple', 'score': 0.9964978694915771, 'entity': 'I-PER', 'index': 48, 'start': 214, 'end': 217}, {'word': 'Stuart', 'score': 0.9991856217384338, 'entity': 'I-PER', 'index': 53, 'start': 240, 'end': 246}, {'word': 'Clark', 'score': 0.99964839220047, 'entity': 'I-PER', 'index': 54, 'start': 247, 'end': 252}, {'word': 'Germany', 'score': 0.9998210668563843, 'entity': 'I-LOC', 'index': 85, 'start': 414, 'end': 421}, {'word': 'Phil', 'score': 0.6295717358589172, 'entity': 'I-PER', 'index': 99, 'start': 471, 'end': 475}, {'word': '##ae', 'score': 0.8340392708778381, 'entity': 'I-PER', 'index': 100, 'start': 475, 'end': 477}]\n",
            "All tests passed\n"
          ]
        }
      ]
    },
    {
      "cell_type": "markdown",
      "metadata": {
        "id": "575ca802",
        "papermill": {
          "duration": 0.049556,
          "end_time": "2021-11-10T14:30:34.147071",
          "exception": false,
          "start_time": "2021-11-10T14:30:34.097515",
          "status": "completed"
        },
        "tags": []
      },
      "source": [
        "### The building blocks of a pipeline\n",
        "\n",
        "Huggingface also allows you to access its pipelines on a lower level. There are two main abstractions for you:\n",
        "* `Tokenizer` - converts from strings to token ids and back\n",
        "* `Model` - a pytorch `nn.Module` with pre-trained weights\n",
        "\n",
        "You can use such models as part of your regular pytorch code: insert is as a layer in your model, apply it to a batch of data, backpropagate, optimize, etc."
      ],
      "id": "575ca802"
    },
    {
      "cell_type": "code",
      "metadata": {
        "execution": {
          "iopub.execute_input": "2021-11-10T14:30:34.251336Z",
          "iopub.status.busy": "2021-11-10T14:30:34.250528Z",
          "iopub.status.idle": "2021-11-10T14:30:55.427042Z",
          "shell.execute_reply": "2021-11-10T14:30:55.427484Z",
          "shell.execute_reply.started": "2021-11-10T13:25:29.74248Z"
        },
        "id": "889f109c",
        "papermill": {
          "duration": 21.230881,
          "end_time": "2021-11-10T14:30:55.427651",
          "exception": false,
          "start_time": "2021-11-10T14:30:34.196770",
          "status": "completed"
        },
        "tags": [],
        "colab": {
          "referenced_widgets": [
            "bdb2e457a9884839b24dd58e5fa3d535",
            "fc4ce98c6f924fe0bdbecb939ac5349a",
            "21a8aa788a9b48738555111516675dba",
            "69cfc442d3c647ec9634d1d6a34580d4",
            "80591284a6c04a53b1868e08172dce1b"
          ]
        },
        "outputId": "ea02c198-abd0-4673-9ddc-337cb34ef2bc"
      },
      "source": [
        "import torch\n",
        "from transformers import AutoTokenizer, AutoModel, pipeline\n",
        "\n",
        "model_name = 'roberta-base'\n",
        "tokenizer = AutoTokenizer.from_pretrained(model_name)\n",
        "model = AutoModel.from_pretrained(model_name)\n"
      ],
      "id": "889f109c",
      "execution_count": null,
      "outputs": [
        {
          "data": {
            "application/vnd.jupyter.widget-view+json": {
              "model_id": "bdb2e457a9884839b24dd58e5fa3d535",
              "version_major": 2,
              "version_minor": 0
            },
            "text/plain": [
              "Downloading:   0%|          | 0.00/481 [00:00<?, ?B/s]"
            ]
          },
          "metadata": {},
          "output_type": "display_data"
        },
        {
          "data": {
            "application/vnd.jupyter.widget-view+json": {
              "model_id": "fc4ce98c6f924fe0bdbecb939ac5349a",
              "version_major": 2,
              "version_minor": 0
            },
            "text/plain": [
              "Downloading:   0%|          | 0.00/899k [00:00<?, ?B/s]"
            ]
          },
          "metadata": {},
          "output_type": "display_data"
        },
        {
          "data": {
            "application/vnd.jupyter.widget-view+json": {
              "model_id": "21a8aa788a9b48738555111516675dba",
              "version_major": 2,
              "version_minor": 0
            },
            "text/plain": [
              "Downloading:   0%|          | 0.00/456k [00:00<?, ?B/s]"
            ]
          },
          "metadata": {},
          "output_type": "display_data"
        },
        {
          "data": {
            "application/vnd.jupyter.widget-view+json": {
              "model_id": "69cfc442d3c647ec9634d1d6a34580d4",
              "version_major": 2,
              "version_minor": 0
            },
            "text/plain": [
              "Downloading:   0%|          | 0.00/1.36M [00:00<?, ?B/s]"
            ]
          },
          "metadata": {},
          "output_type": "display_data"
        },
        {
          "data": {
            "application/vnd.jupyter.widget-view+json": {
              "model_id": "80591284a6c04a53b1868e08172dce1b",
              "version_major": 2,
              "version_minor": 0
            },
            "text/plain": [
              "Downloading:   0%|          | 0.00/501M [00:00<?, ?B/s]"
            ]
          },
          "metadata": {},
          "output_type": "display_data"
        }
      ]
    },
    {
      "cell_type": "code",
      "metadata": {
        "execution": {
          "iopub.execute_input": "2021-11-10T14:30:55.535544Z",
          "iopub.status.busy": "2021-11-10T14:30:55.535000Z",
          "iopub.status.idle": "2021-11-10T14:30:55.545582Z",
          "shell.execute_reply": "2021-11-10T14:30:55.546217Z",
          "shell.execute_reply.started": "2021-11-10T13:25:57.716737Z"
        },
        "id": "ddb10696",
        "papermill": {
          "duration": 0.067248,
          "end_time": "2021-11-10T14:30:55.546384",
          "exception": false,
          "start_time": "2021-11-10T14:30:55.479136",
          "status": "completed"
        },
        "tags": [],
        "outputId": "5ae1da66-3bd5-4f10-c9cc-f353382d1ad6"
      },
      "source": [
        "lines = [\n",
        "    \"Luke, I am your father.\",\n",
        "    \"Life is what happens when you're busy making other plans.\",\n",
        "    ]\n",
        "\n",
        "# tokenize a batch of inputs. \"pt\" means [p]y[t]orch tensors\n",
        "tokens_info = tokenizer(lines, padding=True, truncation=True, return_tensors=\"pt\")\n",
        "\n",
        "for key in tokens_info:\n",
        "    print(key, tokens_info[key])\n",
        "\n",
        "print(\"Detokenized:\")\n",
        "for i in range(2):\n",
        "    print(tokenizer.decode(tokens_info['input_ids'][i]))"
      ],
      "id": "ddb10696",
      "execution_count": null,
      "outputs": [
        {
          "name": "stdout",
          "output_type": "stream",
          "text": [
            "input_ids tensor([[    0, 34899,     6,    38,   524,   110,  1150,     4,     2,     1,\n",
            "             1,     1,     1,     1],\n",
            "        [    0, 12116,    16,    99,  2594,    77,    47,   214,  3610,   442,\n",
            "            97,   708,     4,     2]])\n",
            "attention_mask tensor([[1, 1, 1, 1, 1, 1, 1, 1, 1, 0, 0, 0, 0, 0],\n",
            "        [1, 1, 1, 1, 1, 1, 1, 1, 1, 1, 1, 1, 1, 1]])\n",
            "Detokenized:\n",
            "<s>Luke, I am your father.</s><pad><pad><pad><pad><pad>\n",
            "<s>Life is what happens when you're busy making other plans.</s>\n"
          ]
        }
      ]
    },
    {
      "cell_type": "code",
      "metadata": {
        "execution": {
          "iopub.execute_input": "2021-11-10T14:30:55.652772Z",
          "iopub.status.busy": "2021-11-10T14:30:55.652245Z",
          "iopub.status.idle": "2021-11-10T14:30:55.773498Z",
          "shell.execute_reply": "2021-11-10T14:30:55.774013Z",
          "shell.execute_reply.started": "2021-11-10T13:25:57.739281Z"
        },
        "id": "020aa118",
        "papermill": {
          "duration": 0.176473,
          "end_time": "2021-11-10T14:30:55.774181",
          "exception": false,
          "start_time": "2021-11-10T14:30:55.597708",
          "status": "completed"
        },
        "tags": [],
        "outputId": "f2888d00-676f-438a-a720-b0bc937ff888"
      },
      "source": [
        "# You can now apply the model to get embeddings\n",
        "with torch.no_grad():\n",
        "    out = model(**tokens_info)\n",
        "\n",
        "print(out)"
      ],
      "id": "020aa118",
      "execution_count": null,
      "outputs": [
        {
          "name": "stdout",
          "output_type": "stream",
          "text": [
            "BaseModelOutputWithPoolingAndCrossAttentions(last_hidden_state=tensor([[[-1.6231e-01,  1.2745e-01, -9.0214e-03,  ..., -9.9343e-02,\n",
            "          -9.1144e-03, -7.9819e-02],\n",
            "         [ 8.9304e-02,  5.6673e-02, -7.1221e-02,  ..., -5.0213e-01,\n",
            "           1.0334e-01, -7.1580e-02],\n",
            "         [ 1.5001e-01,  1.4505e-01,  6.5753e-02,  ..., -5.6259e-02,\n",
            "          -1.8313e-01, -8.9051e-02],\n",
            "         ...,\n",
            "         [ 1.3349e-02,  1.0767e-01, -1.5948e-01,  ..., -2.4475e-01,\n",
            "          -1.1423e-01, -1.4374e-01],\n",
            "         [ 1.3349e-02,  1.0767e-01, -1.5948e-01,  ..., -2.4475e-01,\n",
            "          -1.1423e-01, -1.4374e-01],\n",
            "         [ 1.3349e-02,  1.0767e-01, -1.5948e-01,  ..., -2.4475e-01,\n",
            "          -1.1423e-01, -1.4374e-01]],\n",
            "\n",
            "        [[-1.2852e-01,  1.3935e-01, -1.9362e-03,  ..., -9.3997e-02,\n",
            "          -3.1349e-04, -2.2275e-02],\n",
            "         [ 7.1255e-02,  2.5677e-01,  7.0792e-02,  ...,  1.5944e-01,\n",
            "           1.5432e-01,  1.7219e-01],\n",
            "         [-8.4597e-02,  3.6396e-01,  1.0735e-01,  ..., -3.3869e-01,\n",
            "           1.4815e-01,  1.5976e-01],\n",
            "         ...,\n",
            "         [-2.5995e-03,  4.5470e-02,  1.5289e-01,  ..., -3.4044e-02,\n",
            "           1.1821e-01,  1.5221e-01],\n",
            "         [-1.2386e-01,  1.3874e-01, -2.0912e-02,  ..., -1.2651e-01,\n",
            "          -9.4388e-04, -4.5891e-02],\n",
            "         [-8.0196e-02,  1.5055e-01, -1.1963e-02,  ...,  8.9736e-02,\n",
            "          -1.7655e-02,  7.9460e-02]]]), pooler_output=tensor([[-0.0305, -0.2197, -0.1904,  ..., -0.2279, -0.0569, -0.1524],\n",
            "        [-0.0097, -0.2143, -0.1902,  ..., -0.1941, -0.0545, -0.1595]]), hidden_states=None, past_key_values=None, attentions=None, cross_attentions=None)\n"
          ]
        }
      ]
    },
    {
      "cell_type": "markdown",
      "metadata": {
        "id": "009696c4",
        "papermill": {
          "duration": 0.050804,
          "end_time": "2021-11-10T14:30:55.877259",
          "exception": false,
          "start_time": "2021-11-10T14:30:55.826455",
          "status": "completed"
        },
        "tags": []
      },
      "source": [
        "### Fine-tuning for salary prediction (5 pts)\n",
        "\n",
        "Now let's put all this monstrosity to good use!\n",
        "\n",
        "Remember week5 when you've trained a convolutional neural network for salary prediction? Now let's see how transformers fare at this task.\n",
        "\n",
        "__The goal__ is to take one or more pre-trained models and fine-tune it for salary prediction. A good baseline solution would be to get RoBerta or T5 from [huggingface model list](https://huggingface.co/models) and fine-tune it to solve the task. After choosing the model, please take care to use the matching Tokenizer for preprocessing, as different models have different preprocessing requirements.\n",
        "\n",
        "\n",
        "There are no prompts this time: you will have to write everything from scratch. Although, feel free to reuse any code from the original salary prediction notebook :)"
      ],
      "id": "009696c4"
    },
    {
      "cell_type": "code",
      "metadata": {
        "execution": {
          "iopub.execute_input": "2021-11-10T14:30:55.985812Z",
          "iopub.status.busy": "2021-11-10T14:30:55.985085Z",
          "iopub.status.idle": "2021-11-10T14:31:08.249079Z",
          "shell.execute_reply": "2021-11-10T14:31:08.248564Z",
          "shell.execute_reply.started": "2021-11-10T13:25:57.906349Z"
        },
        "id": "b2645eda",
        "papermill": {
          "duration": 12.320212,
          "end_time": "2021-11-10T14:31:08.249202",
          "exception": false,
          "start_time": "2021-11-10T14:30:55.928990",
          "status": "completed"
        },
        "tags": [],
        "outputId": "35f9badd-0f19-45d3-f735-a3ad19a4ddfe"
      },
      "source": [
        "!wget https://www.dropbox.com/s/r9d1f3ve471osob/Train_rev1.zip?dl=1 -O data.zip\n",
        "!unzip -e data.zip"
      ],
      "id": "b2645eda",
      "execution_count": null,
      "outputs": [
        {
          "name": "stdout",
          "output_type": "stream",
          "text": [
            "huggingface/tokenizers: The current process just got forked, after parallelism has already been used. Disabling parallelism to avoid deadlocks...\n",
            "To disable this warning, you can either:\n",
            "\t- Avoid using `tokenizers` before the fork if possible\n",
            "\t- Explicitly set the environment variable TOKENIZERS_PARALLELISM=(true | false)\n",
            "--2021-11-10 14:30:56--  https://www.dropbox.com/s/r9d1f3ve471osob/Train_rev1.zip?dl=1\r\n",
            "Resolving www.dropbox.com (www.dropbox.com)... 162.125.9.18, 2620:100:601f:18::a27d:912\r\n",
            "Connecting to www.dropbox.com (www.dropbox.com)|162.125.9.18|:443... connected.\r\n",
            "HTTP request sent, awaiting response... 301 Moved Permanently\r\n",
            "Location: /s/dl/r9d1f3ve471osob/Train_rev1.zip [following]\r\n",
            "--2021-11-10 14:30:57--  https://www.dropbox.com/s/dl/r9d1f3ve471osob/Train_rev1.zip\r\n",
            "Reusing existing connection to www.dropbox.com:443.\r\n",
            "HTTP request sent, awaiting response... 302 Found\r\n",
            "Location: https://uc14139965a6b802af79ed78c384.dl.dropboxusercontent.com/cd/0/get/BZudtc_MB7K-83-6ZIQ76RWLieKxeNyzP7v2jAZApS-FepnDK20LQlRswSCd8zLok-t8s9Nlph6FaeJ7jen05E7rXvwQiwn22TlJC-qDfCUAV2P0_GCGKxpu_Y2aj3wPFVLgSXc7n7I1WiEIsn5og8LA/file?dl=1# [following]\r\n",
            "--2021-11-10 14:30:57--  https://uc14139965a6b802af79ed78c384.dl.dropboxusercontent.com/cd/0/get/BZudtc_MB7K-83-6ZIQ76RWLieKxeNyzP7v2jAZApS-FepnDK20LQlRswSCd8zLok-t8s9Nlph6FaeJ7jen05E7rXvwQiwn22TlJC-qDfCUAV2P0_GCGKxpu_Y2aj3wPFVLgSXc7n7I1WiEIsn5og8LA/file?dl=1\r\n",
            "Resolving uc14139965a6b802af79ed78c384.dl.dropboxusercontent.com (uc14139965a6b802af79ed78c384.dl.dropboxusercontent.com)... 162.125.9.15, 2620:100:601f:15::a27d:90f\r\n",
            "Connecting to uc14139965a6b802af79ed78c384.dl.dropboxusercontent.com (uc14139965a6b802af79ed78c384.dl.dropboxusercontent.com)|162.125.9.15|:443... connected.\r\n",
            "HTTP request sent, awaiting response... 200 OK\r\n",
            "Length: 128356352 (122M) [application/binary]\r\n",
            "Saving to: ‘data.zip’\r\n",
            "\r\n",
            "data.zip            100%[===================>] 122.41M  27.5MB/s    in 4.9s    \r\n",
            "\r\n",
            "2021-11-10 14:31:03 (24.8 MB/s) - ‘data.zip’ saved [128356352/128356352]\r\n",
            "\r\n",
            "huggingface/tokenizers: The current process just got forked, after parallelism has already been used. Disabling parallelism to avoid deadlocks...\n",
            "To disable this warning, you can either:\n",
            "\t- Avoid using `tokenizers` before the fork if possible\n",
            "\t- Explicitly set the environment variable TOKENIZERS_PARALLELISM=(true | false)\n",
            "Archive:  data.zip\r\n",
            "  inflating: Train_rev1.csv          \r\n"
          ]
        }
      ]
    },
    {
      "cell_type": "code",
      "metadata": {
        "execution": {
          "iopub.execute_input": "2021-11-10T14:31:08.375649Z",
          "iopub.status.busy": "2021-11-10T14:31:08.374872Z",
          "iopub.status.idle": "2021-11-10T14:31:08.376814Z",
          "shell.execute_reply": "2021-11-10T14:31:08.377236Z",
          "shell.execute_reply.started": "2021-11-10T13:26:10.532152Z"
        },
        "id": "adaf64e9",
        "papermill": {
          "duration": 0.067121,
          "end_time": "2021-11-10T14:31:08.377355",
          "exception": false,
          "start_time": "2021-11-10T14:31:08.310234",
          "status": "completed"
        },
        "tags": []
      },
      "source": [
        "import pandas as pd\n",
        "import numpy as np"
      ],
      "id": "adaf64e9",
      "execution_count": null,
      "outputs": []
    },
    {
      "cell_type": "code",
      "metadata": {
        "execution": {
          "iopub.execute_input": "2021-11-10T14:31:08.509892Z",
          "iopub.status.busy": "2021-11-10T14:31:08.505191Z",
          "iopub.status.idle": "2021-11-10T14:31:13.435306Z",
          "shell.execute_reply": "2021-11-10T14:31:13.435795Z",
          "shell.execute_reply.started": "2021-11-10T13:26:10.54141Z"
        },
        "id": "e819e661",
        "papermill": {
          "duration": 4.998403,
          "end_time": "2021-11-10T14:31:13.435945",
          "exception": false,
          "start_time": "2021-11-10T14:31:08.437542",
          "status": "completed"
        },
        "tags": [],
        "outputId": "4c84f36d-70f1-4185-d488-b73f540295fa"
      },
      "source": [
        "data = pd.read_csv(\"./Train_rev1.csv\", index_col=None)\n",
        "data['Log1pSalary'] = np.log1p(data['SalaryNormalized']).astype('float32')\n",
        "\n",
        "text_columns = [\"Title\", \"FullDescription\"]\n",
        "categorical_columns = [\"Category\", \"Company\", \"LocationNormalized\", \"ContractType\", \"ContractTime\"]\n",
        "target_column = \"Log1pSalary\"\n",
        "data[categorical_columns] = data[categorical_columns].fillna('NaN') # cast nan to string\n",
        "\n",
        "data = data.dropna()\n",
        "\n",
        "data.sample(3)"
      ],
      "id": "e819e661",
      "execution_count": null,
      "outputs": [
        {
          "data": {
            "text/html": [
              "<div>\n",
              "<style scoped>\n",
              "    .dataframe tbody tr th:only-of-type {\n",
              "        vertical-align: middle;\n",
              "    }\n",
              "\n",
              "    .dataframe tbody tr th {\n",
              "        vertical-align: top;\n",
              "    }\n",
              "\n",
              "    .dataframe thead th {\n",
              "        text-align: right;\n",
              "    }\n",
              "</style>\n",
              "<table border=\"1\" class=\"dataframe\">\n",
              "  <thead>\n",
              "    <tr style=\"text-align: right;\">\n",
              "      <th></th>\n",
              "      <th>Id</th>\n",
              "      <th>Title</th>\n",
              "      <th>FullDescription</th>\n",
              "      <th>LocationRaw</th>\n",
              "      <th>LocationNormalized</th>\n",
              "      <th>ContractType</th>\n",
              "      <th>ContractTime</th>\n",
              "      <th>Company</th>\n",
              "      <th>Category</th>\n",
              "      <th>SalaryRaw</th>\n",
              "      <th>SalaryNormalized</th>\n",
              "      <th>SourceName</th>\n",
              "      <th>Log1pSalary</th>\n",
              "    </tr>\n",
              "  </thead>\n",
              "  <tbody>\n",
              "    <tr>\n",
              "      <th>141482</th>\n",
              "      <td>70589626</td>\n",
              "      <td>Sales Admin Assistant</td>\n",
              "      <td>Our client based in Mildenhall seeks an experi...</td>\n",
              "      <td>Mildenhall</td>\n",
              "      <td>Mildenhall</td>\n",
              "      <td>full_time</td>\n",
              "      <td>NaN</td>\n",
              "      <td>Advantage Recruitment Ltd</td>\n",
              "      <td>Admin Jobs</td>\n",
              "      <td>15,000.00 - 18,000.00 per year</td>\n",
              "      <td>16500</td>\n",
              "      <td>Jobcentre Plus</td>\n",
              "      <td>9.711176</td>\n",
              "    </tr>\n",
              "    <tr>\n",
              "      <th>226890</th>\n",
              "      <td>72442949</td>\n",
              "      <td>Credit Controller</td>\n",
              "      <td>My client require a Credit Controller for a Te...</td>\n",
              "      <td>Redditch Worcestershire West Midlands</td>\n",
              "      <td>Redditch</td>\n",
              "      <td>NaN</td>\n",
              "      <td>contract</td>\n",
              "      <td>Touch Recruitment Ltd</td>\n",
              "      <td>Customer Services Jobs</td>\n",
              "      <td>Up to 6.50 per hour</td>\n",
              "      <td>12480</td>\n",
              "      <td>totaljobs.com</td>\n",
              "      <td>9.431963</td>\n",
              "    </tr>\n",
              "    <tr>\n",
              "      <th>212128</th>\n",
              "      <td>72228307</td>\n",
              "      <td>Head Chef  New Brasserie Opening  Milton Keyne...</td>\n",
              "      <td>Great Package on offer for an able Head Chef o...</td>\n",
              "      <td>Milton Keynes, Buckinghamshire, UK, Buckingham...</td>\n",
              "      <td>Milton Keynes</td>\n",
              "      <td>NaN</td>\n",
              "      <td>NaN</td>\n",
              "      <td>PTHR International Restaurants Bars</td>\n",
              "      <td>Hospitality &amp; Catering Jobs</td>\n",
              "      <td>From 28,000 to 35,000 per annum NEW OPENING!</td>\n",
              "      <td>31500</td>\n",
              "      <td>jobs.catererandhotelkeeper.com</td>\n",
              "      <td>10.357775</td>\n",
              "    </tr>\n",
              "  </tbody>\n",
              "</table>\n",
              "</div>"
            ],
            "text/plain": [
              "              Id                                              Title  \\\n",
              "141482  70589626                              Sales Admin Assistant   \n",
              "226890  72442949                                  Credit Controller   \n",
              "212128  72228307  Head Chef  New Brasserie Opening  Milton Keyne...   \n",
              "\n",
              "                                          FullDescription  \\\n",
              "141482  Our client based in Mildenhall seeks an experi...   \n",
              "226890  My client require a Credit Controller for a Te...   \n",
              "212128  Great Package on offer for an able Head Chef o...   \n",
              "\n",
              "                                              LocationRaw LocationNormalized  \\\n",
              "141482                                         Mildenhall         Mildenhall   \n",
              "226890              Redditch Worcestershire West Midlands           Redditch   \n",
              "212128  Milton Keynes, Buckinghamshire, UK, Buckingham...      Milton Keynes   \n",
              "\n",
              "       ContractType ContractTime                              Company  \\\n",
              "141482    full_time          NaN            Advantage Recruitment Ltd   \n",
              "226890          NaN     contract                Touch Recruitment Ltd   \n",
              "212128          NaN          NaN  PTHR International Restaurants Bars   \n",
              "\n",
              "                           Category  \\\n",
              "141482                   Admin Jobs   \n",
              "226890       Customer Services Jobs   \n",
              "212128  Hospitality & Catering Jobs   \n",
              "\n",
              "                                           SalaryRaw  SalaryNormalized  \\\n",
              "141482                15,000.00 - 18,000.00 per year             16500   \n",
              "226890                           Up to 6.50 per hour             12480   \n",
              "212128  From 28,000 to 35,000 per annum NEW OPENING!             31500   \n",
              "\n",
              "                            SourceName  Log1pSalary  \n",
              "141482                  Jobcentre Plus     9.711176  \n",
              "226890                   totaljobs.com     9.431963  \n",
              "212128  jobs.catererandhotelkeeper.com    10.357775  "
            ]
          },
          "execution_count": 13,
          "metadata": {},
          "output_type": "execute_result"
        }
      ]
    },
    {
      "cell_type": "code",
      "metadata": {
        "execution": {
          "iopub.execute_input": "2021-11-10T14:31:13.565975Z",
          "iopub.status.busy": "2021-11-10T14:31:13.565415Z",
          "iopub.status.idle": "2021-11-10T14:31:20.147396Z",
          "shell.execute_reply": "2021-11-10T14:31:20.157968Z",
          "shell.execute_reply.started": "2021-11-10T13:26:16.311631Z"
        },
        "id": "8943dc55",
        "papermill": {
          "duration": 6.659672,
          "end_time": "2021-11-10T14:31:20.158253",
          "exception": false,
          "start_time": "2021-11-10T14:31:13.498581",
          "status": "completed"
        },
        "tags": []
      },
      "source": [
        "import torch\n",
        "from transformers import AutoTokenizer, AutoModel, pipeline\n",
        "\n",
        "model_name = 'roberta-base'\n",
        "tokenizer = AutoTokenizer.from_pretrained(model_name)\n",
        "model = AutoModel.from_pretrained(model_name)\n"
      ],
      "id": "8943dc55",
      "execution_count": null,
      "outputs": []
    },
    {
      "cell_type": "code",
      "metadata": {
        "execution": {
          "iopub.execute_input": "2021-11-10T14:31:20.492507Z",
          "iopub.status.busy": "2021-11-10T14:31:20.491729Z",
          "iopub.status.idle": "2021-11-10T14:31:22.887450Z",
          "shell.execute_reply": "2021-11-10T14:31:22.887010Z",
          "shell.execute_reply.started": "2021-11-10T13:26:23.996182Z"
        },
        "id": "c14be02e",
        "papermill": {
          "duration": 2.503498,
          "end_time": "2021-11-10T14:31:22.887576",
          "exception": false,
          "start_time": "2021-11-10T14:31:20.384078",
          "status": "completed"
        },
        "tags": [],
        "outputId": "38b73b61-f158-4956-cbae-c37e708fcc8b"
      },
      "source": [
        "import matplotlib\n",
        "\n",
        "matplotlib.pyplot.hist(list(map(len, list(map(lambda x: x.split(), data[\"Title\"].values)))), bins=30)"
      ],
      "id": "c14be02e",
      "execution_count": null,
      "outputs": [
        {
          "data": {
            "text/plain": [
              "(array([5.6360e+03, 5.3403e+04, 5.8635e+04, 3.8919e+04, 0.0000e+00,\n",
              "        2.8820e+04, 2.1718e+04, 1.4915e+04, 0.0000e+00, 9.8250e+03,\n",
              "        6.1370e+03, 3.3670e+03, 0.0000e+00, 1.6870e+03, 8.1800e+02,\n",
              "        4.1200e+02, 1.8400e+02, 0.0000e+00, 1.2800e+02, 7.3000e+01,\n",
              "        3.8000e+01, 0.0000e+00, 1.1000e+01, 1.2000e+01, 9.0000e+00,\n",
              "        0.0000e+00, 4.0000e+00, 5.0000e+00, 7.0000e+00, 3.0000e+00]),\n",
              " array([ 1.        ,  1.76666667,  2.53333333,  3.3       ,  4.06666667,\n",
              "         4.83333333,  5.6       ,  6.36666667,  7.13333333,  7.9       ,\n",
              "         8.66666667,  9.43333333, 10.2       , 10.96666667, 11.73333333,\n",
              "        12.5       , 13.26666667, 14.03333333, 14.8       , 15.56666667,\n",
              "        16.33333333, 17.1       , 17.86666667, 18.63333333, 19.4       ,\n",
              "        20.16666667, 20.93333333, 21.7       , 22.46666667, 23.23333333,\n",
              "        24.        ]),\n",
              " <BarContainer object of 30 artists>)"
            ]
          },
          "execution_count": 15,
          "metadata": {},
          "output_type": "execute_result"
        },
        {
          "data": {
            "image/png": "[encoded data removed]",
            "text/plain": [
              "<Figure size 432x288 with 1 Axes>"
            ]
          },
          "metadata": {
            "needs_background": "light"
          },
          "output_type": "display_data"
        }
      ]
    },
    {
      "cell_type": "code",
      "metadata": {
        "execution": {
          "iopub.execute_input": "2021-11-10T14:31:23.081886Z",
          "iopub.status.busy": "2021-11-10T14:31:23.064808Z",
          "iopub.status.idle": "2021-11-10T14:31:33.717534Z",
          "shell.execute_reply": "2021-11-10T14:31:33.717965Z",
          "shell.execute_reply.started": "2021-11-10T13:26:26.712863Z"
        },
        "id": "84c0ac46",
        "papermill": {
          "duration": 10.766221,
          "end_time": "2021-11-10T14:31:33.718131",
          "exception": false,
          "start_time": "2021-11-10T14:31:22.951910",
          "status": "completed"
        },
        "tags": [],
        "outputId": "19a40874-1d82-4e2f-e355-3e36ad03f0c9"
      },
      "source": [
        "matplotlib.pyplot.hist(list(map(len, list(map(lambda x: x.split(), data[\"FullDescription\"].values)))), bins=100)"
      ],
      "id": "84c0ac46",
      "execution_count": null,
      "outputs": [
        {
          "data": {
            "text/plain": [
              "(array([1.1930e+03, 5.8850e+03, 6.5280e+03, 8.4140e+03, 1.1656e+04,\n",
              "        1.4338e+04, 1.6324e+04, 1.7367e+04, 1.7728e+04, 1.8064e+04,\n",
              "        1.7530e+04, 1.6188e+04, 1.4568e+04, 1.3420e+04, 1.1420e+04,\n",
              "        9.5560e+03, 7.8940e+03, 6.7130e+03, 5.5170e+03, 4.4110e+03,\n",
              "        3.6240e+03, 2.9300e+03, 2.6170e+03, 2.0230e+03, 1.6650e+03,\n",
              "        1.2960e+03, 1.0810e+03, 8.9700e+02, 6.8200e+02, 5.4800e+02,\n",
              "        4.7200e+02, 3.4500e+02, 2.9400e+02, 2.5600e+02, 1.8000e+02,\n",
              "        2.3200e+02, 1.9600e+02, 9.7000e+01, 9.7000e+01, 8.6000e+01,\n",
              "        5.7000e+01, 3.6000e+01, 5.3000e+01, 3.9000e+01, 3.4000e+01,\n",
              "        2.8000e+01, 2.4000e+01, 1.7000e+01, 1.5000e+01, 1.3000e+01,\n",
              "        1.9000e+01, 1.5000e+01, 1.0000e+01, 4.0000e+00, 1.1000e+01,\n",
              "        7.0000e+00, 2.0000e+00, 6.0000e+00, 3.0000e+00, 2.0000e+00,\n",
              "        2.0000e+00, 4.0000e+00, 4.0000e+00, 0.0000e+00, 2.0000e+00,\n",
              "        3.0000e+00, 1.0000e+00, 1.0000e+00, 0.0000e+00, 2.0000e+00,\n",
              "        3.0000e+00, 1.0000e+00, 3.0000e+00, 0.0000e+00, 1.0000e+00,\n",
              "        1.0000e+00, 0.0000e+00, 0.0000e+00, 0.0000e+00, 1.0000e+00,\n",
              "        0.0000e+00, 0.0000e+00, 0.0000e+00, 1.0000e+00, 0.0000e+00,\n",
              "        0.0000e+00, 2.0000e+00, 2.0000e+00, 0.0000e+00, 2.0000e+00,\n",
              "        0.0000e+00, 0.0000e+00, 0.0000e+00, 0.0000e+00, 0.0000e+00,\n",
              "        0.0000e+00, 1.0000e+00, 1.0000e+00, 0.0000e+00, 1.0000e+00]),\n",
              " array([  10.  ,   31.03,   52.06,   73.09,   94.12,  115.15,  136.18,\n",
              "         157.21,  178.24,  199.27,  220.3 ,  241.33,  262.36,  283.39,\n",
              "         304.42,  325.45,  346.48,  367.51,  388.54,  409.57,  430.6 ,\n",
              "         451.63,  472.66,  493.69,  514.72,  535.75,  556.78,  577.81,\n",
              "         598.84,  619.87,  640.9 ,  661.93,  682.96,  703.99,  725.02,\n",
              "         746.05,  767.08,  788.11,  809.14,  830.17,  851.2 ,  872.23,\n",
              "         893.26,  914.29,  935.32,  956.35,  977.38,  998.41, 1019.44,\n",
              "        1040.47, 1061.5 , 1082.53, 1103.56, 1124.59, 1145.62, 1166.65,\n",
              "        1187.68, 1208.71, 1229.74, 1250.77, 1271.8 , 1292.83, 1313.86,\n",
              "        1334.89, 1355.92, 1376.95, 1397.98, 1419.01, 1440.04, 1461.07,\n",
              "        1482.1 , 1503.13, 1524.16, 1545.19, 1566.22, 1587.25, 1608.28,\n",
              "        1629.31, 1650.34, 1671.37, 1692.4 , 1713.43, 1734.46, 1755.49,\n",
              "        1776.52, 1797.55, 1818.58, 1839.61, 1860.64, 1881.67, 1902.7 ,\n",
              "        1923.73, 1944.76, 1965.79, 1986.82, 2007.85, 2028.88, 2049.91,\n",
              "        2070.94, 2091.97, 2113.  ]),\n",
              " <BarContainer object of 100 artists>)"
            ]
          },
          "execution_count": 16,
          "metadata": {},
          "output_type": "execute_result"
        },
        {
          "data": {
            "image/png": "[encoded data removed]",
            "text/plain": [
              "<Figure size 432x288 with 1 Axes>"
            ]
          },
          "metadata": {
            "needs_background": "light"
          },
          "output_type": "display_data"
        }
      ]
    },
    {
      "cell_type": "code",
      "metadata": {
        "execution": {
          "iopub.execute_input": "2021-11-10T14:31:33.900083Z",
          "iopub.status.busy": "2021-11-10T14:31:33.899260Z",
          "iopub.status.idle": "2021-11-10T14:31:33.901765Z",
          "shell.execute_reply": "2021-11-10T14:31:33.901301Z",
          "shell.execute_reply.started": "2021-11-10T13:26:38.766913Z"
        },
        "id": "5fe87184",
        "papermill": {
          "duration": 0.119445,
          "end_time": "2021-11-10T14:31:33.901889",
          "exception": false,
          "start_time": "2021-11-10T14:31:33.782444",
          "status": "completed"
        },
        "tags": []
      },
      "source": [
        "device = torch.device(\"cuda:0\" if torch.cuda.is_available() else \"cpu\")"
      ],
      "id": "5fe87184",
      "execution_count": null,
      "outputs": []
    },
    {
      "cell_type": "code",
      "metadata": {
        "execution": {
          "iopub.execute_input": "2021-11-10T14:31:34.032547Z",
          "iopub.status.busy": "2021-11-10T14:31:34.031921Z",
          "iopub.status.idle": "2021-11-10T14:31:34.034869Z",
          "shell.execute_reply": "2021-11-10T14:31:34.035273Z",
          "shell.execute_reply.started": "2021-11-09T20:09:12.773925Z"
        },
        "papermill": {
          "duration": 0.070717,
          "end_time": "2021-11-10T14:31:34.035392",
          "exception": false,
          "start_time": "2021-11-10T14:31:33.964675",
          "status": "completed"
        },
        "tags": [],
        "id": "567c0993",
        "outputId": "0f429bce-335c-42c6-df52-c959a3eb5284"
      },
      "source": [
        "device"
      ],
      "id": "567c0993",
      "execution_count": null,
      "outputs": [
        {
          "data": {
            "text/plain": [
              "device(type='cuda', index=0)"
            ]
          },
          "execution_count": 18,
          "metadata": {},
          "output_type": "execute_result"
        }
      ]
    },
    {
      "cell_type": "code",
      "metadata": {
        "execution": {
          "iopub.execute_input": "2021-11-10T14:31:34.166311Z",
          "iopub.status.busy": "2021-11-10T14:31:34.165543Z",
          "iopub.status.idle": "2021-11-10T14:31:34.168051Z",
          "shell.execute_reply": "2021-11-10T14:31:34.167612Z",
          "shell.execute_reply.started": "2021-11-09T20:09:12.792318Z"
        },
        "id": "6cb93258",
        "papermill": {
          "duration": 0.069571,
          "end_time": "2021-11-10T14:31:34.168159",
          "exception": false,
          "start_time": "2021-11-10T14:31:34.098588",
          "status": "completed"
        },
        "tags": []
      },
      "source": [
        "def to_gpu(Tokenizer_output):\n",
        "  output = {}\n",
        "  for k, v in Tokenizer_output.items():\n",
        "    output[k] = v.to(device)\n",
        "\n",
        "  return output"
      ],
      "id": "6cb93258",
      "execution_count": null,
      "outputs": []
    },
    {
      "cell_type": "code",
      "metadata": {
        "execution": {
          "iopub.execute_input": "2021-11-10T14:31:34.296621Z",
          "iopub.status.busy": "2021-11-10T14:31:34.295947Z",
          "iopub.status.idle": "2021-11-10T14:31:34.298483Z",
          "shell.execute_reply": "2021-11-10T14:31:34.298063Z",
          "shell.execute_reply.started": "2021-11-10T10:29:20.912105Z"
        },
        "papermill": {
          "duration": 0.067554,
          "end_time": "2021-11-10T14:31:34.298581",
          "exception": false,
          "start_time": "2021-11-10T14:31:34.231027",
          "status": "completed"
        },
        "tags": [],
        "id": "87088af8"
      },
      "source": [
        "from tqdm import trange"
      ],
      "id": "87088af8",
      "execution_count": null,
      "outputs": []
    },
    {
      "cell_type": "markdown",
      "metadata": {
        "papermill": {
          "duration": 0.063269,
          "end_time": "2021-11-10T14:31:34.424075",
          "exception": false,
          "start_time": "2021-11-10T14:31:34.360806",
          "status": "completed"
        },
        "tags": [],
        "id": "fefe43fa"
      },
      "source": [
        "I commented this code because I saved torch tensors"
      ],
      "id": "fefe43fa"
    },
    {
      "cell_type": "code",
      "metadata": {
        "execution": {
          "iopub.execute_input": "2021-11-10T14:31:34.552915Z",
          "iopub.status.busy": "2021-11-10T14:31:34.552283Z",
          "iopub.status.idle": "2021-11-10T14:31:34.555696Z",
          "shell.execute_reply": "2021-11-10T14:31:34.555281Z",
          "shell.execute_reply.started": "2021-11-09T20:09:12.802574Z"
        },
        "id": "482ee0d8",
        "papermill": {
          "duration": 0.069341,
          "end_time": "2021-11-10T14:31:34.555805",
          "exception": false,
          "start_time": "2021-11-10T14:31:34.486464",
          "status": "completed"
        },
        "tags": []
      },
      "source": [
        "# from tqdm import trange\n",
        "\n",
        "# title_emb = torch.empty((0)).to(device)\n",
        "# indexes = list(range(0, data.shape[0], 128))\n",
        "# indexes.append(data.shape[0])\n",
        "# for ii in trange(0, len(indexes) - 1):\n",
        "#   i = indexes[ii]\n",
        "#   j = indexes[ii + 1]\n",
        "#   tokens_info = tokenizer(list(data[\"Title\"].iloc[i:j].values), padding=True, truncation=True, return_tensors=\"pt\", max_length=15)\n",
        "#   with torch.no_grad():\n",
        "#       out = model(**tokens_info)\n",
        "\n",
        "#   title_emb = torch.cat((title_emb, out['pooler_output']), 0) \n",
        "\n",
        "  # tokens_info_2 = tokenizer(list(data['FullDescription'].iloc[i:j].values), padding=True, truncation=True, return_tensors=\"pt\", max_length=500)\n",
        "  # with torch.no_grad():\n",
        "  #     out_2 = model(**tokens_info_2)\n",
        "\n",
        "  \n",
        "  # desc_emb = torch.cat((desc_emb, out_2.pooler_output), 0) \n"
      ],
      "id": "482ee0d8",
      "execution_count": null,
      "outputs": []
    },
    {
      "cell_type": "code",
      "metadata": {
        "execution": {
          "iopub.execute_input": "2021-11-10T14:31:34.683561Z",
          "iopub.status.busy": "2021-11-10T14:31:34.682848Z",
          "iopub.status.idle": "2021-11-10T14:31:34.685279Z",
          "shell.execute_reply": "2021-11-10T14:31:34.684867Z",
          "shell.execute_reply.started": "2021-11-10T10:30:49.455619Z"
        },
        "id": "25fb8078",
        "papermill": {
          "duration": 0.067595,
          "end_time": "2021-11-10T14:31:34.685379",
          "exception": false,
          "start_time": "2021-11-10T14:31:34.617784",
          "status": "completed"
        },
        "tags": []
      },
      "source": [
        "# indexes = list(range(0, data.shape[0], 128))\n",
        "# indexes.append(data.shape[0])\n",
        "# desc_emb = torch.empty((0))\n",
        "# for ii in trange(0, len(indexes) - 1):\n",
        "#   i = indexes[ii]\n",
        "#   j = indexes[ii + 1]\n",
        "#   tokens_info = tokenizer(list(data['FullDescription'].iloc[i:j].values), padding=True, truncation=True, return_tensors=\"pt\", max_length=15)\n",
        "#   with torch.no_grad():\n",
        "#       out = model(**tokens_info)\n",
        "  \n",
        "#   desc_emb = torch.cat((desc_emb, out['pooler_output']), 0) "
      ],
      "id": "25fb8078",
      "execution_count": null,
      "outputs": []
    },
    {
      "cell_type": "code",
      "metadata": {
        "execution": {
          "iopub.execute_input": "2021-11-10T14:31:34.813841Z",
          "iopub.status.busy": "2021-11-10T14:31:34.813150Z",
          "iopub.status.idle": "2021-11-10T14:31:34.815892Z",
          "shell.execute_reply": "2021-11-10T14:31:34.815404Z",
          "shell.execute_reply.started": "2021-11-09T21:06:14.570091Z"
        },
        "id": "7f59fc85",
        "papermill": {
          "duration": 0.068257,
          "end_time": "2021-11-10T14:31:34.816004",
          "exception": false,
          "start_time": "2021-11-10T14:31:34.747747",
          "status": "completed"
        },
        "tags": []
      },
      "source": [
        "# torch.save(title_emb, 'title_emb.pt')"
      ],
      "id": "7f59fc85",
      "execution_count": null,
      "outputs": []
    },
    {
      "cell_type": "code",
      "metadata": {
        "execution": {
          "iopub.execute_input": "2021-11-10T14:31:34.944939Z",
          "iopub.status.busy": "2021-11-10T14:31:34.944112Z",
          "iopub.status.idle": "2021-11-10T14:31:34.946839Z",
          "shell.execute_reply": "2021-11-10T14:31:34.946356Z",
          "shell.execute_reply.started": "2021-11-10T12:04:36.285001Z"
        },
        "papermill": {
          "duration": 0.06842,
          "end_time": "2021-11-10T14:31:34.946950",
          "exception": false,
          "start_time": "2021-11-10T14:31:34.878530",
          "status": "completed"
        },
        "tags": [],
        "id": "500d7252"
      },
      "source": [
        "# torch.save(desc_emb, 'desc_emb.pt')"
      ],
      "id": "500d7252",
      "execution_count": null,
      "outputs": []
    },
    {
      "cell_type": "code",
      "metadata": {
        "execution": {
          "iopub.execute_input": "2021-11-10T14:31:35.077055Z",
          "iopub.status.busy": "2021-11-10T14:31:35.076446Z",
          "iopub.status.idle": "2021-11-10T14:31:42.062299Z",
          "shell.execute_reply": "2021-11-10T14:31:42.061371Z",
          "shell.execute_reply.started": "2021-11-10T13:26:38.827999Z"
        },
        "papermill": {
          "duration": 7.051815,
          "end_time": "2021-11-10T14:31:42.062462",
          "exception": false,
          "start_time": "2021-11-10T14:31:35.010647",
          "status": "completed"
        },
        "tags": [],
        "id": "cc89903e"
      },
      "source": [
        "title_emb = torch.load('../input/seminar7-data/title_emb.pt')"
      ],
      "id": "cc89903e",
      "execution_count": null,
      "outputs": []
    },
    {
      "cell_type": "code",
      "metadata": {
        "execution": {
          "iopub.execute_input": "2021-11-10T14:31:42.194998Z",
          "iopub.status.busy": "2021-11-10T14:31:42.194424Z",
          "iopub.status.idle": "2021-11-10T14:31:46.628380Z",
          "shell.execute_reply": "2021-11-10T14:31:46.627890Z",
          "shell.execute_reply.started": "2021-11-10T13:26:45.187102Z"
        },
        "papermill": {
          "duration": 4.501607,
          "end_time": "2021-11-10T14:31:46.628522",
          "exception": false,
          "start_time": "2021-11-10T14:31:42.126915",
          "status": "completed"
        },
        "tags": [],
        "id": "e2f8d1de"
      },
      "source": [
        "desс_emb = torch.load('../input/seminar7-data/desc_emb.pt') "
      ],
      "id": "e2f8d1de",
      "execution_count": null,
      "outputs": []
    },
    {
      "cell_type": "code",
      "metadata": {
        "execution": {
          "iopub.execute_input": "2021-11-10T14:31:46.776357Z",
          "iopub.status.busy": "2021-11-10T14:31:46.774616Z",
          "iopub.status.idle": "2021-11-10T14:31:46.777090Z",
          "shell.execute_reply": "2021-11-10T14:31:46.777688Z",
          "shell.execute_reply.started": "2021-11-10T13:26:49.856331Z"
        },
        "papermill": {
          "duration": 0.080272,
          "end_time": "2021-11-10T14:31:46.777831",
          "exception": false,
          "start_time": "2021-11-10T14:31:46.697559",
          "status": "completed"
        },
        "tags": [],
        "id": "cca00e29"
      },
      "source": [
        "dict_emb = {}\n",
        "dict_emb['FullDescription'] = desс_emb\n",
        "dict_emb['Title'] = title_emb"
      ],
      "id": "cca00e29",
      "execution_count": null,
      "outputs": []
    },
    {
      "cell_type": "code",
      "metadata": {
        "execution": {
          "iopub.execute_input": "2021-11-10T14:31:46.913956Z",
          "iopub.status.busy": "2021-11-10T14:31:46.913298Z",
          "iopub.status.idle": "2021-11-10T14:31:47.807014Z",
          "shell.execute_reply": "2021-11-10T14:31:47.807824Z",
          "shell.execute_reply.started": "2021-11-10T13:55:50.748361Z"
        },
        "id": "3506bf61",
        "papermill": {
          "duration": 0.962508,
          "end_time": "2021-11-10T14:31:47.808158",
          "exception": false,
          "start_time": "2021-11-10T14:31:46.845650",
          "status": "completed"
        },
        "tags": [],
        "outputId": "5099694b-150e-41fb-f524-da9a7fecd4bf"
      },
      "source": [
        "from sklearn.model_selection import train_test_split\n",
        "dict_emb_test = {}\n",
        "dict_emb_train = {}\n",
        "\n",
        "data_train, data_val, dict_emb_train['FullDescription'], dict_emb_test['FullDescription'], dict_emb_train['Title'], dict_emb_test['Title'] = train_test_split(data, dict_emb['FullDescription'], dict_emb['Title'], test_size=0.1, random_state=42)\n",
        "\n",
        "print(\"Train size = \", len(data_train))\n",
        "print(\"Validation size = \", len(data_val))"
      ],
      "id": "3506bf61",
      "execution_count": null,
      "outputs": [
        {
          "name": "stdout",
          "output_type": "stream",
          "text": [
            "Train size =  220289\n",
            "Validation size =  24477\n"
          ]
        }
      ]
    },
    {
      "cell_type": "code",
      "metadata": {
        "execution": {
          "iopub.execute_input": "2021-11-10T14:31:48.041700Z",
          "iopub.status.busy": "2021-11-10T14:31:48.040861Z",
          "iopub.status.idle": "2021-11-10T14:31:57.004103Z",
          "shell.execute_reply": "2021-11-10T14:31:57.003596Z",
          "shell.execute_reply.started": "2021-11-10T13:31:44.818087Z"
        },
        "id": "72ea5fd1",
        "papermill": {
          "duration": 9.082605,
          "end_time": "2021-11-10T14:31:57.004242",
          "exception": false,
          "start_time": "2021-11-10T14:31:47.921637",
          "status": "completed"
        },
        "tags": [],
        "outputId": "ccaac0d8-c1b9-46b4-c62f-38b5db18e3e5"
      },
      "source": [
        "from sklearn.feature_extraction import DictVectorizer\n",
        "from collections import Counter\n",
        "\n",
        "# we only consider top-1k most frequent companies to minimize memory usage\n",
        "top_companies, top_counts = zip(*Counter(data['Company']).most_common(1000))\n",
        "recognized_companies = set(top_companies)\n",
        "data[\"Company\"] = data[\"Company\"].apply(lambda comp: comp if comp in recognized_companies else \"Other\")\n",
        "\n",
        "categorical_vectorizer = DictVectorizer(dtype=np.float32, sparse=False)\n",
        "categorical_vectorizer.fit(data[categorical_columns].apply(dict, axis=1))"
      ],
      "id": "72ea5fd1",
      "execution_count": null,
      "outputs": [
        {
          "data": {
            "text/plain": [
              "DictVectorizer(dtype=<class 'numpy.float32'>, sparse=False)"
            ]
          },
          "execution_count": 29,
          "metadata": {},
          "output_type": "execute_result"
        }
      ]
    },
    {
      "cell_type": "code",
      "metadata": {
        "execution": {
          "iopub.execute_input": "2021-11-10T14:31:57.139425Z",
          "iopub.status.busy": "2021-11-10T14:31:57.138613Z",
          "iopub.status.idle": "2021-11-10T14:31:57.141051Z",
          "shell.execute_reply": "2021-11-10T14:31:57.140600Z"
        },
        "id": "e8c420bc",
        "papermill": {
          "duration": 0.071556,
          "end_time": "2021-11-10T14:31:57.141160",
          "exception": false,
          "start_time": "2021-11-10T14:31:57.069604",
          "status": "completed"
        },
        "tags": []
      },
      "source": [
        "def generate_batch(data, emb, batch_size=None, replace=True, max_len=None):\n",
        "    \"\"\"\n",
        "    Creates a pytorch-friendly dict from the batch data.\n",
        "    :returns: a dict with {'title' : int64[batch, title_max_len]\n",
        "    \"\"\"\n",
        "    if batch_size is not None:\n",
        "        data = data.sample(batch_size, replace=replace)\n",
        "    \n",
        "    batch = {}\n",
        "    for col in text_columns:\n",
        "        batch[col] = emb[col][:,:max_len]\n",
        "    \n",
        "    batch['Categorical'] = categorical_vectorizer.transform(data[categorical_columns].apply(dict, axis=1))\n",
        "    \n",
        "    if target_column in data.columns:\n",
        "        batch[target_column] = data[target_column].values\n",
        "    \n",
        "    return batch"
      ],
      "id": "e8c420bc",
      "execution_count": null,
      "outputs": []
    },
    {
      "cell_type": "code",
      "metadata": {
        "execution": {
          "iopub.execute_input": "2021-11-10T14:31:57.274554Z",
          "iopub.status.busy": "2021-11-10T14:31:57.274067Z",
          "iopub.status.idle": "2021-11-10T14:31:57.280998Z",
          "shell.execute_reply": "2021-11-10T14:31:57.281365Z",
          "shell.execute_reply.started": "2021-11-10T13:32:01.030534Z"
        },
        "id": "cf21599d",
        "papermill": {
          "duration": 0.077638,
          "end_time": "2021-11-10T14:31:57.281513",
          "exception": false,
          "start_time": "2021-11-10T14:31:57.203875",
          "status": "completed"
        },
        "tags": [],
        "outputId": "29cd1713-a6d3-4a30-d53a-c25f125bcd9c"
      },
      "source": [
        "generate_batch(data_train, dict_emb, 3, max_len=10)"
      ],
      "id": "cf21599d",
      "execution_count": null,
      "outputs": [
        {
          "data": {
            "text/plain": [
              "{'Title': tensor([[ 0.0034, -0.2081, -0.2206,  ..., -0.0828, -0.0623, -0.1728],\n",
              "         [-0.0012, -0.2126, -0.2169,  ..., -0.0880, -0.0598, -0.1694],\n",
              "         [-0.0046, -0.2096, -0.2174,  ..., -0.0875, -0.0593, -0.1712],\n",
              "         ...,\n",
              "         [ 0.0024, -0.2189, -0.2300,  ..., -0.0812, -0.0680, -0.1704],\n",
              "         [-0.0052, -0.2216, -0.2247,  ..., -0.0896, -0.0465, -0.1786],\n",
              "         [-0.0007, -0.2151, -0.2240,  ..., -0.0860, -0.0682, -0.1690]]),\n",
              " 'FullDescription': tensor([[-9.4442e-05, -2.1875e-01, -2.3674e-01,  ..., -8.4770e-02,\n",
              "          -6.5767e-02, -1.6556e-01],\n",
              "         [ 3.7353e-03, -2.2302e-01, -2.1797e-01,  ..., -6.3446e-02,\n",
              "          -6.7696e-02, -1.6770e-01],\n",
              "         [-7.4786e-03, -2.0219e-01, -2.2676e-01,  ..., -6.4800e-02,\n",
              "          -6.9304e-02, -1.6972e-01],\n",
              "         ...,\n",
              "         [ 1.8934e-04, -2.2454e-01, -2.3163e-01,  ..., -7.4595e-02,\n",
              "          -6.1491e-02, -1.7638e-01],\n",
              "         [ 4.8062e-03, -2.1392e-01, -2.2853e-01,  ..., -7.2845e-02,\n",
              "          -6.1521e-02, -1.7667e-01],\n",
              "         [ 2.8130e-03, -2.2120e-01, -2.2783e-01,  ..., -8.0535e-02,\n",
              "          -6.2091e-02, -1.5386e-01]]),\n",
              " 'Categorical': array([[0., 0., 0., ..., 0., 0., 0.],\n",
              "        [0., 0., 0., ..., 0., 0., 0.],\n",
              "        [0., 0., 0., ..., 0., 0., 0.]], dtype=float32),\n",
              " 'Log1pSalary': array([10.308986, 11.350418, 10.59666 ], dtype=float32)}"
            ]
          },
          "execution_count": 31,
          "metadata": {},
          "output_type": "execute_result"
        }
      ]
    },
    {
      "cell_type": "code",
      "metadata": {
        "execution": {
          "iopub.execute_input": "2021-11-10T14:31:57.414992Z",
          "iopub.status.busy": "2021-11-10T14:31:57.414235Z",
          "iopub.status.idle": "2021-11-10T14:31:57.416605Z",
          "shell.execute_reply": "2021-11-10T14:31:57.416203Z",
          "shell.execute_reply.started": "2021-11-10T13:51:44.329356Z"
        },
        "papermill": {
          "duration": 0.071317,
          "end_time": "2021-11-10T14:31:57.416735",
          "exception": false,
          "start_time": "2021-11-10T14:31:57.345418",
          "status": "completed"
        },
        "tags": [],
        "id": "b90e8b4e"
      },
      "source": [
        "def compute_loss(reference, prediction):\n",
        "    \"\"\"\n",
        "    Computes objective for minimization.\n",
        "    By deafult we minimize MSE, but you are encouraged to try mix up MSE, MAE, huber loss, etc.\n",
        "    \"\"\"\n",
        "    return torch.mean((prediction - reference) ** 2)\n",
        "\n",
        "def compute_mae(reference, prediction):\n",
        "    \"\"\" Compute MAE on actual salary, assuming your model outputs log1p(salary)\"\"\"\n",
        "    return torch.abs(torch.exp(reference - 1) - torch.exp(prediction - 1)).mean()"
      ],
      "id": "b90e8b4e",
      "execution_count": null,
      "outputs": []
    },
    {
      "cell_type": "code",
      "metadata": {
        "execution": {
          "iopub.execute_input": "2021-11-10T14:31:57.548460Z",
          "iopub.status.busy": "2021-11-10T14:31:57.547721Z",
          "iopub.status.idle": "2021-11-10T14:31:57.550099Z",
          "shell.execute_reply": "2021-11-10T14:31:57.549635Z",
          "shell.execute_reply.started": "2021-11-10T13:39:04.226193Z"
        },
        "papermill": {
          "duration": 0.070441,
          "end_time": "2021-11-10T14:31:57.550200",
          "exception": false,
          "start_time": "2021-11-10T14:31:57.479759",
          "status": "completed"
        },
        "tags": [],
        "id": "fea6490e"
      },
      "source": [
        "import torch, torch.nn as nn\n",
        "import torch.nn.functional as F\n",
        "from torch.autograd import Variable\n",
        "\n",
        "class GlobalMaxPooling(nn.Module):\n",
        "    def __init__(self, dim=-1):\n",
        "        super(self.__class__, self).__init__()\n",
        "        self.dim = dim\n",
        "        \n",
        "    def forward(self, x):\n",
        "        return x.max(dim=self.dim)[0]"
      ],
      "id": "fea6490e",
      "execution_count": null,
      "outputs": []
    },
    {
      "cell_type": "code",
      "metadata": {
        "execution": {
          "iopub.execute_input": "2021-11-10T14:31:57.681044Z",
          "iopub.status.busy": "2021-11-10T14:31:57.680323Z",
          "iopub.status.idle": "2021-11-10T14:31:57.682297Z",
          "shell.execute_reply": "2021-11-10T14:31:57.682675Z",
          "shell.execute_reply.started": "2021-11-10T13:52:22.738543Z"
        },
        "id": "b66bd154",
        "papermill": {
          "duration": 0.069737,
          "end_time": "2021-11-10T14:31:57.682804",
          "exception": false,
          "start_time": "2021-11-10T14:31:57.613067",
          "status": "completed"
        },
        "tags": []
      },
      "source": [
        "class NewTitleEncoder(nn.Module):\n",
        "\n",
        "    def __init__(self, out_size=32): # n_tokens=len(tokens),\n",
        "        super(self.__class__, self).__init__()\n",
        "        self.dense = nn.Linear(768, out_size)\n",
        "\n",
        "    def forward(self, text_ix, hidden=None):\n",
        "        h = text_ix\n",
        "        h = self.dense(h)\n",
        "\n",
        "        return h"
      ],
      "id": "b66bd154",
      "execution_count": null,
      "outputs": []
    },
    {
      "cell_type": "code",
      "metadata": {
        "execution": {
          "iopub.execute_input": "2021-11-10T14:31:57.816500Z",
          "iopub.status.busy": "2021-11-10T14:31:57.815749Z",
          "iopub.status.idle": "2021-11-10T14:31:57.818376Z",
          "shell.execute_reply": "2021-11-10T14:31:57.817936Z",
          "shell.execute_reply.started": "2021-11-10T13:52:23.193919Z"
        },
        "id": "963a5f7c",
        "papermill": {
          "duration": 0.070457,
          "end_time": "2021-11-10T14:31:57.818481",
          "exception": false,
          "start_time": "2021-11-10T14:31:57.748024",
          "status": "completed"
        },
        "tags": []
      },
      "source": [
        "class NewDescriptionEncoder(nn.Module):\n",
        "    def __init__(self, out_size=32): # n_tokens=len(tokens),\n",
        "        super(self.__class__, self).__init__()\n",
        "        self.dense = nn.Linear(768, out_size)\n",
        "\n",
        "    def forward(self, text_ix, hidden=None):\n",
        "        h = text_ix\n",
        "        h = self.dense(h)\n",
        "\n",
        "        return h\n",
        "\n"
      ],
      "id": "963a5f7c",
      "execution_count": null,
      "outputs": []
    },
    {
      "cell_type": "code",
      "metadata": {
        "execution": {
          "iopub.execute_input": "2021-11-10T14:31:57.964294Z",
          "iopub.status.busy": "2021-11-10T14:31:57.963538Z",
          "iopub.status.idle": "2021-11-10T14:31:57.965963Z",
          "shell.execute_reply": "2021-11-10T14:31:57.965546Z",
          "shell.execute_reply.started": "2021-11-10T13:52:24.434911Z"
        },
        "id": "cbeba85c",
        "papermill": {
          "duration": 0.076775,
          "end_time": "2021-11-10T14:31:57.966065",
          "exception": false,
          "start_time": "2021-11-10T14:31:57.889290",
          "status": "completed"
        },
        "tags": []
      },
      "source": [
        "class NewFullNetwork(nn.Module):\n",
        "    \"\"\"\n",
        "    This class does all the steps from (title, desc, categorical) features -> predicted target\n",
        "    It unites title & desc encoders you defined above as long as some layers for head and categorical branch.\n",
        "    \"\"\"\n",
        "    \n",
        "    def __init__(self,  n_cat_features=len(categorical_vectorizer.vocabulary_)): #n_tokens=len(tokens),\n",
        "        super(self.__class__, self).__init__()\n",
        "        \n",
        "        self.title_encoder = NewTitleEncoder(out_size=64)\n",
        "        self.desc_encoder = NewDescriptionEncoder(out_size=64)\n",
        "        \n",
        "        # define layers for categorical features. A few dense layers would do.\n",
        "        self.layers = nn.Sequential(\n",
        "            nn.Linear(n_cat_features, 128),\n",
        "            nn.ReLU(),\n",
        "            nn.Linear(128, 32)\n",
        "        )\n",
        "        \n",
        "        # define \"output\" layers that process depend the three encoded vectors into answer\n",
        "        self.out = nn.Linear(160, 1)\n",
        "        \n",
        "        \n",
        "    def forward(self, title_ix, desc_ix, cat_features):\n",
        "        \"\"\"\n",
        "        :param title_ix: int32 Variable [batch, title_len], job titles encoded by as_matrix\n",
        "        :param desc_ix:  int32 Variable [batch, desc_len] , job descriptions encoded by as_matrix\n",
        "        :param cat_features: float32 Variable [batch, n_cat_features]\n",
        "        :returns: float32 Variable 1d [batch], predicted log1p-salary\n",
        "        \"\"\"\n",
        "        \n",
        "        # process each data source with it's respective encoder\n",
        "        title_h = self.title_encoder(title_ix)\n",
        "        desc_h = self.desc_encoder(desc_ix)\n",
        "        \n",
        "        # apply categorical encoder\n",
        "        cat_h = self.layers(cat_features)\n",
        "        \n",
        "        # concatenate all vectors together...\n",
        "        joint_h = torch.cat([title_h, desc_h, cat_h], dim=1)\n",
        "        \n",
        "        # ... and stack a few more layers at the top\n",
        "        out = self.out(joint_h)\n",
        "        \n",
        "        # Note 1: do not forget to select first columns, [:, 0], to get to 1d outputs\n",
        "        # Note 2: please do not use output nonlinearities.\n",
        "        \n",
        "        return out[:, 0]"
      ],
      "id": "cbeba85c",
      "execution_count": null,
      "outputs": []
    },
    {
      "cell_type": "code",
      "metadata": {
        "execution": {
          "iopub.execute_input": "2021-11-10T14:31:58.098629Z",
          "iopub.status.busy": "2021-11-10T14:31:58.097918Z",
          "iopub.status.idle": "2021-11-10T14:32:01.988934Z",
          "shell.execute_reply": "2021-11-10T14:32:01.988353Z",
          "shell.execute_reply.started": "2021-11-10T13:52:24.922521Z"
        },
        "id": "8f7ab03a",
        "papermill": {
          "duration": 3.958032,
          "end_time": "2021-11-10T14:32:01.989058",
          "exception": false,
          "start_time": "2021-11-10T14:31:58.031026",
          "status": "completed"
        },
        "tags": []
      },
      "source": [
        "model = NewFullNetwork()\n",
        "model = model.to(device)\n",
        "opt = torch.optim.Adam(model.parameters(), lr=1e-3)"
      ],
      "id": "8f7ab03a",
      "execution_count": null,
      "outputs": []
    },
    {
      "cell_type": "code",
      "metadata": {
        "execution": {
          "iopub.execute_input": "2021-11-10T14:32:02.126733Z",
          "iopub.status.busy": "2021-11-10T14:32:02.126022Z",
          "iopub.status.idle": "2021-11-10T14:32:02.129142Z",
          "shell.execute_reply": "2021-11-10T14:32:02.128654Z",
          "shell.execute_reply.started": "2021-11-10T13:52:26.800326Z"
        },
        "id": "62513ee8",
        "papermill": {
          "duration": 0.075084,
          "end_time": "2021-11-10T14:32:02.129260",
          "exception": false,
          "start_time": "2021-11-10T14:32:02.054176",
          "status": "completed"
        },
        "tags": []
      },
      "source": [
        "from tqdm import tnrange\n",
        "def iterate_minibatches(data, emb, batch_size=32, max_len=None,\n",
        "                        max_batches=None, shuffle=True, verbose=True):\n",
        "    indices = np.arange(len(data))\n",
        "    if shuffle:\n",
        "        indices = np.random.permutation(indices)\n",
        "    if max_batches is not None:\n",
        "        indices = indices[: batch_size * max_batches]\n",
        "        \n",
        "    irange = tnrange if verbose else range\n",
        "    \n",
        "    \n",
        "    for start in irange(0, len(indices), batch_size):\n",
        "        yield generate_batch(data.iloc[indices[start : start + batch_size]], {k:v[indices[start : start + batch_size]] for k,v in emb.items()}, max_len=max_len)"
      ],
      "id": "62513ee8",
      "execution_count": null,
      "outputs": []
    },
    {
      "cell_type": "code",
      "metadata": {
        "execution": {
          "iopub.execute_input": "2021-11-10T14:32:02.260693Z",
          "iopub.status.busy": "2021-11-10T14:32:02.259921Z",
          "iopub.status.idle": "2021-11-10T14:32:02.261902Z",
          "shell.execute_reply": "2021-11-10T14:32:02.262342Z",
          "shell.execute_reply.started": "2021-11-10T13:52:27.382145Z"
        },
        "id": "b13a545b",
        "papermill": {
          "duration": 0.069727,
          "end_time": "2021-11-10T14:32:02.262473",
          "exception": false,
          "start_time": "2021-11-10T14:32:02.192746",
          "status": "completed"
        },
        "tags": []
      },
      "source": [
        "num_epochs = 100\n",
        "max_len = 100\n",
        "batch_size = 128\n",
        "batches_per_epoch = 100"
      ],
      "id": "b13a545b",
      "execution_count": null,
      "outputs": []
    },
    {
      "cell_type": "code",
      "metadata": {
        "execution": {
          "iopub.execute_input": "2021-11-10T14:32:02.402326Z",
          "iopub.status.busy": "2021-11-10T14:32:02.401576Z",
          "iopub.status.idle": "2021-11-10T14:37:48.292630Z",
          "shell.execute_reply": "2021-11-10T14:37:48.293196Z",
          "shell.execute_reply.started": "2021-11-10T13:56:39.048464Z"
        },
        "id": "151368a1",
        "papermill": {
          "duration": 345.967745,
          "end_time": "2021-11-10T14:37:48.293422",
          "exception": false,
          "start_time": "2021-11-10T14:32:02.325677",
          "status": "completed"
        },
        "tags": [],
        "colab": {
          "referenced_widgets": [
            "79d55cd1d8ed44419b8d56b09615eccc",
            "5db1ca75009f411e97e29427281d2f7b",
            "c03d7193bd1f47ec9fd580b59444cba2",
            "0f097711516b4ddebef7583edd26e251",
            "f7108718714b4df283225697a61c0f26",
            "149c57ad57c148bcb56ecbfa4352d863",
            "e10ae7fcdfc44598813baa54bd004418",
            "c8a0f4b778ca4b2eba97a3c5d92ce8d9",
            "1a3df833d6ba4671ad861ec1b577d693",
            "b464e0a6e18a4644ae90612eb45957b9",
            "82c26d34de494858b2253f4651f393ed",
            "8b7a4dbd88264ae0979e9049a825b454",
            "8852cd060e5f4d95acfc473cc1f723e5",
            "c46d58136003459ab2ecf37b0ef0a491",
            "252edc8ec84146048debb401c1c4a730",
            "b74348d9f77840609622b40a88d8d665",
            "46031319d6bf4d1eb1329da9e001112a",
            "b1168c90c3ae486b86ced9935a330940",
            "e3c292e4ba844a91b3777206e9778089",
            "7b00bed19ba04cf497caf8e6257245cd",
            "74729f459c5b4aba91d18aa0a76f6857",
            "bd6ec16e155c4bbf959ccaacafddeb42",
            "a9d83e7fa6384b2689caadb91fd25ddc",
            "94bf54ca37234936b9457afc0e321ad7",
            "86f9017aabe04285a18baa5f22a9e0c1",
            "7037a8b67f9f43c3aad323c175951d6b",
            "7d6a4fb7ce2a4a8b932c49d512c7ee37",
            "76ac079bf4144428b44cbbca73c4960d",
            "dd5c39e8a90448ca87ffbf8e07772245",
            "931a0e23375c42b1b1670938e639eafa",
            "f309f6c064b4420297c51e155f049572",
            "06302d7377704cac9c6f5ed02556f8e3",
            "9222d33ada1041288ebe0fe62291e149",
            "1b3b5dd7b71741e68055ce7fa2ae74e1",
            "6f9696586850486195e9e67c912bf038",
            "39ea77fb0b444221bc23b8cd12a919b2",
            "8494af2e0bd341fa9f7295766811c806",
            "55234b58221d49bf878df2b2f070fa23",
            "e7d30c985dd74981b6bb7a228c44453f",
            "1bdd771e3766463eacf88fecb07b9c9b",
            "bafc5956837b40b480b27d92872ee076",
            "864549c387d740afaedc2face3480956",
            "2ebdadb972ca4d6281e25272576dd37a",
            "c6ecf8899ee349a3ae90739bb9de87bc",
            "bb26ad797fe948f99b43b917e7d2b58a",
            "3a96b8dda7534510b4a11cea36a25548",
            "d595094afcf5497fb8e82c1e039ae8c0",
            "d0e0b2889c414588bd212f383d320aab",
            "17fd2dff1c7746beb18e1d659b52db7b",
            "03359ea52ea64d1883bb94bbed9a1515",
            "dbeded94d5f54abc9dc18c9d8a0c53a3",
            "ffc5cf2b921f4c75bb79a655a98a4d98",
            "c7b455243bbd4a8c889e1c9e9920cbbb",
            "9c2ac872ec7442ec9db589116ce95f67",
            "907e6f0b1bc546019a888e59e0c8442b",
            "3dd63bb56abd4e099028860278b67042",
            "1e9853332570484b877fc9572efeb94d",
            "88ca0174f6a54b73a723d7321309534b",
            "ed98ba9ca69d4803a4a7021f4c1a909c",
            "b44206a2501d41daa18523be427368db",
            "a2c29485b7aa485ba202ce0a91de60dc",
            "fa4de56e24a04c9daddc0420ef4cb809",
            "d6a479ac5825484badef481ed6d5bdab",
            "c77ef6e5500c4fb1b4fec6d9100b8157",
            "51c9bd769962400b90941bf37c348d6f",
            "ecc45d9e64db4a4abb0002896695bfac",
            "f4b4dc0738034ac4a8e98870defb298b",
            "6777abfdbd3a4e1aa9054504cafebb53",
            "41bd7eab83d041c0a1add24cf87869da",
            "898e9e8f2230442d82022e954a6e0ea4",
            "6b684a4ceca740369007becea8720a66",
            "d51eb043f5a64f2bab2afd80a4c5994c",
            "4d424e08bc644c6090538199cc05a895",
            "e6d39a5bc7824be0a70b9e9ebc814ec5",
            "5b96dc092f39412290df6e011a4219b0",
            "9410d4f0a46c45298023605e0c3fa67c",
            "e770cac88aee42a59bbed1ee9eb4a1ad",
            "3cb712b0472f4a888c60e4d6e702477c",
            "cda4a23cea444c8e9892e163ea4ca438",
            "9befc45a621542efb2a4dbc1a2b95892",
            "ddbb8e4410bc43fea3eb2db55ecc7095",
            "36885c92bfc84bfe92a8be3c7162f243",
            "e604ef415f89483fab80cad5efe35193",
            "551aa8bf2fba4ba7b49d22699147c348",
            "27f6ab3ba126465e91eec2c8af4ce8f0",
            "678e93f781054aba9ab948a3407d675e",
            "2aa85bdf138345a18477e2f5616e0264",
            "18abebf0a11c48d48ebe43665702721c",
            "1788453257b7489baa069002ae39074d",
            "8b868be673604f4c9c0b0705b0c9ad2a",
            "5a0209a9f30c4d1cb4ecc593374ac8d2",
            "03d0e7a69e3940eaa32549d76940a86e",
            "bd51b5e2a0ff4d74930e496a8401ce97",
            "9d308171c2244c59a75df1e694671041",
            "a9efdb2ed963442c8903b2a886445c4c",
            "edb60683fb864b7eb87c910278497289",
            "59a8039ec3594305bf2ad24f37227f55",
            "96f4e841054645f7ac23bc70e14e2f6b",
            "c3432eff3d5d458face0589e9ade978f",
            "e0049e60c61f41659993df663045ad66",
            "80f9b734e75e4ee390cec19446bab549",
            "5cc3a0509f6447019c15b0dcbe935bfa",
            "e8e562150db347a7bcf04ee5907422cc",
            "eaec11da3d3b44b499a349fa82300120",
            "23789f1ba45c4afb9ebb47822f44a633",
            "12dfde72c9d548f082b59ee51d66ddce",
            "0c997a91bd934aa89a75a88a36007a60",
            "9667ce0276e4433290239b5832a305ac",
            "2d764ef240854da1b017bb97e7504ea7",
            "2455d4c0906d4359bdfb20a4709dcc04",
            "5d4d508bcd1d4542a12bb271e8f977da",
            "a3e6c142131648eda265b5cb080f5535",
            "af2bc620c7e94b2d9aed859ac77760fe",
            "7286f61137d84bdb83e3160c6b786ad3",
            "a884b569d326452697cd975b7ff33d97",
            "53cdf33d9a824fe9bdc069444b6aa8d7",
            "6b8f8f24ebc140a5b02cfa961abf88c2",
            "d2d9c22b721d497c982539a145a5b5a7",
            "1c6e26e3c1924b29b24a8013f33e3109",
            "ddd105d06fc24c4a971612084167e164",
            "aaca366a8bb747e9a5d6d926843cc781",
            "4081be3b996b4c9583959c1484235a05",
            "efd0312f39b2471fa3998dc8b6a71735",
            "e6c4b97478964a5caf7805d5dc7a3699",
            "95a18f1777584eba81cb0b78dce7d1a0",
            "c6b18414b48e4ac5a18d65fb3a36e06b",
            "c7188fb24e514520b179737b71984baf",
            "3a6dcfc6faf34f4fb41a60f7728a200e",
            "6ee6d20971d34fedbde5345c86c4558d",
            "223a5245baa54c4e9a8198bcbecce09e",
            "f8fe71697a2147d98214d04f34c42d5d",
            "22f577da10d049acadf2788aa83a0b13",
            "6f996bbc55764bf5ba8b4d0b6b906aef",
            "fe61c48af22e4024adb3cb5f3d753ec5",
            "42cb0e8244f74567832ef260db811d1d",
            "1e73734036fd46fba9e5222350c29d1a",
            "0421a99851934379a5906b05d8d5a240",
            "161db20e1f1c4b3caab5e28e1509a831",
            "701af249b00145ab8fc8494a5124a732",
            "ec70d22862eb4824807858a5e86c18cb",
            "49a055d6df6649619fab5831ff55e096",
            "bb71c1c2c2804ca0b7eccde3dab6f747",
            "01199e935c0c41d29f4967899ababb7a",
            "122ed81aa5f942a0bd5bd64fc90ee129",
            "afbba159b1df4ae9aceaeda4a696b1af",
            "74bb24bd80354f488639c9fa3ff3244b",
            "e326e39f55a24dc7b6c251b9f62ba15b",
            "71d0e8c686774e6e85cac7a131d06e71",
            "f559835015014948a9b1a6b0129815a8",
            "ee14a40a692741e983d7b558ea97d252",
            "baaa4b0571174208ad9b1220052b658f",
            "1fffd6e572fc40d5a116d3c9ac837db0",
            "3aaa94ea477e48a3ab98d03bfbdaf5c3",
            "11b5224acccc4b56aec8d67daaf0dae5",
            "8ebdb32d6a904856865989ff33bb9fcc",
            "be451238dab148759f43fe6e3fc5d7a0",
            "1ec94c17b38d4f4ea5186e7b6941d522",
            "07608b5160de4ee7b47407b2d2c5ee96",
            "6545dc974a5d445a8705db10ef326507",
            "7020b269a46e456aaa477e7eb30029d9",
            "e7f3fba740d444ca91ced114fb609cd9",
            "2b7ab9d604e74635aaadfd78e52c96bd",
            "17e150009b7d4f419d8351289daa344f",
            "fb24a4ef50b045d583d020d19635379b",
            "6acf47db83fe423da2d1c3f2c535cc34",
            "76074c3bf1f54834b9c5a5e5bbb640f5",
            "7b6f3a3bcdbd4b7a8c87cc27ec465197",
            "5c5c3275292f49f990fde34134d69e67",
            "76a3a06fb25e4857950c8ae9b03e7e3a",
            "f50c6eeaea614f96852759de4c5ff6b0",
            "6a68fb65df4440ac81649f3df20161f5",
            "75b8f2244b9c487595d466b6bc38fdb1",
            "e298b60ec2014567808fabb0ada06e29",
            "be6f7a3231e34e9c9a1904bb1d607a17",
            "3e6028ca713e4a0c9abc16355dfd04ad",
            "bef644e97dc74b11a0a58bba978d58cf",
            "7ad137b0a8f44fc1988bc36a86f7b400",
            "1473bdd210ae4b7e90546742d24e301f",
            "97e2850524c545f5abbad9b002d6ee6a",
            "99c3fb11fb404165a21c151746d29b1e",
            "d15e5a3288384ffdbe4c0b535d5f54aa",
            "0eabf803a45d44fe8cabae1b83cbc362",
            "ef0ec550b2174cd889ec584755cc0dce",
            "737c1cedf28e4a1e834ff6d240134738",
            "4cf63a261fa4420dae215752940f4d80",
            "49ec169a7b0d4a8d8605fe41d67f0373",
            "ae59456016344e9fb7d9aaa4dfa6d2d3",
            "bb4448b01e5c4ef1acdbf7dbcf5eb294",
            "5c1bf6170cf645068bf06b83917c55c9",
            "2337cdc5baff47bd9ba8b1ce427e4387",
            "2117e37e7df2494ba1ffb04392ef60f3",
            "d9129906d8804ec689c9ab958e6c27c9",
            "72555a76fce64f608fb56b7c5b4a0b4e",
            "f067ebfcddb443ea804727207c0a3df7",
            "be2cafd6e62448f19b2d7716e5249736",
            "87729500ee6849219976f166b6f1779e",
            "d2982e95945b402b8c80ec3de0621d80",
            "33efa4caa1e04104bd3dfba7a14b060d",
            "d6206d35eedc4b25867cd1036e507d7a",
            "2c7e56fa071f4779a6e61f27b11f38c9"
          ]
        },
        "outputId": "bff99060-c9ef-4674-b8dc-e7ca2f1b80b7"
      },
      "source": [
        "for epoch_i in range(num_epochs):\n",
        "    \n",
        "    print(\"Training:\")\n",
        "    train_loss = train_mae = train_batches = 0    \n",
        "    model.train(True)\n",
        "    \n",
        "    for batch in iterate_minibatches(data_train, dict_emb_train, max_batches=batches_per_epoch):\n",
        "\n",
        "        title_ix = Variable(torch.FloatTensor(batch[\"Title\"])).to(device)\n",
        "        desc_ix = Variable(torch.FloatTensor(batch[\"FullDescription\"])).to(device)\n",
        "        cat_features = Variable(torch.FloatTensor(batch[\"Categorical\"])).to(device)\n",
        "        reference = Variable(torch.FloatTensor(batch[target_column])).to(device)\n",
        "\n",
        "        prediction = model(title_ix, desc_ix, cat_features)\n",
        "\n",
        "        loss = compute_loss(reference, prediction)\n",
        "        loss.backward()\n",
        "        opt.step()\n",
        "        opt.zero_grad()\n",
        "\n",
        "        train_loss += loss.cpu().data.numpy()\n",
        "        train_mae += compute_mae(reference, prediction).cpu().data.numpy()\n",
        "        train_batches += 1\n",
        "    \n",
        "    print(\"\\tLoss:\\t%.5f\" % (train_loss / train_batches))\n",
        "    print(\"\\tMAE:\\t%.5f\" % (train_mae / train_batches))\n",
        "    print('\\n\\n')\n",
        "    \n",
        "    print(\"Validation:\")\n",
        "    val_loss = val_mae = val_batches = 0\n",
        "    model.train(False)\n",
        "    \n",
        "    with torch.no_grad():\n",
        "        for batch in iterate_minibatches(data_val, dict_emb_test, shuffle=False):\n",
        "            title_ix = Variable(torch.FloatTensor(batch[\"Title\"])).to(device)\n",
        "            desc_ix = Variable(torch.FloatTensor(batch[\"FullDescription\"])).to(device)\n",
        "            cat_features = Variable(torch.FloatTensor(batch[\"Categorical\"])).to(device)\n",
        "            reference = Variable(torch.FloatTensor(batch[target_column])).to(device)\n",
        "\n",
        "            prediction = model(title_ix, desc_ix, cat_features)\n",
        "            loss = compute_loss(reference, prediction)\n",
        "\n",
        "            val_loss += loss.cpu().data.numpy()\n",
        "            val_mae += compute_mae(reference, prediction).cpu().data.numpy()\n",
        "            val_batches += 1\n",
        "\n",
        "    print(\"\\tLoss:\\t%.5f\" % (val_loss / val_batches))\n",
        "    print(\"\\tMAE:\\t%.5f\" % (val_mae / val_batches))\n",
        "    print('\\n\\n')"
      ],
      "id": "151368a1",
      "execution_count": null,
      "outputs": [
        {
          "name": "stdout",
          "output_type": "stream",
          "text": [
            "Training:\n"
          ]
        },
        {
          "name": "stderr",
          "output_type": "stream",
          "text": [
            "/opt/conda/lib/python3.7/site-packages/ipykernel_launcher.py:13: TqdmDeprecationWarning: Please use `tqdm.notebook.trange` instead of `tqdm.tnrange`\n",
            "  del sys.path[0]\n"
          ]
        },
        {
          "data": {
            "application/vnd.jupyter.widget-view+json": {
              "model_id": "79d55cd1d8ed44419b8d56b09615eccc",
              "version_major": 2,
              "version_minor": 0
            },
            "text/plain": [
              "  0%|          | 0/100 [00:00<?, ?it/s]"
            ]
          },
          "metadata": {},
          "output_type": "display_data"
        },
        {
          "name": "stdout",
          "output_type": "stream",
          "text": [
            "\tLoss:\t6.66219\n",
            "\tMAE:\t18756.12394\n",
            "\n",
            "\n",
            "\n",
            "Validation:\n"
          ]
        },
        {
          "data": {
            "application/vnd.jupyter.widget-view+json": {
              "model_id": "5db1ca75009f411e97e29427281d2f7b",
              "version_major": 2,
              "version_minor": 0
            },
            "text/plain": [
              "  0%|          | 0/765 [00:00<?, ?it/s]"
            ]
          },
          "metadata": {},
          "output_type": "display_data"
        },
        {
          "name": "stdout",
          "output_type": "stream",
          "text": [
            "\tLoss:\t0.25634\n",
            "\tMAE:\t4913.12470\n",
            "\n",
            "\n",
            "\n",
            "Training:\n"
          ]
        },
        {
          "data": {
            "application/vnd.jupyter.widget-view+json": {
              "model_id": "c03d7193bd1f47ec9fd580b59444cba2",
              "version_major": 2,
              "version_minor": 0
            },
            "text/plain": [
              "  0%|          | 0/100 [00:00<?, ?it/s]"
            ]
          },
          "metadata": {},
          "output_type": "display_data"
        },
        {
          "name": "stdout",
          "output_type": "stream",
          "text": [
            "\tLoss:\t0.26306\n",
            "\tMAE:\t4918.49490\n",
            "\n",
            "\n",
            "\n",
            "Validation:\n"
          ]
        },
        {
          "data": {
            "application/vnd.jupyter.widget-view+json": {
              "model_id": "0f097711516b4ddebef7583edd26e251",
              "version_major": 2,
              "version_minor": 0
            },
            "text/plain": [
              "  0%|          | 0/765 [00:00<?, ?it/s]"
            ]
          },
          "metadata": {},
          "output_type": "display_data"
        },
        {
          "name": "stdout",
          "output_type": "stream",
          "text": [
            "\tLoss:\t0.22529\n",
            "\tMAE:\t4621.23362\n",
            "\n",
            "\n",
            "\n",
            "Training:\n"
          ]
        },
        {
          "data": {
            "application/vnd.jupyter.widget-view+json": {
              "model_id": "f7108718714b4df283225697a61c0f26",
              "version_major": 2,
              "version_minor": 0
            },
            "text/plain": [
              "  0%|          | 0/100 [00:00<?, ?it/s]"
            ]
          },
          "metadata": {},
          "output_type": "display_data"
        },
        {
          "name": "stdout",
          "output_type": "stream",
          "text": [
            "\tLoss:\t0.19819\n",
            "\tMAE:\t4267.33468\n",
            "\n",
            "\n",
            "\n",
            "Validation:\n"
          ]
        },
        {
          "data": {
            "application/vnd.jupyter.widget-view+json": {
              "model_id": "149c57ad57c148bcb56ecbfa4352d863",
              "version_major": 2,
              "version_minor": 0
            },
            "text/plain": [
              "  0%|          | 0/765 [00:00<?, ?it/s]"
            ]
          },
          "metadata": {},
          "output_type": "display_data"
        },
        {
          "name": "stdout",
          "output_type": "stream",
          "text": [
            "\tLoss:\t0.18968\n",
            "\tMAE:\t4227.38375\n",
            "\n",
            "\n",
            "\n",
            "Training:\n"
          ]
        },
        {
          "data": {
            "application/vnd.jupyter.widget-view+json": {
              "model_id": "e10ae7fcdfc44598813baa54bd004418",
              "version_major": 2,
              "version_minor": 0
            },
            "text/plain": [
              "  0%|          | 0/100 [00:00<?, ?it/s]"
            ]
          },
          "metadata": {},
          "output_type": "display_data"
        },
        {
          "name": "stdout",
          "output_type": "stream",
          "text": [
            "\tLoss:\t0.17819\n",
            "\tMAE:\t4071.19024\n",
            "\n",
            "\n",
            "\n",
            "Validation:\n"
          ]
        },
        {
          "data": {
            "application/vnd.jupyter.widget-view+json": {
              "model_id": "c8a0f4b778ca4b2eba97a3c5d92ce8d9",
              "version_major": 2,
              "version_minor": 0
            },
            "text/plain": [
              "  0%|          | 0/765 [00:00<?, ?it/s]"
            ]
          },
          "metadata": {},
          "output_type": "display_data"
        },
        {
          "name": "stdout",
          "output_type": "stream",
          "text": [
            "\tLoss:\t0.17646\n",
            "\tMAE:\t4076.73116\n",
            "\n",
            "\n",
            "\n",
            "Training:\n"
          ]
        },
        {
          "data": {
            "application/vnd.jupyter.widget-view+json": {
              "model_id": "1a3df833d6ba4671ad861ec1b577d693",
              "version_major": 2,
              "version_minor": 0
            },
            "text/plain": [
              "  0%|          | 0/100 [00:00<?, ?it/s]"
            ]
          },
          "metadata": {},
          "output_type": "display_data"
        },
        {
          "name": "stdout",
          "output_type": "stream",
          "text": [
            "\tLoss:\t0.17259\n",
            "\tMAE:\t4033.70206\n",
            "\n",
            "\n",
            "\n",
            "Validation:\n"
          ]
        },
        {
          "data": {
            "application/vnd.jupyter.widget-view+json": {
              "model_id": "b464e0a6e18a4644ae90612eb45957b9",
              "version_major": 2,
              "version_minor": 0
            },
            "text/plain": [
              "  0%|          | 0/765 [00:00<?, ?it/s]"
            ]
          },
          "metadata": {},
          "output_type": "display_data"
        },
        {
          "name": "stdout",
          "output_type": "stream",
          "text": [
            "\tLoss:\t0.18998\n",
            "\tMAE:\t4315.26702\n",
            "\n",
            "\n",
            "\n",
            "Training:\n"
          ]
        },
        {
          "data": {
            "application/vnd.jupyter.widget-view+json": {
              "model_id": "82c26d34de494858b2253f4651f393ed",
              "version_major": 2,
              "version_minor": 0
            },
            "text/plain": [
              "  0%|          | 0/100 [00:00<?, ?it/s]"
            ]
          },
          "metadata": {},
          "output_type": "display_data"
        },
        {
          "name": "stdout",
          "output_type": "stream",
          "text": [
            "\tLoss:\t0.17561\n",
            "\tMAE:\t4059.53117\n",
            "\n",
            "\n",
            "\n",
            "Validation:\n"
          ]
        },
        {
          "data": {
            "application/vnd.jupyter.widget-view+json": {
              "model_id": "8b7a4dbd88264ae0979e9049a825b454",
              "version_major": 2,
              "version_minor": 0
            },
            "text/plain": [
              "  0%|          | 0/765 [00:00<?, ?it/s]"
            ]
          },
          "metadata": {},
          "output_type": "display_data"
        },
        {
          "name": "stdout",
          "output_type": "stream",
          "text": [
            "\tLoss:\t0.16676\n",
            "\tMAE:\t3963.17523\n",
            "\n",
            "\n",
            "\n",
            "Training:\n"
          ]
        },
        {
          "data": {
            "application/vnd.jupyter.widget-view+json": {
              "model_id": "8852cd060e5f4d95acfc473cc1f723e5",
              "version_major": 2,
              "version_minor": 0
            },
            "text/plain": [
              "  0%|          | 0/100 [00:00<?, ?it/s]"
            ]
          },
          "metadata": {},
          "output_type": "display_data"
        },
        {
          "name": "stdout",
          "output_type": "stream",
          "text": [
            "\tLoss:\t0.15995\n",
            "\tMAE:\t3829.00545\n",
            "\n",
            "\n",
            "\n",
            "Validation:\n"
          ]
        },
        {
          "data": {
            "application/vnd.jupyter.widget-view+json": {
              "model_id": "c46d58136003459ab2ecf37b0ef0a491",
              "version_major": 2,
              "version_minor": 0
            },
            "text/plain": [
              "  0%|          | 0/765 [00:00<?, ?it/s]"
            ]
          },
          "metadata": {},
          "output_type": "display_data"
        },
        {
          "name": "stdout",
          "output_type": "stream",
          "text": [
            "\tLoss:\t0.16643\n",
            "\tMAE:\t3953.78086\n",
            "\n",
            "\n",
            "\n",
            "Training:\n"
          ]
        },
        {
          "data": {
            "application/vnd.jupyter.widget-view+json": {
              "model_id": "252edc8ec84146048debb401c1c4a730",
              "version_major": 2,
              "version_minor": 0
            },
            "text/plain": [
              "  0%|          | 0/100 [00:00<?, ?it/s]"
            ]
          },
          "metadata": {},
          "output_type": "display_data"
        },
        {
          "name": "stdout",
          "output_type": "stream",
          "text": [
            "\tLoss:\t0.16422\n",
            "\tMAE:\t3866.63137\n",
            "\n",
            "\n",
            "\n",
            "Validation:\n"
          ]
        },
        {
          "data": {
            "application/vnd.jupyter.widget-view+json": {
              "model_id": "b74348d9f77840609622b40a88d8d665",
              "version_major": 2,
              "version_minor": 0
            },
            "text/plain": [
              "  0%|          | 0/765 [00:00<?, ?it/s]"
            ]
          },
          "metadata": {},
          "output_type": "display_data"
        },
        {
          "name": "stdout",
          "output_type": "stream",
          "text": [
            "\tLoss:\t0.16179\n",
            "\tMAE:\t3911.14175\n",
            "\n",
            "\n",
            "\n",
            "Training:\n"
          ]
        },
        {
          "data": {
            "application/vnd.jupyter.widget-view+json": {
              "model_id": "46031319d6bf4d1eb1329da9e001112a",
              "version_major": 2,
              "version_minor": 0
            },
            "text/plain": [
              "  0%|          | 0/100 [00:00<?, ?it/s]"
            ]
          },
          "metadata": {},
          "output_type": "display_data"
        },
        {
          "name": "stdout",
          "output_type": "stream",
          "text": [
            "\tLoss:\t0.16839\n",
            "\tMAE:\t3946.74028\n",
            "\n",
            "\n",
            "\n",
            "Validation:\n"
          ]
        },
        {
          "data": {
            "application/vnd.jupyter.widget-view+json": {
              "model_id": "b1168c90c3ae486b86ced9935a330940",
              "version_major": 2,
              "version_minor": 0
            },
            "text/plain": [
              "  0%|          | 0/765 [00:00<?, ?it/s]"
            ]
          },
          "metadata": {},
          "output_type": "display_data"
        },
        {
          "name": "stdout",
          "output_type": "stream",
          "text": [
            "\tLoss:\t0.16019\n",
            "\tMAE:\t3895.49048\n",
            "\n",
            "\n",
            "\n",
            "Training:\n"
          ]
        },
        {
          "data": {
            "application/vnd.jupyter.widget-view+json": {
              "model_id": "e3c292e4ba844a91b3777206e9778089",
              "version_major": 2,
              "version_minor": 0
            },
            "text/plain": [
              "  0%|          | 0/100 [00:00<?, ?it/s]"
            ]
          },
          "metadata": {},
          "output_type": "display_data"
        },
        {
          "name": "stdout",
          "output_type": "stream",
          "text": [
            "\tLoss:\t0.16625\n",
            "\tMAE:\t3887.34629\n",
            "\n",
            "\n",
            "\n",
            "Validation:\n"
          ]
        },
        {
          "data": {
            "application/vnd.jupyter.widget-view+json": {
              "model_id": "7b00bed19ba04cf497caf8e6257245cd",
              "version_major": 2,
              "version_minor": 0
            },
            "text/plain": [
              "  0%|          | 0/765 [00:00<?, ?it/s]"
            ]
          },
          "metadata": {},
          "output_type": "display_data"
        },
        {
          "name": "stdout",
          "output_type": "stream",
          "text": [
            "\tLoss:\t0.18811\n",
            "\tMAE:\t4171.14284\n",
            "\n",
            "\n",
            "\n",
            "Training:\n"
          ]
        },
        {
          "data": {
            "application/vnd.jupyter.widget-view+json": {
              "model_id": "74729f459c5b4aba91d18aa0a76f6857",
              "version_major": 2,
              "version_minor": 0
            },
            "text/plain": [
              "  0%|          | 0/100 [00:00<?, ?it/s]"
            ]
          },
          "metadata": {},
          "output_type": "display_data"
        },
        {
          "name": "stdout",
          "output_type": "stream",
          "text": [
            "\tLoss:\t0.15836\n",
            "\tMAE:\t3871.76901\n",
            "\n",
            "\n",
            "\n",
            "Validation:\n"
          ]
        },
        {
          "data": {
            "application/vnd.jupyter.widget-view+json": {
              "model_id": "bd6ec16e155c4bbf959ccaacafddeb42",
              "version_major": 2,
              "version_minor": 0
            },
            "text/plain": [
              "  0%|          | 0/765 [00:00<?, ?it/s]"
            ]
          },
          "metadata": {},
          "output_type": "display_data"
        },
        {
          "name": "stdout",
          "output_type": "stream",
          "text": [
            "\tLoss:\t0.15926\n",
            "\tMAE:\t3884.58373\n",
            "\n",
            "\n",
            "\n",
            "Training:\n"
          ]
        },
        {
          "data": {
            "application/vnd.jupyter.widget-view+json": {
              "model_id": "a9d83e7fa6384b2689caadb91fd25ddc",
              "version_major": 2,
              "version_minor": 0
            },
            "text/plain": [
              "  0%|          | 0/100 [00:00<?, ?it/s]"
            ]
          },
          "metadata": {},
          "output_type": "display_data"
        },
        {
          "name": "stdout",
          "output_type": "stream",
          "text": [
            "\tLoss:\t0.15356\n",
            "\tMAE:\t3762.37435\n",
            "\n",
            "\n",
            "\n",
            "Validation:\n"
          ]
        },
        {
          "data": {
            "application/vnd.jupyter.widget-view+json": {
              "model_id": "94bf54ca37234936b9457afc0e321ad7",
              "version_major": 2,
              "version_minor": 0
            },
            "text/plain": [
              "  0%|          | 0/765 [00:00<?, ?it/s]"
            ]
          },
          "metadata": {},
          "output_type": "display_data"
        },
        {
          "name": "stdout",
          "output_type": "stream",
          "text": [
            "\tLoss:\t0.16568\n",
            "\tMAE:\t3984.38732\n",
            "\n",
            "\n",
            "\n",
            "Training:\n"
          ]
        },
        {
          "data": {
            "application/vnd.jupyter.widget-view+json": {
              "model_id": "86f9017aabe04285a18baa5f22a9e0c1",
              "version_major": 2,
              "version_minor": 0
            },
            "text/plain": [
              "  0%|          | 0/100 [00:00<?, ?it/s]"
            ]
          },
          "metadata": {},
          "output_type": "display_data"
        },
        {
          "name": "stdout",
          "output_type": "stream",
          "text": [
            "\tLoss:\t0.16164\n",
            "\tMAE:\t3923.55599\n",
            "\n",
            "\n",
            "\n",
            "Validation:\n"
          ]
        },
        {
          "data": {
            "application/vnd.jupyter.widget-view+json": {
              "model_id": "7037a8b67f9f43c3aad323c175951d6b",
              "version_major": 2,
              "version_minor": 0
            },
            "text/plain": [
              "  0%|          | 0/765 [00:00<?, ?it/s]"
            ]
          },
          "metadata": {},
          "output_type": "display_data"
        },
        {
          "name": "stdout",
          "output_type": "stream",
          "text": [
            "\tLoss:\t0.15626\n",
            "\tMAE:\t3821.65385\n",
            "\n",
            "\n",
            "\n",
            "Training:\n"
          ]
        },
        {
          "data": {
            "application/vnd.jupyter.widget-view+json": {
              "model_id": "7d6a4fb7ce2a4a8b932c49d512c7ee37",
              "version_major": 2,
              "version_minor": 0
            },
            "text/plain": [
              "  0%|          | 0/100 [00:00<?, ?it/s]"
            ]
          },
          "metadata": {},
          "output_type": "display_data"
        },
        {
          "name": "stdout",
          "output_type": "stream",
          "text": [
            "\tLoss:\t0.14687\n",
            "\tMAE:\t3724.37697\n",
            "\n",
            "\n",
            "\n",
            "Validation:\n"
          ]
        },
        {
          "data": {
            "application/vnd.jupyter.widget-view+json": {
              "model_id": "76ac079bf4144428b44cbbca73c4960d",
              "version_major": 2,
              "version_minor": 0
            },
            "text/plain": [
              "  0%|          | 0/765 [00:00<?, ?it/s]"
            ]
          },
          "metadata": {},
          "output_type": "display_data"
        },
        {
          "name": "stdout",
          "output_type": "stream",
          "text": [
            "\tLoss:\t0.15123\n",
            "\tMAE:\t3755.08665\n",
            "\n",
            "\n",
            "\n",
            "Training:\n"
          ]
        },
        {
          "data": {
            "application/vnd.jupyter.widget-view+json": {
              "model_id": "dd5c39e8a90448ca87ffbf8e07772245",
              "version_major": 2,
              "version_minor": 0
            },
            "text/plain": [
              "  0%|          | 0/100 [00:00<?, ?it/s]"
            ]
          },
          "metadata": {},
          "output_type": "display_data"
        },
        {
          "name": "stdout",
          "output_type": "stream",
          "text": [
            "\tLoss:\t0.15307\n",
            "\tMAE:\t3772.07074\n",
            "\n",
            "\n",
            "\n",
            "Validation:\n"
          ]
        },
        {
          "data": {
            "application/vnd.jupyter.widget-view+json": {
              "model_id": "931a0e23375c42b1b1670938e639eafa",
              "version_major": 2,
              "version_minor": 0
            },
            "text/plain": [
              "  0%|          | 0/765 [00:00<?, ?it/s]"
            ]
          },
          "metadata": {},
          "output_type": "display_data"
        },
        {
          "name": "stdout",
          "output_type": "stream",
          "text": [
            "\tLoss:\t0.15644\n",
            "\tMAE:\t3819.52963\n",
            "\n",
            "\n",
            "\n",
            "Training:\n"
          ]
        },
        {
          "data": {
            "application/vnd.jupyter.widget-view+json": {
              "model_id": "f309f6c064b4420297c51e155f049572",
              "version_major": 2,
              "version_minor": 0
            },
            "text/plain": [
              "  0%|          | 0/100 [00:00<?, ?it/s]"
            ]
          },
          "metadata": {},
          "output_type": "display_data"
        },
        {
          "name": "stdout",
          "output_type": "stream",
          "text": [
            "\tLoss:\t0.15281\n",
            "\tMAE:\t3784.51976\n",
            "\n",
            "\n",
            "\n",
            "Validation:\n"
          ]
        },
        {
          "data": {
            "application/vnd.jupyter.widget-view+json": {
              "model_id": "06302d7377704cac9c6f5ed02556f8e3",
              "version_major": 2,
              "version_minor": 0
            },
            "text/plain": [
              "  0%|          | 0/765 [00:00<?, ?it/s]"
            ]
          },
          "metadata": {},
          "output_type": "display_data"
        },
        {
          "name": "stdout",
          "output_type": "stream",
          "text": [
            "\tLoss:\t0.15566\n",
            "\tMAE:\t3800.30825\n",
            "\n",
            "\n",
            "\n",
            "Training:\n"
          ]
        },
        {
          "data": {
            "application/vnd.jupyter.widget-view+json": {
              "model_id": "9222d33ada1041288ebe0fe62291e149",
              "version_major": 2,
              "version_minor": 0
            },
            "text/plain": [
              "  0%|          | 0/100 [00:00<?, ?it/s]"
            ]
          },
          "metadata": {},
          "output_type": "display_data"
        },
        {
          "name": "stdout",
          "output_type": "stream",
          "text": [
            "\tLoss:\t0.15963\n",
            "\tMAE:\t3792.61380\n",
            "\n",
            "\n",
            "\n",
            "Validation:\n"
          ]
        },
        {
          "data": {
            "application/vnd.jupyter.widget-view+json": {
              "model_id": "1b3b5dd7b71741e68055ce7fa2ae74e1",
              "version_major": 2,
              "version_minor": 0
            },
            "text/plain": [
              "  0%|          | 0/765 [00:00<?, ?it/s]"
            ]
          },
          "metadata": {},
          "output_type": "display_data"
        },
        {
          "name": "stdout",
          "output_type": "stream",
          "text": [
            "\tLoss:\t0.14906\n",
            "\tMAE:\t3733.39943\n",
            "\n",
            "\n",
            "\n",
            "Training:\n"
          ]
        },
        {
          "data": {
            "application/vnd.jupyter.widget-view+json": {
              "model_id": "6f9696586850486195e9e67c912bf038",
              "version_major": 2,
              "version_minor": 0
            },
            "text/plain": [
              "  0%|          | 0/100 [00:00<?, ?it/s]"
            ]
          },
          "metadata": {},
          "output_type": "display_data"
        },
        {
          "name": "stdout",
          "output_type": "stream",
          "text": [
            "\tLoss:\t0.15534\n",
            "\tMAE:\t3768.02927\n",
            "\n",
            "\n",
            "\n",
            "Validation:\n"
          ]
        },
        {
          "data": {
            "application/vnd.jupyter.widget-view+json": {
              "model_id": "39ea77fb0b444221bc23b8cd12a919b2",
              "version_major": 2,
              "version_minor": 0
            },
            "text/plain": [
              "  0%|          | 0/765 [00:00<?, ?it/s]"
            ]
          },
          "metadata": {},
          "output_type": "display_data"
        },
        {
          "name": "stdout",
          "output_type": "stream",
          "text": [
            "\tLoss:\t0.14751\n",
            "\tMAE:\t3726.47031\n",
            "\n",
            "\n",
            "\n",
            "Training:\n"
          ]
        },
        {
          "data": {
            "application/vnd.jupyter.widget-view+json": {
              "model_id": "8494af2e0bd341fa9f7295766811c806",
              "version_major": 2,
              "version_minor": 0
            },
            "text/plain": [
              "  0%|          | 0/100 [00:00<?, ?it/s]"
            ]
          },
          "metadata": {},
          "output_type": "display_data"
        },
        {
          "name": "stdout",
          "output_type": "stream",
          "text": [
            "\tLoss:\t0.14976\n",
            "\tMAE:\t3728.30714\n",
            "\n",
            "\n",
            "\n",
            "Validation:\n"
          ]
        },
        {
          "data": {
            "application/vnd.jupyter.widget-view+json": {
              "model_id": "55234b58221d49bf878df2b2f070fa23",
              "version_major": 2,
              "version_minor": 0
            },
            "text/plain": [
              "  0%|          | 0/765 [00:00<?, ?it/s]"
            ]
          },
          "metadata": {},
          "output_type": "display_data"
        },
        {
          "name": "stdout",
          "output_type": "stream",
          "text": [
            "\tLoss:\t0.14516\n",
            "\tMAE:\t3684.07795\n",
            "\n",
            "\n",
            "\n",
            "Training:\n"
          ]
        },
        {
          "data": {
            "application/vnd.jupyter.widget-view+json": {
              "model_id": "e7d30c985dd74981b6bb7a228c44453f",
              "version_major": 2,
              "version_minor": 0
            },
            "text/plain": [
              "  0%|          | 0/100 [00:00<?, ?it/s]"
            ]
          },
          "metadata": {},
          "output_type": "display_data"
        },
        {
          "name": "stdout",
          "output_type": "stream",
          "text": [
            "\tLoss:\t0.14966\n",
            "\tMAE:\t3729.26546\n",
            "\n",
            "\n",
            "\n",
            "Validation:\n"
          ]
        },
        {
          "data": {
            "application/vnd.jupyter.widget-view+json": {
              "model_id": "1bdd771e3766463eacf88fecb07b9c9b",
              "version_major": 2,
              "version_minor": 0
            },
            "text/plain": [
              "  0%|          | 0/765 [00:00<?, ?it/s]"
            ]
          },
          "metadata": {},
          "output_type": "display_data"
        },
        {
          "name": "stdout",
          "output_type": "stream",
          "text": [
            "\tLoss:\t0.14430\n",
            "\tMAE:\t3670.23742\n",
            "\n",
            "\n",
            "\n",
            "Training:\n"
          ]
        },
        {
          "data": {
            "application/vnd.jupyter.widget-view+json": {
              "model_id": "bafc5956837b40b480b27d92872ee076",
              "version_major": 2,
              "version_minor": 0
            },
            "text/plain": [
              "  0%|          | 0/100 [00:00<?, ?it/s]"
            ]
          },
          "metadata": {},
          "output_type": "display_data"
        },
        {
          "name": "stdout",
          "output_type": "stream",
          "text": [
            "\tLoss:\t0.14204\n",
            "\tMAE:\t3743.30084\n",
            "\n",
            "\n",
            "\n",
            "Validation:\n"
          ]
        },
        {
          "data": {
            "application/vnd.jupyter.widget-view+json": {
              "model_id": "864549c387d740afaedc2face3480956",
              "version_major": 2,
              "version_minor": 0
            },
            "text/plain": [
              "  0%|          | 0/765 [00:00<?, ?it/s]"
            ]
          },
          "metadata": {},
          "output_type": "display_data"
        },
        {
          "name": "stdout",
          "output_type": "stream",
          "text": [
            "\tLoss:\t0.14680\n",
            "\tMAE:\t3704.45005\n",
            "\n",
            "\n",
            "\n",
            "Training:\n"
          ]
        },
        {
          "data": {
            "application/vnd.jupyter.widget-view+json": {
              "model_id": "2ebdadb972ca4d6281e25272576dd37a",
              "version_major": 2,
              "version_minor": 0
            },
            "text/plain": [
              "  0%|          | 0/100 [00:00<?, ?it/s]"
            ]
          },
          "metadata": {},
          "output_type": "display_data"
        },
        {
          "name": "stdout",
          "output_type": "stream",
          "text": [
            "\tLoss:\t0.15037\n",
            "\tMAE:\t3720.88281\n",
            "\n",
            "\n",
            "\n",
            "Validation:\n"
          ]
        },
        {
          "data": {
            "application/vnd.jupyter.widget-view+json": {
              "model_id": "c6ecf8899ee349a3ae90739bb9de87bc",
              "version_major": 2,
              "version_minor": 0
            },
            "text/plain": [
              "  0%|          | 0/765 [00:00<?, ?it/s]"
            ]
          },
          "metadata": {},
          "output_type": "display_data"
        },
        {
          "name": "stdout",
          "output_type": "stream",
          "text": [
            "\tLoss:\t0.17509\n",
            "\tMAE:\t4029.98469\n",
            "\n",
            "\n",
            "\n",
            "Training:\n"
          ]
        },
        {
          "data": {
            "application/vnd.jupyter.widget-view+json": {
              "model_id": "bb26ad797fe948f99b43b917e7d2b58a",
              "version_major": 2,
              "version_minor": 0
            },
            "text/plain": [
              "  0%|          | 0/100 [00:00<?, ?it/s]"
            ]
          },
          "metadata": {},
          "output_type": "display_data"
        },
        {
          "name": "stdout",
          "output_type": "stream",
          "text": [
            "\tLoss:\t0.14402\n",
            "\tMAE:\t3646.17886\n",
            "\n",
            "\n",
            "\n",
            "Validation:\n"
          ]
        },
        {
          "data": {
            "application/vnd.jupyter.widget-view+json": {
              "model_id": "3a96b8dda7534510b4a11cea36a25548",
              "version_major": 2,
              "version_minor": 0
            },
            "text/plain": [
              "  0%|          | 0/765 [00:00<?, ?it/s]"
            ]
          },
          "metadata": {},
          "output_type": "display_data"
        },
        {
          "name": "stdout",
          "output_type": "stream",
          "text": [
            "\tLoss:\t0.14171\n",
            "\tMAE:\t3634.18925\n",
            "\n",
            "\n",
            "\n",
            "Training:\n"
          ]
        },
        {
          "data": {
            "application/vnd.jupyter.widget-view+json": {
              "model_id": "d595094afcf5497fb8e82c1e039ae8c0",
              "version_major": 2,
              "version_minor": 0
            },
            "text/plain": [
              "  0%|          | 0/100 [00:00<?, ?it/s]"
            ]
          },
          "metadata": {},
          "output_type": "display_data"
        },
        {
          "name": "stdout",
          "output_type": "stream",
          "text": [
            "\tLoss:\t0.14113\n",
            "\tMAE:\t3732.16758\n",
            "\n",
            "\n",
            "\n",
            "Validation:\n"
          ]
        },
        {
          "data": {
            "application/vnd.jupyter.widget-view+json": {
              "model_id": "d0e0b2889c414588bd212f383d320aab",
              "version_major": 2,
              "version_minor": 0
            },
            "text/plain": [
              "  0%|          | 0/765 [00:00<?, ?it/s]"
            ]
          },
          "metadata": {},
          "output_type": "display_data"
        },
        {
          "name": "stdout",
          "output_type": "stream",
          "text": [
            "\tLoss:\t0.14141\n",
            "\tMAE:\t3623.85356\n",
            "\n",
            "\n",
            "\n",
            "Training:\n"
          ]
        },
        {
          "data": {
            "application/vnd.jupyter.widget-view+json": {
              "model_id": "17fd2dff1c7746beb18e1d659b52db7b",
              "version_major": 2,
              "version_minor": 0
            },
            "text/plain": [
              "  0%|          | 0/100 [00:00<?, ?it/s]"
            ]
          },
          "metadata": {},
          "output_type": "display_data"
        },
        {
          "name": "stdout",
          "output_type": "stream",
          "text": [
            "\tLoss:\t0.14387\n",
            "\tMAE:\t3670.71214\n",
            "\n",
            "\n",
            "\n",
            "Validation:\n"
          ]
        },
        {
          "data": {
            "application/vnd.jupyter.widget-view+json": {
              "model_id": "03359ea52ea64d1883bb94bbed9a1515",
              "version_major": 2,
              "version_minor": 0
            },
            "text/plain": [
              "  0%|          | 0/765 [00:00<?, ?it/s]"
            ]
          },
          "metadata": {},
          "output_type": "display_data"
        },
        {
          "name": "stdout",
          "output_type": "stream",
          "text": [
            "\tLoss:\t0.14049\n",
            "\tMAE:\t3622.41200\n",
            "\n",
            "\n",
            "\n",
            "Training:\n"
          ]
        },
        {
          "data": {
            "application/vnd.jupyter.widget-view+json": {
              "model_id": "dbeded94d5f54abc9dc18c9d8a0c53a3",
              "version_major": 2,
              "version_minor": 0
            },
            "text/plain": [
              "  0%|          | 0/100 [00:00<?, ?it/s]"
            ]
          },
          "metadata": {},
          "output_type": "display_data"
        },
        {
          "name": "stdout",
          "output_type": "stream",
          "text": [
            "\tLoss:\t0.16395\n",
            "\tMAE:\t3877.55805\n",
            "\n",
            "\n",
            "\n",
            "Validation:\n"
          ]
        },
        {
          "data": {
            "application/vnd.jupyter.widget-view+json": {
              "model_id": "ffc5cf2b921f4c75bb79a655a98a4d98",
              "version_major": 2,
              "version_minor": 0
            },
            "text/plain": [
              "  0%|          | 0/765 [00:00<?, ?it/s]"
            ]
          },
          "metadata": {},
          "output_type": "display_data"
        },
        {
          "name": "stdout",
          "output_type": "stream",
          "text": [
            "\tLoss:\t0.27096\n",
            "\tMAE:\t5668.61684\n",
            "\n",
            "\n",
            "\n",
            "Training:\n"
          ]
        },
        {
          "data": {
            "application/vnd.jupyter.widget-view+json": {
              "model_id": "c7b455243bbd4a8c889e1c9e9920cbbb",
              "version_major": 2,
              "version_minor": 0
            },
            "text/plain": [
              "  0%|          | 0/100 [00:00<?, ?it/s]"
            ]
          },
          "metadata": {},
          "output_type": "display_data"
        },
        {
          "name": "stdout",
          "output_type": "stream",
          "text": [
            "\tLoss:\t0.14573\n",
            "\tMAE:\t3764.27376\n",
            "\n",
            "\n",
            "\n",
            "Validation:\n"
          ]
        },
        {
          "data": {
            "application/vnd.jupyter.widget-view+json": {
              "model_id": "9c2ac872ec7442ec9db589116ce95f67",
              "version_major": 2,
              "version_minor": 0
            },
            "text/plain": [
              "  0%|          | 0/765 [00:00<?, ?it/s]"
            ]
          },
          "metadata": {},
          "output_type": "display_data"
        },
        {
          "name": "stdout",
          "output_type": "stream",
          "text": [
            "\tLoss:\t0.14269\n",
            "\tMAE:\t3634.41274\n",
            "\n",
            "\n",
            "\n",
            "Training:\n"
          ]
        },
        {
          "data": {
            "application/vnd.jupyter.widget-view+json": {
              "model_id": "907e6f0b1bc546019a888e59e0c8442b",
              "version_major": 2,
              "version_minor": 0
            },
            "text/plain": [
              "  0%|          | 0/100 [00:00<?, ?it/s]"
            ]
          },
          "metadata": {},
          "output_type": "display_data"
        },
        {
          "name": "stdout",
          "output_type": "stream",
          "text": [
            "\tLoss:\t0.14067\n",
            "\tMAE:\t3628.80982\n",
            "\n",
            "\n",
            "\n",
            "Validation:\n"
          ]
        },
        {
          "data": {
            "application/vnd.jupyter.widget-view+json": {
              "model_id": "3dd63bb56abd4e099028860278b67042",
              "version_major": 2,
              "version_minor": 0
            },
            "text/plain": [
              "  0%|          | 0/765 [00:00<?, ?it/s]"
            ]
          },
          "metadata": {},
          "output_type": "display_data"
        },
        {
          "name": "stdout",
          "output_type": "stream",
          "text": [
            "\tLoss:\t0.14045\n",
            "\tMAE:\t3614.16779\n",
            "\n",
            "\n",
            "\n",
            "Training:\n"
          ]
        },
        {
          "data": {
            "application/vnd.jupyter.widget-view+json": {
              "model_id": "1e9853332570484b877fc9572efeb94d",
              "version_major": 2,
              "version_minor": 0
            },
            "text/plain": [
              "  0%|          | 0/100 [00:00<?, ?it/s]"
            ]
          },
          "metadata": {},
          "output_type": "display_data"
        },
        {
          "name": "stdout",
          "output_type": "stream",
          "text": [
            "\tLoss:\t0.14879\n",
            "\tMAE:\t3743.26723\n",
            "\n",
            "\n",
            "\n",
            "Validation:\n"
          ]
        },
        {
          "data": {
            "application/vnd.jupyter.widget-view+json": {
              "model_id": "88ca0174f6a54b73a723d7321309534b",
              "version_major": 2,
              "version_minor": 0
            },
            "text/plain": [
              "  0%|          | 0/765 [00:00<?, ?it/s]"
            ]
          },
          "metadata": {},
          "output_type": "display_data"
        },
        {
          "name": "stdout",
          "output_type": "stream",
          "text": [
            "\tLoss:\t0.15974\n",
            "\tMAE:\t3919.79005\n",
            "\n",
            "\n",
            "\n",
            "Training:\n"
          ]
        },
        {
          "data": {
            "application/vnd.jupyter.widget-view+json": {
              "model_id": "ed98ba9ca69d4803a4a7021f4c1a909c",
              "version_major": 2,
              "version_minor": 0
            },
            "text/plain": [
              "  0%|          | 0/100 [00:00<?, ?it/s]"
            ]
          },
          "metadata": {},
          "output_type": "display_data"
        },
        {
          "name": "stdout",
          "output_type": "stream",
          "text": [
            "\tLoss:\t0.13867\n",
            "\tMAE:\t3559.17809\n",
            "\n",
            "\n",
            "\n",
            "Validation:\n"
          ]
        },
        {
          "data": {
            "application/vnd.jupyter.widget-view+json": {
              "model_id": "b44206a2501d41daa18523be427368db",
              "version_major": 2,
              "version_minor": 0
            },
            "text/plain": [
              "  0%|          | 0/765 [00:00<?, ?it/s]"
            ]
          },
          "metadata": {},
          "output_type": "display_data"
        },
        {
          "name": "stdout",
          "output_type": "stream",
          "text": [
            "\tLoss:\t0.13844\n",
            "\tMAE:\t3584.04181\n",
            "\n",
            "\n",
            "\n",
            "Training:\n"
          ]
        },
        {
          "data": {
            "application/vnd.jupyter.widget-view+json": {
              "model_id": "a2c29485b7aa485ba202ce0a91de60dc",
              "version_major": 2,
              "version_minor": 0
            },
            "text/plain": [
              "  0%|          | 0/100 [00:00<?, ?it/s]"
            ]
          },
          "metadata": {},
          "output_type": "display_data"
        },
        {
          "name": "stdout",
          "output_type": "stream",
          "text": [
            "\tLoss:\t0.15374\n",
            "\tMAE:\t3787.78905\n",
            "\n",
            "\n",
            "\n",
            "Validation:\n"
          ]
        },
        {
          "data": {
            "application/vnd.jupyter.widget-view+json": {
              "model_id": "fa4de56e24a04c9daddc0420ef4cb809",
              "version_major": 2,
              "version_minor": 0
            },
            "text/plain": [
              "  0%|          | 0/765 [00:00<?, ?it/s]"
            ]
          },
          "metadata": {},
          "output_type": "display_data"
        },
        {
          "name": "stdout",
          "output_type": "stream",
          "text": [
            "\tLoss:\t0.18295\n",
            "\tMAE:\t4108.07190\n",
            "\n",
            "\n",
            "\n",
            "Training:\n"
          ]
        },
        {
          "data": {
            "application/vnd.jupyter.widget-view+json": {
              "model_id": "d6a479ac5825484badef481ed6d5bdab",
              "version_major": 2,
              "version_minor": 0
            },
            "text/plain": [
              "  0%|          | 0/100 [00:00<?, ?it/s]"
            ]
          },
          "metadata": {},
          "output_type": "display_data"
        },
        {
          "name": "stdout",
          "output_type": "stream",
          "text": [
            "\tLoss:\t0.14714\n",
            "\tMAE:\t3661.72638\n",
            "\n",
            "\n",
            "\n",
            "Validation:\n"
          ]
        },
        {
          "data": {
            "application/vnd.jupyter.widget-view+json": {
              "model_id": "c77ef6e5500c4fb1b4fec6d9100b8157",
              "version_major": 2,
              "version_minor": 0
            },
            "text/plain": [
              "  0%|          | 0/765 [00:00<?, ?it/s]"
            ]
          },
          "metadata": {},
          "output_type": "display_data"
        },
        {
          "name": "stdout",
          "output_type": "stream",
          "text": [
            "\tLoss:\t0.16279\n",
            "\tMAE:\t3981.96153\n",
            "\n",
            "\n",
            "\n",
            "Training:\n"
          ]
        },
        {
          "data": {
            "application/vnd.jupyter.widget-view+json": {
              "model_id": "51c9bd769962400b90941bf37c348d6f",
              "version_major": 2,
              "version_minor": 0
            },
            "text/plain": [
              "  0%|          | 0/100 [00:00<?, ?it/s]"
            ]
          },
          "metadata": {},
          "output_type": "display_data"
        },
        {
          "name": "stdout",
          "output_type": "stream",
          "text": [
            "\tLoss:\t0.14581\n",
            "\tMAE:\t3638.99742\n",
            "\n",
            "\n",
            "\n",
            "Validation:\n"
          ]
        },
        {
          "data": {
            "application/vnd.jupyter.widget-view+json": {
              "model_id": "ecc45d9e64db4a4abb0002896695bfac",
              "version_major": 2,
              "version_minor": 0
            },
            "text/plain": [
              "  0%|          | 0/765 [00:00<?, ?it/s]"
            ]
          },
          "metadata": {},
          "output_type": "display_data"
        },
        {
          "name": "stdout",
          "output_type": "stream",
          "text": [
            "\tLoss:\t0.13709\n",
            "\tMAE:\t3566.70657\n",
            "\n",
            "\n",
            "\n",
            "Training:\n"
          ]
        },
        {
          "data": {
            "application/vnd.jupyter.widget-view+json": {
              "model_id": "f4b4dc0738034ac4a8e98870defb298b",
              "version_major": 2,
              "version_minor": 0
            },
            "text/plain": [
              "  0%|          | 0/100 [00:00<?, ?it/s]"
            ]
          },
          "metadata": {},
          "output_type": "display_data"
        },
        {
          "name": "stdout",
          "output_type": "stream",
          "text": [
            "\tLoss:\t0.13677\n",
            "\tMAE:\t3622.35271\n",
            "\n",
            "\n",
            "\n",
            "Validation:\n"
          ]
        },
        {
          "data": {
            "application/vnd.jupyter.widget-view+json": {
              "model_id": "6777abfdbd3a4e1aa9054504cafebb53",
              "version_major": 2,
              "version_minor": 0
            },
            "text/plain": [
              "  0%|          | 0/765 [00:00<?, ?it/s]"
            ]
          },
          "metadata": {},
          "output_type": "display_data"
        },
        {
          "name": "stdout",
          "output_type": "stream",
          "text": [
            "\tLoss:\t0.15834\n",
            "\tMAE:\t3831.76336\n",
            "\n",
            "\n",
            "\n",
            "Training:\n"
          ]
        },
        {
          "data": {
            "application/vnd.jupyter.widget-view+json": {
              "model_id": "41bd7eab83d041c0a1add24cf87869da",
              "version_major": 2,
              "version_minor": 0
            },
            "text/plain": [
              "  0%|          | 0/100 [00:00<?, ?it/s]"
            ]
          },
          "metadata": {},
          "output_type": "display_data"
        },
        {
          "name": "stdout",
          "output_type": "stream",
          "text": [
            "\tLoss:\t0.15104\n",
            "\tMAE:\t3676.75912\n",
            "\n",
            "\n",
            "\n",
            "Validation:\n"
          ]
        },
        {
          "data": {
            "application/vnd.jupyter.widget-view+json": {
              "model_id": "898e9e8f2230442d82022e954a6e0ea4",
              "version_major": 2,
              "version_minor": 0
            },
            "text/plain": [
              "  0%|          | 0/765 [00:00<?, ?it/s]"
            ]
          },
          "metadata": {},
          "output_type": "display_data"
        },
        {
          "name": "stdout",
          "output_type": "stream",
          "text": [
            "\tLoss:\t0.13294\n",
            "\tMAE:\t3513.03366\n",
            "\n",
            "\n",
            "\n",
            "Training:\n"
          ]
        },
        {
          "data": {
            "application/vnd.jupyter.widget-view+json": {
              "model_id": "6b684a4ceca740369007becea8720a66",
              "version_major": 2,
              "version_minor": 0
            },
            "text/plain": [
              "  0%|          | 0/100 [00:00<?, ?it/s]"
            ]
          },
          "metadata": {},
          "output_type": "display_data"
        },
        {
          "name": "stdout",
          "output_type": "stream",
          "text": [
            "\tLoss:\t0.14525\n",
            "\tMAE:\t3673.00720\n",
            "\n",
            "\n",
            "\n",
            "Validation:\n"
          ]
        },
        {
          "data": {
            "application/vnd.jupyter.widget-view+json": {
              "model_id": "d51eb043f5a64f2bab2afd80a4c5994c",
              "version_major": 2,
              "version_minor": 0
            },
            "text/plain": [
              "  0%|          | 0/765 [00:00<?, ?it/s]"
            ]
          },
          "metadata": {},
          "output_type": "display_data"
        },
        {
          "name": "stdout",
          "output_type": "stream",
          "text": [
            "\tLoss:\t0.13377\n",
            "\tMAE:\t3520.29287\n",
            "\n",
            "\n",
            "\n",
            "Training:\n"
          ]
        },
        {
          "data": {
            "application/vnd.jupyter.widget-view+json": {
              "model_id": "4d424e08bc644c6090538199cc05a895",
              "version_major": 2,
              "version_minor": 0
            },
            "text/plain": [
              "  0%|          | 0/100 [00:00<?, ?it/s]"
            ]
          },
          "metadata": {},
          "output_type": "display_data"
        },
        {
          "name": "stdout",
          "output_type": "stream",
          "text": [
            "\tLoss:\t0.14553\n",
            "\tMAE:\t3721.38560\n",
            "\n",
            "\n",
            "\n",
            "Validation:\n"
          ]
        },
        {
          "data": {
            "application/vnd.jupyter.widget-view+json": {
              "model_id": "e6d39a5bc7824be0a70b9e9ebc814ec5",
              "version_major": 2,
              "version_minor": 0
            },
            "text/plain": [
              "  0%|          | 0/765 [00:00<?, ?it/s]"
            ]
          },
          "metadata": {},
          "output_type": "display_data"
        },
        {
          "name": "stdout",
          "output_type": "stream",
          "text": [
            "\tLoss:\t0.13561\n",
            "\tMAE:\t3543.38537\n",
            "\n",
            "\n",
            "\n",
            "Training:\n"
          ]
        },
        {
          "data": {
            "application/vnd.jupyter.widget-view+json": {
              "model_id": "5b96dc092f39412290df6e011a4219b0",
              "version_major": 2,
              "version_minor": 0
            },
            "text/plain": [
              "  0%|          | 0/100 [00:00<?, ?it/s]"
            ]
          },
          "metadata": {},
          "output_type": "display_data"
        },
        {
          "name": "stdout",
          "output_type": "stream",
          "text": [
            "\tLoss:\t0.13774\n",
            "\tMAE:\t3603.69945\n",
            "\n",
            "\n",
            "\n",
            "Validation:\n"
          ]
        },
        {
          "data": {
            "application/vnd.jupyter.widget-view+json": {
              "model_id": "9410d4f0a46c45298023605e0c3fa67c",
              "version_major": 2,
              "version_minor": 0
            },
            "text/plain": [
              "  0%|          | 0/765 [00:00<?, ?it/s]"
            ]
          },
          "metadata": {},
          "output_type": "display_data"
        },
        {
          "name": "stdout",
          "output_type": "stream",
          "text": [
            "\tLoss:\t0.19448\n",
            "\tMAE:\t4525.99007\n",
            "\n",
            "\n",
            "\n",
            "Training:\n"
          ]
        },
        {
          "data": {
            "application/vnd.jupyter.widget-view+json": {
              "model_id": "e770cac88aee42a59bbed1ee9eb4a1ad",
              "version_major": 2,
              "version_minor": 0
            },
            "text/plain": [
              "  0%|          | 0/100 [00:00<?, ?it/s]"
            ]
          },
          "metadata": {},
          "output_type": "display_data"
        },
        {
          "name": "stdout",
          "output_type": "stream",
          "text": [
            "\tLoss:\t0.14952\n",
            "\tMAE:\t3833.57609\n",
            "\n",
            "\n",
            "\n",
            "Validation:\n"
          ]
        },
        {
          "data": {
            "application/vnd.jupyter.widget-view+json": {
              "model_id": "3cb712b0472f4a888c60e4d6e702477c",
              "version_major": 2,
              "version_minor": 0
            },
            "text/plain": [
              "  0%|          | 0/765 [00:00<?, ?it/s]"
            ]
          },
          "metadata": {},
          "output_type": "display_data"
        },
        {
          "name": "stdout",
          "output_type": "stream",
          "text": [
            "\tLoss:\t0.14847\n",
            "\tMAE:\t3699.13446\n",
            "\n",
            "\n",
            "\n",
            "Training:\n"
          ]
        },
        {
          "data": {
            "application/vnd.jupyter.widget-view+json": {
              "model_id": "cda4a23cea444c8e9892e163ea4ca438",
              "version_major": 2,
              "version_minor": 0
            },
            "text/plain": [
              "  0%|          | 0/100 [00:00<?, ?it/s]"
            ]
          },
          "metadata": {},
          "output_type": "display_data"
        },
        {
          "name": "stdout",
          "output_type": "stream",
          "text": [
            "\tLoss:\t0.13992\n",
            "\tMAE:\t3616.91371\n",
            "\n",
            "\n",
            "\n",
            "Validation:\n"
          ]
        },
        {
          "data": {
            "application/vnd.jupyter.widget-view+json": {
              "model_id": "9befc45a621542efb2a4dbc1a2b95892",
              "version_major": 2,
              "version_minor": 0
            },
            "text/plain": [
              "  0%|          | 0/765 [00:00<?, ?it/s]"
            ]
          },
          "metadata": {},
          "output_type": "display_data"
        },
        {
          "name": "stdout",
          "output_type": "stream",
          "text": [
            "\tLoss:\t0.13149\n",
            "\tMAE:\t3487.29516\n",
            "\n",
            "\n",
            "\n",
            "Training:\n"
          ]
        },
        {
          "data": {
            "application/vnd.jupyter.widget-view+json": {
              "model_id": "ddbb8e4410bc43fea3eb2db55ecc7095",
              "version_major": 2,
              "version_minor": 0
            },
            "text/plain": [
              "  0%|          | 0/100 [00:00<?, ?it/s]"
            ]
          },
          "metadata": {},
          "output_type": "display_data"
        },
        {
          "name": "stdout",
          "output_type": "stream",
          "text": [
            "\tLoss:\t0.15031\n",
            "\tMAE:\t3840.34776\n",
            "\n",
            "\n",
            "\n",
            "Validation:\n"
          ]
        },
        {
          "data": {
            "application/vnd.jupyter.widget-view+json": {
              "model_id": "36885c92bfc84bfe92a8be3c7162f243",
              "version_major": 2,
              "version_minor": 0
            },
            "text/plain": [
              "  0%|          | 0/765 [00:00<?, ?it/s]"
            ]
          },
          "metadata": {},
          "output_type": "display_data"
        },
        {
          "name": "stdout",
          "output_type": "stream",
          "text": [
            "\tLoss:\t0.13021\n",
            "\tMAE:\t3463.85345\n",
            "\n",
            "\n",
            "\n",
            "Training:\n"
          ]
        },
        {
          "data": {
            "application/vnd.jupyter.widget-view+json": {
              "model_id": "e604ef415f89483fab80cad5efe35193",
              "version_major": 2,
              "version_minor": 0
            },
            "text/plain": [
              "  0%|          | 0/100 [00:00<?, ?it/s]"
            ]
          },
          "metadata": {},
          "output_type": "display_data"
        },
        {
          "name": "stdout",
          "output_type": "stream",
          "text": [
            "\tLoss:\t0.13233\n",
            "\tMAE:\t3526.66004\n",
            "\n",
            "\n",
            "\n",
            "Validation:\n"
          ]
        },
        {
          "data": {
            "application/vnd.jupyter.widget-view+json": {
              "model_id": "551aa8bf2fba4ba7b49d22699147c348",
              "version_major": 2,
              "version_minor": 0
            },
            "text/plain": [
              "  0%|          | 0/765 [00:00<?, ?it/s]"
            ]
          },
          "metadata": {},
          "output_type": "display_data"
        },
        {
          "name": "stdout",
          "output_type": "stream",
          "text": [
            "\tLoss:\t0.13844\n",
            "\tMAE:\t3604.63009\n",
            "\n",
            "\n",
            "\n",
            "Training:\n"
          ]
        },
        {
          "data": {
            "application/vnd.jupyter.widget-view+json": {
              "model_id": "27f6ab3ba126465e91eec2c8af4ce8f0",
              "version_major": 2,
              "version_minor": 0
            },
            "text/plain": [
              "  0%|          | 0/100 [00:00<?, ?it/s]"
            ]
          },
          "metadata": {},
          "output_type": "display_data"
        },
        {
          "name": "stdout",
          "output_type": "stream",
          "text": [
            "\tLoss:\t0.13675\n",
            "\tMAE:\t3521.90963\n",
            "\n",
            "\n",
            "\n",
            "Validation:\n"
          ]
        },
        {
          "data": {
            "application/vnd.jupyter.widget-view+json": {
              "model_id": "678e93f781054aba9ab948a3407d675e",
              "version_major": 2,
              "version_minor": 0
            },
            "text/plain": [
              "  0%|          | 0/765 [00:00<?, ?it/s]"
            ]
          },
          "metadata": {},
          "output_type": "display_data"
        },
        {
          "name": "stdout",
          "output_type": "stream",
          "text": [
            "\tLoss:\t0.13915\n",
            "\tMAE:\t3600.09161\n",
            "\n",
            "\n",
            "\n",
            "Training:\n"
          ]
        },
        {
          "data": {
            "application/vnd.jupyter.widget-view+json": {
              "model_id": "2aa85bdf138345a18477e2f5616e0264",
              "version_major": 2,
              "version_minor": 0
            },
            "text/plain": [
              "  0%|          | 0/100 [00:00<?, ?it/s]"
            ]
          },
          "metadata": {},
          "output_type": "display_data"
        },
        {
          "name": "stdout",
          "output_type": "stream",
          "text": [
            "\tLoss:\t0.14329\n",
            "\tMAE:\t3659.24032\n",
            "\n",
            "\n",
            "\n",
            "Validation:\n"
          ]
        },
        {
          "data": {
            "application/vnd.jupyter.widget-view+json": {
              "model_id": "18abebf0a11c48d48ebe43665702721c",
              "version_major": 2,
              "version_minor": 0
            },
            "text/plain": [
              "  0%|          | 0/765 [00:00<?, ?it/s]"
            ]
          },
          "metadata": {},
          "output_type": "display_data"
        },
        {
          "name": "stdout",
          "output_type": "stream",
          "text": [
            "\tLoss:\t0.15532\n",
            "\tMAE:\t3765.76230\n",
            "\n",
            "\n",
            "\n",
            "Training:\n"
          ]
        },
        {
          "data": {
            "application/vnd.jupyter.widget-view+json": {
              "model_id": "1788453257b7489baa069002ae39074d",
              "version_major": 2,
              "version_minor": 0
            },
            "text/plain": [
              "  0%|          | 0/100 [00:00<?, ?it/s]"
            ]
          },
          "metadata": {},
          "output_type": "display_data"
        },
        {
          "name": "stdout",
          "output_type": "stream",
          "text": [
            "\tLoss:\t0.13176\n",
            "\tMAE:\t3542.51893\n",
            "\n",
            "\n",
            "\n",
            "Validation:\n"
          ]
        },
        {
          "data": {
            "application/vnd.jupyter.widget-view+json": {
              "model_id": "8b868be673604f4c9c0b0705b0c9ad2a",
              "version_major": 2,
              "version_minor": 0
            },
            "text/plain": [
              "  0%|          | 0/765 [00:00<?, ?it/s]"
            ]
          },
          "metadata": {},
          "output_type": "display_data"
        },
        {
          "name": "stdout",
          "output_type": "stream",
          "text": [
            "\tLoss:\t0.13738\n",
            "\tMAE:\t3588.76344\n",
            "\n",
            "\n",
            "\n",
            "Training:\n"
          ]
        },
        {
          "data": {
            "application/vnd.jupyter.widget-view+json": {
              "model_id": "5a0209a9f30c4d1cb4ecc593374ac8d2",
              "version_major": 2,
              "version_minor": 0
            },
            "text/plain": [
              "  0%|          | 0/100 [00:00<?, ?it/s]"
            ]
          },
          "metadata": {},
          "output_type": "display_data"
        },
        {
          "name": "stdout",
          "output_type": "stream",
          "text": [
            "\tLoss:\t0.14310\n",
            "\tMAE:\t3627.67670\n",
            "\n",
            "\n",
            "\n",
            "Validation:\n"
          ]
        },
        {
          "data": {
            "application/vnd.jupyter.widget-view+json": {
              "model_id": "03d0e7a69e3940eaa32549d76940a86e",
              "version_major": 2,
              "version_minor": 0
            },
            "text/plain": [
              "  0%|          | 0/765 [00:00<?, ?it/s]"
            ]
          },
          "metadata": {},
          "output_type": "display_data"
        },
        {
          "name": "stdout",
          "output_type": "stream",
          "text": [
            "\tLoss:\t0.13320\n",
            "\tMAE:\t3509.84025\n",
            "\n",
            "\n",
            "\n",
            "Training:\n"
          ]
        },
        {
          "data": {
            "application/vnd.jupyter.widget-view+json": {
              "model_id": "bd51b5e2a0ff4d74930e496a8401ce97",
              "version_major": 2,
              "version_minor": 0
            },
            "text/plain": [
              "  0%|          | 0/100 [00:00<?, ?it/s]"
            ]
          },
          "metadata": {},
          "output_type": "display_data"
        },
        {
          "name": "stdout",
          "output_type": "stream",
          "text": [
            "\tLoss:\t0.14055\n",
            "\tMAE:\t3577.52422\n",
            "\n",
            "\n",
            "\n",
            "Validation:\n"
          ]
        },
        {
          "data": {
            "application/vnd.jupyter.widget-view+json": {
              "model_id": "9d308171c2244c59a75df1e694671041",
              "version_major": 2,
              "version_minor": 0
            },
            "text/plain": [
              "  0%|          | 0/765 [00:00<?, ?it/s]"
            ]
          },
          "metadata": {},
          "output_type": "display_data"
        },
        {
          "name": "stdout",
          "output_type": "stream",
          "text": [
            "\tLoss:\t0.12811\n",
            "\tMAE:\t3445.27610\n",
            "\n",
            "\n",
            "\n",
            "Training:\n"
          ]
        },
        {
          "data": {
            "application/vnd.jupyter.widget-view+json": {
              "model_id": "a9efdb2ed963442c8903b2a886445c4c",
              "version_major": 2,
              "version_minor": 0
            },
            "text/plain": [
              "  0%|          | 0/100 [00:00<?, ?it/s]"
            ]
          },
          "metadata": {},
          "output_type": "display_data"
        },
        {
          "name": "stdout",
          "output_type": "stream",
          "text": [
            "\tLoss:\t0.13796\n",
            "\tMAE:\t3557.10528\n",
            "\n",
            "\n",
            "\n",
            "Validation:\n"
          ]
        },
        {
          "data": {
            "application/vnd.jupyter.widget-view+json": {
              "model_id": "edb60683fb864b7eb87c910278497289",
              "version_major": 2,
              "version_minor": 0
            },
            "text/plain": [
              "  0%|          | 0/765 [00:00<?, ?it/s]"
            ]
          },
          "metadata": {},
          "output_type": "display_data"
        },
        {
          "name": "stdout",
          "output_type": "stream",
          "text": [
            "\tLoss:\t0.15756\n",
            "\tMAE:\t3919.64279\n",
            "\n",
            "\n",
            "\n",
            "Training:\n"
          ]
        },
        {
          "data": {
            "application/vnd.jupyter.widget-view+json": {
              "model_id": "59a8039ec3594305bf2ad24f37227f55",
              "version_major": 2,
              "version_minor": 0
            },
            "text/plain": [
              "  0%|          | 0/100 [00:00<?, ?it/s]"
            ]
          },
          "metadata": {},
          "output_type": "display_data"
        },
        {
          "name": "stdout",
          "output_type": "stream",
          "text": [
            "\tLoss:\t0.12736\n",
            "\tMAE:\t3380.16954\n",
            "\n",
            "\n",
            "\n",
            "Validation:\n"
          ]
        },
        {
          "data": {
            "application/vnd.jupyter.widget-view+json": {
              "model_id": "96f4e841054645f7ac23bc70e14e2f6b",
              "version_major": 2,
              "version_minor": 0
            },
            "text/plain": [
              "  0%|          | 0/765 [00:00<?, ?it/s]"
            ]
          },
          "metadata": {},
          "output_type": "display_data"
        },
        {
          "name": "stdout",
          "output_type": "stream",
          "text": [
            "\tLoss:\t0.12774\n",
            "\tMAE:\t3440.52503\n",
            "\n",
            "\n",
            "\n",
            "Training:\n"
          ]
        },
        {
          "data": {
            "application/vnd.jupyter.widget-view+json": {
              "model_id": "c3432eff3d5d458face0589e9ade978f",
              "version_major": 2,
              "version_minor": 0
            },
            "text/plain": [
              "  0%|          | 0/100 [00:00<?, ?it/s]"
            ]
          },
          "metadata": {},
          "output_type": "display_data"
        },
        {
          "name": "stdout",
          "output_type": "stream",
          "text": [
            "\tLoss:\t0.13546\n",
            "\tMAE:\t3551.79846\n",
            "\n",
            "\n",
            "\n",
            "Validation:\n"
          ]
        },
        {
          "data": {
            "application/vnd.jupyter.widget-view+json": {
              "model_id": "e0049e60c61f41659993df663045ad66",
              "version_major": 2,
              "version_minor": 0
            },
            "text/plain": [
              "  0%|          | 0/765 [00:00<?, ?it/s]"
            ]
          },
          "metadata": {},
          "output_type": "display_data"
        },
        {
          "name": "stdout",
          "output_type": "stream",
          "text": [
            "\tLoss:\t0.13808\n",
            "\tMAE:\t3563.96332\n",
            "\n",
            "\n",
            "\n",
            "Training:\n"
          ]
        },
        {
          "data": {
            "application/vnd.jupyter.widget-view+json": {
              "model_id": "80f9b734e75e4ee390cec19446bab549",
              "version_major": 2,
              "version_minor": 0
            },
            "text/plain": [
              "  0%|          | 0/100 [00:00<?, ?it/s]"
            ]
          },
          "metadata": {},
          "output_type": "display_data"
        },
        {
          "name": "stdout",
          "output_type": "stream",
          "text": [
            "\tLoss:\t0.13441\n",
            "\tMAE:\t3595.56538\n",
            "\n",
            "\n",
            "\n",
            "Validation:\n"
          ]
        },
        {
          "data": {
            "application/vnd.jupyter.widget-view+json": {
              "model_id": "5cc3a0509f6447019c15b0dcbe935bfa",
              "version_major": 2,
              "version_minor": 0
            },
            "text/plain": [
              "  0%|          | 0/765 [00:00<?, ?it/s]"
            ]
          },
          "metadata": {},
          "output_type": "display_data"
        },
        {
          "name": "stdout",
          "output_type": "stream",
          "text": [
            "\tLoss:\t0.12639\n",
            "\tMAE:\t3410.15050\n",
            "\n",
            "\n",
            "\n",
            "Training:\n"
          ]
        },
        {
          "data": {
            "application/vnd.jupyter.widget-view+json": {
              "model_id": "e8e562150db347a7bcf04ee5907422cc",
              "version_major": 2,
              "version_minor": 0
            },
            "text/plain": [
              "  0%|          | 0/100 [00:00<?, ?it/s]"
            ]
          },
          "metadata": {},
          "output_type": "display_data"
        },
        {
          "name": "stdout",
          "output_type": "stream",
          "text": [
            "\tLoss:\t0.12906\n",
            "\tMAE:\t3502.89028\n",
            "\n",
            "\n",
            "\n",
            "Validation:\n"
          ]
        },
        {
          "data": {
            "application/vnd.jupyter.widget-view+json": {
              "model_id": "eaec11da3d3b44b499a349fa82300120",
              "version_major": 2,
              "version_minor": 0
            },
            "text/plain": [
              "  0%|          | 0/765 [00:00<?, ?it/s]"
            ]
          },
          "metadata": {},
          "output_type": "display_data"
        },
        {
          "name": "stdout",
          "output_type": "stream",
          "text": [
            "\tLoss:\t0.14718\n",
            "\tMAE:\t3667.69664\n",
            "\n",
            "\n",
            "\n",
            "Training:\n"
          ]
        },
        {
          "data": {
            "application/vnd.jupyter.widget-view+json": {
              "model_id": "23789f1ba45c4afb9ebb47822f44a633",
              "version_major": 2,
              "version_minor": 0
            },
            "text/plain": [
              "  0%|          | 0/100 [00:00<?, ?it/s]"
            ]
          },
          "metadata": {},
          "output_type": "display_data"
        },
        {
          "name": "stdout",
          "output_type": "stream",
          "text": [
            "\tLoss:\t0.13157\n",
            "\tMAE:\t3472.80493\n",
            "\n",
            "\n",
            "\n",
            "Validation:\n"
          ]
        },
        {
          "data": {
            "application/vnd.jupyter.widget-view+json": {
              "model_id": "12dfde72c9d548f082b59ee51d66ddce",
              "version_major": 2,
              "version_minor": 0
            },
            "text/plain": [
              "  0%|          | 0/765 [00:00<?, ?it/s]"
            ]
          },
          "metadata": {},
          "output_type": "display_data"
        },
        {
          "name": "stdout",
          "output_type": "stream",
          "text": [
            "\tLoss:\t0.17154\n",
            "\tMAE:\t4209.77043\n",
            "\n",
            "\n",
            "\n",
            "Training:\n"
          ]
        },
        {
          "data": {
            "application/vnd.jupyter.widget-view+json": {
              "model_id": "0c997a91bd934aa89a75a88a36007a60",
              "version_major": 2,
              "version_minor": 0
            },
            "text/plain": [
              "  0%|          | 0/100 [00:00<?, ?it/s]"
            ]
          },
          "metadata": {},
          "output_type": "display_data"
        },
        {
          "name": "stdout",
          "output_type": "stream",
          "text": [
            "\tLoss:\t0.13688\n",
            "\tMAE:\t3572.04297\n",
            "\n",
            "\n",
            "\n",
            "Validation:\n"
          ]
        },
        {
          "data": {
            "application/vnd.jupyter.widget-view+json": {
              "model_id": "9667ce0276e4433290239b5832a305ac",
              "version_major": 2,
              "version_minor": 0
            },
            "text/plain": [
              "  0%|          | 0/765 [00:00<?, ?it/s]"
            ]
          },
          "metadata": {},
          "output_type": "display_data"
        },
        {
          "name": "stdout",
          "output_type": "stream",
          "text": [
            "\tLoss:\t0.13823\n",
            "\tMAE:\t3600.39271\n",
            "\n",
            "\n",
            "\n",
            "Training:\n"
          ]
        },
        {
          "data": {
            "application/vnd.jupyter.widget-view+json": {
              "model_id": "2d764ef240854da1b017bb97e7504ea7",
              "version_major": 2,
              "version_minor": 0
            },
            "text/plain": [
              "  0%|          | 0/100 [00:00<?, ?it/s]"
            ]
          },
          "metadata": {},
          "output_type": "display_data"
        },
        {
          "name": "stdout",
          "output_type": "stream",
          "text": [
            "\tLoss:\t0.14512\n",
            "\tMAE:\t3713.44656\n",
            "\n",
            "\n",
            "\n",
            "Validation:\n"
          ]
        },
        {
          "data": {
            "application/vnd.jupyter.widget-view+json": {
              "model_id": "2455d4c0906d4359bdfb20a4709dcc04",
              "version_major": 2,
              "version_minor": 0
            },
            "text/plain": [
              "  0%|          | 0/765 [00:00<?, ?it/s]"
            ]
          },
          "metadata": {},
          "output_type": "display_data"
        },
        {
          "name": "stdout",
          "output_type": "stream",
          "text": [
            "\tLoss:\t0.12979\n",
            "\tMAE:\t3477.24664\n",
            "\n",
            "\n",
            "\n",
            "Training:\n"
          ]
        },
        {
          "data": {
            "application/vnd.jupyter.widget-view+json": {
              "model_id": "5d4d508bcd1d4542a12bb271e8f977da",
              "version_major": 2,
              "version_minor": 0
            },
            "text/plain": [
              "  0%|          | 0/100 [00:00<?, ?it/s]"
            ]
          },
          "metadata": {},
          "output_type": "display_data"
        },
        {
          "name": "stdout",
          "output_type": "stream",
          "text": [
            "\tLoss:\t0.12879\n",
            "\tMAE:\t3445.41451\n",
            "\n",
            "\n",
            "\n",
            "Validation:\n"
          ]
        },
        {
          "data": {
            "application/vnd.jupyter.widget-view+json": {
              "model_id": "a3e6c142131648eda265b5cb080f5535",
              "version_major": 2,
              "version_minor": 0
            },
            "text/plain": [
              "  0%|          | 0/765 [00:00<?, ?it/s]"
            ]
          },
          "metadata": {},
          "output_type": "display_data"
        },
        {
          "name": "stdout",
          "output_type": "stream",
          "text": [
            "\tLoss:\t0.12431\n",
            "\tMAE:\t3393.47367\n",
            "\n",
            "\n",
            "\n",
            "Training:\n"
          ]
        },
        {
          "data": {
            "application/vnd.jupyter.widget-view+json": {
              "model_id": "af2bc620c7e94b2d9aed859ac77760fe",
              "version_major": 2,
              "version_minor": 0
            },
            "text/plain": [
              "  0%|          | 0/100 [00:00<?, ?it/s]"
            ]
          },
          "metadata": {},
          "output_type": "display_data"
        },
        {
          "name": "stdout",
          "output_type": "stream",
          "text": [
            "\tLoss:\t0.13194\n",
            "\tMAE:\t3475.29467\n",
            "\n",
            "\n",
            "\n",
            "Validation:\n"
          ]
        },
        {
          "data": {
            "application/vnd.jupyter.widget-view+json": {
              "model_id": "7286f61137d84bdb83e3160c6b786ad3",
              "version_major": 2,
              "version_minor": 0
            },
            "text/plain": [
              "  0%|          | 0/765 [00:00<?, ?it/s]"
            ]
          },
          "metadata": {},
          "output_type": "display_data"
        },
        {
          "name": "stdout",
          "output_type": "stream",
          "text": [
            "\tLoss:\t0.15086\n",
            "\tMAE:\t3841.76465\n",
            "\n",
            "\n",
            "\n",
            "Training:\n"
          ]
        },
        {
          "data": {
            "application/vnd.jupyter.widget-view+json": {
              "model_id": "a884b569d326452697cd975b7ff33d97",
              "version_major": 2,
              "version_minor": 0
            },
            "text/plain": [
              "  0%|          | 0/100 [00:00<?, ?it/s]"
            ]
          },
          "metadata": {},
          "output_type": "display_data"
        },
        {
          "name": "stdout",
          "output_type": "stream",
          "text": [
            "\tLoss:\t0.14754\n",
            "\tMAE:\t3710.45761\n",
            "\n",
            "\n",
            "\n",
            "Validation:\n"
          ]
        },
        {
          "data": {
            "application/vnd.jupyter.widget-view+json": {
              "model_id": "53cdf33d9a824fe9bdc069444b6aa8d7",
              "version_major": 2,
              "version_minor": 0
            },
            "text/plain": [
              "  0%|          | 0/765 [00:00<?, ?it/s]"
            ]
          },
          "metadata": {},
          "output_type": "display_data"
        },
        {
          "name": "stdout",
          "output_type": "stream",
          "text": [
            "\tLoss:\t0.12769\n",
            "\tMAE:\t3429.23692\n",
            "\n",
            "\n",
            "\n",
            "Training:\n"
          ]
        },
        {
          "data": {
            "application/vnd.jupyter.widget-view+json": {
              "model_id": "6b8f8f24ebc140a5b02cfa961abf88c2",
              "version_major": 2,
              "version_minor": 0
            },
            "text/plain": [
              "  0%|          | 0/100 [00:00<?, ?it/s]"
            ]
          },
          "metadata": {},
          "output_type": "display_data"
        },
        {
          "name": "stdout",
          "output_type": "stream",
          "text": [
            "\tLoss:\t0.15201\n",
            "\tMAE:\t3775.90711\n",
            "\n",
            "\n",
            "\n",
            "Validation:\n"
          ]
        },
        {
          "data": {
            "application/vnd.jupyter.widget-view+json": {
              "model_id": "d2d9c22b721d497c982539a145a5b5a7",
              "version_major": 2,
              "version_minor": 0
            },
            "text/plain": [
              "  0%|          | 0/765 [00:00<?, ?it/s]"
            ]
          },
          "metadata": {},
          "output_type": "display_data"
        },
        {
          "name": "stdout",
          "output_type": "stream",
          "text": [
            "\tLoss:\t0.13117\n",
            "\tMAE:\t3495.40345\n",
            "\n",
            "\n",
            "\n",
            "Training:\n"
          ]
        },
        {
          "data": {
            "application/vnd.jupyter.widget-view+json": {
              "model_id": "1c6e26e3c1924b29b24a8013f33e3109",
              "version_major": 2,
              "version_minor": 0
            },
            "text/plain": [
              "  0%|          | 0/100 [00:00<?, ?it/s]"
            ]
          },
          "metadata": {},
          "output_type": "display_data"
        },
        {
          "name": "stdout",
          "output_type": "stream",
          "text": [
            "\tLoss:\t0.12926\n",
            "\tMAE:\t3470.37760\n",
            "\n",
            "\n",
            "\n",
            "Validation:\n"
          ]
        },
        {
          "data": {
            "application/vnd.jupyter.widget-view+json": {
              "model_id": "ddd105d06fc24c4a971612084167e164",
              "version_major": 2,
              "version_minor": 0
            },
            "text/plain": [
              "  0%|          | 0/765 [00:00<?, ?it/s]"
            ]
          },
          "metadata": {},
          "output_type": "display_data"
        },
        {
          "name": "stdout",
          "output_type": "stream",
          "text": [
            "\tLoss:\t0.12452\n",
            "\tMAE:\t3385.31583\n",
            "\n",
            "\n",
            "\n",
            "Training:\n"
          ]
        },
        {
          "data": {
            "application/vnd.jupyter.widget-view+json": {
              "model_id": "aaca366a8bb747e9a5d6d926843cc781",
              "version_major": 2,
              "version_minor": 0
            },
            "text/plain": [
              "  0%|          | 0/100 [00:00<?, ?it/s]"
            ]
          },
          "metadata": {},
          "output_type": "display_data"
        },
        {
          "name": "stdout",
          "output_type": "stream",
          "text": [
            "\tLoss:\t0.12667\n",
            "\tMAE:\t3427.08525\n",
            "\n",
            "\n",
            "\n",
            "Validation:\n"
          ]
        },
        {
          "data": {
            "application/vnd.jupyter.widget-view+json": {
              "model_id": "4081be3b996b4c9583959c1484235a05",
              "version_major": 2,
              "version_minor": 0
            },
            "text/plain": [
              "  0%|          | 0/765 [00:00<?, ?it/s]"
            ]
          },
          "metadata": {},
          "output_type": "display_data"
        },
        {
          "name": "stdout",
          "output_type": "stream",
          "text": [
            "\tLoss:\t0.12316\n",
            "\tMAE:\t3371.95131\n",
            "\n",
            "\n",
            "\n",
            "Training:\n"
          ]
        },
        {
          "data": {
            "application/vnd.jupyter.widget-view+json": {
              "model_id": "efd0312f39b2471fa3998dc8b6a71735",
              "version_major": 2,
              "version_minor": 0
            },
            "text/plain": [
              "  0%|          | 0/100 [00:00<?, ?it/s]"
            ]
          },
          "metadata": {},
          "output_type": "display_data"
        },
        {
          "name": "stdout",
          "output_type": "stream",
          "text": [
            "\tLoss:\t0.13364\n",
            "\tMAE:\t3539.28632\n",
            "\n",
            "\n",
            "\n",
            "Validation:\n"
          ]
        },
        {
          "data": {
            "application/vnd.jupyter.widget-view+json": {
              "model_id": "e6c4b97478964a5caf7805d5dc7a3699",
              "version_major": 2,
              "version_minor": 0
            },
            "text/plain": [
              "  0%|          | 0/765 [00:00<?, ?it/s]"
            ]
          },
          "metadata": {},
          "output_type": "display_data"
        },
        {
          "name": "stdout",
          "output_type": "stream",
          "text": [
            "\tLoss:\t0.15511\n",
            "\tMAE:\t3754.35511\n",
            "\n",
            "\n",
            "\n",
            "Training:\n"
          ]
        },
        {
          "data": {
            "application/vnd.jupyter.widget-view+json": {
              "model_id": "95a18f1777584eba81cb0b78dce7d1a0",
              "version_major": 2,
              "version_minor": 0
            },
            "text/plain": [
              "  0%|          | 0/100 [00:00<?, ?it/s]"
            ]
          },
          "metadata": {},
          "output_type": "display_data"
        },
        {
          "name": "stdout",
          "output_type": "stream",
          "text": [
            "\tLoss:\t0.13185\n",
            "\tMAE:\t3466.01959\n",
            "\n",
            "\n",
            "\n",
            "Validation:\n"
          ]
        },
        {
          "data": {
            "application/vnd.jupyter.widget-view+json": {
              "model_id": "c6b18414b48e4ac5a18d65fb3a36e06b",
              "version_major": 2,
              "version_minor": 0
            },
            "text/plain": [
              "  0%|          | 0/765 [00:00<?, ?it/s]"
            ]
          },
          "metadata": {},
          "output_type": "display_data"
        },
        {
          "name": "stdout",
          "output_type": "stream",
          "text": [
            "\tLoss:\t0.12935\n",
            "\tMAE:\t3440.54115\n",
            "\n",
            "\n",
            "\n",
            "Training:\n"
          ]
        },
        {
          "data": {
            "application/vnd.jupyter.widget-view+json": {
              "model_id": "c7188fb24e514520b179737b71984baf",
              "version_major": 2,
              "version_minor": 0
            },
            "text/plain": [
              "  0%|          | 0/100 [00:00<?, ?it/s]"
            ]
          },
          "metadata": {},
          "output_type": "display_data"
        },
        {
          "name": "stdout",
          "output_type": "stream",
          "text": [
            "\tLoss:\t0.13518\n",
            "\tMAE:\t3566.53607\n",
            "\n",
            "\n",
            "\n",
            "Validation:\n"
          ]
        },
        {
          "data": {
            "application/vnd.jupyter.widget-view+json": {
              "model_id": "3a6dcfc6faf34f4fb41a60f7728a200e",
              "version_major": 2,
              "version_minor": 0
            },
            "text/plain": [
              "  0%|          | 0/765 [00:00<?, ?it/s]"
            ]
          },
          "metadata": {},
          "output_type": "display_data"
        },
        {
          "name": "stdout",
          "output_type": "stream",
          "text": [
            "\tLoss:\t0.12557\n",
            "\tMAE:\t3400.77461\n",
            "\n",
            "\n",
            "\n",
            "Training:\n"
          ]
        },
        {
          "data": {
            "application/vnd.jupyter.widget-view+json": {
              "model_id": "6ee6d20971d34fedbde5345c86c4558d",
              "version_major": 2,
              "version_minor": 0
            },
            "text/plain": [
              "  0%|          | 0/100 [00:00<?, ?it/s]"
            ]
          },
          "metadata": {},
          "output_type": "display_data"
        },
        {
          "name": "stdout",
          "output_type": "stream",
          "text": [
            "\tLoss:\t0.12576\n",
            "\tMAE:\t3434.37010\n",
            "\n",
            "\n",
            "\n",
            "Validation:\n"
          ]
        },
        {
          "data": {
            "application/vnd.jupyter.widget-view+json": {
              "model_id": "223a5245baa54c4e9a8198bcbecce09e",
              "version_major": 2,
              "version_minor": 0
            },
            "text/plain": [
              "  0%|          | 0/765 [00:00<?, ?it/s]"
            ]
          },
          "metadata": {},
          "output_type": "display_data"
        },
        {
          "name": "stdout",
          "output_type": "stream",
          "text": [
            "\tLoss:\t0.14027\n",
            "\tMAE:\t3597.89149\n",
            "\n",
            "\n",
            "\n",
            "Training:\n"
          ]
        },
        {
          "data": {
            "application/vnd.jupyter.widget-view+json": {
              "model_id": "f8fe71697a2147d98214d04f34c42d5d",
              "version_major": 2,
              "version_minor": 0
            },
            "text/plain": [
              "  0%|          | 0/100 [00:00<?, ?it/s]"
            ]
          },
          "metadata": {},
          "output_type": "display_data"
        },
        {
          "name": "stdout",
          "output_type": "stream",
          "text": [
            "\tLoss:\t0.12697\n",
            "\tMAE:\t3430.35807\n",
            "\n",
            "\n",
            "\n",
            "Validation:\n"
          ]
        },
        {
          "data": {
            "application/vnd.jupyter.widget-view+json": {
              "model_id": "22f577da10d049acadf2788aa83a0b13",
              "version_major": 2,
              "version_minor": 0
            },
            "text/plain": [
              "  0%|          | 0/765 [00:00<?, ?it/s]"
            ]
          },
          "metadata": {},
          "output_type": "display_data"
        },
        {
          "name": "stdout",
          "output_type": "stream",
          "text": [
            "\tLoss:\t0.14168\n",
            "\tMAE:\t3614.50692\n",
            "\n",
            "\n",
            "\n",
            "Training:\n"
          ]
        },
        {
          "data": {
            "application/vnd.jupyter.widget-view+json": {
              "model_id": "6f996bbc55764bf5ba8b4d0b6b906aef",
              "version_major": 2,
              "version_minor": 0
            },
            "text/plain": [
              "  0%|          | 0/100 [00:00<?, ?it/s]"
            ]
          },
          "metadata": {},
          "output_type": "display_data"
        },
        {
          "name": "stdout",
          "output_type": "stream",
          "text": [
            "\tLoss:\t0.12815\n",
            "\tMAE:\t3401.12063\n",
            "\n",
            "\n",
            "\n",
            "Validation:\n"
          ]
        },
        {
          "data": {
            "application/vnd.jupyter.widget-view+json": {
              "model_id": "fe61c48af22e4024adb3cb5f3d753ec5",
              "version_major": 2,
              "version_minor": 0
            },
            "text/plain": [
              "  0%|          | 0/765 [00:00<?, ?it/s]"
            ]
          },
          "metadata": {},
          "output_type": "display_data"
        },
        {
          "name": "stdout",
          "output_type": "stream",
          "text": [
            "\tLoss:\t0.15237\n",
            "\tMAE:\t3870.43431\n",
            "\n",
            "\n",
            "\n",
            "Training:\n"
          ]
        },
        {
          "data": {
            "application/vnd.jupyter.widget-view+json": {
              "model_id": "42cb0e8244f74567832ef260db811d1d",
              "version_major": 2,
              "version_minor": 0
            },
            "text/plain": [
              "  0%|          | 0/100 [00:00<?, ?it/s]"
            ]
          },
          "metadata": {},
          "output_type": "display_data"
        },
        {
          "name": "stdout",
          "output_type": "stream",
          "text": [
            "\tLoss:\t0.12627\n",
            "\tMAE:\t3435.28695\n",
            "\n",
            "\n",
            "\n",
            "Validation:\n"
          ]
        },
        {
          "data": {
            "application/vnd.jupyter.widget-view+json": {
              "model_id": "1e73734036fd46fba9e5222350c29d1a",
              "version_major": 2,
              "version_minor": 0
            },
            "text/plain": [
              "  0%|          | 0/765 [00:00<?, ?it/s]"
            ]
          },
          "metadata": {},
          "output_type": "display_data"
        },
        {
          "name": "stdout",
          "output_type": "stream",
          "text": [
            "\tLoss:\t0.13507\n",
            "\tMAE:\t3567.81900\n",
            "\n",
            "\n",
            "\n",
            "Training:\n"
          ]
        },
        {
          "data": {
            "application/vnd.jupyter.widget-view+json": {
              "model_id": "0421a99851934379a5906b05d8d5a240",
              "version_major": 2,
              "version_minor": 0
            },
            "text/plain": [
              "  0%|          | 0/100 [00:00<?, ?it/s]"
            ]
          },
          "metadata": {},
          "output_type": "display_data"
        },
        {
          "name": "stdout",
          "output_type": "stream",
          "text": [
            "\tLoss:\t0.14283\n",
            "\tMAE:\t3661.67274\n",
            "\n",
            "\n",
            "\n",
            "Validation:\n"
          ]
        },
        {
          "data": {
            "application/vnd.jupyter.widget-view+json": {
              "model_id": "161db20e1f1c4b3caab5e28e1509a831",
              "version_major": 2,
              "version_minor": 0
            },
            "text/plain": [
              "  0%|          | 0/765 [00:00<?, ?it/s]"
            ]
          },
          "metadata": {},
          "output_type": "display_data"
        },
        {
          "name": "stdout",
          "output_type": "stream",
          "text": [
            "\tLoss:\t0.25128\n",
            "\tMAE:\t5527.93551\n",
            "\n",
            "\n",
            "\n",
            "Training:\n"
          ]
        },
        {
          "data": {
            "application/vnd.jupyter.widget-view+json": {
              "model_id": "701af249b00145ab8fc8494a5124a732",
              "version_major": 2,
              "version_minor": 0
            },
            "text/plain": [
              "  0%|          | 0/100 [00:00<?, ?it/s]"
            ]
          },
          "metadata": {},
          "output_type": "display_data"
        },
        {
          "name": "stdout",
          "output_type": "stream",
          "text": [
            "\tLoss:\t0.12548\n",
            "\tMAE:\t3430.98270\n",
            "\n",
            "\n",
            "\n",
            "Validation:\n"
          ]
        },
        {
          "data": {
            "application/vnd.jupyter.widget-view+json": {
              "model_id": "ec70d22862eb4824807858a5e86c18cb",
              "version_major": 2,
              "version_minor": 0
            },
            "text/plain": [
              "  0%|          | 0/765 [00:00<?, ?it/s]"
            ]
          },
          "metadata": {},
          "output_type": "display_data"
        },
        {
          "name": "stdout",
          "output_type": "stream",
          "text": [
            "\tLoss:\t0.12223\n",
            "\tMAE:\t3349.32658\n",
            "\n",
            "\n",
            "\n",
            "Training:\n"
          ]
        },
        {
          "data": {
            "application/vnd.jupyter.widget-view+json": {
              "model_id": "49a055d6df6649619fab5831ff55e096",
              "version_major": 2,
              "version_minor": 0
            },
            "text/plain": [
              "  0%|          | 0/100 [00:00<?, ?it/s]"
            ]
          },
          "metadata": {},
          "output_type": "display_data"
        },
        {
          "name": "stdout",
          "output_type": "stream",
          "text": [
            "\tLoss:\t0.12497\n",
            "\tMAE:\t3386.01963\n",
            "\n",
            "\n",
            "\n",
            "Validation:\n"
          ]
        },
        {
          "data": {
            "application/vnd.jupyter.widget-view+json": {
              "model_id": "bb71c1c2c2804ca0b7eccde3dab6f747",
              "version_major": 2,
              "version_minor": 0
            },
            "text/plain": [
              "  0%|          | 0/765 [00:00<?, ?it/s]"
            ]
          },
          "metadata": {},
          "output_type": "display_data"
        },
        {
          "name": "stdout",
          "output_type": "stream",
          "text": [
            "\tLoss:\t0.12233\n",
            "\tMAE:\t3354.16524\n",
            "\n",
            "\n",
            "\n",
            "Training:\n"
          ]
        },
        {
          "data": {
            "application/vnd.jupyter.widget-view+json": {
              "model_id": "01199e935c0c41d29f4967899ababb7a",
              "version_major": 2,
              "version_minor": 0
            },
            "text/plain": [
              "  0%|          | 0/100 [00:00<?, ?it/s]"
            ]
          },
          "metadata": {},
          "output_type": "display_data"
        },
        {
          "name": "stdout",
          "output_type": "stream",
          "text": [
            "\tLoss:\t0.14756\n",
            "\tMAE:\t3693.43395\n",
            "\n",
            "\n",
            "\n",
            "Validation:\n"
          ]
        },
        {
          "data": {
            "application/vnd.jupyter.widget-view+json": {
              "model_id": "122ed81aa5f942a0bd5bd64fc90ee129",
              "version_major": 2,
              "version_minor": 0
            },
            "text/plain": [
              "  0%|          | 0/765 [00:00<?, ?it/s]"
            ]
          },
          "metadata": {},
          "output_type": "display_data"
        },
        {
          "name": "stdout",
          "output_type": "stream",
          "text": [
            "\tLoss:\t0.13424\n",
            "\tMAE:\t3569.70025\n",
            "\n",
            "\n",
            "\n",
            "Training:\n"
          ]
        },
        {
          "data": {
            "application/vnd.jupyter.widget-view+json": {
              "model_id": "afbba159b1df4ae9aceaeda4a696b1af",
              "version_major": 2,
              "version_minor": 0
            },
            "text/plain": [
              "  0%|          | 0/100 [00:00<?, ?it/s]"
            ]
          },
          "metadata": {},
          "output_type": "display_data"
        },
        {
          "name": "stdout",
          "output_type": "stream",
          "text": [
            "\tLoss:\t0.13851\n",
            "\tMAE:\t3597.83815\n",
            "\n",
            "\n",
            "\n",
            "Validation:\n"
          ]
        },
        {
          "data": {
            "application/vnd.jupyter.widget-view+json": {
              "model_id": "74bb24bd80354f488639c9fa3ff3244b",
              "version_major": 2,
              "version_minor": 0
            },
            "text/plain": [
              "  0%|          | 0/765 [00:00<?, ?it/s]"
            ]
          },
          "metadata": {},
          "output_type": "display_data"
        },
        {
          "name": "stdout",
          "output_type": "stream",
          "text": [
            "\tLoss:\t0.13698\n",
            "\tMAE:\t3533.33902\n",
            "\n",
            "\n",
            "\n",
            "Training:\n"
          ]
        },
        {
          "data": {
            "application/vnd.jupyter.widget-view+json": {
              "model_id": "e326e39f55a24dc7b6c251b9f62ba15b",
              "version_major": 2,
              "version_minor": 0
            },
            "text/plain": [
              "  0%|          | 0/100 [00:00<?, ?it/s]"
            ]
          },
          "metadata": {},
          "output_type": "display_data"
        },
        {
          "name": "stdout",
          "output_type": "stream",
          "text": [
            "\tLoss:\t0.12788\n",
            "\tMAE:\t3429.39903\n",
            "\n",
            "\n",
            "\n",
            "Validation:\n"
          ]
        },
        {
          "data": {
            "application/vnd.jupyter.widget-view+json": {
              "model_id": "71d0e8c686774e6e85cac7a131d06e71",
              "version_major": 2,
              "version_minor": 0
            },
            "text/plain": [
              "  0%|          | 0/765 [00:00<?, ?it/s]"
            ]
          },
          "metadata": {},
          "output_type": "display_data"
        },
        {
          "name": "stdout",
          "output_type": "stream",
          "text": [
            "\tLoss:\t0.18499\n",
            "\tMAE:\t4108.29428\n",
            "\n",
            "\n",
            "\n",
            "Training:\n"
          ]
        },
        {
          "data": {
            "application/vnd.jupyter.widget-view+json": {
              "model_id": "f559835015014948a9b1a6b0129815a8",
              "version_major": 2,
              "version_minor": 0
            },
            "text/plain": [
              "  0%|          | 0/100 [00:00<?, ?it/s]"
            ]
          },
          "metadata": {},
          "output_type": "display_data"
        },
        {
          "name": "stdout",
          "output_type": "stream",
          "text": [
            "\tLoss:\t0.11996\n",
            "\tMAE:\t3348.60980\n",
            "\n",
            "\n",
            "\n",
            "Validation:\n"
          ]
        },
        {
          "data": {
            "application/vnd.jupyter.widget-view+json": {
              "model_id": "ee14a40a692741e983d7b558ea97d252",
              "version_major": 2,
              "version_minor": 0
            },
            "text/plain": [
              "  0%|          | 0/765 [00:00<?, ?it/s]"
            ]
          },
          "metadata": {},
          "output_type": "display_data"
        },
        {
          "name": "stdout",
          "output_type": "stream",
          "text": [
            "\tLoss:\t0.12262\n",
            "\tMAE:\t3361.53891\n",
            "\n",
            "\n",
            "\n",
            "Training:\n"
          ]
        },
        {
          "data": {
            "application/vnd.jupyter.widget-view+json": {
              "model_id": "baaa4b0571174208ad9b1220052b658f",
              "version_major": 2,
              "version_minor": 0
            },
            "text/plain": [
              "  0%|          | 0/100 [00:00<?, ?it/s]"
            ]
          },
          "metadata": {},
          "output_type": "display_data"
        },
        {
          "name": "stdout",
          "output_type": "stream",
          "text": [
            "\tLoss:\t0.12861\n",
            "\tMAE:\t3537.20238\n",
            "\n",
            "\n",
            "\n",
            "Validation:\n"
          ]
        },
        {
          "data": {
            "application/vnd.jupyter.widget-view+json": {
              "model_id": "1fffd6e572fc40d5a116d3c9ac837db0",
              "version_major": 2,
              "version_minor": 0
            },
            "text/plain": [
              "  0%|          | 0/765 [00:00<?, ?it/s]"
            ]
          },
          "metadata": {},
          "output_type": "display_data"
        },
        {
          "name": "stdout",
          "output_type": "stream",
          "text": [
            "\tLoss:\t0.17244\n",
            "\tMAE:\t4207.57800\n",
            "\n",
            "\n",
            "\n",
            "Training:\n"
          ]
        },
        {
          "data": {
            "application/vnd.jupyter.widget-view+json": {
              "model_id": "3aaa94ea477e48a3ab98d03bfbdaf5c3",
              "version_major": 2,
              "version_minor": 0
            },
            "text/plain": [
              "  0%|          | 0/100 [00:00<?, ?it/s]"
            ]
          },
          "metadata": {},
          "output_type": "display_data"
        },
        {
          "name": "stdout",
          "output_type": "stream",
          "text": [
            "\tLoss:\t0.12985\n",
            "\tMAE:\t3416.28894\n",
            "\n",
            "\n",
            "\n",
            "Validation:\n"
          ]
        },
        {
          "data": {
            "application/vnd.jupyter.widget-view+json": {
              "model_id": "11b5224acccc4b56aec8d67daaf0dae5",
              "version_major": 2,
              "version_minor": 0
            },
            "text/plain": [
              "  0%|          | 0/765 [00:00<?, ?it/s]"
            ]
          },
          "metadata": {},
          "output_type": "display_data"
        },
        {
          "name": "stdout",
          "output_type": "stream",
          "text": [
            "\tLoss:\t0.13595\n",
            "\tMAE:\t3533.64971\n",
            "\n",
            "\n",
            "\n",
            "Training:\n"
          ]
        },
        {
          "data": {
            "application/vnd.jupyter.widget-view+json": {
              "model_id": "8ebdb32d6a904856865989ff33bb9fcc",
              "version_major": 2,
              "version_minor": 0
            },
            "text/plain": [
              "  0%|          | 0/100 [00:00<?, ?it/s]"
            ]
          },
          "metadata": {},
          "output_type": "display_data"
        },
        {
          "name": "stdout",
          "output_type": "stream",
          "text": [
            "\tLoss:\t0.12838\n",
            "\tMAE:\t3402.52020\n",
            "\n",
            "\n",
            "\n",
            "Validation:\n"
          ]
        },
        {
          "data": {
            "application/vnd.jupyter.widget-view+json": {
              "model_id": "be451238dab148759f43fe6e3fc5d7a0",
              "version_major": 2,
              "version_minor": 0
            },
            "text/plain": [
              "  0%|          | 0/765 [00:00<?, ?it/s]"
            ]
          },
          "metadata": {},
          "output_type": "display_data"
        },
        {
          "name": "stdout",
          "output_type": "stream",
          "text": [
            "\tLoss:\t0.14612\n",
            "\tMAE:\t3800.58332\n",
            "\n",
            "\n",
            "\n",
            "Training:\n"
          ]
        },
        {
          "data": {
            "application/vnd.jupyter.widget-view+json": {
              "model_id": "1ec94c17b38d4f4ea5186e7b6941d522",
              "version_major": 2,
              "version_minor": 0
            },
            "text/plain": [
              "  0%|          | 0/100 [00:00<?, ?it/s]"
            ]
          },
          "metadata": {},
          "output_type": "display_data"
        },
        {
          "name": "stdout",
          "output_type": "stream",
          "text": [
            "\tLoss:\t0.12420\n",
            "\tMAE:\t3403.55868\n",
            "\n",
            "\n",
            "\n",
            "Validation:\n"
          ]
        },
        {
          "data": {
            "application/vnd.jupyter.widget-view+json": {
              "model_id": "07608b5160de4ee7b47407b2d2c5ee96",
              "version_major": 2,
              "version_minor": 0
            },
            "text/plain": [
              "  0%|          | 0/765 [00:00<?, ?it/s]"
            ]
          },
          "metadata": {},
          "output_type": "display_data"
        },
        {
          "name": "stdout",
          "output_type": "stream",
          "text": [
            "\tLoss:\t0.12148\n",
            "\tMAE:\t3346.25703\n",
            "\n",
            "\n",
            "\n",
            "Training:\n"
          ]
        },
        {
          "data": {
            "application/vnd.jupyter.widget-view+json": {
              "model_id": "6545dc974a5d445a8705db10ef326507",
              "version_major": 2,
              "version_minor": 0
            },
            "text/plain": [
              "  0%|          | 0/100 [00:00<?, ?it/s]"
            ]
          },
          "metadata": {},
          "output_type": "display_data"
        },
        {
          "name": "stdout",
          "output_type": "stream",
          "text": [
            "\tLoss:\t0.12623\n",
            "\tMAE:\t3428.85601\n",
            "\n",
            "\n",
            "\n",
            "Validation:\n"
          ]
        },
        {
          "data": {
            "application/vnd.jupyter.widget-view+json": {
              "model_id": "7020b269a46e456aaa477e7eb30029d9",
              "version_major": 2,
              "version_minor": 0
            },
            "text/plain": [
              "  0%|          | 0/765 [00:00<?, ?it/s]"
            ]
          },
          "metadata": {},
          "output_type": "display_data"
        },
        {
          "name": "stdout",
          "output_type": "stream",
          "text": [
            "\tLoss:\t0.14320\n",
            "\tMAE:\t3731.14412\n",
            "\n",
            "\n",
            "\n",
            "Training:\n"
          ]
        },
        {
          "data": {
            "application/vnd.jupyter.widget-view+json": {
              "model_id": "e7f3fba740d444ca91ced114fb609cd9",
              "version_major": 2,
              "version_minor": 0
            },
            "text/plain": [
              "  0%|          | 0/100 [00:00<?, ?it/s]"
            ]
          },
          "metadata": {},
          "output_type": "display_data"
        },
        {
          "name": "stdout",
          "output_type": "stream",
          "text": [
            "\tLoss:\t0.14268\n",
            "\tMAE:\t3592.71380\n",
            "\n",
            "\n",
            "\n",
            "Validation:\n"
          ]
        },
        {
          "data": {
            "application/vnd.jupyter.widget-view+json": {
              "model_id": "2b7ab9d604e74635aaadfd78e52c96bd",
              "version_major": 2,
              "version_minor": 0
            },
            "text/plain": [
              "  0%|          | 0/765 [00:00<?, ?it/s]"
            ]
          },
          "metadata": {},
          "output_type": "display_data"
        },
        {
          "name": "stdout",
          "output_type": "stream",
          "text": [
            "\tLoss:\t0.12297\n",
            "\tMAE:\t3381.09137\n",
            "\n",
            "\n",
            "\n",
            "Training:\n"
          ]
        },
        {
          "data": {
            "application/vnd.jupyter.widget-view+json": {
              "model_id": "17e150009b7d4f419d8351289daa344f",
              "version_major": 2,
              "version_minor": 0
            },
            "text/plain": [
              "  0%|          | 0/100 [00:00<?, ?it/s]"
            ]
          },
          "metadata": {},
          "output_type": "display_data"
        },
        {
          "name": "stdout",
          "output_type": "stream",
          "text": [
            "\tLoss:\t0.12298\n",
            "\tMAE:\t3367.19721\n",
            "\n",
            "\n",
            "\n",
            "Validation:\n"
          ]
        },
        {
          "data": {
            "application/vnd.jupyter.widget-view+json": {
              "model_id": "fb24a4ef50b045d583d020d19635379b",
              "version_major": 2,
              "version_minor": 0
            },
            "text/plain": [
              "  0%|          | 0/765 [00:00<?, ?it/s]"
            ]
          },
          "metadata": {},
          "output_type": "display_data"
        },
        {
          "name": "stdout",
          "output_type": "stream",
          "text": [
            "\tLoss:\t0.12248\n",
            "\tMAE:\t3363.63414\n",
            "\n",
            "\n",
            "\n",
            "Training:\n"
          ]
        },
        {
          "data": {
            "application/vnd.jupyter.widget-view+json": {
              "model_id": "6acf47db83fe423da2d1c3f2c535cc34",
              "version_major": 2,
              "version_minor": 0
            },
            "text/plain": [
              "  0%|          | 0/100 [00:00<?, ?it/s]"
            ]
          },
          "metadata": {},
          "output_type": "display_data"
        },
        {
          "name": "stdout",
          "output_type": "stream",
          "text": [
            "\tLoss:\t0.13599\n",
            "\tMAE:\t3596.91421\n",
            "\n",
            "\n",
            "\n",
            "Validation:\n"
          ]
        },
        {
          "data": {
            "application/vnd.jupyter.widget-view+json": {
              "model_id": "76074c3bf1f54834b9c5a5e5bbb640f5",
              "version_major": 2,
              "version_minor": 0
            },
            "text/plain": [
              "  0%|          | 0/765 [00:00<?, ?it/s]"
            ]
          },
          "metadata": {},
          "output_type": "display_data"
        },
        {
          "name": "stdout",
          "output_type": "stream",
          "text": [
            "\tLoss:\t0.15966\n",
            "\tMAE:\t3808.24741\n",
            "\n",
            "\n",
            "\n",
            "Training:\n"
          ]
        },
        {
          "data": {
            "application/vnd.jupyter.widget-view+json": {
              "model_id": "7b6f3a3bcdbd4b7a8c87cc27ec465197",
              "version_major": 2,
              "version_minor": 0
            },
            "text/plain": [
              "  0%|          | 0/100 [00:00<?, ?it/s]"
            ]
          },
          "metadata": {},
          "output_type": "display_data"
        },
        {
          "name": "stdout",
          "output_type": "stream",
          "text": [
            "\tLoss:\t0.13439\n",
            "\tMAE:\t3495.15929\n",
            "\n",
            "\n",
            "\n",
            "Validation:\n"
          ]
        },
        {
          "data": {
            "application/vnd.jupyter.widget-view+json": {
              "model_id": "5c5c3275292f49f990fde34134d69e67",
              "version_major": 2,
              "version_minor": 0
            },
            "text/plain": [
              "  0%|          | 0/765 [00:00<?, ?it/s]"
            ]
          },
          "metadata": {},
          "output_type": "display_data"
        },
        {
          "name": "stdout",
          "output_type": "stream",
          "text": [
            "\tLoss:\t0.12014\n",
            "\tMAE:\t3324.61838\n",
            "\n",
            "\n",
            "\n",
            "Training:\n"
          ]
        },
        {
          "data": {
            "application/vnd.jupyter.widget-view+json": {
              "model_id": "76a3a06fb25e4857950c8ae9b03e7e3a",
              "version_major": 2,
              "version_minor": 0
            },
            "text/plain": [
              "  0%|          | 0/100 [00:00<?, ?it/s]"
            ]
          },
          "metadata": {},
          "output_type": "display_data"
        },
        {
          "name": "stdout",
          "output_type": "stream",
          "text": [
            "\tLoss:\t0.11902\n",
            "\tMAE:\t3333.87211\n",
            "\n",
            "\n",
            "\n",
            "Validation:\n"
          ]
        },
        {
          "data": {
            "application/vnd.jupyter.widget-view+json": {
              "model_id": "f50c6eeaea614f96852759de4c5ff6b0",
              "version_major": 2,
              "version_minor": 0
            },
            "text/plain": [
              "  0%|          | 0/765 [00:00<?, ?it/s]"
            ]
          },
          "metadata": {},
          "output_type": "display_data"
        },
        {
          "name": "stdout",
          "output_type": "stream",
          "text": [
            "\tLoss:\t0.13323\n",
            "\tMAE:\t3505.81603\n",
            "\n",
            "\n",
            "\n",
            "Training:\n"
          ]
        },
        {
          "data": {
            "application/vnd.jupyter.widget-view+json": {
              "model_id": "6a68fb65df4440ac81649f3df20161f5",
              "version_major": 2,
              "version_minor": 0
            },
            "text/plain": [
              "  0%|          | 0/100 [00:00<?, ?it/s]"
            ]
          },
          "metadata": {},
          "output_type": "display_data"
        },
        {
          "name": "stdout",
          "output_type": "stream",
          "text": [
            "\tLoss:\t0.12717\n",
            "\tMAE:\t3364.79477\n",
            "\n",
            "\n",
            "\n",
            "Validation:\n"
          ]
        },
        {
          "data": {
            "application/vnd.jupyter.widget-view+json": {
              "model_id": "75b8f2244b9c487595d466b6bc38fdb1",
              "version_major": 2,
              "version_minor": 0
            },
            "text/plain": [
              "  0%|          | 0/765 [00:00<?, ?it/s]"
            ]
          },
          "metadata": {},
          "output_type": "display_data"
        },
        {
          "name": "stdout",
          "output_type": "stream",
          "text": [
            "\tLoss:\t0.12661\n",
            "\tMAE:\t3403.38079\n",
            "\n",
            "\n",
            "\n",
            "Training:\n"
          ]
        },
        {
          "data": {
            "application/vnd.jupyter.widget-view+json": {
              "model_id": "e298b60ec2014567808fabb0ada06e29",
              "version_major": 2,
              "version_minor": 0
            },
            "text/plain": [
              "  0%|          | 0/100 [00:00<?, ?it/s]"
            ]
          },
          "metadata": {},
          "output_type": "display_data"
        },
        {
          "name": "stdout",
          "output_type": "stream",
          "text": [
            "\tLoss:\t0.12631\n",
            "\tMAE:\t3425.95916\n",
            "\n",
            "\n",
            "\n",
            "Validation:\n"
          ]
        },
        {
          "data": {
            "application/vnd.jupyter.widget-view+json": {
              "model_id": "be6f7a3231e34e9c9a1904bb1d607a17",
              "version_major": 2,
              "version_minor": 0
            },
            "text/plain": [
              "  0%|          | 0/765 [00:00<?, ?it/s]"
            ]
          },
          "metadata": {},
          "output_type": "display_data"
        },
        {
          "name": "stdout",
          "output_type": "stream",
          "text": [
            "\tLoss:\t0.12477\n",
            "\tMAE:\t3374.60816\n",
            "\n",
            "\n",
            "\n",
            "Training:\n"
          ]
        },
        {
          "data": {
            "application/vnd.jupyter.widget-view+json": {
              "model_id": "3e6028ca713e4a0c9abc16355dfd04ad",
              "version_major": 2,
              "version_minor": 0
            },
            "text/plain": [
              "  0%|          | 0/100 [00:00<?, ?it/s]"
            ]
          },
          "metadata": {},
          "output_type": "display_data"
        },
        {
          "name": "stdout",
          "output_type": "stream",
          "text": [
            "\tLoss:\t0.13442\n",
            "\tMAE:\t3532.53246\n",
            "\n",
            "\n",
            "\n",
            "Validation:\n"
          ]
        },
        {
          "data": {
            "application/vnd.jupyter.widget-view+json": {
              "model_id": "bef644e97dc74b11a0a58bba978d58cf",
              "version_major": 2,
              "version_minor": 0
            },
            "text/plain": [
              "  0%|          | 0/765 [00:00<?, ?it/s]"
            ]
          },
          "metadata": {},
          "output_type": "display_data"
        },
        {
          "name": "stdout",
          "output_type": "stream",
          "text": [
            "\tLoss:\t0.12924\n",
            "\tMAE:\t3445.46550\n",
            "\n",
            "\n",
            "\n",
            "Training:\n"
          ]
        },
        {
          "data": {
            "application/vnd.jupyter.widget-view+json": {
              "model_id": "7ad137b0a8f44fc1988bc36a86f7b400",
              "version_major": 2,
              "version_minor": 0
            },
            "text/plain": [
              "  0%|          | 0/100 [00:00<?, ?it/s]"
            ]
          },
          "metadata": {},
          "output_type": "display_data"
        },
        {
          "name": "stdout",
          "output_type": "stream",
          "text": [
            "\tLoss:\t0.12271\n",
            "\tMAE:\t3363.10918\n",
            "\n",
            "\n",
            "\n",
            "Validation:\n"
          ]
        },
        {
          "data": {
            "application/vnd.jupyter.widget-view+json": {
              "model_id": "1473bdd210ae4b7e90546742d24e301f",
              "version_major": 2,
              "version_minor": 0
            },
            "text/plain": [
              "  0%|          | 0/765 [00:00<?, ?it/s]"
            ]
          },
          "metadata": {},
          "output_type": "display_data"
        },
        {
          "name": "stdout",
          "output_type": "stream",
          "text": [
            "\tLoss:\t0.13423\n",
            "\tMAE:\t3509.77020\n",
            "\n",
            "\n",
            "\n",
            "Training:\n"
          ]
        },
        {
          "data": {
            "application/vnd.jupyter.widget-view+json": {
              "model_id": "97e2850524c545f5abbad9b002d6ee6a",
              "version_major": 2,
              "version_minor": 0
            },
            "text/plain": [
              "  0%|          | 0/100 [00:00<?, ?it/s]"
            ]
          },
          "metadata": {},
          "output_type": "display_data"
        },
        {
          "name": "stdout",
          "output_type": "stream",
          "text": [
            "\tLoss:\t0.11993\n",
            "\tMAE:\t3350.13046\n",
            "\n",
            "\n",
            "\n",
            "Validation:\n"
          ]
        },
        {
          "data": {
            "application/vnd.jupyter.widget-view+json": {
              "model_id": "99c3fb11fb404165a21c151746d29b1e",
              "version_major": 2,
              "version_minor": 0
            },
            "text/plain": [
              "  0%|          | 0/765 [00:00<?, ?it/s]"
            ]
          },
          "metadata": {},
          "output_type": "display_data"
        },
        {
          "name": "stdout",
          "output_type": "stream",
          "text": [
            "\tLoss:\t0.15359\n",
            "\tMAE:\t3746.48362\n",
            "\n",
            "\n",
            "\n",
            "Training:\n"
          ]
        },
        {
          "data": {
            "application/vnd.jupyter.widget-view+json": {
              "model_id": "d15e5a3288384ffdbe4c0b535d5f54aa",
              "version_major": 2,
              "version_minor": 0
            },
            "text/plain": [
              "  0%|          | 0/100 [00:00<?, ?it/s]"
            ]
          },
          "metadata": {},
          "output_type": "display_data"
        },
        {
          "name": "stdout",
          "output_type": "stream",
          "text": [
            "\tLoss:\t0.12092\n",
            "\tMAE:\t3327.96844\n",
            "\n",
            "\n",
            "\n",
            "Validation:\n"
          ]
        },
        {
          "data": {
            "application/vnd.jupyter.widget-view+json": {
              "model_id": "0eabf803a45d44fe8cabae1b83cbc362",
              "version_major": 2,
              "version_minor": 0
            },
            "text/plain": [
              "  0%|          | 0/765 [00:00<?, ?it/s]"
            ]
          },
          "metadata": {},
          "output_type": "display_data"
        },
        {
          "name": "stdout",
          "output_type": "stream",
          "text": [
            "\tLoss:\t0.12468\n",
            "\tMAE:\t3398.00261\n",
            "\n",
            "\n",
            "\n",
            "Training:\n"
          ]
        },
        {
          "data": {
            "application/vnd.jupyter.widget-view+json": {
              "model_id": "ef0ec550b2174cd889ec584755cc0dce",
              "version_major": 2,
              "version_minor": 0
            },
            "text/plain": [
              "  0%|          | 0/100 [00:00<?, ?it/s]"
            ]
          },
          "metadata": {},
          "output_type": "display_data"
        },
        {
          "name": "stdout",
          "output_type": "stream",
          "text": [
            "\tLoss:\t0.11992\n",
            "\tMAE:\t3328.09030\n",
            "\n",
            "\n",
            "\n",
            "Validation:\n"
          ]
        },
        {
          "data": {
            "application/vnd.jupyter.widget-view+json": {
              "model_id": "737c1cedf28e4a1e834ff6d240134738",
              "version_major": 2,
              "version_minor": 0
            },
            "text/plain": [
              "  0%|          | 0/765 [00:00<?, ?it/s]"
            ]
          },
          "metadata": {},
          "output_type": "display_data"
        },
        {
          "name": "stdout",
          "output_type": "stream",
          "text": [
            "\tLoss:\t0.12046\n",
            "\tMAE:\t3315.01713\n",
            "\n",
            "\n",
            "\n",
            "Training:\n"
          ]
        },
        {
          "data": {
            "application/vnd.jupyter.widget-view+json": {
              "model_id": "4cf63a261fa4420dae215752940f4d80",
              "version_major": 2,
              "version_minor": 0
            },
            "text/plain": [
              "  0%|          | 0/100 [00:00<?, ?it/s]"
            ]
          },
          "metadata": {},
          "output_type": "display_data"
        },
        {
          "name": "stdout",
          "output_type": "stream",
          "text": [
            "\tLoss:\t0.12980\n",
            "\tMAE:\t3488.89323\n",
            "\n",
            "\n",
            "\n",
            "Validation:\n"
          ]
        },
        {
          "data": {
            "application/vnd.jupyter.widget-view+json": {
              "model_id": "49ec169a7b0d4a8d8605fe41d67f0373",
              "version_major": 2,
              "version_minor": 0
            },
            "text/plain": [
              "  0%|          | 0/765 [00:00<?, ?it/s]"
            ]
          },
          "metadata": {},
          "output_type": "display_data"
        },
        {
          "name": "stdout",
          "output_type": "stream",
          "text": [
            "\tLoss:\t0.11973\n",
            "\tMAE:\t3300.59074\n",
            "\n",
            "\n",
            "\n",
            "Training:\n"
          ]
        },
        {
          "data": {
            "application/vnd.jupyter.widget-view+json": {
              "model_id": "ae59456016344e9fb7d9aaa4dfa6d2d3",
              "version_major": 2,
              "version_minor": 0
            },
            "text/plain": [
              "  0%|          | 0/100 [00:00<?, ?it/s]"
            ]
          },
          "metadata": {},
          "output_type": "display_data"
        },
        {
          "name": "stdout",
          "output_type": "stream",
          "text": [
            "\tLoss:\t0.12747\n",
            "\tMAE:\t3494.67027\n",
            "\n",
            "\n",
            "\n",
            "Validation:\n"
          ]
        },
        {
          "data": {
            "application/vnd.jupyter.widget-view+json": {
              "model_id": "bb4448b01e5c4ef1acdbf7dbcf5eb294",
              "version_major": 2,
              "version_minor": 0
            },
            "text/plain": [
              "  0%|          | 0/765 [00:00<?, ?it/s]"
            ]
          },
          "metadata": {},
          "output_type": "display_data"
        },
        {
          "name": "stdout",
          "output_type": "stream",
          "text": [
            "\tLoss:\t0.12846\n",
            "\tMAE:\t3458.32237\n",
            "\n",
            "\n",
            "\n",
            "Training:\n"
          ]
        },
        {
          "data": {
            "application/vnd.jupyter.widget-view+json": {
              "model_id": "5c1bf6170cf645068bf06b83917c55c9",
              "version_major": 2,
              "version_minor": 0
            },
            "text/plain": [
              "  0%|          | 0/100 [00:00<?, ?it/s]"
            ]
          },
          "metadata": {},
          "output_type": "display_data"
        },
        {
          "name": "stdout",
          "output_type": "stream",
          "text": [
            "\tLoss:\t0.12767\n",
            "\tMAE:\t3437.22132\n",
            "\n",
            "\n",
            "\n",
            "Validation:\n"
          ]
        },
        {
          "data": {
            "application/vnd.jupyter.widget-view+json": {
              "model_id": "2337cdc5baff47bd9ba8b1ce427e4387",
              "version_major": 2,
              "version_minor": 0
            },
            "text/plain": [
              "  0%|          | 0/765 [00:00<?, ?it/s]"
            ]
          },
          "metadata": {},
          "output_type": "display_data"
        },
        {
          "name": "stdout",
          "output_type": "stream",
          "text": [
            "\tLoss:\t0.12439\n",
            "\tMAE:\t3396.44462\n",
            "\n",
            "\n",
            "\n",
            "Training:\n"
          ]
        },
        {
          "data": {
            "application/vnd.jupyter.widget-view+json": {
              "model_id": "2117e37e7df2494ba1ffb04392ef60f3",
              "version_major": 2,
              "version_minor": 0
            },
            "text/plain": [
              "  0%|          | 0/100 [00:00<?, ?it/s]"
            ]
          },
          "metadata": {},
          "output_type": "display_data"
        },
        {
          "name": "stdout",
          "output_type": "stream",
          "text": [
            "\tLoss:\t0.12698\n",
            "\tMAE:\t3381.63406\n",
            "\n",
            "\n",
            "\n",
            "Validation:\n"
          ]
        },
        {
          "data": {
            "application/vnd.jupyter.widget-view+json": {
              "model_id": "d9129906d8804ec689c9ab958e6c27c9",
              "version_major": 2,
              "version_minor": 0
            },
            "text/plain": [
              "  0%|          | 0/765 [00:00<?, ?it/s]"
            ]
          },
          "metadata": {},
          "output_type": "display_data"
        },
        {
          "name": "stdout",
          "output_type": "stream",
          "text": [
            "\tLoss:\t0.12134\n",
            "\tMAE:\t3328.77818\n",
            "\n",
            "\n",
            "\n",
            "Training:\n"
          ]
        },
        {
          "data": {
            "application/vnd.jupyter.widget-view+json": {
              "model_id": "72555a76fce64f608fb56b7c5b4a0b4e",
              "version_major": 2,
              "version_minor": 0
            },
            "text/plain": [
              "  0%|          | 0/100 [00:00<?, ?it/s]"
            ]
          },
          "metadata": {},
          "output_type": "display_data"
        },
        {
          "name": "stdout",
          "output_type": "stream",
          "text": [
            "\tLoss:\t0.12505\n",
            "\tMAE:\t3446.69136\n",
            "\n",
            "\n",
            "\n",
            "Validation:\n"
          ]
        },
        {
          "data": {
            "application/vnd.jupyter.widget-view+json": {
              "model_id": "f067ebfcddb443ea804727207c0a3df7",
              "version_major": 2,
              "version_minor": 0
            },
            "text/plain": [
              "  0%|          | 0/765 [00:00<?, ?it/s]"
            ]
          },
          "metadata": {},
          "output_type": "display_data"
        },
        {
          "name": "stdout",
          "output_type": "stream",
          "text": [
            "\tLoss:\t0.18673\n",
            "\tMAE:\t4475.30898\n",
            "\n",
            "\n",
            "\n",
            "Training:\n"
          ]
        },
        {
          "data": {
            "application/vnd.jupyter.widget-view+json": {
              "model_id": "be2cafd6e62448f19b2d7716e5249736",
              "version_major": 2,
              "version_minor": 0
            },
            "text/plain": [
              "  0%|          | 0/100 [00:00<?, ?it/s]"
            ]
          },
          "metadata": {},
          "output_type": "display_data"
        },
        {
          "name": "stdout",
          "output_type": "stream",
          "text": [
            "\tLoss:\t0.12273\n",
            "\tMAE:\t3418.56456\n",
            "\n",
            "\n",
            "\n",
            "Validation:\n"
          ]
        },
        {
          "data": {
            "application/vnd.jupyter.widget-view+json": {
              "model_id": "87729500ee6849219976f166b6f1779e",
              "version_major": 2,
              "version_minor": 0
            },
            "text/plain": [
              "  0%|          | 0/765 [00:00<?, ?it/s]"
            ]
          },
          "metadata": {},
          "output_type": "display_data"
        },
        {
          "name": "stdout",
          "output_type": "stream",
          "text": [
            "\tLoss:\t0.11850\n",
            "\tMAE:\t3285.65055\n",
            "\n",
            "\n",
            "\n",
            "Training:\n"
          ]
        },
        {
          "data": {
            "application/vnd.jupyter.widget-view+json": {
              "model_id": "d2982e95945b402b8c80ec3de0621d80",
              "version_major": 2,
              "version_minor": 0
            },
            "text/plain": [
              "  0%|          | 0/100 [00:00<?, ?it/s]"
            ]
          },
          "metadata": {},
          "output_type": "display_data"
        },
        {
          "name": "stdout",
          "output_type": "stream",
          "text": [
            "\tLoss:\t0.12526\n",
            "\tMAE:\t3424.94041\n",
            "\n",
            "\n",
            "\n",
            "Validation:\n"
          ]
        },
        {
          "data": {
            "application/vnd.jupyter.widget-view+json": {
              "model_id": "33efa4caa1e04104bd3dfba7a14b060d",
              "version_major": 2,
              "version_minor": 0
            },
            "text/plain": [
              "  0%|          | 0/765 [00:00<?, ?it/s]"
            ]
          },
          "metadata": {},
          "output_type": "display_data"
        },
        {
          "name": "stdout",
          "output_type": "stream",
          "text": [
            "\tLoss:\t0.11839\n",
            "\tMAE:\t3295.60955\n",
            "\n",
            "\n",
            "\n",
            "Training:\n"
          ]
        },
        {
          "data": {
            "application/vnd.jupyter.widget-view+json": {
              "model_id": "d6206d35eedc4b25867cd1036e507d7a",
              "version_major": 2,
              "version_minor": 0
            },
            "text/plain": [
              "  0%|          | 0/100 [00:00<?, ?it/s]"
            ]
          },
          "metadata": {},
          "output_type": "display_data"
        },
        {
          "name": "stdout",
          "output_type": "stream",
          "text": [
            "\tLoss:\t0.13631\n",
            "\tMAE:\t3565.70336\n",
            "\n",
            "\n",
            "\n",
            "Validation:\n"
          ]
        },
        {
          "data": {
            "application/vnd.jupyter.widget-view+json": {
              "model_id": "2c7e56fa071f4779a6e61f27b11f38c9",
              "version_major": 2,
              "version_minor": 0
            },
            "text/plain": [
              "  0%|          | 0/765 [00:00<?, ?it/s]"
            ]
          },
          "metadata": {},
          "output_type": "display_data"
        },
        {
          "name": "stdout",
          "output_type": "stream",
          "text": [
            "\tLoss:\t0.11873\n",
            "\tMAE:\t3298.83866\n",
            "\n",
            "\n",
            "\n"
          ]
        }
      ]
    },
    {
      "cell_type": "code",
      "metadata": {
        "execution": {
          "iopub.execute_input": "2021-11-10T14:37:48.709310Z",
          "iopub.status.busy": "2021-11-10T14:37:48.708472Z",
          "iopub.status.idle": "2021-11-10T14:37:51.679840Z",
          "shell.execute_reply": "2021-11-10T14:37:51.677382Z",
          "shell.execute_reply.started": "2021-11-10T14:07:51.127181Z"
        },
        "id": "d6a78580",
        "papermill": {
          "duration": 3.191288,
          "end_time": "2021-11-10T14:37:51.680014",
          "exception": false,
          "start_time": "2021-11-10T14:37:48.488726",
          "status": "completed"
        },
        "tags": [],
        "colab": {
          "referenced_widgets": [
            "c226af65cbb241d5b76b554eaac7ef79"
          ]
        },
        "outputId": "53a32dec-fdf2-4222-837d-14b7e448860d"
      },
      "source": [
        "print(\"Final eval:\")\n",
        "val_loss = val_mae = val_batches = 0\n",
        "\n",
        "with torch.no_grad():\n",
        "    for batch in iterate_minibatches(data_val, dict_emb_test, shuffle=False):\n",
        "        title_ix = Variable(torch.FloatTensor(batch[\"Title\"])).to(device)\n",
        "        desc_ix = Variable(torch.FloatTensor(batch[\"FullDescription\"])).to(device)\n",
        "        cat_features = Variable(torch.FloatTensor(batch[\"Categorical\"])).to(device)\n",
        "        reference = Variable(torch.FloatTensor(batch[target_column])).to(device)\n",
        "\n",
        "        prediction = model(title_ix, desc_ix, cat_features)\n",
        "        loss = compute_loss(reference, prediction)\n",
        "\n",
        "        val_loss += loss.cpu().data.numpy()\n",
        "        val_mae += compute_mae(reference, prediction).cpu().data.numpy()\n",
        "        val_batches += 1\n",
        "\n",
        "print(\"\\tLoss:\\t%.5f\" % (val_loss / val_batches))\n",
        "print(\"\\tMAE:\\t%.5f\" % (val_mae / val_batches))\n",
        "print('\\n\\n')"
      ],
      "id": "d6a78580",
      "execution_count": null,
      "outputs": [
        {
          "name": "stdout",
          "output_type": "stream",
          "text": [
            "Final eval:\n"
          ]
        },
        {
          "name": "stderr",
          "output_type": "stream",
          "text": [
            "/opt/conda/lib/python3.7/site-packages/ipykernel_launcher.py:13: TqdmDeprecationWarning: Please use `tqdm.notebook.trange` instead of `tqdm.tnrange`\n",
            "  del sys.path[0]\n"
          ]
        },
        {
          "data": {
            "application/vnd.jupyter.widget-view+json": {
              "model_id": "c226af65cbb241d5b76b554eaac7ef79",
              "version_major": 2,
              "version_minor": 0
            },
            "text/plain": [
              "  0%|          | 0/765 [00:00<?, ?it/s]"
            ]
          },
          "metadata": {},
          "output_type": "display_data"
        },
        {
          "name": "stdout",
          "output_type": "stream",
          "text": [
            "\tLoss:\t0.11873\n",
            "\tMAE:\t3298.83866\n",
            "\n",
            "\n",
            "\n"
          ]
        }
      ]
    },
    {
      "cell_type": "markdown",
      "metadata": {
        "id": "80be7c6b",
        "papermill": {
          "duration": 0.199342,
          "end_time": "2021-11-10T14:37:52.075928",
          "exception": false,
          "start_time": "2021-11-10T14:37:51.876586",
          "status": "completed"
        },
        "tags": []
      },
      "source": [
        "### The search for similar questions (3pts)\n",
        "\n",
        "* Implement a function that takes a text string and finds top-k most similar questions from `quora.txt`\n",
        "* Demonstrate your function using at least 5 examples\n",
        "\n",
        "There are no prompts this time: you will have to write everything from scratch.\n"
      ],
      "id": "80be7c6b"
    },
    {
      "cell_type": "code",
      "metadata": {
        "execution": {
          "iopub.execute_input": "2021-11-10T14:37:52.470450Z",
          "iopub.status.busy": "2021-11-10T14:37:52.469542Z",
          "iopub.status.idle": "2021-11-10T14:37:57.289979Z",
          "shell.execute_reply": "2021-11-10T14:37:57.290428Z",
          "shell.execute_reply.started": "2021-11-10T14:07:58.76202Z"
        },
        "id": "61e675a3",
        "papermill": {
          "duration": 5.019243,
          "end_time": "2021-11-10T14:37:57.290586",
          "exception": false,
          "start_time": "2021-11-10T14:37:52.271343",
          "status": "completed"
        },
        "tags": [],
        "outputId": "325553a0-23c9-464f-9578-9a3771ee0be3"
      },
      "source": [
        "# download the data:\n",
        "!wget https://www.dropbox.com/s/obaitrix9jyu84r/quora.txt?dl=1 -O ./quora.txt\n",
        "# alternative download link: https://yadi.sk/i/BPQrUu1NaTduEw"
      ],
      "id": "61e675a3",
      "execution_count": null,
      "outputs": [
        {
          "name": "stdout",
          "output_type": "stream",
          "text": [
            "huggingface/tokenizers: The current process just got forked, after parallelism has already been used. Disabling parallelism to avoid deadlocks...\n",
            "To disable this warning, you can either:\n",
            "\t- Avoid using `tokenizers` before the fork if possible\n",
            "\t- Explicitly set the environment variable TOKENIZERS_PARALLELISM=(true | false)\n",
            "--2021-11-10 14:37:53--  https://www.dropbox.com/s/obaitrix9jyu84r/quora.txt?dl=1\r\n",
            "Resolving www.dropbox.com (www.dropbox.com)... 162.125.9.18, 2620:100:601f:18::a27d:912\r\n",
            "Connecting to www.dropbox.com (www.dropbox.com)|162.125.9.18|:443... connected.\r\n",
            "HTTP request sent, awaiting response... 301 Moved Permanently\r\n",
            "Location: /s/dl/obaitrix9jyu84r/quora.txt [following]\r\n",
            "--2021-11-10 14:37:53--  https://www.dropbox.com/s/dl/obaitrix9jyu84r/quora.txt\r\n",
            "Reusing existing connection to www.dropbox.com:443.\r\n",
            "HTTP request sent, awaiting response... 302 Found\r\n",
            "Location: https://uc23d6c5793c9933ee360bdfb7c1.dl.dropboxusercontent.com/cd/0/get/BZslEn1ldpfYO42PIQWTcW1MMnAGKMgGGDl2JcOGFXceC0FXqOdSmTHJErELefxPBZZaWxtxLd9H-hCaKOFlPpNz8tf20R_j6j8e-aEMrLtEkoR3zJ2hR-DwWh7JxIskClTk6Sjahs686RGcCCnJ0uB0/file?dl=1# [following]\r\n",
            "--2021-11-10 14:37:54--  https://uc23d6c5793c9933ee360bdfb7c1.dl.dropboxusercontent.com/cd/0/get/BZslEn1ldpfYO42PIQWTcW1MMnAGKMgGGDl2JcOGFXceC0FXqOdSmTHJErELefxPBZZaWxtxLd9H-hCaKOFlPpNz8tf20R_j6j8e-aEMrLtEkoR3zJ2hR-DwWh7JxIskClTk6Sjahs686RGcCCnJ0uB0/file?dl=1\r\n",
            "Resolving uc23d6c5793c9933ee360bdfb7c1.dl.dropboxusercontent.com (uc23d6c5793c9933ee360bdfb7c1.dl.dropboxusercontent.com)... 162.125.9.15, 2620:100:601f:15::a27d:90f\r\n",
            "Connecting to uc23d6c5793c9933ee360bdfb7c1.dl.dropboxusercontent.com (uc23d6c5793c9933ee360bdfb7c1.dl.dropboxusercontent.com)|162.125.9.15|:443... connected.\r\n",
            "HTTP request sent, awaiting response... 200 OK\r\n",
            "Length: 33813903 (32M) [application/binary]\r\n",
            "Saving to: ‘./quora.txt’\r\n",
            "\r\n",
            "./quora.txt         100%[===================>]  32.25M  18.1MB/s    in 1.8s    \r\n",
            "\r\n",
            "2021-11-10 14:37:57 (18.1 MB/s) - ‘./quora.txt’ saved [33813903/33813903]\r\n",
            "\r\n"
          ]
        }
      ]
    },
    {
      "cell_type": "code",
      "metadata": {
        "execution": {
          "iopub.execute_input": "2021-11-10T14:37:57.698187Z",
          "iopub.status.busy": "2021-11-10T14:37:57.697392Z",
          "iopub.status.idle": "2021-11-10T14:37:57.991380Z",
          "shell.execute_reply": "2021-11-10T14:37:57.991823Z",
          "shell.execute_reply.started": "2021-11-10T14:08:08.023583Z"
        },
        "id": "2a1781c1",
        "papermill": {
          "duration": 0.497186,
          "end_time": "2021-11-10T14:37:57.992002",
          "exception": false,
          "start_time": "2021-11-10T14:37:57.494816",
          "status": "completed"
        },
        "tags": []
      },
      "source": [
        "f = open(\"quora.txt\", \"r\")\n",
        "quora_list = list(map(lambda x: x[:-1], f.readlines()))"
      ],
      "id": "2a1781c1",
      "execution_count": null,
      "outputs": []
    },
    {
      "cell_type": "code",
      "metadata": {
        "execution": {
          "iopub.execute_input": "2021-11-10T14:37:58.398421Z",
          "iopub.status.busy": "2021-11-10T14:37:58.397772Z",
          "iopub.status.idle": "2021-11-10T14:37:58.400432Z",
          "shell.execute_reply": "2021-11-10T14:37:58.400871Z",
          "shell.execute_reply.started": "2021-11-10T14:08:08.947591Z"
        },
        "id": "d5007839",
        "papermill": {
          "duration": 0.205657,
          "end_time": "2021-11-10T14:37:58.401014",
          "exception": false,
          "start_time": "2021-11-10T14:37:58.195357",
          "status": "completed"
        },
        "tags": [],
        "outputId": "5077e44b-9844-4611-e363-1e808b9b8ca5"
      },
      "source": [
        "quora_list[:5]"
      ],
      "id": "d5007839",
      "execution_count": null,
      "outputs": [
        {
          "data": {
            "text/plain": [
              "[\"Can I get back with my ex even though she is pregnant with another guy's baby?\",\n",
              " 'What are some ways to overcome a fast food addiction?',\n",
              " 'Who were the great Chinese soldiers and leaders who fought in WW2?',\n",
              " 'What are ZIP codes in the Bay Area?',\n",
              " 'Why was George RR Martin critical of JK Rowling after losing the Hugo award?']"
            ]
          },
          "execution_count": 44,
          "metadata": {},
          "output_type": "execute_result"
        }
      ]
    },
    {
      "cell_type": "code",
      "metadata": {
        "execution": {
          "iopub.execute_input": "2021-11-10T14:37:58.833990Z",
          "iopub.status.busy": "2021-11-10T14:37:58.833175Z",
          "iopub.status.idle": "2021-11-10T14:38:01.732677Z",
          "shell.execute_reply": "2021-11-10T14:38:01.731782Z",
          "shell.execute_reply.started": "2021-11-10T14:08:10.657783Z"
        },
        "id": "0b71fcb9",
        "papermill": {
          "duration": 3.13566,
          "end_time": "2021-11-10T14:38:01.732859",
          "exception": false,
          "start_time": "2021-11-10T14:37:58.597199",
          "status": "completed"
        },
        "tags": [],
        "outputId": "84b28faf-9c20-422c-a377-9c601bd61052"
      },
      "source": [
        "import matplotlib\n",
        "\n",
        "matplotlib.pyplot.hist(list(map(len, quora_list)), bins=30)"
      ],
      "id": "0b71fcb9",
      "execution_count": null,
      "outputs": [
        {
          "data": {
            "text/plain": [
              "(array([1.63100e+05, 2.65807e+05, 7.10080e+04, 3.06020e+04, 3.74100e+03,\n",
              "        1.62100e+03, 7.75000e+02, 5.18000e+02, 4.50000e+01, 2.00000e+01,\n",
              "        1.10000e+01, 5.00000e+00, 5.00000e+00, 3.00000e+00, 3.00000e+00,\n",
              "        2.00000e+00, 1.00000e+00, 0.00000e+00, 2.00000e+00, 0.00000e+00,\n",
              "        0.00000e+00, 1.00000e+00, 0.00000e+00, 0.00000e+00, 0.00000e+00,\n",
              "        0.00000e+00, 0.00000e+00, 0.00000e+00, 0.00000e+00, 2.00000e+00]),\n",
              " array([   4.        ,   42.83333333,   81.66666667,  120.5       ,\n",
              "         159.33333333,  198.16666667,  237.        ,  275.83333333,\n",
              "         314.66666667,  353.5       ,  392.33333333,  431.16666667,\n",
              "         470.        ,  508.83333333,  547.66666667,  586.5       ,\n",
              "         625.33333333,  664.16666667,  703.        ,  741.83333333,\n",
              "         780.66666667,  819.5       ,  858.33333333,  897.16666667,\n",
              "         936.        ,  974.83333333, 1013.66666667, 1052.5       ,\n",
              "        1091.33333333, 1130.16666667, 1169.        ]),\n",
              " <BarContainer object of 30 artists>)"
            ]
          },
          "execution_count": 45,
          "metadata": {},
          "output_type": "execute_result"
        },
        {
          "data": {
            "image/png": "[encoded data removed]",
            "text/plain": [
              "<Figure size 432x288 with 1 Axes>"
            ]
          },
          "metadata": {
            "needs_background": "light"
          },
          "output_type": "display_data"
        }
      ]
    },
    {
      "cell_type": "code",
      "metadata": {
        "execution": {
          "iopub.execute_input": "2021-11-10T14:38:02.377824Z",
          "iopub.status.busy": "2021-11-10T14:38:02.377078Z",
          "iopub.status.idle": "2021-11-10T14:38:18.009559Z",
          "shell.execute_reply": "2021-11-10T14:38:18.010026Z",
          "shell.execute_reply.started": "2021-11-10T14:08:14.549262Z"
        },
        "id": "a331ab77",
        "papermill": {
          "duration": 15.913863,
          "end_time": "2021-11-10T14:38:18.010203",
          "exception": false,
          "start_time": "2021-11-10T14:38:02.096340",
          "status": "completed"
        },
        "tags": [],
        "outputId": "a85e8d80-e400-401f-8876-cd2e536f5a71"
      },
      "source": [
        "!pip install sentence_transformers"
      ],
      "id": "a331ab77",
      "execution_count": null,
      "outputs": [
        {
          "name": "stdout",
          "output_type": "stream",
          "text": [
            "huggingface/tokenizers: The current process just got forked, after parallelism has already been used. Disabling parallelism to avoid deadlocks...\n",
            "To disable this warning, you can either:\n",
            "\t- Avoid using `tokenizers` before the fork if possible\n",
            "\t- Explicitly set the environment variable TOKENIZERS_PARALLELISM=(true | false)\n",
            "Collecting sentence_transformers\r\n",
            "  Downloading sentence-transformers-2.1.0.tar.gz (78 kB)\r\n",
            "\u001b[K     |████████████████████████████████| 78 kB 591 kB/s \r\n",
            "\u001b[?25hCollecting transformers<5.0.0,>=4.6.0\r\n",
            "  Downloading transformers-4.12.3-py3-none-any.whl (3.1 MB)\r\n",
            "\u001b[K     |████████████████████████████████| 3.1 MB 1.0 MB/s \r\n",
            "\u001b[?25hRequirement already satisfied: tokenizers>=0.10.3 in /opt/conda/lib/python3.7/site-packages (from sentence_transformers) (0.10.3)\r\n",
            "Requirement already satisfied: tqdm in /opt/conda/lib/python3.7/site-packages (from sentence_transformers) (4.62.3)\r\n",
            "Requirement already satisfied: torch>=1.6.0 in /opt/conda/lib/python3.7/site-packages (from sentence_transformers) (1.9.1)\r\n",
            "Requirement already satisfied: torchvision in /opt/conda/lib/python3.7/site-packages (from sentence_transformers) (0.10.1)\r\n",
            "Requirement already satisfied: numpy in /opt/conda/lib/python3.7/site-packages (from sentence_transformers) (1.19.5)\r\n",
            "Requirement already satisfied: scikit-learn in /opt/conda/lib/python3.7/site-packages (from sentence_transformers) (0.23.2)\r\n",
            "Requirement already satisfied: scipy in /opt/conda/lib/python3.7/site-packages (from sentence_transformers) (1.7.1)\r\n",
            "Requirement already satisfied: nltk in /opt/conda/lib/python3.7/site-packages (from sentence_transformers) (3.2.4)\r\n",
            "Requirement already satisfied: sentencepiece in /opt/conda/lib/python3.7/site-packages (from sentence_transformers) (0.1.96)\r\n",
            "Requirement already satisfied: huggingface-hub in /opt/conda/lib/python3.7/site-packages (from sentence_transformers) (0.0.19)\r\n",
            "Requirement already satisfied: typing-extensions in /opt/conda/lib/python3.7/site-packages (from torch>=1.6.0->sentence_transformers) (3.10.0.2)\r\n",
            "Requirement already satisfied: regex!=2019.12.17 in /opt/conda/lib/python3.7/site-packages (from transformers<5.0.0,>=4.6.0->sentence_transformers) (2021.8.28)\r\n",
            "Requirement already satisfied: sacremoses in /opt/conda/lib/python3.7/site-packages (from transformers<5.0.0,>=4.6.0->sentence_transformers) (0.0.46)\r\n",
            "Requirement already satisfied: importlib-metadata in /opt/conda/lib/python3.7/site-packages (from transformers<5.0.0,>=4.6.0->sentence_transformers) (4.8.1)\r\n",
            "Requirement already satisfied: packaging>=20.0 in /opt/conda/lib/python3.7/site-packages (from transformers<5.0.0,>=4.6.0->sentence_transformers) (21.0)\r\n",
            "Collecting huggingface-hub\r\n",
            "  Downloading huggingface_hub-0.1.2-py3-none-any.whl (59 kB)\r\n",
            "\u001b[K     |████████████████████████████████| 59 kB 6.3 MB/s \r\n",
            "\u001b[?25hRequirement already satisfied: filelock in /opt/conda/lib/python3.7/site-packages (from transformers<5.0.0,>=4.6.0->sentence_transformers) (3.0.12)\r\n",
            "Requirement already satisfied: requests in /opt/conda/lib/python3.7/site-packages (from transformers<5.0.0,>=4.6.0->sentence_transformers) (2.25.1)\r\n",
            "Requirement already satisfied: pyyaml>=5.1 in /opt/conda/lib/python3.7/site-packages (from transformers<5.0.0,>=4.6.0->sentence_transformers) (5.4.1)\r\n",
            "Requirement already satisfied: pyparsing>=2.0.2 in /opt/conda/lib/python3.7/site-packages (from packaging>=20.0->transformers<5.0.0,>=4.6.0->sentence_transformers) (2.4.7)\r\n",
            "Requirement already satisfied: zipp>=0.5 in /opt/conda/lib/python3.7/site-packages (from importlib-metadata->transformers<5.0.0,>=4.6.0->sentence_transformers) (3.5.0)\r\n",
            "Requirement already satisfied: six in /opt/conda/lib/python3.7/site-packages (from nltk->sentence_transformers) (1.16.0)\r\n",
            "Requirement already satisfied: certifi>=2017.4.17 in /opt/conda/lib/python3.7/site-packages (from requests->transformers<5.0.0,>=4.6.0->sentence_transformers) (2021.10.8)\r\n",
            "Requirement already satisfied: idna<3,>=2.5 in /opt/conda/lib/python3.7/site-packages (from requests->transformers<5.0.0,>=4.6.0->sentence_transformers) (2.10)\r\n",
            "Requirement already satisfied: urllib3<1.27,>=1.21.1 in /opt/conda/lib/python3.7/site-packages (from requests->transformers<5.0.0,>=4.6.0->sentence_transformers) (1.26.6)\r\n",
            "Requirement already satisfied: chardet<5,>=3.0.2 in /opt/conda/lib/python3.7/site-packages (from requests->transformers<5.0.0,>=4.6.0->sentence_transformers) (4.0.0)\r\n",
            "Requirement already satisfied: joblib in /opt/conda/lib/python3.7/site-packages (from sacremoses->transformers<5.0.0,>=4.6.0->sentence_transformers) (1.0.1)\r\n",
            "Requirement already satisfied: click in /opt/conda/lib/python3.7/site-packages (from sacremoses->transformers<5.0.0,>=4.6.0->sentence_transformers) (8.0.1)\r\n",
            "Requirement already satisfied: threadpoolctl>=2.0.0 in /opt/conda/lib/python3.7/site-packages (from scikit-learn->sentence_transformers) (2.2.0)\r\n",
            "Requirement already satisfied: pillow>=5.3.0 in /opt/conda/lib/python3.7/site-packages (from torchvision->sentence_transformers) (8.2.0)\r\n",
            "Building wheels for collected packages: sentence-transformers\r\n",
            "  Building wheel for sentence-transformers (setup.py) ... \u001b[?25l-\b \b\\\b \bdone\r\n",
            "\u001b[?25h  Created wheel for sentence-transformers: filename=sentence_transformers-2.1.0-py3-none-any.whl size=121000 sha256=861b158b9907715e417809054b725a1d00bbaae7739b8156db54f7cd243078e7\r\n",
            "  Stored in directory: /root/.cache/pip/wheels/90/f0/bb/ed1add84da70092ea526466eadc2bfb197c4bcb8d4fa5f7bad\r\n",
            "Successfully built sentence-transformers\r\n",
            "Installing collected packages: huggingface-hub, transformers, sentence-transformers\r\n",
            "  Attempting uninstall: huggingface-hub\r\n",
            "    Found existing installation: huggingface-hub 0.0.19\r\n",
            "    Uninstalling huggingface-hub-0.0.19:\r\n",
            "      Successfully uninstalled huggingface-hub-0.0.19\r\n",
            "  Attempting uninstall: transformers\r\n",
            "    Found existing installation: transformers 4.5.1\r\n",
            "    Uninstalling transformers-4.5.1:\r\n",
            "      Successfully uninstalled transformers-4.5.1\r\n",
            "\u001b[31mERROR: pip's dependency resolver does not currently take into account all the packages that are installed. This behaviour is the source of the following dependency conflicts.\r\n",
            "datasets 1.14.0 requires huggingface-hub<0.1.0,>=0.0.19, but you have huggingface-hub 0.1.2 which is incompatible.\r\n",
            "allennlp 2.7.0 requires transformers<4.10,>=4.1, but you have transformers 4.12.3 which is incompatible.\u001b[0m\r\n",
            "Successfully installed huggingface-hub-0.1.2 sentence-transformers-2.1.0 transformers-4.12.3\r\n",
            "\u001b[33mWARNING: Running pip as the 'root' user can result in broken permissions and conflicting behaviour with the system package manager. It is recommended to use a virtual environment instead: https://pip.pypa.io/warnings/venv\u001b[0m\r\n"
          ]
        }
      ]
    },
    {
      "cell_type": "code",
      "metadata": {
        "execution": {
          "iopub.execute_input": "2021-11-10T14:38:18.445286Z",
          "iopub.status.busy": "2021-11-10T14:38:18.444469Z",
          "iopub.status.idle": "2021-11-10T14:38:35.499995Z",
          "shell.execute_reply": "2021-11-10T14:38:35.499025Z",
          "shell.execute_reply.started": "2021-11-10T14:08:34.831832Z"
        },
        "id": "cf8180df",
        "papermill": {
          "duration": 17.274822,
          "end_time": "2021-11-10T14:38:35.500178",
          "exception": false,
          "start_time": "2021-11-10T14:38:18.225356",
          "status": "completed"
        },
        "tags": [],
        "colab": {
          "referenced_widgets": [
            "a9124f568f65424db9b6db2885f44291",
            "4b4360a33dc9493896ca5a3951db85f3",
            "174684412b66466c86070245d113202c",
            "eb4ce6e7505b4b8680044509c854f0f1",
            "4fa60d3744d34960a2ecfb121d137f28",
            "b0603121d1d7458483f3ea15f0ba93f1",
            "a20f3812fd4044fb969a0c86faaed90b",
            "d3c6f335aac042d0bead19d6cfd02a63",
            "c60f3da6ce724eac895d032172d8f405",
            "fc9c04eb85ca4081a9d7cc0c803f8ee7",
            "1cea8f5c6e6446e9a00d9fdcd30a33f9",
            "10bfd25c52794246ae6658e3d34356e2",
            "265d73d817cd4351bc513fc79828caae",
            "7f97eea0bebc47bfad6916f026abce07"
          ]
        },
        "outputId": "b93cd55c-a379-4c8c-b6d1-37f88b918332"
      },
      "source": [
        "import torch\n",
        "from transformers import AutoTokenizer, AutoModel, pipeline\n",
        "from sentence_transformers import SentenceTransformer\n",
        "sentences = [\"This is an example sentence\", \"Each sentence is converted\"]\n",
        "\n",
        "model = SentenceTransformer('sentence-transformers/all-MiniLM-L6-v2')"
      ],
      "id": "cf8180df",
      "execution_count": null,
      "outputs": [
        {
          "data": {
            "application/vnd.jupyter.widget-view+json": {
              "model_id": "a9124f568f65424db9b6db2885f44291",
              "version_major": 2,
              "version_minor": 0
            },
            "text/plain": [
              "Downloading:   0%|          | 0.00/1.18k [00:00<?, ?B/s]"
            ]
          },
          "metadata": {},
          "output_type": "display_data"
        },
        {
          "data": {
            "application/vnd.jupyter.widget-view+json": {
              "model_id": "4b4360a33dc9493896ca5a3951db85f3",
              "version_major": 2,
              "version_minor": 0
            },
            "text/plain": [
              "Downloading:   0%|          | 0.00/10.2k [00:00<?, ?B/s]"
            ]
          },
          "metadata": {},
          "output_type": "display_data"
        },
        {
          "data": {
            "application/vnd.jupyter.widget-view+json": {
              "model_id": "174684412b66466c86070245d113202c",
              "version_major": 2,
              "version_minor": 0
            },
            "text/plain": [
              "Downloading:   0%|          | 0.00/612 [00:00<?, ?B/s]"
            ]
          },
          "metadata": {},
          "output_type": "display_data"
        },
        {
          "data": {
            "application/vnd.jupyter.widget-view+json": {
              "model_id": "eb4ce6e7505b4b8680044509c854f0f1",
              "version_major": 2,
              "version_minor": 0
            },
            "text/plain": [
              "Downloading:   0%|          | 0.00/116 [00:00<?, ?B/s]"
            ]
          },
          "metadata": {},
          "output_type": "display_data"
        },
        {
          "data": {
            "application/vnd.jupyter.widget-view+json": {
              "model_id": "4fa60d3744d34960a2ecfb121d137f28",
              "version_major": 2,
              "version_minor": 0
            },
            "text/plain": [
              "Downloading:   0%|          | 0.00/39.3k [00:00<?, ?B/s]"
            ]
          },
          "metadata": {},
          "output_type": "display_data"
        },
        {
          "data": {
            "application/vnd.jupyter.widget-view+json": {
              "model_id": "b0603121d1d7458483f3ea15f0ba93f1",
              "version_major": 2,
              "version_minor": 0
            },
            "text/plain": [
              "Downloading:   0%|          | 0.00/349 [00:00<?, ?B/s]"
            ]
          },
          "metadata": {},
          "output_type": "display_data"
        },
        {
          "data": {
            "application/vnd.jupyter.widget-view+json": {
              "model_id": "a20f3812fd4044fb969a0c86faaed90b",
              "version_major": 2,
              "version_minor": 0
            },
            "text/plain": [
              "Downloading:   0%|          | 0.00/90.9M [00:00<?, ?B/s]"
            ]
          },
          "metadata": {},
          "output_type": "display_data"
        },
        {
          "data": {
            "application/vnd.jupyter.widget-view+json": {
              "model_id": "d3c6f335aac042d0bead19d6cfd02a63",
              "version_major": 2,
              "version_minor": 0
            },
            "text/plain": [
              "Downloading:   0%|          | 0.00/53.0 [00:00<?, ?B/s]"
            ]
          },
          "metadata": {},
          "output_type": "display_data"
        },
        {
          "data": {
            "application/vnd.jupyter.widget-view+json": {
              "model_id": "c60f3da6ce724eac895d032172d8f405",
              "version_major": 2,
              "version_minor": 0
            },
            "text/plain": [
              "Downloading:   0%|          | 0.00/112 [00:00<?, ?B/s]"
            ]
          },
          "metadata": {},
          "output_type": "display_data"
        },
        {
          "data": {
            "application/vnd.jupyter.widget-view+json": {
              "model_id": "fc9c04eb85ca4081a9d7cc0c803f8ee7",
              "version_major": 2,
              "version_minor": 0
            },
            "text/plain": [
              "Downloading:   0%|          | 0.00/466k [00:00<?, ?B/s]"
            ]
          },
          "metadata": {},
          "output_type": "display_data"
        },
        {
          "data": {
            "application/vnd.jupyter.widget-view+json": {
              "model_id": "1cea8f5c6e6446e9a00d9fdcd30a33f9",
              "version_major": 2,
              "version_minor": 0
            },
            "text/plain": [
              "Downloading:   0%|          | 0.00/350 [00:00<?, ?B/s]"
            ]
          },
          "metadata": {},
          "output_type": "display_data"
        },
        {
          "data": {
            "application/vnd.jupyter.widget-view+json": {
              "model_id": "10bfd25c52794246ae6658e3d34356e2",
              "version_major": 2,
              "version_minor": 0
            },
            "text/plain": [
              "Downloading:   0%|          | 0.00/13.2k [00:00<?, ?B/s]"
            ]
          },
          "metadata": {},
          "output_type": "display_data"
        },
        {
          "data": {
            "application/vnd.jupyter.widget-view+json": {
              "model_id": "265d73d817cd4351bc513fc79828caae",
              "version_major": 2,
              "version_minor": 0
            },
            "text/plain": [
              "Downloading:   0%|          | 0.00/232k [00:00<?, ?B/s]"
            ]
          },
          "metadata": {},
          "output_type": "display_data"
        },
        {
          "data": {
            "application/vnd.jupyter.widget-view+json": {
              "model_id": "7f97eea0bebc47bfad6916f026abce07",
              "version_major": 2,
              "version_minor": 0
            },
            "text/plain": [
              "Downloading:   0%|          | 0.00/190 [00:00<?, ?B/s]"
            ]
          },
          "metadata": {},
          "output_type": "display_data"
        }
      ]
    },
    {
      "cell_type": "markdown",
      "metadata": {
        "id": "063aae1b",
        "papermill": {
          "duration": 0.213472,
          "end_time": "2021-11-10T14:38:35.929249",
          "exception": false,
          "start_time": "2021-11-10T14:38:35.715777",
          "status": "completed"
        },
        "tags": []
      },
      "source": [
        "Trying the model on test sentences"
      ],
      "id": "063aae1b"
    },
    {
      "cell_type": "code",
      "metadata": {
        "execution": {
          "iopub.execute_input": "2021-11-10T14:38:36.371353Z",
          "iopub.status.busy": "2021-11-10T14:38:36.370266Z",
          "iopub.status.idle": "2021-11-10T14:38:36.473818Z",
          "shell.execute_reply": "2021-11-10T14:38:36.473065Z",
          "shell.execute_reply.started": "2021-11-10T14:08:52.946485Z"
        },
        "id": "90641bb8",
        "papermill": {
          "duration": 0.323444,
          "end_time": "2021-11-10T14:38:36.474005",
          "exception": false,
          "start_time": "2021-11-10T14:38:36.150561",
          "status": "completed"
        },
        "tags": [],
        "colab": {
          "referenced_widgets": [
            "435a7bf858dc4a70aadee44da3fe2201"
          ]
        },
        "outputId": "72dc0208-cfb3-45b8-92cc-93929ef21f78"
      },
      "source": [
        "lines = [\n",
        "    \"Luke, I am your father.\",\n",
        "    \"Life is what happens when you're busy making other plans.\",\n",
        "    ]\n",
        "\n",
        "# tokenize a batch of inputs. \"pt\" means [p]y[t]orch tensors\n",
        "embeddings = model.encode(lines)\n",
        "print(embeddings)\n"
      ],
      "id": "90641bb8",
      "execution_count": null,
      "outputs": [
        {
          "data": {
            "application/vnd.jupyter.widget-view+json": {
              "model_id": "435a7bf858dc4a70aadee44da3fe2201",
              "version_major": 2,
              "version_minor": 0
            },
            "text/plain": [
              "Batches:   0%|          | 0/1 [00:00<?, ?it/s]"
            ]
          },
          "metadata": {},
          "output_type": "display_data"
        },
        {
          "name": "stdout",
          "output_type": "stream",
          "text": [
            "[[-2.05722395e-02 -1.91849079e-02  4.54866476e-02 -6.59513799e-03\n",
            "  -5.72665036e-02 -1.91410538e-02  8.56852233e-02  2.86315251e-02\n",
            "   6.78885430e-02 -3.74673679e-02  1.23939365e-02 -4.42134812e-02\n",
            "   4.74235229e-02 -1.54133793e-02  6.49944395e-02 -3.87163050e-02\n",
            "  -5.48810326e-03 -2.11122893e-02 -1.88245494e-02 -1.01714153e-02\n",
            "  -4.96965609e-02  9.60848406e-02 -4.20744577e-03 -4.03349288e-02\n",
            "   1.75606534e-02  4.34612036e-02  9.93380044e-03  6.57009147e-03\n",
            "   1.88174900e-02 -4.86557595e-02  2.20062472e-02 -3.03076711e-02\n",
            "   1.78406276e-02  1.96461449e-03 -1.11220693e-02 -2.49801949e-02\n",
            "  -5.49474880e-02  3.19529958e-02  1.38892055e-01  3.25596035e-02\n",
            "   4.64024208e-02  2.86372770e-02  8.12265426e-02 -6.19294532e-02\n",
            "   8.03427175e-02  4.11614291e-02  4.98716123e-02  5.67934439e-02\n",
            "   1.27868041e-01  8.04976225e-02 -3.01536638e-02 -4.29771980e-03\n",
            "  -3.17755677e-02  5.43710291e-02  6.60325810e-02  4.80372943e-02\n",
            "  -8.84086639e-03 -7.13132843e-02  4.24571112e-02  3.08932625e-02\n",
            "  -6.10824414e-02  9.31668356e-02 -3.65785100e-02  7.93714970e-02\n",
            "  -1.09800817e-02 -1.26647968e-02  6.11741357e-02 -2.96650361e-02\n",
            "  -6.98104203e-02  4.96466681e-02 -7.09183887e-02  2.36070063e-02\n",
            "   7.51512423e-02  3.67044136e-02 -9.36440304e-02 -2.50487123e-02\n",
            "   4.21789549e-02  9.29990597e-03 -4.48712101e-03  6.47892768e-04\n",
            "  -8.48414600e-02 -9.58291665e-02 -4.37665693e-02  1.04393654e-01\n",
            "  -7.46507421e-02 -1.40229585e-02  9.29485187e-02 -7.36231282e-02\n",
            "   7.51049770e-03  5.04017472e-02 -4.65393774e-02 -8.88014883e-02\n",
            "   3.57981212e-02  4.73634414e-02 -2.26387344e-02 -6.16901331e-02\n",
            "  -6.38889223e-02 -2.41182912e-02 -6.25954196e-02  4.25932929e-02\n",
            "   1.83428247e-02  2.51528099e-02  1.83493402e-02 -2.80057453e-03\n",
            "   7.28344023e-02  3.63557376e-02 -8.56068358e-02  3.61857451e-02\n",
            "   5.62812872e-02  1.15340417e-02 -1.60922427e-02 -9.21793655e-02\n",
            "  -5.25409468e-02  4.40259613e-02  9.36267339e-03 -3.67696844e-02\n",
            "   7.75159448e-02 -1.56748127e-02 -7.63870925e-02  9.17899515e-03\n",
            "   8.31361115e-02  8.45467225e-02  2.14305744e-02  2.11854074e-02\n",
            "  -4.52891663e-02 -9.55876037e-02  3.27189937e-02 -6.75212624e-33\n",
            "   2.67245318e-03  3.02050095e-02  8.29836652e-02  8.69131908e-02\n",
            "   2.28963662e-02  6.00704700e-02 -8.63700584e-02  2.12151911e-02\n",
            "  -9.40510482e-02 -9.10531580e-02 -1.10931493e-01 -4.08180580e-02\n",
            "  -1.97437219e-02  4.05206978e-02 -2.25103460e-02  1.46941587e-01\n",
            "  -5.47496544e-04 -3.99335884e-02  9.79965180e-02  1.75679177e-02\n",
            "  -1.22482553e-01  4.21542488e-02 -2.59665027e-02 -3.58936302e-02\n",
            "   7.84641653e-02 -5.09566478e-02  9.53794643e-02  3.46851274e-02\n",
            "   7.49953790e-03  1.11090345e-02 -4.57848348e-02  6.13844804e-02\n",
            "   4.17422205e-02 -2.66027413e-02  4.67042960e-02  9.68431588e-03\n",
            "  -6.23874329e-02  2.99932640e-02 -2.11996380e-02  7.02247117e-03\n",
            "  -9.23266914e-03 -1.20810186e-02 -6.87638074e-02 -1.63107552e-02\n",
            "  -6.82552531e-02 -9.92729329e-04  8.28881264e-02 -6.99446956e-03\n",
            "  -5.03343940e-02  3.04371696e-02 -6.42576665e-02 -9.80832800e-03\n",
            "  -2.56152321e-02 -2.55477373e-02  5.74222766e-02 -2.19895467e-02\n",
            "   1.85415018e-02  1.17774323e-01 -6.42394572e-02  1.60326287e-02\n",
            "  -7.44020268e-02 -4.80291918e-02 -1.61586311e-02  1.53805971e-01\n",
            "  -1.08572409e-01 -1.21815186e-02  1.35560345e-03 -2.99665295e-02\n",
            "   4.77820300e-02 -6.06277958e-02 -4.53652442e-02 -4.88960184e-02\n",
            "  -2.09288038e-02 -2.70178281e-02  1.08445473e-02 -2.21614465e-02\n",
            "  -2.30832174e-02  2.48433147e-02 -8.12249258e-02 -1.14487231e-01\n",
            "  -1.13005675e-02  2.56657787e-02  1.13163805e-02  4.03118171e-02\n",
            "   3.27336714e-02 -9.20921378e-03 -3.15163322e-02  1.51304947e-02\n",
            "  -1.59202535e-02  6.49272744e-03  4.16941056e-03 -4.68176454e-02\n",
            "   1.76224504e-02 -3.08067501e-02 -7.29938895e-02  3.99932014e-33\n",
            "   1.96275171e-02  1.70758553e-02  6.77310750e-02  1.16407429e-03\n",
            "   3.84456627e-02 -1.20576307e-01  8.32226314e-03  8.76985639e-02\n",
            "  -8.31483211e-03 -3.70263346e-02 -9.33760256e-02  2.69830506e-03\n",
            "  -1.44037576e-02 -2.35357992e-02  2.11174861e-02  4.59081195e-02\n",
            "  -5.12934010e-03  3.58897960e-03 -1.76493395e-02 -6.76321462e-02\n",
            "   1.84922572e-02  6.52153343e-02 -2.90268622e-02 -2.22877711e-02\n",
            "   6.31928118e-03 -1.73545256e-03  2.95529999e-02  4.98278812e-02\n",
            "   3.37195657e-02 -1.11596733e-02 -7.91392103e-02 -2.21451074e-02\n",
            "  -1.74957048e-02 -2.21742745e-02  1.00898976e-02  6.62160814e-02\n",
            "   2.02251635e-02  3.53586301e-02 -2.94344034e-04 -2.14798637e-02\n",
            "   1.52028147e-02  5.73984347e-02  2.21593734e-02 -1.18542807e-02\n",
            "  -1.03807766e-02 -3.10615450e-02  3.70287895e-02  5.10241129e-02\n",
            "  -5.59329167e-02  7.87975863e-02 -6.68503344e-02 -1.27172947e-01\n",
            "   5.64320087e-02 -2.64743455e-02 -4.00566868e-02 -1.01468796e-02\n",
            "   5.26714921e-02 -2.73668021e-02  1.77134369e-02 -1.03113558e-02\n",
            "   5.06769679e-02 -6.13217708e-04 -7.73610771e-02  1.53042488e-02\n",
            "  -2.35822033e-02 -3.48486938e-02 -1.89016964e-02  8.48179311e-02\n",
            "  -1.82821974e-02 -1.55672058e-02  7.78102595e-03 -7.47892782e-02\n",
            "  -4.98207659e-02  9.48819611e-03  3.12042069e-02 -2.27560615e-03\n",
            "  -4.20388691e-02 -3.33787464e-02 -2.84115747e-02 -7.35504786e-03\n",
            "   5.09228185e-03 -5.64662833e-03  2.34981421e-02  4.98627871e-02\n",
            "   3.76354307e-02 -4.57590539e-03  5.10554910e-02  4.33203541e-02\n",
            "  -4.69776243e-03 -4.72443178e-02  4.20384184e-02 -4.01708968e-02\n",
            "   4.45630290e-02 -8.39262679e-02 -4.45134193e-02 -1.59768376e-08\n",
            "   2.19373163e-02 -7.49084493e-03 -3.03152259e-02  2.49502771e-02\n",
            "  -8.08765087e-03 -8.41286965e-04  5.89195490e-02  2.78342497e-02\n",
            "  -2.24268530e-02  2.48308145e-02  4.32504341e-02  6.28501326e-02\n",
            "   1.12173511e-02 -4.99141589e-02  9.19661447e-02  4.00237702e-02\n",
            "  -8.88826400e-02 -9.29240957e-02 -1.98025014e-02 -4.12031934e-02\n",
            "   6.31459057e-03 -4.22071153e-03  2.92673148e-02  8.49811360e-02\n",
            "   2.16746368e-02  1.72485672e-02  6.68157339e-02  9.51540023e-02\n",
            "  -7.77171031e-02  1.10064194e-01 -2.89615318e-02  7.37846866e-02\n",
            "  -9.29229110e-02 -6.15564920e-02 -7.82258287e-02 -8.26451108e-02\n",
            "   2.34797765e-02  1.17750000e-03  9.53861997e-02  1.19468374e-02\n",
            "   2.28354875e-02  9.15653408e-02 -1.42201493e-02  1.60773955e-02\n",
            "  -1.72656793e-02  5.10167703e-02  8.58970582e-02  4.70781587e-02\n",
            "  -2.53723320e-02 -9.73589271e-02 -2.00238544e-02  3.05357832e-03\n",
            "  -1.26369428e-02 -5.08429948e-03 -1.33770714e-02  1.51262432e-02\n",
            "  -2.19917018e-02  3.59233655e-02 -1.36927450e-02 -5.64615522e-03\n",
            "   8.74727815e-02  8.96826852e-03  2.58489139e-02 -8.27419981e-02]\n",
            " [-2.24103611e-02 -2.73155943e-02  1.39944898e-02  8.24253727e-03\n",
            "   7.19668344e-02 -2.61097401e-02  4.76369858e-02 -2.05294192e-02\n",
            "   4.92877290e-02 -8.83141649e-04  1.99950580e-02  4.80305776e-02\n",
            "  -7.20221847e-02  3.42307463e-02  4.60422859e-02 -7.96871558e-02\n",
            "  -1.20248951e-01 -1.41562715e-01 -7.10124597e-02  2.86237467e-02\n",
            "   2.89430283e-02 -3.80098782e-02 -3.09053138e-02  5.37795573e-02\n",
            "  -1.26206363e-02  9.13296342e-02  3.26855183e-02 -2.19915360e-02\n",
            "   1.22780791e-02  7.45118186e-02  5.39070517e-02  1.09301686e-01\n",
            "  -4.44567390e-02 -5.91444373e-02 -3.82609181e-02  5.20119146e-02\n",
            "   6.07864186e-03  4.15478945e-02  7.40669221e-02 -5.24841622e-03\n",
            "   2.20327433e-02  1.96018890e-02 -1.43173402e-02  2.91346107e-02\n",
            "  -3.05750333e-02 -4.14586440e-02 -4.02004942e-02 -1.04254067e-01\n",
            "   7.38369748e-02 -1.84945539e-02 -5.43342829e-02 -5.08578494e-02\n",
            "  -1.15143228e-02 -6.14895821e-02  1.43311009e-01  7.38694817e-02\n",
            "   1.92346610e-02  1.61022879e-02  6.19065575e-02  4.43197135e-03\n",
            "  -5.72101176e-02 -3.42453904e-02  4.55602221e-02 -1.27295339e-02\n",
            "   5.67255244e-02  3.36861983e-02  1.69845298e-02  6.99995533e-02\n",
            "  -4.68890406e-02  3.31132598e-02 -2.38528885e-02 -8.44304543e-03\n",
            "  -9.95573178e-02  5.69399185e-02  5.65437898e-02  4.37350981e-02\n",
            "   1.40092978e-02 -2.95193791e-02  4.78614569e-02  7.90350884e-02\n",
            "   4.50794399e-03 -3.99818458e-02 -7.65676573e-02  3.55609097e-02\n",
            "  -4.07681912e-02 -7.08730221e-02  7.47273071e-03  2.82359738e-02\n",
            "   1.19352080e-01 -4.35573049e-02 -8.71206000e-02 -1.71407461e-02\n",
            "   3.34755867e-03 -3.81058864e-02 -1.09110363e-01  4.79733571e-02\n",
            "  -6.35185465e-02  4.10382450e-02 -5.86963072e-02  2.40064561e-02\n",
            "  -5.14043644e-02  1.66804306e-02  4.68067229e-02  5.86523255e-03\n",
            "   1.14920614e-02  2.24432666e-02  3.67190912e-02  7.44669065e-02\n",
            "   3.17819081e-02  2.50345822e-02 -1.59133058e-02 -2.71171201e-02\n",
            "   8.62611681e-02 -3.04241851e-02  3.03076673e-02  1.05341390e-01\n",
            "  -4.68461700e-02  5.06900139e-02 -2.59481613e-02  1.15879796e-01\n",
            "  -2.26737112e-02  2.05789860e-02  4.79755290e-02  6.84581604e-03\n",
            "  -9.42623466e-02 -1.04573309e-01  6.17929175e-02 -3.07892056e-33\n",
            "   8.01365003e-02 -9.74336490e-02  4.41292524e-02  9.26988274e-02\n",
            "   7.50923809e-03 -5.82829528e-02 -2.25622542e-02  2.81994101e-02\n",
            "   6.29697368e-02 -1.49201695e-02  1.72675122e-02 -1.53960902e-02\n",
            "  -1.13370372e-02  1.73563585e-02 -1.59616824e-02 -3.16986479e-02\n",
            "  -9.52932835e-02  8.22009966e-02  5.35853021e-02  8.93566608e-02\n",
            "  -1.72877442e-02 -1.04331322e-01  1.33107044e-02 -3.37194577e-02\n",
            "   7.45409951e-02  3.33979242e-02  4.14899178e-02 -4.96320426e-02\n",
            "  -5.55218384e-03 -2.88674664e-02 -8.65590852e-03  9.93097275e-02\n",
            "  -3.78926732e-02  1.13779714e-03  7.59541010e-03  5.55963404e-02\n",
            "  -9.04724523e-02 -2.53840745e-03 -3.97234671e-02  5.01545332e-03\n",
            "  -4.44728471e-02  3.89432684e-02 -5.00212982e-03  4.22193520e-02\n",
            "   5.47120348e-03  6.01173416e-02  5.69217466e-02 -2.00673919e-02\n",
            "  -8.69205780e-03 -4.91766222e-02 -2.33327970e-02 -1.38347661e-02\n",
            "   4.01378833e-02 -1.06855938e-02 -8.31883028e-02  1.23889381e-02\n",
            "  -2.87848897e-02 -6.09476492e-02  5.28189950e-02  4.19559777e-02\n",
            "   8.92149005e-03 -2.78823394e-02 -6.21299297e-02  8.35981369e-02\n",
            "   2.57806443e-02  4.32040356e-02 -1.80763751e-02 -2.58095879e-02\n",
            "   4.60050553e-02 -3.49145010e-02  2.56670304e-02  1.06130401e-02\n",
            "   2.52136844e-03 -4.01527546e-02  2.14238819e-02  6.63861781e-02\n",
            "  -1.63224842e-02 -8.27746093e-02 -5.90815134e-02  6.61876351e-02\n",
            "   8.81559476e-02 -7.45768622e-02 -2.07513589e-02 -2.55663339e-02\n",
            "   1.11377329e-01  3.12292110e-02  3.90018150e-02 -8.92078206e-02\n",
            "  -5.28914258e-02  1.03070676e-01 -6.57691136e-02  6.42868727e-02\n",
            "  -1.05242813e-02  8.57005303e-04 -3.28712375e-03  2.45086384e-33\n",
            "  -8.83834623e-03 -2.99417563e-02 -5.08912392e-02 -8.35872144e-02\n",
            "   3.58683877e-02  1.06192185e-02 -5.38821407e-02 -1.87487192e-02\n",
            "   7.20970193e-03  6.55612946e-02 -5.91464378e-02  1.62837431e-02\n",
            "   3.96133102e-02  4.15528305e-02 -2.65991371e-02 -7.68196508e-02\n",
            "   7.20344037e-02 -1.57996267e-02 -1.64376982e-02 -2.12151315e-02\n",
            "  -7.93877169e-02  3.18468772e-02 -1.13149501e-01 -3.79013717e-02\n",
            "  -1.70584731e-02  9.51074436e-02 -7.14607164e-02  7.84001313e-03\n",
            "  -7.13424981e-02 -1.62387695e-02 -5.37838563e-02 -4.93352897e-02\n",
            "  -8.13232288e-02 -3.36713232e-02  7.85128549e-02  3.41064185e-02\n",
            "  -4.80086729e-02 -8.73031619e-04 -4.36987802e-02 -5.76277599e-02\n",
            "  -5.50392233e-02 -5.48184253e-02 -6.04224484e-03 -8.66831560e-03\n",
            "  -4.44003493e-02 -1.34084728e-02  7.85916895e-02 -5.73985139e-03\n",
            "  -5.93159087e-02  7.47648627e-02  8.79814941e-03  4.11934070e-02\n",
            "  -3.94529290e-03 -9.11962334e-03  4.41182926e-02 -7.05156550e-02\n",
            "  -1.26545765e-02 -2.33033653e-02  1.98555663e-02  4.45639379e-02\n",
            "   4.91779409e-02  8.61792937e-02  5.92479529e-03 -2.30943318e-03\n",
            "   1.54568497e-02 -2.50858627e-02 -4.00743596e-02 -1.02293327e-01\n",
            "   5.78422695e-02 -2.93675847e-02 -1.56640299e-02 -4.28194441e-02\n",
            "  -9.24942717e-02 -3.56106535e-02 -1.44925192e-02  6.14024280e-03\n",
            "  -1.85243622e-03 -1.36749446e-02  7.62198260e-03  7.93636218e-02\n",
            "   6.26887614e-03 -1.91741660e-02  1.17210774e-02  4.57029324e-04\n",
            "  -8.52195695e-02 -2.14817878e-02 -4.78429645e-02  6.24102950e-02\n",
            "   5.10593653e-02 -3.05117071e-02 -3.55911255e-02  4.49527195e-03\n",
            "  -5.63818170e-03  8.23973566e-02 -1.66768841e-02 -2.26585879e-08\n",
            "   6.87824041e-02 -4.27975804e-02  1.83825791e-02 -3.41227464e-02\n",
            "   2.28389930e-02 -5.28391935e-02  8.10081363e-02 -4.40576226e-02\n",
            "   1.85755026e-02  1.00709707e-01  3.22214030e-02 -1.59309004e-02\n",
            "   2.97548976e-02  8.74997154e-02  1.14398925e-02  3.17335352e-02\n",
            "   1.23963252e-01 -6.29546121e-02 -5.11204153e-02 -2.18909723e-03\n",
            "  -4.45084497e-02 -5.88053875e-02 -5.77422930e-03  3.37581374e-02\n",
            "  -5.36518097e-02  1.78921930e-02  6.57099560e-02  7.39000365e-02\n",
            "   1.77178010e-02  1.75567344e-02  2.52512302e-02 -4.31112684e-02\n",
            "  -2.80244853e-02  7.09456950e-02  1.56451706e-02 -1.37219727e-01\n",
            "   3.29581983e-02  1.04783522e-02  3.89160588e-02  3.04783806e-02\n",
            "  -4.75824960e-02 -2.44909478e-03  1.04421470e-02  8.31648484e-02\n",
            "   3.36713605e-02 -1.26199704e-02  2.35454235e-02 -3.58751006e-02\n",
            "  -4.15820815e-02 -6.20598532e-02 -1.58464797e-02 -8.72279424e-03\n",
            "   9.32924300e-02 -8.11826438e-03  6.16731867e-02  3.11791692e-02\n",
            "   2.01742053e-02  3.81279886e-02  1.13987336e-02  2.33822316e-02\n",
            "   6.09144606e-02 -8.44377186e-03 -4.34063412e-02  1.84930824e-02]]\n"
          ]
        }
      ]
    },
    {
      "cell_type": "code",
      "metadata": {
        "execution": {
          "iopub.execute_input": "2021-11-10T14:38:36.914062Z",
          "iopub.status.busy": "2021-11-10T14:38:36.913304Z",
          "iopub.status.idle": "2021-11-10T14:38:36.915792Z",
          "shell.execute_reply": "2021-11-10T14:38:36.915355Z",
          "shell.execute_reply.started": "2021-11-10T14:08:53.068832Z"
        },
        "id": "a34c831a",
        "papermill": {
          "duration": 0.223824,
          "end_time": "2021-11-10T14:38:36.915913",
          "exception": false,
          "start_time": "2021-11-10T14:38:36.692089",
          "status": "completed"
        },
        "tags": []
      },
      "source": [
        "def make_batches(sent_list, batch_size=128):\n",
        "  return [sent_list[x:x+100] for x in range(0, len(sent_list), batch_size)]\n",
        "\n",
        "def make_embeddings(batch_list):\n",
        "  model.max_seq_length = 200\n",
        "  return [model.encode(x) for x in batch_list]"
      ],
      "id": "a34c831a",
      "execution_count": null,
      "outputs": []
    },
    {
      "cell_type": "code",
      "metadata": {
        "execution": {
          "iopub.execute_input": "2021-11-10T14:38:37.367626Z",
          "iopub.status.busy": "2021-11-10T14:38:37.363682Z",
          "iopub.status.idle": "2021-11-10T14:38:37.370239Z",
          "shell.execute_reply": "2021-11-10T14:38:37.369761Z",
          "shell.execute_reply.started": "2021-11-10T14:08:53.079194Z"
        },
        "id": "561ea228",
        "papermill": {
          "duration": 0.236952,
          "end_time": "2021-11-10T14:38:37.370344",
          "exception": false,
          "start_time": "2021-11-10T14:38:37.133392",
          "status": "completed"
        },
        "tags": []
      },
      "source": [
        "quora_batches = make_batches(quora_list, 512)"
      ],
      "id": "561ea228",
      "execution_count": null,
      "outputs": []
    },
    {
      "cell_type": "code",
      "metadata": {
        "execution": {
          "iopub.execute_input": "2021-11-10T14:38:37.805470Z",
          "iopub.status.busy": "2021-11-10T14:38:37.802668Z",
          "iopub.status.idle": "2021-11-10T14:39:49.634498Z",
          "shell.execute_reply": "2021-11-10T14:39:49.634056Z",
          "shell.execute_reply.started": "2021-11-10T14:08:53.107065Z"
        },
        "id": "44e350d1",
        "papermill": {
          "duration": 72.050127,
          "end_time": "2021-11-10T14:39:49.634618",
          "exception": false,
          "start_time": "2021-11-10T14:38:37.584491",
          "status": "completed"
        },
        "tags": []
      },
      "source": [
        "quora_embeddings = make_embeddings(quora_batches)"
      ],
      "id": "44e350d1",
      "execution_count": null,
      "outputs": []
    },
    {
      "cell_type": "code",
      "metadata": {
        "execution": {
          "iopub.execute_input": "2021-11-10T14:39:51.249693Z",
          "iopub.status.busy": "2021-11-10T14:39:50.935964Z",
          "iopub.status.idle": "2021-11-10T14:40:18.311264Z",
          "shell.execute_reply": "2021-11-10T14:40:18.311651Z",
          "shell.execute_reply.started": "2021-11-10T14:10:42.365564Z"
        },
        "id": "8dd572c3",
        "papermill": {
          "duration": 28.052945,
          "end_time": "2021-11-10T14:40:18.311842",
          "exception": false,
          "start_time": "2021-11-10T14:39:50.258897",
          "status": "completed"
        },
        "tags": [],
        "colab": {
          "referenced_widgets": [
            "5ad9e4ffaac84dcda72f8de32f6aedfe",
            "c0a71663c5f54e47a2f4fee0a4171ad4",
            "0b79441261694f9992249ecabddcfced",
            "1e68f40ecb904e099ee685a5133bf9f9",
            "ed00c6f7be59437ca2fc49a3f9adcb6d",
            "7dee6bc0c0604b9596635800cb7bb371"
          ]
        },
        "outputId": "631bcc3f-0217-4f85-9ddf-1583b416df16"
      },
      "source": [
        "from torch import nn\n",
        "import numpy as np\n",
        "\n",
        "top_k = 5\n",
        "\n",
        "test_questions = ['How to become a Data Scientist?',\n",
        "                  \"Why Americans don't know geography ?\",\n",
        "                 'Why Russia is European country, but not Asian?',\n",
        "                 'Should I train my dog?',\n",
        "                 'How to become a Winx fairy?',\n",
        "                 'How to boil a potato?']\n",
        "\n",
        "cos = nn.CosineSimilarity(dim=0, eps=1e-6)\n",
        "quora_batches = np.array(quora_batches)\n",
        "\n",
        "for q in test_questions:\n",
        "  print('Question is: ', q)\n",
        "  print()\n",
        "  print('Top % d similar questions:' % top_k)\n",
        "  emb_q = torch.from_numpy(model.encode(q))\n",
        "\n",
        "  sim_values = []\n",
        "  for batch in quora_embeddings:\n",
        "    sim_values.append([cos(emb_q, x) for x in torch.from_numpy(batch)])\n",
        "  \n",
        "  sim_values = np.array(sim_values)\n",
        "  indices = (-sim_values.flatten()).argsort()[:top_k]\n",
        "\n",
        "  for num, i in enumerate(indices):\n",
        "    print('%d. ' % (num + 1), quora_batches.flatten()[i])\n",
        "    print('cosine similarity:', sim_values.flatten()[i])\n",
        "  \n",
        "  print('--------------------------------------')\n",
        "  print()"
      ],
      "id": "8dd572c3",
      "execution_count": null,
      "outputs": [
        {
          "name": "stdout",
          "output_type": "stream",
          "text": [
            "Question is:  How to become a Data Scientist?\n",
            "\n",
            "Top  5 similar questions:\n"
          ]
        },
        {
          "data": {
            "application/vnd.jupyter.widget-view+json": {
              "model_id": "5ad9e4ffaac84dcda72f8de32f6aedfe",
              "version_major": 2,
              "version_minor": 0
            },
            "text/plain": [
              "Batches:   0%|          | 0/1 [00:00<?, ?it/s]"
            ]
          },
          "metadata": {},
          "output_type": "display_data"
        },
        {
          "name": "stdout",
          "output_type": "stream",
          "text": [
            "1.  What is data science and how can I become a data scientist?\n",
            "cosine similarity: 0.8857458\n",
            "2.  How do I become a data scientist from software developer?\n",
            "cosine similarity: 0.8784187\n",
            "3.  How do I become a data scientist without a PhD?\n",
            "cosine similarity: 0.85007155\n",
            "4.  How can a fresh computer science graduate become a data scientist?\n",
            "cosine similarity: 0.8417398\n",
            "5.  How do I get a job as Data Scientist as a fresher?\n",
            "cosine similarity: 0.8391087\n",
            "--------------------------------------\n",
            "\n",
            "Question is:  Why Americans don't know geography ?\n",
            "\n",
            "Top  5 similar questions:\n"
          ]
        },
        {
          "data": {
            "application/vnd.jupyter.widget-view+json": {
              "model_id": "c0a71663c5f54e47a2f4fee0a4171ad4",
              "version_major": 2,
              "version_minor": 0
            },
            "text/plain": [
              "Batches:   0%|          | 0/1 [00:00<?, ?it/s]"
            ]
          },
          "metadata": {},
          "output_type": "display_data"
        },
        {
          "name": "stdout",
          "output_type": "stream",
          "text": [
            "1.  Why are Europeans so ignorant about America?\n",
            "cosine similarity: 0.61586976\n",
            "2.  Why have so many people from western countries not heard of the country named Uzbekistan? Do they study geography?\n",
            "cosine similarity: 0.5893\n",
            "3.  Why is empiricism important in geography?\n",
            "cosine similarity: 0.5499149\n",
            "4.  How would you describe geography?\n",
            "cosine similarity: 0.5452065\n",
            "5.  Why does America still teach children that Christopher Columbus discovered the New World?\n",
            "cosine similarity: 0.52926683\n",
            "--------------------------------------\n",
            "\n",
            "Question is:  Why Russia is European country, but not Asian?\n",
            "\n",
            "Top  5 similar questions:\n"
          ]
        },
        {
          "data": {
            "application/vnd.jupyter.widget-view+json": {
              "model_id": "0b79441261694f9992249ecabddcfced",
              "version_major": 2,
              "version_minor": 0
            },
            "text/plain": [
              "Batches:   0%|          | 0/1 [00:00<?, ?it/s]"
            ]
          },
          "metadata": {},
          "output_type": "display_data"
        },
        {
          "name": "stdout",
          "output_type": "stream",
          "text": [
            "1.  Why isn't Russia considered part of Europe?\n",
            "cosine similarity: 0.77940506\n",
            "2.  Do people who live in eastern Russia look more Asian or more European?\n",
            "cosine similarity: 0.6913386\n",
            "3.  What does ASEAN countries think of Russia?\n",
            "cosine similarity: 0.63773423\n",
            "4.  When did Russia became a developed country?\n",
            "cosine similarity: 0.62312883\n",
            "5.  Is Turkey considered to be more in Asia or in Europe?\n",
            "cosine similarity: 0.615665\n",
            "--------------------------------------\n",
            "\n",
            "Question is:  Should I train my dog?\n",
            "\n",
            "Top  5 similar questions:\n"
          ]
        },
        {
          "data": {
            "application/vnd.jupyter.widget-view+json": {
              "model_id": "1e68f40ecb904e099ee685a5133bf9f9",
              "version_major": 2,
              "version_minor": 0
            },
            "text/plain": [
              "Batches:   0%|          | 0/1 [00:00<?, ?it/s]"
            ]
          },
          "metadata": {},
          "output_type": "display_data"
        },
        {
          "name": "stdout",
          "output_type": "stream",
          "text": [
            "1.  How do you train a dog?\n",
            "cosine similarity: 0.7966846\n",
            "2.  What is the best way to train and discipline your dog?\n",
            "cosine similarity: 0.74207383\n",
            "3.  My dog doesn't listen to me. How do I train him?\n",
            "cosine similarity: 0.7185526\n",
            "4.  How can I house train my dogs?\n",
            "cosine similarity: 0.71741605\n",
            "5.  What is the training given to service dogs?\n",
            "cosine similarity: 0.656276\n",
            "--------------------------------------\n",
            "\n",
            "Question is:  How to become a Winx fairy?\n",
            "\n",
            "Top  5 similar questions:\n"
          ]
        },
        {
          "data": {
            "application/vnd.jupyter.widget-view+json": {
              "model_id": "ed00c6f7be59437ca2fc49a3f9adcb6d",
              "version_major": 2,
              "version_minor": 0
            },
            "text/plain": [
              "Batches:   0%|          | 0/1 [00:00<?, ?it/s]"
            ]
          },
          "metadata": {},
          "output_type": "display_data"
        },
        {
          "name": "stdout",
          "output_type": "stream",
          "text": [
            "1.  What is the fastest way to become a witch?\n",
            "cosine similarity: 0.53880405\n",
            "2.  How can I be a great magician?\n",
            "cosine similarity: 0.49815783\n",
            "3.  How can I be a witch?\n",
            "cosine similarity: 0.48248878\n",
            "4.  How does one become a legend?\n",
            "cosine similarity: 0.44774684\n",
            "5.  How do I become a great chess player?\n",
            "cosine similarity: 0.43961644\n",
            "--------------------------------------\n",
            "\n",
            "Question is:  How to boil a potato?\n",
            "\n",
            "Top  5 similar questions:\n"
          ]
        },
        {
          "data": {
            "application/vnd.jupyter.widget-view+json": {
              "model_id": "7dee6bc0c0604b9596635800cb7bb371",
              "version_major": 2,
              "version_minor": 0
            },
            "text/plain": [
              "Batches:   0%|          | 0/1 [00:00<?, ?it/s]"
            ]
          },
          "metadata": {},
          "output_type": "display_data"
        },
        {
          "name": "stdout",
          "output_type": "stream",
          "text": [
            "1.  What is the quickest way to boil potatoes?\n",
            "cosine similarity: 0.8848519\n",
            "2.  How do you can sliced potatoes?\n",
            "cosine similarity: 0.66314095\n",
            "3.  How do I roast a potato and a sweet potato in a convection microwave?\n",
            "cosine similarity: 0.6473652\n",
            "4.  What are ways to make mashed potatoes thicker?\n",
            "cosine similarity: 0.5865116\n",
            "5.  What products can be manufactured from potatoes?\n",
            "cosine similarity: 0.5634108\n",
            "--------------------------------------\n",
            "\n"
          ]
        }
      ]
    },
    {
      "cell_type": "markdown",
      "metadata": {
        "id": "f7a89115",
        "papermill": {
          "duration": 0.637788,
          "end_time": "2021-11-10T14:40:19.646394",
          "exception": false,
          "start_time": "2021-11-10T14:40:19.008606",
          "status": "completed"
        },
        "tags": []
      },
      "source": [
        "```\n",
        "\n",
        "\n",
        "\n",
        "\n",
        "\n",
        "\n",
        "\n",
        "\n",
        "\n",
        "\n",
        "\n",
        "\n",
        "\n",
        "\n",
        "\n",
        "```\n",
        "\n",
        "__Bonus demo:__ transformer language models. \n",
        "\n",
        "`/* No points awarded for this task, but its really cool, we promise :) */`"
      ],
      "id": "f7a89115"
    },
    {
      "cell_type": "code",
      "metadata": {
        "execution": {
          "iopub.execute_input": "2021-11-10T14:40:20.934912Z",
          "iopub.status.busy": "2021-11-10T14:40:20.934004Z",
          "iopub.status.idle": "2021-11-10T14:41:18.105602Z",
          "shell.execute_reply": "2021-11-10T14:41:18.105058Z"
        },
        "id": "dbef08e4",
        "papermill": {
          "duration": 57.824047,
          "end_time": "2021-11-10T14:41:18.105887",
          "exception": true,
          "start_time": "2021-11-10T14:40:20.281840",
          "status": "failed"
        },
        "tags": []
      },
      "source": [
        "import torch\n",
        "import numpy as np\n",
        "from transformers import GPT2Tokenizer, GPT2LMHeadModel\n",
        "device = 'cuda' if torch.cuda.is_available() else 'cpu'\n",
        "tokenizer = GPT2Tokenizer.from_pretrained('gpt2', add_prefix_space=True)\n",
        "model = GPT2LMHeadModel.from_pretrained('gpt2').train(False).to(device)\n",
        "\n",
        "text = \"The Fermi paradox \"\n",
        "tokens = tokenizer.encode(text)\n",
        "num_steps = 1024\n",
        "line_length, max_length = 0, 70\n",
        "\n",
        "print(end=tokenizer.decode(tokens))\n",
        "\n",
        "for i in range(num_steps):\n",
        "    with torch.no_grad():\n",
        "        logits = model(torch.as_tensor([tokens], device=device))[0]\n",
        "    p_next = torch.softmax(logits[0, -1, :], dim=-1).data.cpu().numpy()\n",
        "\n",
        "    next_token_index = p_next.argmax() #<YOUR CODE: REPLACE THIS LINE>\n",
        "    # YOUR TASK: change the code so that it performs nucleus sampling\n",
        "\n",
        "    tokens.append(int(next_token_index))\n",
        "    print(end=tokenizer.decode(tokens[-1]))\n",
        "    line_length += len(tokenizer.decode(tokens[-1]))\n",
        "    if line_length >= max_length:\n",
        "        line_length = 0\n",
        "        print()\n",
        "\n"
      ],
      "id": "dbef08e4",
      "execution_count": null,
      "outputs": []
    },
    {
      "cell_type": "markdown",
      "metadata": {
        "id": "86f0cfe2",
        "papermill": {
          "duration": null,
          "end_time": null,
          "exception": null,
          "start_time": null,
          "status": "pending"
        },
        "tags": []
      },
      "source": [
        "Transformers knowledge hub: https://huggingface.co/transformers/"
      ],
      "id": "86f0cfe2"
    }
  ]
}